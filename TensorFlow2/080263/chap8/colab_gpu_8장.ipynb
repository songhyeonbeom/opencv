{
  "nbformat": 4,
  "nbformat_minor": 0,
  "metadata": {
    "kernelspec": {
      "display_name": "Python 3",
      "language": "python",
      "name": "python3"
    },
    "language_info": {
      "codemirror_mode": {
        "name": "ipython",
        "version": 3
      },
      "file_extension": ".py",
      "mimetype": "text/x-python",
      "name": "python",
      "nbconvert_exporter": "python",
      "pygments_lexer": "ipython3",
      "version": "3.6.10"
    },
    "colab": {
      "name": "colab_gpu_8장_F.ipynb",
      "provenance": [],
      "collapsed_sections": []
    },
    "accelerator": "GPU",
    "widgets": {
      "application/vnd.jupyter.widget-state+json": {
        "35f778d3c8634bc38cbafa4be52dc116": {
          "model_module": "@jupyter-widgets/controls",
          "model_name": "HBoxModel",
          "state": {
            "_view_name": "HBoxView",
            "_dom_classes": [],
            "_model_name": "HBoxModel",
            "_view_module": "@jupyter-widgets/controls",
            "_model_module_version": "1.5.0",
            "_view_count": null,
            "_view_module_version": "1.5.0",
            "box_style": "",
            "layout": "IPY_MODEL_dafea8bdbe9b4dc8a959c6c662200e6d",
            "_model_module": "@jupyter-widgets/controls",
            "children": [
              "IPY_MODEL_c34f29e0f89543f8af96cfaa00e7a328",
              "IPY_MODEL_2230b4a2f4ec4a119121d8bdc3717fd1"
            ]
          }
        },
        "dafea8bdbe9b4dc8a959c6c662200e6d": {
          "model_module": "@jupyter-widgets/base",
          "model_name": "LayoutModel",
          "state": {
            "_view_name": "LayoutView",
            "grid_template_rows": null,
            "right": null,
            "justify_content": null,
            "_view_module": "@jupyter-widgets/base",
            "overflow": null,
            "_model_module_version": "1.2.0",
            "_view_count": null,
            "flex_flow": null,
            "width": null,
            "min_width": null,
            "border": null,
            "align_items": null,
            "bottom": null,
            "_model_module": "@jupyter-widgets/base",
            "top": null,
            "grid_column": null,
            "overflow_y": null,
            "overflow_x": null,
            "grid_auto_flow": null,
            "grid_area": null,
            "grid_template_columns": null,
            "flex": null,
            "_model_name": "LayoutModel",
            "justify_items": null,
            "grid_row": null,
            "max_height": null,
            "align_content": null,
            "visibility": null,
            "align_self": null,
            "height": null,
            "min_height": null,
            "padding": null,
            "grid_auto_rows": null,
            "grid_gap": null,
            "max_width": null,
            "order": null,
            "_view_module_version": "1.2.0",
            "grid_template_areas": null,
            "object_position": null,
            "object_fit": null,
            "grid_auto_columns": null,
            "margin": null,
            "display": null,
            "left": null
          }
        },
        "c34f29e0f89543f8af96cfaa00e7a328": {
          "model_module": "@jupyter-widgets/controls",
          "model_name": "FloatProgressModel",
          "state": {
            "_view_name": "ProgressView",
            "style": "IPY_MODEL_6c45e924ef304936bc52391a3fe5c9f3",
            "_dom_classes": [],
            "description": "Dl Completed...: 100%",
            "_model_name": "FloatProgressModel",
            "bar_style": "success",
            "max": 1,
            "_view_module": "@jupyter-widgets/controls",
            "_model_module_version": "1.5.0",
            "value": 1,
            "_view_count": null,
            "_view_module_version": "1.5.0",
            "orientation": "horizontal",
            "min": 0,
            "description_tooltip": null,
            "_model_module": "@jupyter-widgets/controls",
            "layout": "IPY_MODEL_90c859de8ff143488b0154723113c188"
          }
        },
        "2230b4a2f4ec4a119121d8bdc3717fd1": {
          "model_module": "@jupyter-widgets/controls",
          "model_name": "HTMLModel",
          "state": {
            "_view_name": "HTMLView",
            "style": "IPY_MODEL_e6ee72ac08a547d8a6dedc4790ba0964",
            "_dom_classes": [],
            "description": "",
            "_model_name": "HTMLModel",
            "placeholder": "​",
            "_view_module": "@jupyter-widgets/controls",
            "_model_module_version": "1.5.0",
            "value": " 1/1 [00:09&lt;00:00,  9.03s/ url]",
            "_view_count": null,
            "_view_module_version": "1.5.0",
            "description_tooltip": null,
            "_model_module": "@jupyter-widgets/controls",
            "layout": "IPY_MODEL_2374c81953264d4eb70968324f6da71f"
          }
        },
        "6c45e924ef304936bc52391a3fe5c9f3": {
          "model_module": "@jupyter-widgets/controls",
          "model_name": "ProgressStyleModel",
          "state": {
            "_view_name": "StyleView",
            "_model_name": "ProgressStyleModel",
            "description_width": "initial",
            "_view_module": "@jupyter-widgets/base",
            "_model_module_version": "1.5.0",
            "_view_count": null,
            "_view_module_version": "1.2.0",
            "bar_color": null,
            "_model_module": "@jupyter-widgets/controls"
          }
        },
        "90c859de8ff143488b0154723113c188": {
          "model_module": "@jupyter-widgets/base",
          "model_name": "LayoutModel",
          "state": {
            "_view_name": "LayoutView",
            "grid_template_rows": null,
            "right": null,
            "justify_content": null,
            "_view_module": "@jupyter-widgets/base",
            "overflow": null,
            "_model_module_version": "1.2.0",
            "_view_count": null,
            "flex_flow": null,
            "width": null,
            "min_width": null,
            "border": null,
            "align_items": null,
            "bottom": null,
            "_model_module": "@jupyter-widgets/base",
            "top": null,
            "grid_column": null,
            "overflow_y": null,
            "overflow_x": null,
            "grid_auto_flow": null,
            "grid_area": null,
            "grid_template_columns": null,
            "flex": null,
            "_model_name": "LayoutModel",
            "justify_items": null,
            "grid_row": null,
            "max_height": null,
            "align_content": null,
            "visibility": null,
            "align_self": null,
            "height": null,
            "min_height": null,
            "padding": null,
            "grid_auto_rows": null,
            "grid_gap": null,
            "max_width": null,
            "order": null,
            "_view_module_version": "1.2.0",
            "grid_template_areas": null,
            "object_position": null,
            "object_fit": null,
            "grid_auto_columns": null,
            "margin": null,
            "display": null,
            "left": null
          }
        },
        "e6ee72ac08a547d8a6dedc4790ba0964": {
          "model_module": "@jupyter-widgets/controls",
          "model_name": "DescriptionStyleModel",
          "state": {
            "_view_name": "StyleView",
            "_model_name": "DescriptionStyleModel",
            "description_width": "",
            "_view_module": "@jupyter-widgets/base",
            "_model_module_version": "1.5.0",
            "_view_count": null,
            "_view_module_version": "1.2.0",
            "_model_module": "@jupyter-widgets/controls"
          }
        },
        "2374c81953264d4eb70968324f6da71f": {
          "model_module": "@jupyter-widgets/base",
          "model_name": "LayoutModel",
          "state": {
            "_view_name": "LayoutView",
            "grid_template_rows": null,
            "right": null,
            "justify_content": null,
            "_view_module": "@jupyter-widgets/base",
            "overflow": null,
            "_model_module_version": "1.2.0",
            "_view_count": null,
            "flex_flow": null,
            "width": null,
            "min_width": null,
            "border": null,
            "align_items": null,
            "bottom": null,
            "_model_module": "@jupyter-widgets/base",
            "top": null,
            "grid_column": null,
            "overflow_y": null,
            "overflow_x": null,
            "grid_auto_flow": null,
            "grid_area": null,
            "grid_template_columns": null,
            "flex": null,
            "_model_name": "LayoutModel",
            "justify_items": null,
            "grid_row": null,
            "max_height": null,
            "align_content": null,
            "visibility": null,
            "align_self": null,
            "height": null,
            "min_height": null,
            "padding": null,
            "grid_auto_rows": null,
            "grid_gap": null,
            "max_width": null,
            "order": null,
            "_view_module_version": "1.2.0",
            "grid_template_areas": null,
            "object_position": null,
            "object_fit": null,
            "grid_auto_columns": null,
            "margin": null,
            "display": null,
            "left": null
          }
        },
        "746a909fff634588b42843c9eb4c4274": {
          "model_module": "@jupyter-widgets/controls",
          "model_name": "HBoxModel",
          "state": {
            "_view_name": "HBoxView",
            "_dom_classes": [],
            "_model_name": "HBoxModel",
            "_view_module": "@jupyter-widgets/controls",
            "_model_module_version": "1.5.0",
            "_view_count": null,
            "_view_module_version": "1.5.0",
            "box_style": "",
            "layout": "IPY_MODEL_b5dbe320f5b846a795ccbfc85da7e32b",
            "_model_module": "@jupyter-widgets/controls",
            "children": [
              "IPY_MODEL_596cb816e1864ea1bb02e761f42a4c70",
              "IPY_MODEL_fee5c1a40ab24c989f85d5458d948070"
            ]
          }
        },
        "b5dbe320f5b846a795ccbfc85da7e32b": {
          "model_module": "@jupyter-widgets/base",
          "model_name": "LayoutModel",
          "state": {
            "_view_name": "LayoutView",
            "grid_template_rows": null,
            "right": null,
            "justify_content": null,
            "_view_module": "@jupyter-widgets/base",
            "overflow": null,
            "_model_module_version": "1.2.0",
            "_view_count": null,
            "flex_flow": null,
            "width": null,
            "min_width": null,
            "border": null,
            "align_items": null,
            "bottom": null,
            "_model_module": "@jupyter-widgets/base",
            "top": null,
            "grid_column": null,
            "overflow_y": null,
            "overflow_x": null,
            "grid_auto_flow": null,
            "grid_area": null,
            "grid_template_columns": null,
            "flex": null,
            "_model_name": "LayoutModel",
            "justify_items": null,
            "grid_row": null,
            "max_height": null,
            "align_content": null,
            "visibility": null,
            "align_self": null,
            "height": null,
            "min_height": null,
            "padding": null,
            "grid_auto_rows": null,
            "grid_gap": null,
            "max_width": null,
            "order": null,
            "_view_module_version": "1.2.0",
            "grid_template_areas": null,
            "object_position": null,
            "object_fit": null,
            "grid_auto_columns": null,
            "margin": null,
            "display": null,
            "left": null
          }
        },
        "596cb816e1864ea1bb02e761f42a4c70": {
          "model_module": "@jupyter-widgets/controls",
          "model_name": "FloatProgressModel",
          "state": {
            "_view_name": "ProgressView",
            "style": "IPY_MODEL_d76fc346c4a740428d915e9e8fc256db",
            "_dom_classes": [],
            "description": "Dl Size...: 100%",
            "_model_name": "FloatProgressModel",
            "bar_style": "success",
            "max": 1,
            "_view_module": "@jupyter-widgets/controls",
            "_model_module_version": "1.5.0",
            "value": 1,
            "_view_count": null,
            "_view_module_version": "1.5.0",
            "orientation": "horizontal",
            "min": 0,
            "description_tooltip": null,
            "_model_module": "@jupyter-widgets/controls",
            "layout": "IPY_MODEL_b91fc50724d24e448a30200f2880b01f"
          }
        },
        "fee5c1a40ab24c989f85d5458d948070": {
          "model_module": "@jupyter-widgets/controls",
          "model_name": "HTMLModel",
          "state": {
            "_view_name": "HTMLView",
            "style": "IPY_MODEL_96c0cd3eed3f4f8fae15aeeb64079ed2",
            "_dom_classes": [],
            "description": "",
            "_model_name": "HTMLModel",
            "placeholder": "​",
            "_view_module": "@jupyter-widgets/controls",
            "_model_module_version": "1.5.0",
            "value": " 80/80 [00:08&lt;00:00,  8.89 MiB/s]",
            "_view_count": null,
            "_view_module_version": "1.5.0",
            "description_tooltip": null,
            "_model_module": "@jupyter-widgets/controls",
            "layout": "IPY_MODEL_48c70b343b11431db366df044b79ec19"
          }
        },
        "d76fc346c4a740428d915e9e8fc256db": {
          "model_module": "@jupyter-widgets/controls",
          "model_name": "ProgressStyleModel",
          "state": {
            "_view_name": "StyleView",
            "_model_name": "ProgressStyleModel",
            "description_width": "initial",
            "_view_module": "@jupyter-widgets/base",
            "_model_module_version": "1.5.0",
            "_view_count": null,
            "_view_module_version": "1.2.0",
            "bar_color": null,
            "_model_module": "@jupyter-widgets/controls"
          }
        },
        "b91fc50724d24e448a30200f2880b01f": {
          "model_module": "@jupyter-widgets/base",
          "model_name": "LayoutModel",
          "state": {
            "_view_name": "LayoutView",
            "grid_template_rows": null,
            "right": null,
            "justify_content": null,
            "_view_module": "@jupyter-widgets/base",
            "overflow": null,
            "_model_module_version": "1.2.0",
            "_view_count": null,
            "flex_flow": null,
            "width": null,
            "min_width": null,
            "border": null,
            "align_items": null,
            "bottom": null,
            "_model_module": "@jupyter-widgets/base",
            "top": null,
            "grid_column": null,
            "overflow_y": null,
            "overflow_x": null,
            "grid_auto_flow": null,
            "grid_area": null,
            "grid_template_columns": null,
            "flex": null,
            "_model_name": "LayoutModel",
            "justify_items": null,
            "grid_row": null,
            "max_height": null,
            "align_content": null,
            "visibility": null,
            "align_self": null,
            "height": null,
            "min_height": null,
            "padding": null,
            "grid_auto_rows": null,
            "grid_gap": null,
            "max_width": null,
            "order": null,
            "_view_module_version": "1.2.0",
            "grid_template_areas": null,
            "object_position": null,
            "object_fit": null,
            "grid_auto_columns": null,
            "margin": null,
            "display": null,
            "left": null
          }
        },
        "96c0cd3eed3f4f8fae15aeeb64079ed2": {
          "model_module": "@jupyter-widgets/controls",
          "model_name": "DescriptionStyleModel",
          "state": {
            "_view_name": "StyleView",
            "_model_name": "DescriptionStyleModel",
            "description_width": "",
            "_view_module": "@jupyter-widgets/base",
            "_model_module_version": "1.5.0",
            "_view_count": null,
            "_view_module_version": "1.2.0",
            "_model_module": "@jupyter-widgets/controls"
          }
        },
        "48c70b343b11431db366df044b79ec19": {
          "model_module": "@jupyter-widgets/base",
          "model_name": "LayoutModel",
          "state": {
            "_view_name": "LayoutView",
            "grid_template_rows": null,
            "right": null,
            "justify_content": null,
            "_view_module": "@jupyter-widgets/base",
            "overflow": null,
            "_model_module_version": "1.2.0",
            "_view_count": null,
            "flex_flow": null,
            "width": null,
            "min_width": null,
            "border": null,
            "align_items": null,
            "bottom": null,
            "_model_module": "@jupyter-widgets/base",
            "top": null,
            "grid_column": null,
            "overflow_y": null,
            "overflow_x": null,
            "grid_auto_flow": null,
            "grid_area": null,
            "grid_template_columns": null,
            "flex": null,
            "_model_name": "LayoutModel",
            "justify_items": null,
            "grid_row": null,
            "max_height": null,
            "align_content": null,
            "visibility": null,
            "align_self": null,
            "height": null,
            "min_height": null,
            "padding": null,
            "grid_auto_rows": null,
            "grid_gap": null,
            "max_width": null,
            "order": null,
            "_view_module_version": "1.2.0",
            "grid_template_areas": null,
            "object_position": null,
            "object_fit": null,
            "grid_auto_columns": null,
            "margin": null,
            "display": null,
            "left": null
          }
        },
        "a4be88dab907491dbffc7321a622c811": {
          "model_module": "@jupyter-widgets/controls",
          "model_name": "HBoxModel",
          "state": {
            "_view_name": "HBoxView",
            "_dom_classes": [],
            "_model_name": "HBoxModel",
            "_view_module": "@jupyter-widgets/controls",
            "_model_module_version": "1.5.0",
            "_view_count": null,
            "_view_module_version": "1.5.0",
            "box_style": "",
            "layout": "IPY_MODEL_a4bc329440b844f5bccdc6a4d178744c",
            "_model_module": "@jupyter-widgets/controls",
            "children": [
              "IPY_MODEL_00a7e2cc901f4f5fa3e7d65060dbf602",
              "IPY_MODEL_baa248f2e50d4631952ac54fbaa93e07"
            ]
          }
        },
        "a4bc329440b844f5bccdc6a4d178744c": {
          "model_module": "@jupyter-widgets/base",
          "model_name": "LayoutModel",
          "state": {
            "_view_name": "LayoutView",
            "grid_template_rows": null,
            "right": null,
            "justify_content": null,
            "_view_module": "@jupyter-widgets/base",
            "overflow": null,
            "_model_module_version": "1.2.0",
            "_view_count": null,
            "flex_flow": null,
            "width": null,
            "min_width": null,
            "border": null,
            "align_items": null,
            "bottom": null,
            "_model_module": "@jupyter-widgets/base",
            "top": null,
            "grid_column": null,
            "overflow_y": null,
            "overflow_x": null,
            "grid_auto_flow": null,
            "grid_area": null,
            "grid_template_columns": null,
            "flex": null,
            "_model_name": "LayoutModel",
            "justify_items": null,
            "grid_row": null,
            "max_height": null,
            "align_content": null,
            "visibility": null,
            "align_self": null,
            "height": null,
            "min_height": null,
            "padding": null,
            "grid_auto_rows": null,
            "grid_gap": null,
            "max_width": null,
            "order": null,
            "_view_module_version": "1.2.0",
            "grid_template_areas": null,
            "object_position": null,
            "object_fit": null,
            "grid_auto_columns": null,
            "margin": null,
            "display": null,
            "left": null
          }
        },
        "00a7e2cc901f4f5fa3e7d65060dbf602": {
          "model_module": "@jupyter-widgets/controls",
          "model_name": "FloatProgressModel",
          "state": {
            "_view_name": "ProgressView",
            "style": "IPY_MODEL_18b91ba49fdd40efbfcb5223edfd98bb",
            "_dom_classes": [],
            "description": "",
            "_model_name": "FloatProgressModel",
            "bar_style": "info",
            "max": 1,
            "_view_module": "@jupyter-widgets/controls",
            "_model_module_version": "1.5.0",
            "value": 1,
            "_view_count": null,
            "_view_module_version": "1.5.0",
            "orientation": "horizontal",
            "min": 0,
            "description_tooltip": null,
            "_model_module": "@jupyter-widgets/controls",
            "layout": "IPY_MODEL_0d5b9bca7f584c10a8d8688822d1333a"
          }
        },
        "baa248f2e50d4631952ac54fbaa93e07": {
          "model_module": "@jupyter-widgets/controls",
          "model_name": "HTMLModel",
          "state": {
            "_view_name": "HTMLView",
            "style": "IPY_MODEL_acfbf3792d3d4a98921ded01fcb13605",
            "_dom_classes": [],
            "description": "",
            "_model_name": "HTMLModel",
            "placeholder": "​",
            "_view_module": "@jupyter-widgets/controls",
            "_model_module_version": "1.5.0",
            "value": " 25000/0 [00:30&lt;00:00, 1032.66 examples/s]",
            "_view_count": null,
            "_view_module_version": "1.5.0",
            "description_tooltip": null,
            "_model_module": "@jupyter-widgets/controls",
            "layout": "IPY_MODEL_b7ae7b3bb4e94073ae2de4fd4909e93e"
          }
        },
        "18b91ba49fdd40efbfcb5223edfd98bb": {
          "model_module": "@jupyter-widgets/controls",
          "model_name": "ProgressStyleModel",
          "state": {
            "_view_name": "StyleView",
            "_model_name": "ProgressStyleModel",
            "description_width": "initial",
            "_view_module": "@jupyter-widgets/base",
            "_model_module_version": "1.5.0",
            "_view_count": null,
            "_view_module_version": "1.2.0",
            "bar_color": null,
            "_model_module": "@jupyter-widgets/controls"
          }
        },
        "0d5b9bca7f584c10a8d8688822d1333a": {
          "model_module": "@jupyter-widgets/base",
          "model_name": "LayoutModel",
          "state": {
            "_view_name": "LayoutView",
            "grid_template_rows": null,
            "right": null,
            "justify_content": null,
            "_view_module": "@jupyter-widgets/base",
            "overflow": null,
            "_model_module_version": "1.2.0",
            "_view_count": null,
            "flex_flow": null,
            "width": null,
            "min_width": null,
            "border": null,
            "align_items": null,
            "bottom": null,
            "_model_module": "@jupyter-widgets/base",
            "top": null,
            "grid_column": null,
            "overflow_y": null,
            "overflow_x": null,
            "grid_auto_flow": null,
            "grid_area": null,
            "grid_template_columns": null,
            "flex": null,
            "_model_name": "LayoutModel",
            "justify_items": null,
            "grid_row": null,
            "max_height": null,
            "align_content": null,
            "visibility": null,
            "align_self": null,
            "height": null,
            "min_height": null,
            "padding": null,
            "grid_auto_rows": null,
            "grid_gap": null,
            "max_width": null,
            "order": null,
            "_view_module_version": "1.2.0",
            "grid_template_areas": null,
            "object_position": null,
            "object_fit": null,
            "grid_auto_columns": null,
            "margin": null,
            "display": null,
            "left": null
          }
        },
        "acfbf3792d3d4a98921ded01fcb13605": {
          "model_module": "@jupyter-widgets/controls",
          "model_name": "DescriptionStyleModel",
          "state": {
            "_view_name": "StyleView",
            "_model_name": "DescriptionStyleModel",
            "description_width": "",
            "_view_module": "@jupyter-widgets/base",
            "_model_module_version": "1.5.0",
            "_view_count": null,
            "_view_module_version": "1.2.0",
            "_model_module": "@jupyter-widgets/controls"
          }
        },
        "b7ae7b3bb4e94073ae2de4fd4909e93e": {
          "model_module": "@jupyter-widgets/base",
          "model_name": "LayoutModel",
          "state": {
            "_view_name": "LayoutView",
            "grid_template_rows": null,
            "right": null,
            "justify_content": null,
            "_view_module": "@jupyter-widgets/base",
            "overflow": null,
            "_model_module_version": "1.2.0",
            "_view_count": null,
            "flex_flow": null,
            "width": null,
            "min_width": null,
            "border": null,
            "align_items": null,
            "bottom": null,
            "_model_module": "@jupyter-widgets/base",
            "top": null,
            "grid_column": null,
            "overflow_y": null,
            "overflow_x": null,
            "grid_auto_flow": null,
            "grid_area": null,
            "grid_template_columns": null,
            "flex": null,
            "_model_name": "LayoutModel",
            "justify_items": null,
            "grid_row": null,
            "max_height": null,
            "align_content": null,
            "visibility": null,
            "align_self": null,
            "height": null,
            "min_height": null,
            "padding": null,
            "grid_auto_rows": null,
            "grid_gap": null,
            "max_width": null,
            "order": null,
            "_view_module_version": "1.2.0",
            "grid_template_areas": null,
            "object_position": null,
            "object_fit": null,
            "grid_auto_columns": null,
            "margin": null,
            "display": null,
            "left": null
          }
        },
        "ffe0c64c89e64273a7ddd7ad36b572f7": {
          "model_module": "@jupyter-widgets/controls",
          "model_name": "HBoxModel",
          "state": {
            "_view_name": "HBoxView",
            "_dom_classes": [],
            "_model_name": "HBoxModel",
            "_view_module": "@jupyter-widgets/controls",
            "_model_module_version": "1.5.0",
            "_view_count": null,
            "_view_module_version": "1.5.0",
            "box_style": "",
            "layout": "IPY_MODEL_932d977deb5043fabbecbaffc60b4440",
            "_model_module": "@jupyter-widgets/controls",
            "children": [
              "IPY_MODEL_77947cf723ad45688597c26131e76764",
              "IPY_MODEL_67d1c21623c547c6a230160b1aefd0b7"
            ]
          }
        },
        "932d977deb5043fabbecbaffc60b4440": {
          "model_module": "@jupyter-widgets/base",
          "model_name": "LayoutModel",
          "state": {
            "_view_name": "LayoutView",
            "grid_template_rows": null,
            "right": null,
            "justify_content": null,
            "_view_module": "@jupyter-widgets/base",
            "overflow": null,
            "_model_module_version": "1.2.0",
            "_view_count": null,
            "flex_flow": null,
            "width": null,
            "min_width": null,
            "border": null,
            "align_items": null,
            "bottom": null,
            "_model_module": "@jupyter-widgets/base",
            "top": null,
            "grid_column": null,
            "overflow_y": null,
            "overflow_x": null,
            "grid_auto_flow": null,
            "grid_area": null,
            "grid_template_columns": null,
            "flex": null,
            "_model_name": "LayoutModel",
            "justify_items": null,
            "grid_row": null,
            "max_height": null,
            "align_content": null,
            "visibility": null,
            "align_self": null,
            "height": null,
            "min_height": null,
            "padding": null,
            "grid_auto_rows": null,
            "grid_gap": null,
            "max_width": null,
            "order": null,
            "_view_module_version": "1.2.0",
            "grid_template_areas": null,
            "object_position": null,
            "object_fit": null,
            "grid_auto_columns": null,
            "margin": null,
            "display": null,
            "left": null
          }
        },
        "77947cf723ad45688597c26131e76764": {
          "model_module": "@jupyter-widgets/controls",
          "model_name": "FloatProgressModel",
          "state": {
            "_view_name": "ProgressView",
            "style": "IPY_MODEL_83d676de53f34e89b87b4880d07bde28",
            "_dom_classes": [],
            "description": " 83%",
            "_model_name": "FloatProgressModel",
            "bar_style": "danger",
            "max": 25000,
            "_view_module": "@jupyter-widgets/controls",
            "_model_module_version": "1.5.0",
            "value": 20802,
            "_view_count": null,
            "_view_module_version": "1.5.0",
            "orientation": "horizontal",
            "min": 0,
            "description_tooltip": null,
            "_model_module": "@jupyter-widgets/controls",
            "layout": "IPY_MODEL_c12d5c6e5a714f9881acdd6bea8bfd88"
          }
        },
        "67d1c21623c547c6a230160b1aefd0b7": {
          "model_module": "@jupyter-widgets/controls",
          "model_name": "HTMLModel",
          "state": {
            "_view_name": "HTMLView",
            "style": "IPY_MODEL_3cdf8d836f784c58a6b5a738f3445536",
            "_dom_classes": [],
            "description": "",
            "_model_name": "HTMLModel",
            "placeholder": "​",
            "_view_module": "@jupyter-widgets/controls",
            "_model_module_version": "1.5.0",
            "value": " 20802/25000 [00:00&lt;00:00, 208006.81 examples/s]",
            "_view_count": null,
            "_view_module_version": "1.5.0",
            "description_tooltip": null,
            "_model_module": "@jupyter-widgets/controls",
            "layout": "IPY_MODEL_c9eb753002d84db3bbecac627387a539"
          }
        },
        "83d676de53f34e89b87b4880d07bde28": {
          "model_module": "@jupyter-widgets/controls",
          "model_name": "ProgressStyleModel",
          "state": {
            "_view_name": "StyleView",
            "_model_name": "ProgressStyleModel",
            "description_width": "initial",
            "_view_module": "@jupyter-widgets/base",
            "_model_module_version": "1.5.0",
            "_view_count": null,
            "_view_module_version": "1.2.0",
            "bar_color": null,
            "_model_module": "@jupyter-widgets/controls"
          }
        },
        "c12d5c6e5a714f9881acdd6bea8bfd88": {
          "model_module": "@jupyter-widgets/base",
          "model_name": "LayoutModel",
          "state": {
            "_view_name": "LayoutView",
            "grid_template_rows": null,
            "right": null,
            "justify_content": null,
            "_view_module": "@jupyter-widgets/base",
            "overflow": null,
            "_model_module_version": "1.2.0",
            "_view_count": null,
            "flex_flow": null,
            "width": null,
            "min_width": null,
            "border": null,
            "align_items": null,
            "bottom": null,
            "_model_module": "@jupyter-widgets/base",
            "top": null,
            "grid_column": null,
            "overflow_y": null,
            "overflow_x": null,
            "grid_auto_flow": null,
            "grid_area": null,
            "grid_template_columns": null,
            "flex": null,
            "_model_name": "LayoutModel",
            "justify_items": null,
            "grid_row": null,
            "max_height": null,
            "align_content": null,
            "visibility": null,
            "align_self": null,
            "height": null,
            "min_height": null,
            "padding": null,
            "grid_auto_rows": null,
            "grid_gap": null,
            "max_width": null,
            "order": null,
            "_view_module_version": "1.2.0",
            "grid_template_areas": null,
            "object_position": null,
            "object_fit": null,
            "grid_auto_columns": null,
            "margin": null,
            "display": null,
            "left": null
          }
        },
        "3cdf8d836f784c58a6b5a738f3445536": {
          "model_module": "@jupyter-widgets/controls",
          "model_name": "DescriptionStyleModel",
          "state": {
            "_view_name": "StyleView",
            "_model_name": "DescriptionStyleModel",
            "description_width": "",
            "_view_module": "@jupyter-widgets/base",
            "_model_module_version": "1.5.0",
            "_view_count": null,
            "_view_module_version": "1.2.0",
            "_model_module": "@jupyter-widgets/controls"
          }
        },
        "c9eb753002d84db3bbecac627387a539": {
          "model_module": "@jupyter-widgets/base",
          "model_name": "LayoutModel",
          "state": {
            "_view_name": "LayoutView",
            "grid_template_rows": null,
            "right": null,
            "justify_content": null,
            "_view_module": "@jupyter-widgets/base",
            "overflow": null,
            "_model_module_version": "1.2.0",
            "_view_count": null,
            "flex_flow": null,
            "width": null,
            "min_width": null,
            "border": null,
            "align_items": null,
            "bottom": null,
            "_model_module": "@jupyter-widgets/base",
            "top": null,
            "grid_column": null,
            "overflow_y": null,
            "overflow_x": null,
            "grid_auto_flow": null,
            "grid_area": null,
            "grid_template_columns": null,
            "flex": null,
            "_model_name": "LayoutModel",
            "justify_items": null,
            "grid_row": null,
            "max_height": null,
            "align_content": null,
            "visibility": null,
            "align_self": null,
            "height": null,
            "min_height": null,
            "padding": null,
            "grid_auto_rows": null,
            "grid_gap": null,
            "max_width": null,
            "order": null,
            "_view_module_version": "1.2.0",
            "grid_template_areas": null,
            "object_position": null,
            "object_fit": null,
            "grid_auto_columns": null,
            "margin": null,
            "display": null,
            "left": null
          }
        },
        "d13f170a6d144a1680f2a9a8fe186327": {
          "model_module": "@jupyter-widgets/controls",
          "model_name": "HBoxModel",
          "state": {
            "_view_name": "HBoxView",
            "_dom_classes": [],
            "_model_name": "HBoxModel",
            "_view_module": "@jupyter-widgets/controls",
            "_model_module_version": "1.5.0",
            "_view_count": null,
            "_view_module_version": "1.5.0",
            "box_style": "",
            "layout": "IPY_MODEL_f7c84c801d7643b88230be18dcf7f713",
            "_model_module": "@jupyter-widgets/controls",
            "children": [
              "IPY_MODEL_42637d4ebad44c448eb2ae14a00fa8ec",
              "IPY_MODEL_2a35a25ef3f04221b1261a52b0466adb"
            ]
          }
        },
        "f7c84c801d7643b88230be18dcf7f713": {
          "model_module": "@jupyter-widgets/base",
          "model_name": "LayoutModel",
          "state": {
            "_view_name": "LayoutView",
            "grid_template_rows": null,
            "right": null,
            "justify_content": null,
            "_view_module": "@jupyter-widgets/base",
            "overflow": null,
            "_model_module_version": "1.2.0",
            "_view_count": null,
            "flex_flow": null,
            "width": null,
            "min_width": null,
            "border": null,
            "align_items": null,
            "bottom": null,
            "_model_module": "@jupyter-widgets/base",
            "top": null,
            "grid_column": null,
            "overflow_y": null,
            "overflow_x": null,
            "grid_auto_flow": null,
            "grid_area": null,
            "grid_template_columns": null,
            "flex": null,
            "_model_name": "LayoutModel",
            "justify_items": null,
            "grid_row": null,
            "max_height": null,
            "align_content": null,
            "visibility": null,
            "align_self": null,
            "height": null,
            "min_height": null,
            "padding": null,
            "grid_auto_rows": null,
            "grid_gap": null,
            "max_width": null,
            "order": null,
            "_view_module_version": "1.2.0",
            "grid_template_areas": null,
            "object_position": null,
            "object_fit": null,
            "grid_auto_columns": null,
            "margin": null,
            "display": null,
            "left": null
          }
        },
        "42637d4ebad44c448eb2ae14a00fa8ec": {
          "model_module": "@jupyter-widgets/controls",
          "model_name": "FloatProgressModel",
          "state": {
            "_view_name": "ProgressView",
            "style": "IPY_MODEL_85964920bfa64ebba43e449f1e7790e6",
            "_dom_classes": [],
            "description": "",
            "_model_name": "FloatProgressModel",
            "bar_style": "info",
            "max": 1,
            "_view_module": "@jupyter-widgets/controls",
            "_model_module_version": "1.5.0",
            "value": 1,
            "_view_count": null,
            "_view_module_version": "1.5.0",
            "orientation": "horizontal",
            "min": 0,
            "description_tooltip": null,
            "_model_module": "@jupyter-widgets/controls",
            "layout": "IPY_MODEL_48972a623e044e0aabb51e6141ff46dc"
          }
        },
        "2a35a25ef3f04221b1261a52b0466adb": {
          "model_module": "@jupyter-widgets/controls",
          "model_name": "HTMLModel",
          "state": {
            "_view_name": "HTMLView",
            "style": "IPY_MODEL_9c60e756dd534ec89825571d574fa842",
            "_dom_classes": [],
            "description": "",
            "_model_name": "HTMLModel",
            "placeholder": "​",
            "_view_module": "@jupyter-widgets/controls",
            "_model_module_version": "1.5.0",
            "value": " 25000/0 [00:29&lt;00:00, 1087.52 examples/s]",
            "_view_count": null,
            "_view_module_version": "1.5.0",
            "description_tooltip": null,
            "_model_module": "@jupyter-widgets/controls",
            "layout": "IPY_MODEL_3c790f20cd9145e69eb714c2c7673895"
          }
        },
        "85964920bfa64ebba43e449f1e7790e6": {
          "model_module": "@jupyter-widgets/controls",
          "model_name": "ProgressStyleModel",
          "state": {
            "_view_name": "StyleView",
            "_model_name": "ProgressStyleModel",
            "description_width": "initial",
            "_view_module": "@jupyter-widgets/base",
            "_model_module_version": "1.5.0",
            "_view_count": null,
            "_view_module_version": "1.2.0",
            "bar_color": null,
            "_model_module": "@jupyter-widgets/controls"
          }
        },
        "48972a623e044e0aabb51e6141ff46dc": {
          "model_module": "@jupyter-widgets/base",
          "model_name": "LayoutModel",
          "state": {
            "_view_name": "LayoutView",
            "grid_template_rows": null,
            "right": null,
            "justify_content": null,
            "_view_module": "@jupyter-widgets/base",
            "overflow": null,
            "_model_module_version": "1.2.0",
            "_view_count": null,
            "flex_flow": null,
            "width": null,
            "min_width": null,
            "border": null,
            "align_items": null,
            "bottom": null,
            "_model_module": "@jupyter-widgets/base",
            "top": null,
            "grid_column": null,
            "overflow_y": null,
            "overflow_x": null,
            "grid_auto_flow": null,
            "grid_area": null,
            "grid_template_columns": null,
            "flex": null,
            "_model_name": "LayoutModel",
            "justify_items": null,
            "grid_row": null,
            "max_height": null,
            "align_content": null,
            "visibility": null,
            "align_self": null,
            "height": null,
            "min_height": null,
            "padding": null,
            "grid_auto_rows": null,
            "grid_gap": null,
            "max_width": null,
            "order": null,
            "_view_module_version": "1.2.0",
            "grid_template_areas": null,
            "object_position": null,
            "object_fit": null,
            "grid_auto_columns": null,
            "margin": null,
            "display": null,
            "left": null
          }
        },
        "9c60e756dd534ec89825571d574fa842": {
          "model_module": "@jupyter-widgets/controls",
          "model_name": "DescriptionStyleModel",
          "state": {
            "_view_name": "StyleView",
            "_model_name": "DescriptionStyleModel",
            "description_width": "",
            "_view_module": "@jupyter-widgets/base",
            "_model_module_version": "1.5.0",
            "_view_count": null,
            "_view_module_version": "1.2.0",
            "_model_module": "@jupyter-widgets/controls"
          }
        },
        "3c790f20cd9145e69eb714c2c7673895": {
          "model_module": "@jupyter-widgets/base",
          "model_name": "LayoutModel",
          "state": {
            "_view_name": "LayoutView",
            "grid_template_rows": null,
            "right": null,
            "justify_content": null,
            "_view_module": "@jupyter-widgets/base",
            "overflow": null,
            "_model_module_version": "1.2.0",
            "_view_count": null,
            "flex_flow": null,
            "width": null,
            "min_width": null,
            "border": null,
            "align_items": null,
            "bottom": null,
            "_model_module": "@jupyter-widgets/base",
            "top": null,
            "grid_column": null,
            "overflow_y": null,
            "overflow_x": null,
            "grid_auto_flow": null,
            "grid_area": null,
            "grid_template_columns": null,
            "flex": null,
            "_model_name": "LayoutModel",
            "justify_items": null,
            "grid_row": null,
            "max_height": null,
            "align_content": null,
            "visibility": null,
            "align_self": null,
            "height": null,
            "min_height": null,
            "padding": null,
            "grid_auto_rows": null,
            "grid_gap": null,
            "max_width": null,
            "order": null,
            "_view_module_version": "1.2.0",
            "grid_template_areas": null,
            "object_position": null,
            "object_fit": null,
            "grid_auto_columns": null,
            "margin": null,
            "display": null,
            "left": null
          }
        },
        "d920afa5307e4a8abbff45e9e6910267": {
          "model_module": "@jupyter-widgets/controls",
          "model_name": "HBoxModel",
          "state": {
            "_view_name": "HBoxView",
            "_dom_classes": [],
            "_model_name": "HBoxModel",
            "_view_module": "@jupyter-widgets/controls",
            "_model_module_version": "1.5.0",
            "_view_count": null,
            "_view_module_version": "1.5.0",
            "box_style": "",
            "layout": "IPY_MODEL_63b63c55bf334196a538770210f37299",
            "_model_module": "@jupyter-widgets/controls",
            "children": [
              "IPY_MODEL_a73a4a5dbb034ef98128779c21c62ff9",
              "IPY_MODEL_e5b931d56ab94d428c6d4b6bcefbd9a7"
            ]
          }
        },
        "63b63c55bf334196a538770210f37299": {
          "model_module": "@jupyter-widgets/base",
          "model_name": "LayoutModel",
          "state": {
            "_view_name": "LayoutView",
            "grid_template_rows": null,
            "right": null,
            "justify_content": null,
            "_view_module": "@jupyter-widgets/base",
            "overflow": null,
            "_model_module_version": "1.2.0",
            "_view_count": null,
            "flex_flow": null,
            "width": null,
            "min_width": null,
            "border": null,
            "align_items": null,
            "bottom": null,
            "_model_module": "@jupyter-widgets/base",
            "top": null,
            "grid_column": null,
            "overflow_y": null,
            "overflow_x": null,
            "grid_auto_flow": null,
            "grid_area": null,
            "grid_template_columns": null,
            "flex": null,
            "_model_name": "LayoutModel",
            "justify_items": null,
            "grid_row": null,
            "max_height": null,
            "align_content": null,
            "visibility": null,
            "align_self": null,
            "height": null,
            "min_height": null,
            "padding": null,
            "grid_auto_rows": null,
            "grid_gap": null,
            "max_width": null,
            "order": null,
            "_view_module_version": "1.2.0",
            "grid_template_areas": null,
            "object_position": null,
            "object_fit": null,
            "grid_auto_columns": null,
            "margin": null,
            "display": null,
            "left": null
          }
        },
        "a73a4a5dbb034ef98128779c21c62ff9": {
          "model_module": "@jupyter-widgets/controls",
          "model_name": "FloatProgressModel",
          "state": {
            "_view_name": "ProgressView",
            "style": "IPY_MODEL_5575e846fe114cfead58dba33d9defb6",
            "_dom_classes": [],
            "description": " 72%",
            "_model_name": "FloatProgressModel",
            "bar_style": "danger",
            "max": 25000,
            "_view_module": "@jupyter-widgets/controls",
            "_model_module_version": "1.5.0",
            "value": 18038,
            "_view_count": null,
            "_view_module_version": "1.5.0",
            "orientation": "horizontal",
            "min": 0,
            "description_tooltip": null,
            "_model_module": "@jupyter-widgets/controls",
            "layout": "IPY_MODEL_09257680659a4526bedab66e897033ae"
          }
        },
        "e5b931d56ab94d428c6d4b6bcefbd9a7": {
          "model_module": "@jupyter-widgets/controls",
          "model_name": "HTMLModel",
          "state": {
            "_view_name": "HTMLView",
            "style": "IPY_MODEL_1033113f655b44388a847598abd77cf5",
            "_dom_classes": [],
            "description": "",
            "_model_name": "HTMLModel",
            "placeholder": "​",
            "_view_module": "@jupyter-widgets/controls",
            "_model_module_version": "1.5.0",
            "value": " 18038/25000 [00:00&lt;00:00, 180372.00 examples/s]",
            "_view_count": null,
            "_view_module_version": "1.5.0",
            "description_tooltip": null,
            "_model_module": "@jupyter-widgets/controls",
            "layout": "IPY_MODEL_eb8ec2f94a444f2ca7c761cb96acc484"
          }
        },
        "5575e846fe114cfead58dba33d9defb6": {
          "model_module": "@jupyter-widgets/controls",
          "model_name": "ProgressStyleModel",
          "state": {
            "_view_name": "StyleView",
            "_model_name": "ProgressStyleModel",
            "description_width": "initial",
            "_view_module": "@jupyter-widgets/base",
            "_model_module_version": "1.5.0",
            "_view_count": null,
            "_view_module_version": "1.2.0",
            "bar_color": null,
            "_model_module": "@jupyter-widgets/controls"
          }
        },
        "09257680659a4526bedab66e897033ae": {
          "model_module": "@jupyter-widgets/base",
          "model_name": "LayoutModel",
          "state": {
            "_view_name": "LayoutView",
            "grid_template_rows": null,
            "right": null,
            "justify_content": null,
            "_view_module": "@jupyter-widgets/base",
            "overflow": null,
            "_model_module_version": "1.2.0",
            "_view_count": null,
            "flex_flow": null,
            "width": null,
            "min_width": null,
            "border": null,
            "align_items": null,
            "bottom": null,
            "_model_module": "@jupyter-widgets/base",
            "top": null,
            "grid_column": null,
            "overflow_y": null,
            "overflow_x": null,
            "grid_auto_flow": null,
            "grid_area": null,
            "grid_template_columns": null,
            "flex": null,
            "_model_name": "LayoutModel",
            "justify_items": null,
            "grid_row": null,
            "max_height": null,
            "align_content": null,
            "visibility": null,
            "align_self": null,
            "height": null,
            "min_height": null,
            "padding": null,
            "grid_auto_rows": null,
            "grid_gap": null,
            "max_width": null,
            "order": null,
            "_view_module_version": "1.2.0",
            "grid_template_areas": null,
            "object_position": null,
            "object_fit": null,
            "grid_auto_columns": null,
            "margin": null,
            "display": null,
            "left": null
          }
        },
        "1033113f655b44388a847598abd77cf5": {
          "model_module": "@jupyter-widgets/controls",
          "model_name": "DescriptionStyleModel",
          "state": {
            "_view_name": "StyleView",
            "_model_name": "DescriptionStyleModel",
            "description_width": "",
            "_view_module": "@jupyter-widgets/base",
            "_model_module_version": "1.5.0",
            "_view_count": null,
            "_view_module_version": "1.2.0",
            "_model_module": "@jupyter-widgets/controls"
          }
        },
        "eb8ec2f94a444f2ca7c761cb96acc484": {
          "model_module": "@jupyter-widgets/base",
          "model_name": "LayoutModel",
          "state": {
            "_view_name": "LayoutView",
            "grid_template_rows": null,
            "right": null,
            "justify_content": null,
            "_view_module": "@jupyter-widgets/base",
            "overflow": null,
            "_model_module_version": "1.2.0",
            "_view_count": null,
            "flex_flow": null,
            "width": null,
            "min_width": null,
            "border": null,
            "align_items": null,
            "bottom": null,
            "_model_module": "@jupyter-widgets/base",
            "top": null,
            "grid_column": null,
            "overflow_y": null,
            "overflow_x": null,
            "grid_auto_flow": null,
            "grid_area": null,
            "grid_template_columns": null,
            "flex": null,
            "_model_name": "LayoutModel",
            "justify_items": null,
            "grid_row": null,
            "max_height": null,
            "align_content": null,
            "visibility": null,
            "align_self": null,
            "height": null,
            "min_height": null,
            "padding": null,
            "grid_auto_rows": null,
            "grid_gap": null,
            "max_width": null,
            "order": null,
            "_view_module_version": "1.2.0",
            "grid_template_areas": null,
            "object_position": null,
            "object_fit": null,
            "grid_auto_columns": null,
            "margin": null,
            "display": null,
            "left": null
          }
        },
        "9c52b15ef6324f2085fcc48a46c9cf89": {
          "model_module": "@jupyter-widgets/controls",
          "model_name": "HBoxModel",
          "state": {
            "_view_name": "HBoxView",
            "_dom_classes": [],
            "_model_name": "HBoxModel",
            "_view_module": "@jupyter-widgets/controls",
            "_model_module_version": "1.5.0",
            "_view_count": null,
            "_view_module_version": "1.5.0",
            "box_style": "",
            "layout": "IPY_MODEL_e5f6fd2e2d9a4074876ec12c8c4ac9a3",
            "_model_module": "@jupyter-widgets/controls",
            "children": [
              "IPY_MODEL_7a15d4806c9b41dbb96b8b887b72fde5",
              "IPY_MODEL_65ab2d7058d244268d8c6b225a7a91e6"
            ]
          }
        },
        "e5f6fd2e2d9a4074876ec12c8c4ac9a3": {
          "model_module": "@jupyter-widgets/base",
          "model_name": "LayoutModel",
          "state": {
            "_view_name": "LayoutView",
            "grid_template_rows": null,
            "right": null,
            "justify_content": null,
            "_view_module": "@jupyter-widgets/base",
            "overflow": null,
            "_model_module_version": "1.2.0",
            "_view_count": null,
            "flex_flow": null,
            "width": null,
            "min_width": null,
            "border": null,
            "align_items": null,
            "bottom": null,
            "_model_module": "@jupyter-widgets/base",
            "top": null,
            "grid_column": null,
            "overflow_y": null,
            "overflow_x": null,
            "grid_auto_flow": null,
            "grid_area": null,
            "grid_template_columns": null,
            "flex": null,
            "_model_name": "LayoutModel",
            "justify_items": null,
            "grid_row": null,
            "max_height": null,
            "align_content": null,
            "visibility": null,
            "align_self": null,
            "height": null,
            "min_height": null,
            "padding": null,
            "grid_auto_rows": null,
            "grid_gap": null,
            "max_width": null,
            "order": null,
            "_view_module_version": "1.2.0",
            "grid_template_areas": null,
            "object_position": null,
            "object_fit": null,
            "grid_auto_columns": null,
            "margin": null,
            "display": null,
            "left": null
          }
        },
        "7a15d4806c9b41dbb96b8b887b72fde5": {
          "model_module": "@jupyter-widgets/controls",
          "model_name": "FloatProgressModel",
          "state": {
            "_view_name": "ProgressView",
            "style": "IPY_MODEL_30a9c8e8380f4c77a1aa7ac4c8831141",
            "_dom_classes": [],
            "description": "",
            "_model_name": "FloatProgressModel",
            "bar_style": "info",
            "max": 1,
            "_view_module": "@jupyter-widgets/controls",
            "_model_module_version": "1.5.0",
            "value": 1,
            "_view_count": null,
            "_view_module_version": "1.5.0",
            "orientation": "horizontal",
            "min": 0,
            "description_tooltip": null,
            "_model_module": "@jupyter-widgets/controls",
            "layout": "IPY_MODEL_70658405f84146278b772e2e45a4c203"
          }
        },
        "65ab2d7058d244268d8c6b225a7a91e6": {
          "model_module": "@jupyter-widgets/controls",
          "model_name": "HTMLModel",
          "state": {
            "_view_name": "HTMLView",
            "style": "IPY_MODEL_8cd5d8cb448541ed814498e36663444d",
            "_dom_classes": [],
            "description": "",
            "_model_name": "HTMLModel",
            "placeholder": "​",
            "_view_module": "@jupyter-widgets/controls",
            "_model_module_version": "1.5.0",
            "value": " 50000/0 [00:51&lt;00:00, 1059.54 examples/s]",
            "_view_count": null,
            "_view_module_version": "1.5.0",
            "description_tooltip": null,
            "_model_module": "@jupyter-widgets/controls",
            "layout": "IPY_MODEL_d7047d54dd0c4812aca003e003285802"
          }
        },
        "30a9c8e8380f4c77a1aa7ac4c8831141": {
          "model_module": "@jupyter-widgets/controls",
          "model_name": "ProgressStyleModel",
          "state": {
            "_view_name": "StyleView",
            "_model_name": "ProgressStyleModel",
            "description_width": "initial",
            "_view_module": "@jupyter-widgets/base",
            "_model_module_version": "1.5.0",
            "_view_count": null,
            "_view_module_version": "1.2.0",
            "bar_color": null,
            "_model_module": "@jupyter-widgets/controls"
          }
        },
        "70658405f84146278b772e2e45a4c203": {
          "model_module": "@jupyter-widgets/base",
          "model_name": "LayoutModel",
          "state": {
            "_view_name": "LayoutView",
            "grid_template_rows": null,
            "right": null,
            "justify_content": null,
            "_view_module": "@jupyter-widgets/base",
            "overflow": null,
            "_model_module_version": "1.2.0",
            "_view_count": null,
            "flex_flow": null,
            "width": null,
            "min_width": null,
            "border": null,
            "align_items": null,
            "bottom": null,
            "_model_module": "@jupyter-widgets/base",
            "top": null,
            "grid_column": null,
            "overflow_y": null,
            "overflow_x": null,
            "grid_auto_flow": null,
            "grid_area": null,
            "grid_template_columns": null,
            "flex": null,
            "_model_name": "LayoutModel",
            "justify_items": null,
            "grid_row": null,
            "max_height": null,
            "align_content": null,
            "visibility": null,
            "align_self": null,
            "height": null,
            "min_height": null,
            "padding": null,
            "grid_auto_rows": null,
            "grid_gap": null,
            "max_width": null,
            "order": null,
            "_view_module_version": "1.2.0",
            "grid_template_areas": null,
            "object_position": null,
            "object_fit": null,
            "grid_auto_columns": null,
            "margin": null,
            "display": null,
            "left": null
          }
        },
        "8cd5d8cb448541ed814498e36663444d": {
          "model_module": "@jupyter-widgets/controls",
          "model_name": "DescriptionStyleModel",
          "state": {
            "_view_name": "StyleView",
            "_model_name": "DescriptionStyleModel",
            "description_width": "",
            "_view_module": "@jupyter-widgets/base",
            "_model_module_version": "1.5.0",
            "_view_count": null,
            "_view_module_version": "1.2.0",
            "_model_module": "@jupyter-widgets/controls"
          }
        },
        "d7047d54dd0c4812aca003e003285802": {
          "model_module": "@jupyter-widgets/base",
          "model_name": "LayoutModel",
          "state": {
            "_view_name": "LayoutView",
            "grid_template_rows": null,
            "right": null,
            "justify_content": null,
            "_view_module": "@jupyter-widgets/base",
            "overflow": null,
            "_model_module_version": "1.2.0",
            "_view_count": null,
            "flex_flow": null,
            "width": null,
            "min_width": null,
            "border": null,
            "align_items": null,
            "bottom": null,
            "_model_module": "@jupyter-widgets/base",
            "top": null,
            "grid_column": null,
            "overflow_y": null,
            "overflow_x": null,
            "grid_auto_flow": null,
            "grid_area": null,
            "grid_template_columns": null,
            "flex": null,
            "_model_name": "LayoutModel",
            "justify_items": null,
            "grid_row": null,
            "max_height": null,
            "align_content": null,
            "visibility": null,
            "align_self": null,
            "height": null,
            "min_height": null,
            "padding": null,
            "grid_auto_rows": null,
            "grid_gap": null,
            "max_width": null,
            "order": null,
            "_view_module_version": "1.2.0",
            "grid_template_areas": null,
            "object_position": null,
            "object_fit": null,
            "grid_auto_columns": null,
            "margin": null,
            "display": null,
            "left": null
          }
        },
        "08b646e596d9493c9cea41ab2f3082e1": {
          "model_module": "@jupyter-widgets/controls",
          "model_name": "HBoxModel",
          "state": {
            "_view_name": "HBoxView",
            "_dom_classes": [],
            "_model_name": "HBoxModel",
            "_view_module": "@jupyter-widgets/controls",
            "_model_module_version": "1.5.0",
            "_view_count": null,
            "_view_module_version": "1.5.0",
            "box_style": "",
            "layout": "IPY_MODEL_12b34e285d5b40b2849b9e2c76b5a03d",
            "_model_module": "@jupyter-widgets/controls",
            "children": [
              "IPY_MODEL_bd7ac80927414c5e9aa6d03458394c5c",
              "IPY_MODEL_3b18cf7976cf437eaa297aa3d73aea98"
            ]
          }
        },
        "12b34e285d5b40b2849b9e2c76b5a03d": {
          "model_module": "@jupyter-widgets/base",
          "model_name": "LayoutModel",
          "state": {
            "_view_name": "LayoutView",
            "grid_template_rows": null,
            "right": null,
            "justify_content": null,
            "_view_module": "@jupyter-widgets/base",
            "overflow": null,
            "_model_module_version": "1.2.0",
            "_view_count": null,
            "flex_flow": null,
            "width": null,
            "min_width": null,
            "border": null,
            "align_items": null,
            "bottom": null,
            "_model_module": "@jupyter-widgets/base",
            "top": null,
            "grid_column": null,
            "overflow_y": null,
            "overflow_x": null,
            "grid_auto_flow": null,
            "grid_area": null,
            "grid_template_columns": null,
            "flex": null,
            "_model_name": "LayoutModel",
            "justify_items": null,
            "grid_row": null,
            "max_height": null,
            "align_content": null,
            "visibility": null,
            "align_self": null,
            "height": null,
            "min_height": null,
            "padding": null,
            "grid_auto_rows": null,
            "grid_gap": null,
            "max_width": null,
            "order": null,
            "_view_module_version": "1.2.0",
            "grid_template_areas": null,
            "object_position": null,
            "object_fit": null,
            "grid_auto_columns": null,
            "margin": null,
            "display": null,
            "left": null
          }
        },
        "bd7ac80927414c5e9aa6d03458394c5c": {
          "model_module": "@jupyter-widgets/controls",
          "model_name": "FloatProgressModel",
          "state": {
            "_view_name": "ProgressView",
            "style": "IPY_MODEL_905c48052acf444eb2eec0b803ccfeda",
            "_dom_classes": [],
            "description": " 92%",
            "_model_name": "FloatProgressModel",
            "bar_style": "danger",
            "max": 50000,
            "_view_module": "@jupyter-widgets/controls",
            "_model_module_version": "1.5.0",
            "value": 46007,
            "_view_count": null,
            "_view_module_version": "1.5.0",
            "orientation": "horizontal",
            "min": 0,
            "description_tooltip": null,
            "_model_module": "@jupyter-widgets/controls",
            "layout": "IPY_MODEL_e319b484635e4246a846fdaebdabbe39"
          }
        },
        "3b18cf7976cf437eaa297aa3d73aea98": {
          "model_module": "@jupyter-widgets/controls",
          "model_name": "HTMLModel",
          "state": {
            "_view_name": "HTMLView",
            "style": "IPY_MODEL_ad915c9e7ee24b7584bb4e87f508414d",
            "_dom_classes": [],
            "description": "",
            "_model_name": "HTMLModel",
            "placeholder": "​",
            "_view_module": "@jupyter-widgets/controls",
            "_model_module_version": "1.5.0",
            "value": " 46007/50000 [00:00&lt;00:00, 110480.42 examples/s]",
            "_view_count": null,
            "_view_module_version": "1.5.0",
            "description_tooltip": null,
            "_model_module": "@jupyter-widgets/controls",
            "layout": "IPY_MODEL_e7622e1a04024e8db60bf1f4ddd38347"
          }
        },
        "905c48052acf444eb2eec0b803ccfeda": {
          "model_module": "@jupyter-widgets/controls",
          "model_name": "ProgressStyleModel",
          "state": {
            "_view_name": "StyleView",
            "_model_name": "ProgressStyleModel",
            "description_width": "initial",
            "_view_module": "@jupyter-widgets/base",
            "_model_module_version": "1.5.0",
            "_view_count": null,
            "_view_module_version": "1.2.0",
            "bar_color": null,
            "_model_module": "@jupyter-widgets/controls"
          }
        },
        "e319b484635e4246a846fdaebdabbe39": {
          "model_module": "@jupyter-widgets/base",
          "model_name": "LayoutModel",
          "state": {
            "_view_name": "LayoutView",
            "grid_template_rows": null,
            "right": null,
            "justify_content": null,
            "_view_module": "@jupyter-widgets/base",
            "overflow": null,
            "_model_module_version": "1.2.0",
            "_view_count": null,
            "flex_flow": null,
            "width": null,
            "min_width": null,
            "border": null,
            "align_items": null,
            "bottom": null,
            "_model_module": "@jupyter-widgets/base",
            "top": null,
            "grid_column": null,
            "overflow_y": null,
            "overflow_x": null,
            "grid_auto_flow": null,
            "grid_area": null,
            "grid_template_columns": null,
            "flex": null,
            "_model_name": "LayoutModel",
            "justify_items": null,
            "grid_row": null,
            "max_height": null,
            "align_content": null,
            "visibility": null,
            "align_self": null,
            "height": null,
            "min_height": null,
            "padding": null,
            "grid_auto_rows": null,
            "grid_gap": null,
            "max_width": null,
            "order": null,
            "_view_module_version": "1.2.0",
            "grid_template_areas": null,
            "object_position": null,
            "object_fit": null,
            "grid_auto_columns": null,
            "margin": null,
            "display": null,
            "left": null
          }
        },
        "ad915c9e7ee24b7584bb4e87f508414d": {
          "model_module": "@jupyter-widgets/controls",
          "model_name": "DescriptionStyleModel",
          "state": {
            "_view_name": "StyleView",
            "_model_name": "DescriptionStyleModel",
            "description_width": "",
            "_view_module": "@jupyter-widgets/base",
            "_model_module_version": "1.5.0",
            "_view_count": null,
            "_view_module_version": "1.2.0",
            "_model_module": "@jupyter-widgets/controls"
          }
        },
        "e7622e1a04024e8db60bf1f4ddd38347": {
          "model_module": "@jupyter-widgets/base",
          "model_name": "LayoutModel",
          "state": {
            "_view_name": "LayoutView",
            "grid_template_rows": null,
            "right": null,
            "justify_content": null,
            "_view_module": "@jupyter-widgets/base",
            "overflow": null,
            "_model_module_version": "1.2.0",
            "_view_count": null,
            "flex_flow": null,
            "width": null,
            "min_width": null,
            "border": null,
            "align_items": null,
            "bottom": null,
            "_model_module": "@jupyter-widgets/base",
            "top": null,
            "grid_column": null,
            "overflow_y": null,
            "overflow_x": null,
            "grid_auto_flow": null,
            "grid_area": null,
            "grid_template_columns": null,
            "flex": null,
            "_model_name": "LayoutModel",
            "justify_items": null,
            "grid_row": null,
            "max_height": null,
            "align_content": null,
            "visibility": null,
            "align_self": null,
            "height": null,
            "min_height": null,
            "padding": null,
            "grid_auto_rows": null,
            "grid_gap": null,
            "max_width": null,
            "order": null,
            "_view_module_version": "1.2.0",
            "grid_template_areas": null,
            "object_position": null,
            "object_fit": null,
            "grid_auto_columns": null,
            "margin": null,
            "display": null,
            "left": null
          }
        }
      }
    }
  },
  "cells": [
    {
      "cell_type": "code",
      "metadata": {
        "id": "xeFbKOxeNwmS"
      },
      "source": [
        "#8.3 하이퍼파라미터를 이용한 성능 최적화\n",
        "#배치 정규화(Batch Normalization)"
      ],
      "execution_count": null,
      "outputs": []
    },
    {
      "cell_type": "code",
      "metadata": {
        "id": "fx-sbzmANwmY"
      },
      "source": [
        "import tensorflow as tf\n",
        "import pandas as pd\n",
        "import numpy as np\n",
        "import matplotlib.pyplot as plt\n",
        "from sklearn.datasets import load_iris\n",
        "from sklearn.model_selection import train_test_split\n",
        "iris = load_iris()"
      ],
      "execution_count": null,
      "outputs": []
    },
    {
      "cell_type": "code",
      "metadata": {
        "id": "Mvw0fzCkNwmY"
      },
      "source": [
        "df = pd.DataFrame(iris.data, columns=iris.feature_names)\n",
        "df = df.astype(float)\n",
        "df['label'] = iris.target\n",
        "df['label'] = df.label.replace(dict(enumerate(iris.target_names)))"
      ],
      "execution_count": null,
      "outputs": []
    },
    {
      "cell_type": "code",
      "metadata": {
        "colab": {
          "base_uri": "https://localhost:8080/"
        },
        "id": "lyZJEKFcNwmZ",
        "outputId": "f296c1db-2333-4e50-ab0d-cbae3c1ecf78"
      },
      "source": [
        "datalist = ['this','is','deep learning', 'book']\n",
        "b = list(enumerate(datalist))\n",
        "c = dict(enumerate(datalist))\n",
        "print(b)\n",
        "print(c)"
      ],
      "execution_count": null,
      "outputs": [
        {
          "output_type": "stream",
          "text": [
            "[(0, 'this'), (1, 'is'), (2, 'deep learning'), (3, 'book')]\n",
            "{0: 'this', 1: 'is', 2: 'deep learning', 3: 'book'}\n"
          ],
          "name": "stdout"
        }
      ]
    },
    {
      "cell_type": "code",
      "metadata": {
        "id": "2jqlA5cCNwma"
      },
      "source": [
        "label = pd.get_dummies(df['label'], prefix='label')\n",
        "df = pd.concat([df, label], axis=1)\n",
        "df.drop(['label'], axis=1, inplace=True)"
      ],
      "execution_count": null,
      "outputs": []
    },
    {
      "cell_type": "code",
      "metadata": {
        "id": "SPoX_ZDsNwma"
      },
      "source": [
        "X = df[['sepal length (cm)', 'sepal width (cm)', 'petal length (cm)', 'petal width (cm)']]\n",
        "X = np.asarray(X)\n",
        "y = df[['label_setosa', 'label_versicolor', 'label_virginica']]\n",
        "y = np.asarray(y)"
      ],
      "execution_count": null,
      "outputs": []
    },
    {
      "cell_type": "code",
      "metadata": {
        "id": "uoPZWD4cNwma"
      },
      "source": [
        "X_train, X_test, y_train, y_test = train_test_split(\n",
        "  X,\n",
        "  y,\n",
        "  test_size=0.20\n",
        ")"
      ],
      "execution_count": null,
      "outputs": []
    },
    {
      "cell_type": "code",
      "metadata": {
        "colab": {
          "base_uri": "https://localhost:8080/"
        },
        "id": "pZmI1A3INwma",
        "outputId": "2a54746f-1559-40e6-a77f-e4e0bcb49580"
      },
      "source": [
        "# 배치 정규화가 적용되지 않은 모델 생성\n",
        "from tensorflow.keras.models import Sequential\n",
        "from tensorflow.keras.layers import Dense, BatchNormalization\n",
        "\n",
        "model1 = Sequential([\n",
        "    Dense(64, input_shape=(4,), activation=\"relu\"),\n",
        "    Dense(128, activation='relu'),\n",
        "    Dense(128, activation='relu'),\n",
        "    Dense(64, activation='relu'),\n",
        "    Dense(64, activation='relu'),\n",
        "    Dense(3, activation='softmax')\n",
        "]);\n",
        "model1.summary()"
      ],
      "execution_count": null,
      "outputs": [
        {
          "output_type": "stream",
          "text": [
            "Model: \"sequential\"\n",
            "_________________________________________________________________\n",
            "Layer (type)                 Output Shape              Param #   \n",
            "=================================================================\n",
            "dense (Dense)                (None, 64)                320       \n",
            "_________________________________________________________________\n",
            "dense_1 (Dense)              (None, 128)               8320      \n",
            "_________________________________________________________________\n",
            "dense_2 (Dense)              (None, 128)               16512     \n",
            "_________________________________________________________________\n",
            "dense_3 (Dense)              (None, 64)                8256      \n",
            "_________________________________________________________________\n",
            "dense_4 (Dense)              (None, 64)                4160      \n",
            "_________________________________________________________________\n",
            "dense_5 (Dense)              (None, 3)                 195       \n",
            "=================================================================\n",
            "Total params: 37,763\n",
            "Trainable params: 37,763\n",
            "Non-trainable params: 0\n",
            "_________________________________________________________________\n"
          ],
          "name": "stdout"
        }
      ]
    },
    {
      "cell_type": "code",
      "metadata": {
        "colab": {
          "base_uri": "https://localhost:8080/"
        },
        "id": "QYGNATtNNwmb",
        "outputId": "3d464f00-c971-475b-91ab-634b2883f15a"
      },
      "source": [
        "model1.compile(\n",
        "    optimizer='adam', \n",
        "    loss='categorical_crossentropy', \n",
        "    metrics=['accuracy']\n",
        ")\n",
        "\n",
        "history1 = model1.fit(\n",
        "    X_train, \n",
        "    y_train, \n",
        "    epochs=1000, \n",
        "    validation_split=0.25, \n",
        "    batch_size=40, \n",
        "    verbose=2\n",
        ")"
      ],
      "execution_count": null,
      "outputs": [
        {
          "output_type": "stream",
          "text": [
            "Epoch 1/1000\n",
            "3/3 - 2s - loss: 1.0628 - accuracy: 0.3556 - val_loss: 0.9479 - val_accuracy: 0.5667\n",
            "Epoch 2/1000\n",
            "3/3 - 0s - loss: 0.9254 - accuracy: 0.4667 - val_loss: 0.8664 - val_accuracy: 0.6667\n",
            "Epoch 3/1000\n",
            "3/3 - 0s - loss: 0.8550 - accuracy: 0.6444 - val_loss: 0.7742 - val_accuracy: 0.6667\n",
            "Epoch 4/1000\n",
            "3/3 - 0s - loss: 0.7675 - accuracy: 0.6667 - val_loss: 0.6817 - val_accuracy: 0.7667\n",
            "Epoch 5/1000\n",
            "3/3 - 0s - loss: 0.6744 - accuracy: 0.8000 - val_loss: 0.5892 - val_accuracy: 0.9000\n",
            "Epoch 6/1000\n",
            "3/3 - 0s - loss: 0.5818 - accuracy: 0.9000 - val_loss: 0.4991 - val_accuracy: 0.9667\n",
            "Epoch 7/1000\n",
            "3/3 - 0s - loss: 0.4951 - accuracy: 0.9778 - val_loss: 0.4111 - val_accuracy: 0.9667\n",
            "Epoch 8/1000\n",
            "3/3 - 0s - loss: 0.4073 - accuracy: 0.9778 - val_loss: 0.3329 - val_accuracy: 0.9667\n",
            "Epoch 9/1000\n",
            "3/3 - 0s - loss: 0.3347 - accuracy: 0.9778 - val_loss: 0.2789 - val_accuracy: 0.9667\n",
            "Epoch 10/1000\n",
            "3/3 - 0s - loss: 0.2782 - accuracy: 0.9889 - val_loss: 0.2269 - val_accuracy: 0.9667\n",
            "Epoch 11/1000\n",
            "3/3 - 0s - loss: 0.2315 - accuracy: 0.9667 - val_loss: 0.1866 - val_accuracy: 0.9667\n",
            "Epoch 12/1000\n",
            "3/3 - 0s - loss: 0.1877 - accuracy: 0.9889 - val_loss: 0.1997 - val_accuracy: 0.9000\n",
            "Epoch 13/1000\n",
            "3/3 - 0s - loss: 0.2393 - accuracy: 0.9111 - val_loss: 0.1585 - val_accuracy: 0.9667\n",
            "Epoch 14/1000\n",
            "3/3 - 0s - loss: 0.2203 - accuracy: 0.8889 - val_loss: 0.1530 - val_accuracy: 0.9667\n",
            "Epoch 15/1000\n",
            "3/3 - 0s - loss: 0.1557 - accuracy: 0.9444 - val_loss: 0.1571 - val_accuracy: 0.9333\n",
            "Epoch 16/1000\n",
            "3/3 - 0s - loss: 0.1451 - accuracy: 0.9444 - val_loss: 0.1031 - val_accuracy: 0.9667\n",
            "Epoch 17/1000\n",
            "3/3 - 0s - loss: 0.1061 - accuracy: 0.9889 - val_loss: 0.1016 - val_accuracy: 0.9667\n",
            "Epoch 18/1000\n",
            "3/3 - 0s - loss: 0.1062 - accuracy: 0.9667 - val_loss: 0.0889 - val_accuracy: 0.9667\n",
            "Epoch 19/1000\n",
            "3/3 - 0s - loss: 0.1284 - accuracy: 0.9667 - val_loss: 0.0858 - val_accuracy: 0.9667\n",
            "Epoch 20/1000\n",
            "3/3 - 0s - loss: 0.1154 - accuracy: 0.9556 - val_loss: 0.1940 - val_accuracy: 0.9000\n",
            "Epoch 21/1000\n",
            "3/3 - 0s - loss: 0.1539 - accuracy: 0.9222 - val_loss: 0.0988 - val_accuracy: 0.9667\n",
            "Epoch 22/1000\n",
            "3/3 - 0s - loss: 0.1324 - accuracy: 0.9556 - val_loss: 0.0968 - val_accuracy: 0.9667\n",
            "Epoch 23/1000\n",
            "3/3 - 0s - loss: 0.0958 - accuracy: 0.9778 - val_loss: 0.1689 - val_accuracy: 0.9000\n",
            "Epoch 24/1000\n",
            "3/3 - 0s - loss: 0.1534 - accuracy: 0.9222 - val_loss: 0.0757 - val_accuracy: 0.9667\n",
            "Epoch 25/1000\n",
            "3/3 - 0s - loss: 0.0759 - accuracy: 0.9778 - val_loss: 0.1050 - val_accuracy: 0.9667\n",
            "Epoch 26/1000\n",
            "3/3 - 0s - loss: 0.0955 - accuracy: 0.9667 - val_loss: 0.0720 - val_accuracy: 0.9667\n",
            "Epoch 27/1000\n",
            "3/3 - 0s - loss: 0.0727 - accuracy: 0.9889 - val_loss: 0.0816 - val_accuracy: 0.9667\n",
            "Epoch 28/1000\n",
            "3/3 - 0s - loss: 0.0717 - accuracy: 0.9778 - val_loss: 0.0784 - val_accuracy: 0.9667\n",
            "Epoch 29/1000\n",
            "3/3 - 0s - loss: 0.0766 - accuracy: 0.9778 - val_loss: 0.0762 - val_accuracy: 0.9667\n",
            "Epoch 30/1000\n",
            "3/3 - 0s - loss: 0.0632 - accuracy: 0.9889 - val_loss: 0.0749 - val_accuracy: 0.9667\n",
            "Epoch 31/1000\n",
            "3/3 - 0s - loss: 0.0815 - accuracy: 0.9556 - val_loss: 0.0655 - val_accuracy: 0.9667\n",
            "Epoch 32/1000\n",
            "3/3 - 0s - loss: 0.0867 - accuracy: 0.9667 - val_loss: 0.1247 - val_accuracy: 0.9667\n",
            "Epoch 33/1000\n",
            "3/3 - 0s - loss: 0.0937 - accuracy: 0.9556 - val_loss: 0.0639 - val_accuracy: 0.9667\n",
            "Epoch 34/1000\n",
            "3/3 - 0s - loss: 0.0713 - accuracy: 0.9778 - val_loss: 0.0654 - val_accuracy: 0.9667\n",
            "Epoch 35/1000\n",
            "3/3 - 0s - loss: 0.0533 - accuracy: 0.9778 - val_loss: 0.0842 - val_accuracy: 0.9667\n",
            "Epoch 36/1000\n",
            "3/3 - 0s - loss: 0.0953 - accuracy: 0.9556 - val_loss: 0.0645 - val_accuracy: 0.9667\n",
            "Epoch 37/1000\n",
            "3/3 - 0s - loss: 0.0863 - accuracy: 0.9556 - val_loss: 0.0578 - val_accuracy: 0.9667\n",
            "Epoch 38/1000\n",
            "3/3 - 0s - loss: 0.0892 - accuracy: 0.9667 - val_loss: 0.1314 - val_accuracy: 0.9667\n",
            "Epoch 39/1000\n",
            "3/3 - 0s - loss: 0.0981 - accuracy: 0.9444 - val_loss: 0.0595 - val_accuracy: 1.0000\n",
            "Epoch 40/1000\n",
            "3/3 - 0s - loss: 0.1179 - accuracy: 0.9556 - val_loss: 0.1387 - val_accuracy: 0.9333\n",
            "Epoch 41/1000\n",
            "3/3 - 0s - loss: 0.1161 - accuracy: 0.9222 - val_loss: 0.0758 - val_accuracy: 0.9667\n",
            "Epoch 42/1000\n",
            "3/3 - 0s - loss: 0.0730 - accuracy: 0.9667 - val_loss: 0.1019 - val_accuracy: 0.9667\n",
            "Epoch 43/1000\n",
            "3/3 - 0s - loss: 0.0728 - accuracy: 0.9667 - val_loss: 0.0551 - val_accuracy: 0.9667\n",
            "Epoch 44/1000\n",
            "3/3 - 0s - loss: 0.0692 - accuracy: 0.9778 - val_loss: 0.0549 - val_accuracy: 0.9667\n",
            "Epoch 45/1000\n",
            "3/3 - 0s - loss: 0.0520 - accuracy: 0.9778 - val_loss: 0.1112 - val_accuracy: 0.9667\n",
            "Epoch 46/1000\n",
            "3/3 - 0s - loss: 0.0785 - accuracy: 0.9667 - val_loss: 0.0560 - val_accuracy: 0.9667\n",
            "Epoch 47/1000\n",
            "3/3 - 0s - loss: 0.0641 - accuracy: 0.9667 - val_loss: 0.0647 - val_accuracy: 0.9667\n",
            "Epoch 48/1000\n",
            "3/3 - 0s - loss: 0.0454 - accuracy: 0.9889 - val_loss: 0.0761 - val_accuracy: 0.9667\n",
            "Epoch 49/1000\n",
            "3/3 - 0s - loss: 0.0682 - accuracy: 0.9778 - val_loss: 0.0933 - val_accuracy: 0.9667\n",
            "Epoch 50/1000\n",
            "3/3 - 0s - loss: 0.0527 - accuracy: 0.9778 - val_loss: 0.0547 - val_accuracy: 1.0000\n",
            "Epoch 51/1000\n",
            "3/3 - 0s - loss: 0.0494 - accuracy: 0.9889 - val_loss: 0.0522 - val_accuracy: 0.9667\n",
            "Epoch 52/1000\n",
            "3/3 - 0s - loss: 0.0391 - accuracy: 1.0000 - val_loss: 0.0673 - val_accuracy: 0.9667\n",
            "Epoch 53/1000\n",
            "3/3 - 0s - loss: 0.0542 - accuracy: 0.9778 - val_loss: 0.0518 - val_accuracy: 0.9667\n",
            "Epoch 54/1000\n",
            "3/3 - 0s - loss: 0.0408 - accuracy: 0.9889 - val_loss: 0.1508 - val_accuracy: 0.9333\n",
            "Epoch 55/1000\n",
            "3/3 - 0s - loss: 0.1453 - accuracy: 0.9222 - val_loss: 0.0530 - val_accuracy: 0.9667\n",
            "Epoch 56/1000\n",
            "3/3 - 0s - loss: 0.0376 - accuracy: 0.9889 - val_loss: 0.1585 - val_accuracy: 0.9667\n",
            "Epoch 57/1000\n",
            "3/3 - 0s - loss: 0.1198 - accuracy: 0.9333 - val_loss: 0.0768 - val_accuracy: 0.9667\n",
            "Epoch 58/1000\n",
            "3/3 - 0s - loss: 0.0420 - accuracy: 0.9889 - val_loss: 0.0519 - val_accuracy: 1.0000\n",
            "Epoch 59/1000\n",
            "3/3 - 0s - loss: 0.0489 - accuracy: 0.9889 - val_loss: 0.0526 - val_accuracy: 0.9667\n",
            "Epoch 60/1000\n",
            "3/3 - 0s - loss: 0.0394 - accuracy: 0.9889 - val_loss: 0.0825 - val_accuracy: 0.9667\n",
            "Epoch 61/1000\n",
            "3/3 - 0s - loss: 0.0395 - accuracy: 0.9778 - val_loss: 0.0491 - val_accuracy: 0.9667\n",
            "Epoch 62/1000\n",
            "3/3 - 0s - loss: 0.0380 - accuracy: 1.0000 - val_loss: 0.0569 - val_accuracy: 0.9667\n",
            "Epoch 63/1000\n",
            "3/3 - 0s - loss: 0.0517 - accuracy: 0.9889 - val_loss: 0.0521 - val_accuracy: 0.9667\n",
            "Epoch 64/1000\n",
            "3/3 - 0s - loss: 0.0302 - accuracy: 1.0000 - val_loss: 0.0725 - val_accuracy: 0.9667\n",
            "Epoch 65/1000\n",
            "3/3 - 0s - loss: 0.0384 - accuracy: 0.9778 - val_loss: 0.0633 - val_accuracy: 0.9667\n",
            "Epoch 66/1000\n",
            "3/3 - 0s - loss: 0.0322 - accuracy: 0.9889 - val_loss: 0.0499 - val_accuracy: 0.9667\n",
            "Epoch 67/1000\n",
            "3/3 - 0s - loss: 0.0340 - accuracy: 1.0000 - val_loss: 0.0467 - val_accuracy: 1.0000\n",
            "Epoch 68/1000\n",
            "3/3 - 0s - loss: 0.0360 - accuracy: 0.9889 - val_loss: 0.0676 - val_accuracy: 0.9667\n",
            "Epoch 69/1000\n",
            "3/3 - 0s - loss: 0.0365 - accuracy: 0.9778 - val_loss: 0.0816 - val_accuracy: 0.9667\n",
            "Epoch 70/1000\n",
            "3/3 - 0s - loss: 0.0367 - accuracy: 0.9778 - val_loss: 0.0537 - val_accuracy: 0.9667\n",
            "Epoch 71/1000\n",
            "3/3 - 0s - loss: 0.0258 - accuracy: 1.0000 - val_loss: 0.0464 - val_accuracy: 0.9667\n",
            "Epoch 72/1000\n",
            "3/3 - 0s - loss: 0.0313 - accuracy: 1.0000 - val_loss: 0.0506 - val_accuracy: 0.9667\n",
            "Epoch 73/1000\n",
            "3/3 - 0s - loss: 0.0286 - accuracy: 0.9778 - val_loss: 0.0641 - val_accuracy: 0.9667\n",
            "Epoch 74/1000\n",
            "3/3 - 0s - loss: 0.0251 - accuracy: 1.0000 - val_loss: 0.0458 - val_accuracy: 0.9667\n",
            "Epoch 75/1000\n",
            "3/3 - 0s - loss: 0.0275 - accuracy: 1.0000 - val_loss: 0.0488 - val_accuracy: 0.9667\n",
            "Epoch 76/1000\n",
            "3/3 - 0s - loss: 0.0258 - accuracy: 0.9889 - val_loss: 0.0698 - val_accuracy: 0.9667\n",
            "Epoch 77/1000\n",
            "3/3 - 0s - loss: 0.0303 - accuracy: 0.9889 - val_loss: 0.0629 - val_accuracy: 0.9667\n",
            "Epoch 78/1000\n",
            "3/3 - 0s - loss: 0.0244 - accuracy: 0.9889 - val_loss: 0.0729 - val_accuracy: 0.9667\n",
            "Epoch 79/1000\n",
            "3/3 - 0s - loss: 0.0278 - accuracy: 0.9889 - val_loss: 0.0586 - val_accuracy: 0.9667\n",
            "Epoch 80/1000\n",
            "3/3 - 0s - loss: 0.0239 - accuracy: 1.0000 - val_loss: 0.0423 - val_accuracy: 0.9667\n",
            "Epoch 81/1000\n",
            "3/3 - 0s - loss: 0.0254 - accuracy: 1.0000 - val_loss: 0.0471 - val_accuracy: 0.9667\n",
            "Epoch 82/1000\n",
            "3/3 - 0s - loss: 0.0231 - accuracy: 1.0000 - val_loss: 0.0786 - val_accuracy: 0.9667\n",
            "Epoch 83/1000\n",
            "3/3 - 0s - loss: 0.0296 - accuracy: 0.9778 - val_loss: 0.0619 - val_accuracy: 0.9667\n",
            "Epoch 84/1000\n",
            "3/3 - 0s - loss: 0.0228 - accuracy: 0.9889 - val_loss: 0.0453 - val_accuracy: 0.9667\n",
            "Epoch 85/1000\n",
            "3/3 - 0s - loss: 0.0317 - accuracy: 0.9889 - val_loss: 0.0513 - val_accuracy: 0.9667\n",
            "Epoch 86/1000\n",
            "3/3 - 0s - loss: 0.0360 - accuracy: 0.9778 - val_loss: 0.1331 - val_accuracy: 0.9667\n",
            "Epoch 87/1000\n",
            "3/3 - 0s - loss: 0.0587 - accuracy: 0.9778 - val_loss: 0.0556 - val_accuracy: 0.9667\n",
            "Epoch 88/1000\n",
            "3/3 - 0s - loss: 0.0247 - accuracy: 1.0000 - val_loss: 0.0538 - val_accuracy: 0.9667\n",
            "Epoch 89/1000\n",
            "3/3 - 0s - loss: 0.0308 - accuracy: 0.9778 - val_loss: 0.1168 - val_accuracy: 0.9667\n",
            "Epoch 90/1000\n",
            "3/3 - 0s - loss: 0.0481 - accuracy: 0.9778 - val_loss: 0.0450 - val_accuracy: 0.9667\n",
            "Epoch 91/1000\n",
            "3/3 - 0s - loss: 0.0445 - accuracy: 0.9667 - val_loss: 0.0851 - val_accuracy: 0.9667\n",
            "Epoch 92/1000\n",
            "3/3 - 0s - loss: 0.0893 - accuracy: 0.9333 - val_loss: 0.1053 - val_accuracy: 0.9667\n",
            "Epoch 93/1000\n",
            "3/3 - 0s - loss: 0.0703 - accuracy: 0.9778 - val_loss: 0.1093 - val_accuracy: 0.9667\n",
            "Epoch 94/1000\n",
            "3/3 - 0s - loss: 0.0352 - accuracy: 0.9778 - val_loss: 0.0434 - val_accuracy: 1.0000\n",
            "Epoch 95/1000\n",
            "3/3 - 0s - loss: 0.0376 - accuracy: 0.9778 - val_loss: 0.0790 - val_accuracy: 0.9667\n",
            "Epoch 96/1000\n",
            "3/3 - 0s - loss: 0.0339 - accuracy: 0.9778 - val_loss: 0.1004 - val_accuracy: 0.9667\n",
            "Epoch 97/1000\n",
            "3/3 - 0s - loss: 0.0162 - accuracy: 1.0000 - val_loss: 0.0362 - val_accuracy: 1.0000\n",
            "Epoch 98/1000\n",
            "3/3 - 0s - loss: 0.0395 - accuracy: 0.9778 - val_loss: 0.0362 - val_accuracy: 1.0000\n",
            "Epoch 99/1000\n",
            "3/3 - 0s - loss: 0.0327 - accuracy: 0.9889 - val_loss: 0.0799 - val_accuracy: 0.9667\n",
            "Epoch 100/1000\n",
            "3/3 - 0s - loss: 0.0232 - accuracy: 0.9778 - val_loss: 0.1485 - val_accuracy: 0.9667\n",
            "Epoch 101/1000\n",
            "3/3 - 0s - loss: 0.0651 - accuracy: 0.9778 - val_loss: 0.0752 - val_accuracy: 0.9667\n",
            "Epoch 102/1000\n",
            "3/3 - 0s - loss: 0.0219 - accuracy: 1.0000 - val_loss: 0.0373 - val_accuracy: 1.0000\n",
            "Epoch 103/1000\n",
            "3/3 - 0s - loss: 0.0528 - accuracy: 0.9667 - val_loss: 0.0549 - val_accuracy: 0.9667\n",
            "Epoch 104/1000\n",
            "3/3 - 0s - loss: 0.0227 - accuracy: 0.9778 - val_loss: 0.1068 - val_accuracy: 0.9667\n",
            "Epoch 105/1000\n",
            "3/3 - 0s - loss: 0.0328 - accuracy: 0.9778 - val_loss: 0.0681 - val_accuracy: 0.9667\n",
            "Epoch 106/1000\n",
            "3/3 - 0s - loss: 0.0163 - accuracy: 1.0000 - val_loss: 0.0409 - val_accuracy: 0.9667\n",
            "Epoch 107/1000\n",
            "3/3 - 0s - loss: 0.0196 - accuracy: 1.0000 - val_loss: 0.0449 - val_accuracy: 0.9667\n",
            "Epoch 108/1000\n",
            "3/3 - 0s - loss: 0.0174 - accuracy: 1.0000 - val_loss: 0.0477 - val_accuracy: 0.9667\n",
            "Epoch 109/1000\n",
            "3/3 - 0s - loss: 0.0163 - accuracy: 1.0000 - val_loss: 0.0506 - val_accuracy: 0.9667\n",
            "Epoch 110/1000\n",
            "3/3 - 0s - loss: 0.0167 - accuracy: 1.0000 - val_loss: 0.0656 - val_accuracy: 0.9667\n",
            "Epoch 111/1000\n",
            "3/3 - 0s - loss: 0.0170 - accuracy: 1.0000 - val_loss: 0.0980 - val_accuracy: 0.9667\n",
            "Epoch 112/1000\n",
            "3/3 - 0s - loss: 0.0230 - accuracy: 0.9778 - val_loss: 0.0654 - val_accuracy: 0.9667\n",
            "Epoch 113/1000\n",
            "3/3 - 0s - loss: 0.0129 - accuracy: 1.0000 - val_loss: 0.0397 - val_accuracy: 0.9667\n",
            "Epoch 114/1000\n",
            "3/3 - 0s - loss: 0.0196 - accuracy: 1.0000 - val_loss: 0.0477 - val_accuracy: 0.9667\n",
            "Epoch 115/1000\n",
            "3/3 - 0s - loss: 0.0136 - accuracy: 1.0000 - val_loss: 0.0724 - val_accuracy: 0.9667\n",
            "Epoch 116/1000\n",
            "3/3 - 0s - loss: 0.0175 - accuracy: 1.0000 - val_loss: 0.0745 - val_accuracy: 0.9667\n",
            "Epoch 117/1000\n",
            "3/3 - 0s - loss: 0.0147 - accuracy: 1.0000 - val_loss: 0.0521 - val_accuracy: 0.9667\n",
            "Epoch 118/1000\n",
            "3/3 - 0s - loss: 0.0132 - accuracy: 1.0000 - val_loss: 0.0435 - val_accuracy: 0.9667\n",
            "Epoch 119/1000\n",
            "3/3 - 0s - loss: 0.0151 - accuracy: 1.0000 - val_loss: 0.0584 - val_accuracy: 0.9667\n",
            "Epoch 120/1000\n",
            "3/3 - 0s - loss: 0.0115 - accuracy: 1.0000 - val_loss: 0.0827 - val_accuracy: 0.9667\n",
            "Epoch 121/1000\n",
            "3/3 - 0s - loss: 0.0155 - accuracy: 1.0000 - val_loss: 0.0757 - val_accuracy: 0.9667\n",
            "Epoch 122/1000\n",
            "3/3 - 0s - loss: 0.0149 - accuracy: 1.0000 - val_loss: 0.0723 - val_accuracy: 0.9667\n",
            "Epoch 123/1000\n",
            "3/3 - 0s - loss: 0.0141 - accuracy: 1.0000 - val_loss: 0.0978 - val_accuracy: 0.9667\n",
            "Epoch 124/1000\n",
            "3/3 - 0s - loss: 0.0202 - accuracy: 0.9889 - val_loss: 0.0653 - val_accuracy: 0.9667\n",
            "Epoch 125/1000\n",
            "3/3 - 0s - loss: 0.0110 - accuracy: 1.0000 - val_loss: 0.0375 - val_accuracy: 0.9667\n",
            "Epoch 126/1000\n",
            "3/3 - 0s - loss: 0.0226 - accuracy: 1.0000 - val_loss: 0.0758 - val_accuracy: 0.9667\n",
            "Epoch 127/1000\n",
            "3/3 - 0s - loss: 0.0116 - accuracy: 1.0000 - val_loss: 0.1839 - val_accuracy: 0.9667\n",
            "Epoch 128/1000\n",
            "3/3 - 0s - loss: 0.0718 - accuracy: 0.9778 - val_loss: 0.0858 - val_accuracy: 0.9667\n",
            "Epoch 129/1000\n",
            "3/3 - 0s - loss: 0.0144 - accuracy: 1.0000 - val_loss: 0.0266 - val_accuracy: 1.0000\n",
            "Epoch 130/1000\n",
            "3/3 - 0s - loss: 0.0351 - accuracy: 0.9778 - val_loss: 0.0707 - val_accuracy: 0.9667\n",
            "Epoch 131/1000\n",
            "3/3 - 0s - loss: 0.0264 - accuracy: 0.9778 - val_loss: 0.1303 - val_accuracy: 0.9667\n",
            "Epoch 132/1000\n",
            "3/3 - 0s - loss: 0.0251 - accuracy: 0.9889 - val_loss: 0.0484 - val_accuracy: 0.9667\n",
            "Epoch 133/1000\n",
            "3/3 - 0s - loss: 0.0112 - accuracy: 1.0000 - val_loss: 0.0406 - val_accuracy: 0.9667\n",
            "Epoch 134/1000\n",
            "3/3 - 0s - loss: 0.0614 - accuracy: 0.9667 - val_loss: 0.1153 - val_accuracy: 0.9667\n",
            "Epoch 135/1000\n",
            "3/3 - 0s - loss: 0.0761 - accuracy: 0.9778 - val_loss: 0.1087 - val_accuracy: 0.9667\n",
            "Epoch 136/1000\n",
            "3/3 - 0s - loss: 0.0218 - accuracy: 0.9889 - val_loss: 0.1563 - val_accuracy: 0.9333\n",
            "Epoch 137/1000\n",
            "3/3 - 0s - loss: 0.2225 - accuracy: 0.9333 - val_loss: 0.1596 - val_accuracy: 0.9667\n",
            "Epoch 138/1000\n",
            "3/3 - 0s - loss: 0.0692 - accuracy: 0.9556 - val_loss: 0.1915 - val_accuracy: 0.9667\n",
            "Epoch 139/1000\n",
            "3/3 - 0s - loss: 0.0623 - accuracy: 0.9778 - val_loss: 0.0328 - val_accuracy: 0.9667\n",
            "Epoch 140/1000\n",
            "3/3 - 0s - loss: 0.0625 - accuracy: 0.9667 - val_loss: 0.0383 - val_accuracy: 0.9667\n",
            "Epoch 141/1000\n",
            "3/3 - 0s - loss: 0.0131 - accuracy: 1.0000 - val_loss: 0.1633 - val_accuracy: 0.9667\n",
            "Epoch 142/1000\n",
            "3/3 - 0s - loss: 0.0750 - accuracy: 0.9778 - val_loss: 0.1212 - val_accuracy: 0.9667\n",
            "Epoch 143/1000\n",
            "3/3 - 0s - loss: 0.0227 - accuracy: 0.9889 - val_loss: 0.0303 - val_accuracy: 0.9667\n",
            "Epoch 144/1000\n",
            "3/3 - 0s - loss: 0.0207 - accuracy: 1.0000 - val_loss: 0.0292 - val_accuracy: 0.9667\n",
            "Epoch 145/1000\n",
            "3/3 - 0s - loss: 0.0163 - accuracy: 1.0000 - val_loss: 0.0696 - val_accuracy: 0.9667\n",
            "Epoch 146/1000\n",
            "3/3 - 0s - loss: 0.0145 - accuracy: 0.9889 - val_loss: 0.0716 - val_accuracy: 0.9667\n",
            "Epoch 147/1000\n",
            "3/3 - 0s - loss: 0.0102 - accuracy: 1.0000 - val_loss: 0.0250 - val_accuracy: 1.0000\n",
            "Epoch 148/1000\n",
            "3/3 - 0s - loss: 0.0257 - accuracy: 1.0000 - val_loss: 0.0350 - val_accuracy: 0.9667\n",
            "Epoch 149/1000\n",
            "3/3 - 0s - loss: 0.0105 - accuracy: 1.0000 - val_loss: 0.0738 - val_accuracy: 0.9667\n",
            "Epoch 150/1000\n",
            "3/3 - 0s - loss: 0.0140 - accuracy: 1.0000 - val_loss: 0.1164 - val_accuracy: 0.9667\n",
            "Epoch 151/1000\n",
            "3/3 - 0s - loss: 0.0280 - accuracy: 0.9778 - val_loss: 0.0611 - val_accuracy: 0.9667\n",
            "Epoch 152/1000\n",
            "3/3 - 0s - loss: 0.0243 - accuracy: 0.9889 - val_loss: 0.0319 - val_accuracy: 0.9667\n",
            "Epoch 153/1000\n",
            "3/3 - 0s - loss: 0.0108 - accuracy: 1.0000 - val_loss: 0.1023 - val_accuracy: 0.9667\n",
            "Epoch 154/1000\n",
            "3/3 - 0s - loss: 0.0152 - accuracy: 0.9889 - val_loss: 0.0583 - val_accuracy: 0.9667\n",
            "Epoch 155/1000\n",
            "3/3 - 0s - loss: 0.0129 - accuracy: 1.0000 - val_loss: 0.0236 - val_accuracy: 1.0000\n",
            "Epoch 156/1000\n",
            "3/3 - 0s - loss: 0.0242 - accuracy: 1.0000 - val_loss: 0.0633 - val_accuracy: 0.9667\n",
            "Epoch 157/1000\n",
            "3/3 - 0s - loss: 0.0118 - accuracy: 1.0000 - val_loss: 0.1095 - val_accuracy: 0.9667\n",
            "Epoch 158/1000\n",
            "3/3 - 0s - loss: 0.0263 - accuracy: 0.9778 - val_loss: 0.0390 - val_accuracy: 0.9667\n",
            "Epoch 159/1000\n",
            "3/3 - 0s - loss: 0.0173 - accuracy: 1.0000 - val_loss: 0.1700 - val_accuracy: 0.9333\n",
            "Epoch 160/1000\n",
            "3/3 - 0s - loss: 0.2335 - accuracy: 0.9333 - val_loss: 0.1059 - val_accuracy: 0.9667\n",
            "Epoch 161/1000\n",
            "3/3 - 0s - loss: 0.0622 - accuracy: 0.9778 - val_loss: 0.2181 - val_accuracy: 0.9667\n",
            "Epoch 162/1000\n",
            "3/3 - 0s - loss: 0.1206 - accuracy: 0.9667 - val_loss: 0.1177 - val_accuracy: 0.9667\n",
            "Epoch 163/1000\n",
            "3/3 - 0s - loss: 0.0094 - accuracy: 1.0000 - val_loss: 0.0206 - val_accuracy: 1.0000\n",
            "Epoch 164/1000\n",
            "3/3 - 0s - loss: 0.0350 - accuracy: 0.9778 - val_loss: 0.0284 - val_accuracy: 0.9667\n",
            "Epoch 165/1000\n",
            "3/3 - 0s - loss: 0.0122 - accuracy: 1.0000 - val_loss: 0.1001 - val_accuracy: 0.9667\n",
            "Epoch 166/1000\n",
            "3/3 - 0s - loss: 0.0288 - accuracy: 0.9778 - val_loss: 0.0943 - val_accuracy: 0.9667\n",
            "Epoch 167/1000\n",
            "3/3 - 0s - loss: 0.0135 - accuracy: 1.0000 - val_loss: 0.0211 - val_accuracy: 1.0000\n",
            "Epoch 168/1000\n",
            "3/3 - 0s - loss: 0.0321 - accuracy: 0.9778 - val_loss: 0.0538 - val_accuracy: 0.9667\n",
            "Epoch 169/1000\n",
            "3/3 - 0s - loss: 0.0134 - accuracy: 1.0000 - val_loss: 0.1332 - val_accuracy: 0.9667\n",
            "Epoch 170/1000\n",
            "3/3 - 0s - loss: 0.0393 - accuracy: 0.9778 - val_loss: 0.0939 - val_accuracy: 0.9667\n",
            "Epoch 171/1000\n",
            "3/3 - 0s - loss: 0.0204 - accuracy: 1.0000 - val_loss: 0.0220 - val_accuracy: 1.0000\n",
            "Epoch 172/1000\n",
            "3/3 - 0s - loss: 0.0205 - accuracy: 1.0000 - val_loss: 0.0776 - val_accuracy: 0.9667\n",
            "Epoch 173/1000\n",
            "3/3 - 0s - loss: 0.0085 - accuracy: 1.0000 - val_loss: 0.1283 - val_accuracy: 0.9667\n",
            "Epoch 174/1000\n",
            "3/3 - 0s - loss: 0.0261 - accuracy: 0.9778 - val_loss: 0.1061 - val_accuracy: 0.9667\n",
            "Epoch 175/1000\n",
            "3/3 - 0s - loss: 0.0121 - accuracy: 1.0000 - val_loss: 0.0579 - val_accuracy: 0.9667\n",
            "Epoch 176/1000\n",
            "3/3 - 0s - loss: 0.0080 - accuracy: 1.0000 - val_loss: 0.0338 - val_accuracy: 0.9667\n",
            "Epoch 177/1000\n",
            "3/3 - 0s - loss: 0.0155 - accuracy: 1.0000 - val_loss: 0.0550 - val_accuracy: 0.9667\n",
            "Epoch 178/1000\n",
            "3/3 - 0s - loss: 0.0054 - accuracy: 1.0000 - val_loss: 0.1112 - val_accuracy: 0.9667\n",
            "Epoch 179/1000\n",
            "3/3 - 0s - loss: 0.0232 - accuracy: 0.9778 - val_loss: 0.1115 - val_accuracy: 0.9667\n",
            "Epoch 180/1000\n",
            "3/3 - 0s - loss: 0.0134 - accuracy: 0.9889 - val_loss: 0.0532 - val_accuracy: 0.9667\n",
            "Epoch 181/1000\n",
            "3/3 - 0s - loss: 0.0112 - accuracy: 1.0000 - val_loss: 0.0329 - val_accuracy: 0.9667\n",
            "Epoch 182/1000\n",
            "3/3 - 0s - loss: 0.0115 - accuracy: 1.0000 - val_loss: 0.0590 - val_accuracy: 0.9667\n",
            "Epoch 183/1000\n",
            "3/3 - 0s - loss: 0.0070 - accuracy: 1.0000 - val_loss: 0.0877 - val_accuracy: 0.9667\n",
            "Epoch 184/1000\n",
            "3/3 - 0s - loss: 0.0088 - accuracy: 1.0000 - val_loss: 0.0891 - val_accuracy: 0.9667\n",
            "Epoch 185/1000\n",
            "3/3 - 0s - loss: 0.0087 - accuracy: 1.0000 - val_loss: 0.0718 - val_accuracy: 0.9667\n",
            "Epoch 186/1000\n",
            "3/3 - 0s - loss: 0.0068 - accuracy: 1.0000 - val_loss: 0.0593 - val_accuracy: 0.9667\n",
            "Epoch 187/1000\n",
            "3/3 - 0s - loss: 0.0065 - accuracy: 1.0000 - val_loss: 0.0658 - val_accuracy: 0.9667\n",
            "Epoch 188/1000\n",
            "3/3 - 0s - loss: 0.0072 - accuracy: 1.0000 - val_loss: 0.0803 - val_accuracy: 0.9667\n",
            "Epoch 189/1000\n",
            "3/3 - 0s - loss: 0.0071 - accuracy: 1.0000 - val_loss: 0.0743 - val_accuracy: 0.9667\n",
            "Epoch 190/1000\n",
            "3/3 - 0s - loss: 0.0066 - accuracy: 1.0000 - val_loss: 0.0603 - val_accuracy: 0.9667\n",
            "Epoch 191/1000\n",
            "3/3 - 0s - loss: 0.0068 - accuracy: 1.0000 - val_loss: 0.0537 - val_accuracy: 0.9667\n",
            "Epoch 192/1000\n",
            "3/3 - 0s - loss: 0.0063 - accuracy: 1.0000 - val_loss: 0.0643 - val_accuracy: 0.9667\n",
            "Epoch 193/1000\n",
            "3/3 - 0s - loss: 0.0059 - accuracy: 1.0000 - val_loss: 0.0697 - val_accuracy: 0.9667\n",
            "Epoch 194/1000\n",
            "3/3 - 0s - loss: 0.0059 - accuracy: 1.0000 - val_loss: 0.0664 - val_accuracy: 0.9667\n",
            "Epoch 195/1000\n",
            "3/3 - 0s - loss: 0.0062 - accuracy: 1.0000 - val_loss: 0.0587 - val_accuracy: 0.9667\n",
            "Epoch 196/1000\n",
            "3/3 - 0s - loss: 0.0056 - accuracy: 1.0000 - val_loss: 0.0547 - val_accuracy: 0.9667\n",
            "Epoch 197/1000\n",
            "3/3 - 0s - loss: 0.0060 - accuracy: 1.0000 - val_loss: 0.0463 - val_accuracy: 0.9667\n",
            "Epoch 198/1000\n",
            "3/3 - 0s - loss: 0.0063 - accuracy: 1.0000 - val_loss: 0.0644 - val_accuracy: 0.9667\n",
            "Epoch 199/1000\n",
            "3/3 - 0s - loss: 0.0069 - accuracy: 1.0000 - val_loss: 0.1017 - val_accuracy: 0.9667\n",
            "Epoch 200/1000\n",
            "3/3 - 0s - loss: 0.0096 - accuracy: 1.0000 - val_loss: 0.0865 - val_accuracy: 0.9667\n",
            "Epoch 201/1000\n",
            "3/3 - 0s - loss: 0.0065 - accuracy: 1.0000 - val_loss: 0.0536 - val_accuracy: 0.9667\n",
            "Epoch 202/1000\n",
            "3/3 - 0s - loss: 0.0051 - accuracy: 1.0000 - val_loss: 0.0415 - val_accuracy: 0.9667\n",
            "Epoch 203/1000\n",
            "3/3 - 0s - loss: 0.0068 - accuracy: 1.0000 - val_loss: 0.0497 - val_accuracy: 0.9667\n",
            "Epoch 204/1000\n",
            "3/3 - 0s - loss: 0.0050 - accuracy: 1.0000 - val_loss: 0.0738 - val_accuracy: 0.9667\n",
            "Epoch 205/1000\n",
            "3/3 - 0s - loss: 0.0055 - accuracy: 1.0000 - val_loss: 0.0941 - val_accuracy: 0.9667\n",
            "Epoch 206/1000\n",
            "3/3 - 0s - loss: 0.0076 - accuracy: 1.0000 - val_loss: 0.0830 - val_accuracy: 0.9667\n",
            "Epoch 207/1000\n",
            "3/3 - 0s - loss: 0.0053 - accuracy: 1.0000 - val_loss: 0.0581 - val_accuracy: 0.9667\n",
            "Epoch 208/1000\n",
            "3/3 - 0s - loss: 0.0041 - accuracy: 1.0000 - val_loss: 0.0327 - val_accuracy: 0.9667\n",
            "Epoch 209/1000\n",
            "3/3 - 0s - loss: 0.0095 - accuracy: 1.0000 - val_loss: 0.0546 - val_accuracy: 0.9667\n",
            "Epoch 210/1000\n",
            "3/3 - 0s - loss: 0.0097 - accuracy: 1.0000 - val_loss: 0.0897 - val_accuracy: 0.9667\n",
            "Epoch 211/1000\n",
            "3/3 - 0s - loss: 0.0073 - accuracy: 1.0000 - val_loss: 0.0185 - val_accuracy: 1.0000\n",
            "Epoch 212/1000\n",
            "3/3 - 0s - loss: 0.0208 - accuracy: 1.0000 - val_loss: 0.0407 - val_accuracy: 0.9667\n",
            "Epoch 213/1000\n",
            "3/3 - 0s - loss: 0.0032 - accuracy: 1.0000 - val_loss: 0.0986 - val_accuracy: 0.9667\n",
            "Epoch 214/1000\n",
            "3/3 - 0s - loss: 0.0147 - accuracy: 0.9889 - val_loss: 0.0715 - val_accuracy: 0.9667\n",
            "Epoch 215/1000\n",
            "3/3 - 0s - loss: 0.0150 - accuracy: 0.9889 - val_loss: 0.0342 - val_accuracy: 0.9667\n",
            "Epoch 216/1000\n",
            "3/3 - 0s - loss: 0.0030 - accuracy: 1.0000 - val_loss: 0.1648 - val_accuracy: 0.9667\n",
            "Epoch 217/1000\n",
            "3/3 - 0s - loss: 0.0653 - accuracy: 0.9778 - val_loss: 0.1414 - val_accuracy: 0.9667\n",
            "Epoch 218/1000\n",
            "3/3 - 0s - loss: 0.0141 - accuracy: 0.9889 - val_loss: 0.0208 - val_accuracy: 1.0000\n",
            "Epoch 219/1000\n",
            "3/3 - 0s - loss: 0.0136 - accuracy: 1.0000 - val_loss: 0.0115 - val_accuracy: 1.0000\n",
            "Epoch 220/1000\n",
            "3/3 - 0s - loss: 0.0208 - accuracy: 1.0000 - val_loss: 0.0677 - val_accuracy: 0.9667\n",
            "Epoch 221/1000\n",
            "3/3 - 0s - loss: 0.0187 - accuracy: 0.9889 - val_loss: 0.0430 - val_accuracy: 0.9667\n",
            "Epoch 222/1000\n",
            "3/3 - 0s - loss: 0.0165 - accuracy: 1.0000 - val_loss: 0.0514 - val_accuracy: 0.9667\n",
            "Epoch 223/1000\n",
            "3/3 - 0s - loss: 0.1418 - accuracy: 0.9667 - val_loss: 0.0659 - val_accuracy: 0.9667\n",
            "Epoch 224/1000\n",
            "3/3 - 0s - loss: 0.0116 - accuracy: 0.9889 - val_loss: 0.1939 - val_accuracy: 0.9667\n",
            "Epoch 225/1000\n",
            "3/3 - 0s - loss: 0.0695 - accuracy: 0.9778 - val_loss: 0.0903 - val_accuracy: 0.9667\n",
            "Epoch 226/1000\n",
            "3/3 - 0s - loss: 0.0383 - accuracy: 0.9889 - val_loss: 0.0106 - val_accuracy: 1.0000\n",
            "Epoch 227/1000\n",
            "3/3 - 0s - loss: 0.0372 - accuracy: 0.9889 - val_loss: 0.1060 - val_accuracy: 0.9667\n",
            "Epoch 228/1000\n",
            "3/3 - 0s - loss: 0.0137 - accuracy: 1.0000 - val_loss: 0.1747 - val_accuracy: 0.9667\n",
            "Epoch 229/1000\n",
            "3/3 - 0s - loss: 0.0492 - accuracy: 0.9778 - val_loss: 0.0822 - val_accuracy: 0.9667\n",
            "Epoch 230/1000\n",
            "3/3 - 0s - loss: 0.0051 - accuracy: 1.0000 - val_loss: 0.0215 - val_accuracy: 1.0000\n",
            "Epoch 231/1000\n",
            "3/3 - 0s - loss: 0.0104 - accuracy: 1.0000 - val_loss: 0.0404 - val_accuracy: 0.9667\n",
            "Epoch 232/1000\n",
            "3/3 - 0s - loss: 0.0058 - accuracy: 1.0000 - val_loss: 0.1257 - val_accuracy: 0.9667\n",
            "Epoch 233/1000\n",
            "3/3 - 0s - loss: 0.0189 - accuracy: 0.9778 - val_loss: 0.1173 - val_accuracy: 0.9667\n",
            "Epoch 234/1000\n",
            "3/3 - 0s - loss: 0.0155 - accuracy: 0.9889 - val_loss: 0.0540 - val_accuracy: 0.9667\n",
            "Epoch 235/1000\n",
            "3/3 - 0s - loss: 0.0063 - accuracy: 1.0000 - val_loss: 0.0388 - val_accuracy: 0.9667\n",
            "Epoch 236/1000\n",
            "3/3 - 0s - loss: 0.0046 - accuracy: 1.0000 - val_loss: 0.0706 - val_accuracy: 0.9667\n",
            "Epoch 237/1000\n",
            "3/3 - 0s - loss: 0.0061 - accuracy: 1.0000 - val_loss: 0.0820 - val_accuracy: 0.9667\n",
            "Epoch 238/1000\n",
            "3/3 - 0s - loss: 0.0061 - accuracy: 1.0000 - val_loss: 0.0666 - val_accuracy: 0.9667\n",
            "Epoch 239/1000\n",
            "3/3 - 0s - loss: 0.0045 - accuracy: 1.0000 - val_loss: 0.0447 - val_accuracy: 0.9667\n",
            "Epoch 240/1000\n",
            "3/3 - 0s - loss: 0.0039 - accuracy: 1.0000 - val_loss: 0.0358 - val_accuracy: 0.9667\n",
            "Epoch 241/1000\n",
            "3/3 - 0s - loss: 0.0048 - accuracy: 1.0000 - val_loss: 0.0388 - val_accuracy: 0.9667\n",
            "Epoch 242/1000\n",
            "3/3 - 0s - loss: 0.0040 - accuracy: 1.0000 - val_loss: 0.0515 - val_accuracy: 0.9667\n",
            "Epoch 243/1000\n",
            "3/3 - 0s - loss: 0.0041 - accuracy: 1.0000 - val_loss: 0.0557 - val_accuracy: 0.9667\n",
            "Epoch 244/1000\n",
            "3/3 - 0s - loss: 0.0041 - accuracy: 1.0000 - val_loss: 0.0443 - val_accuracy: 0.9667\n",
            "Epoch 245/1000\n",
            "3/3 - 0s - loss: 0.0036 - accuracy: 1.0000 - val_loss: 0.0527 - val_accuracy: 0.9667\n",
            "Epoch 246/1000\n",
            "3/3 - 0s - loss: 0.0038 - accuracy: 1.0000 - val_loss: 0.0523 - val_accuracy: 0.9667\n",
            "Epoch 247/1000\n",
            "3/3 - 0s - loss: 0.0042 - accuracy: 1.0000 - val_loss: 0.0385 - val_accuracy: 0.9667\n",
            "Epoch 248/1000\n",
            "3/3 - 0s - loss: 0.0037 - accuracy: 1.0000 - val_loss: 0.0470 - val_accuracy: 0.9667\n",
            "Epoch 249/1000\n",
            "3/3 - 0s - loss: 0.0035 - accuracy: 1.0000 - val_loss: 0.0515 - val_accuracy: 0.9667\n",
            "Epoch 250/1000\n",
            "3/3 - 0s - loss: 0.0034 - accuracy: 1.0000 - val_loss: 0.0453 - val_accuracy: 0.9667\n",
            "Epoch 251/1000\n",
            "3/3 - 0s - loss: 0.0033 - accuracy: 1.0000 - val_loss: 0.0512 - val_accuracy: 0.9667\n",
            "Epoch 252/1000\n",
            "3/3 - 0s - loss: 0.0033 - accuracy: 1.0000 - val_loss: 0.0630 - val_accuracy: 0.9667\n",
            "Epoch 253/1000\n",
            "3/3 - 0s - loss: 0.0038 - accuracy: 1.0000 - val_loss: 0.0630 - val_accuracy: 0.9667\n",
            "Epoch 254/1000\n",
            "3/3 - 0s - loss: 0.0034 - accuracy: 1.0000 - val_loss: 0.0501 - val_accuracy: 0.9667\n",
            "Epoch 255/1000\n",
            "3/3 - 0s - loss: 0.0032 - accuracy: 1.0000 - val_loss: 0.0344 - val_accuracy: 0.9667\n",
            "Epoch 256/1000\n",
            "3/3 - 0s - loss: 0.0040 - accuracy: 1.0000 - val_loss: 0.0403 - val_accuracy: 0.9667\n",
            "Epoch 257/1000\n",
            "3/3 - 0s - loss: 0.0031 - accuracy: 1.0000 - val_loss: 0.0548 - val_accuracy: 0.9667\n",
            "Epoch 258/1000\n",
            "3/3 - 0s - loss: 0.0031 - accuracy: 1.0000 - val_loss: 0.0648 - val_accuracy: 0.9667\n",
            "Epoch 259/1000\n",
            "3/3 - 0s - loss: 0.0035 - accuracy: 1.0000 - val_loss: 0.0635 - val_accuracy: 0.9667\n",
            "Epoch 260/1000\n",
            "3/3 - 0s - loss: 0.0031 - accuracy: 1.0000 - val_loss: 0.0544 - val_accuracy: 0.9667\n",
            "Epoch 261/1000\n",
            "3/3 - 0s - loss: 0.0029 - accuracy: 1.0000 - val_loss: 0.0452 - val_accuracy: 0.9667\n",
            "Epoch 262/1000\n",
            "3/3 - 0s - loss: 0.0030 - accuracy: 1.0000 - val_loss: 0.0404 - val_accuracy: 0.9667\n",
            "Epoch 263/1000\n",
            "3/3 - 0s - loss: 0.0035 - accuracy: 1.0000 - val_loss: 0.0435 - val_accuracy: 0.9667\n",
            "Epoch 264/1000\n",
            "3/3 - 0s - loss: 0.0025 - accuracy: 1.0000 - val_loss: 0.0729 - val_accuracy: 0.9667\n",
            "Epoch 265/1000\n",
            "3/3 - 0s - loss: 0.0040 - accuracy: 1.0000 - val_loss: 0.0837 - val_accuracy: 0.9667\n",
            "Epoch 266/1000\n",
            "3/3 - 0s - loss: 0.0047 - accuracy: 1.0000 - val_loss: 0.0641 - val_accuracy: 0.9667\n",
            "Epoch 267/1000\n",
            "3/3 - 0s - loss: 0.0030 - accuracy: 1.0000 - val_loss: 0.0442 - val_accuracy: 0.9667\n",
            "Epoch 268/1000\n",
            "3/3 - 0s - loss: 0.0027 - accuracy: 1.0000 - val_loss: 0.0377 - val_accuracy: 0.9667\n",
            "Epoch 269/1000\n",
            "3/3 - 0s - loss: 0.0030 - accuracy: 1.0000 - val_loss: 0.0408 - val_accuracy: 0.9667\n",
            "Epoch 270/1000\n",
            "3/3 - 0s - loss: 0.0026 - accuracy: 1.0000 - val_loss: 0.0508 - val_accuracy: 0.9667\n",
            "Epoch 271/1000\n",
            "3/3 - 0s - loss: 0.0025 - accuracy: 1.0000 - val_loss: 0.0609 - val_accuracy: 0.9667\n",
            "Epoch 272/1000\n",
            "3/3 - 0s - loss: 0.0028 - accuracy: 1.0000 - val_loss: 0.0651 - val_accuracy: 0.9667\n",
            "Epoch 273/1000\n",
            "3/3 - 0s - loss: 0.0030 - accuracy: 1.0000 - val_loss: 0.0630 - val_accuracy: 0.9667\n",
            "Epoch 274/1000\n",
            "3/3 - 0s - loss: 0.0027 - accuracy: 1.0000 - val_loss: 0.0530 - val_accuracy: 0.9667\n",
            "Epoch 275/1000\n",
            "3/3 - 0s - loss: 0.0024 - accuracy: 1.0000 - val_loss: 0.0489 - val_accuracy: 0.9667\n",
            "Epoch 276/1000\n",
            "3/3 - 0s - loss: 0.0026 - accuracy: 1.0000 - val_loss: 0.0457 - val_accuracy: 0.9667\n",
            "Epoch 277/1000\n",
            "3/3 - 0s - loss: 0.0024 - accuracy: 1.0000 - val_loss: 0.0507 - val_accuracy: 0.9667\n",
            "Epoch 278/1000\n",
            "3/3 - 0s - loss: 0.0023 - accuracy: 1.0000 - val_loss: 0.0572 - val_accuracy: 0.9667\n",
            "Epoch 279/1000\n",
            "3/3 - 0s - loss: 0.0024 - accuracy: 1.0000 - val_loss: 0.0592 - val_accuracy: 0.9667\n",
            "Epoch 280/1000\n",
            "3/3 - 0s - loss: 0.0024 - accuracy: 1.0000 - val_loss: 0.0558 - val_accuracy: 0.9667\n",
            "Epoch 281/1000\n",
            "3/3 - 0s - loss: 0.0025 - accuracy: 1.0000 - val_loss: 0.0487 - val_accuracy: 0.9667\n",
            "Epoch 282/1000\n",
            "3/3 - 0s - loss: 0.0022 - accuracy: 1.0000 - val_loss: 0.0476 - val_accuracy: 0.9667\n",
            "Epoch 283/1000\n",
            "3/3 - 0s - loss: 0.0023 - accuracy: 1.0000 - val_loss: 0.0550 - val_accuracy: 0.9667\n",
            "Epoch 284/1000\n",
            "3/3 - 0s - loss: 0.0024 - accuracy: 1.0000 - val_loss: 0.0783 - val_accuracy: 0.9667\n",
            "Epoch 285/1000\n",
            "3/3 - 0s - loss: 0.0034 - accuracy: 1.0000 - val_loss: 0.0772 - val_accuracy: 0.9667\n",
            "Epoch 286/1000\n",
            "3/3 - 0s - loss: 0.0032 - accuracy: 1.0000 - val_loss: 0.0554 - val_accuracy: 0.9667\n",
            "Epoch 287/1000\n",
            "3/3 - 0s - loss: 0.0023 - accuracy: 1.0000 - val_loss: 0.0401 - val_accuracy: 0.9667\n",
            "Epoch 288/1000\n",
            "3/3 - 0s - loss: 0.0025 - accuracy: 1.0000 - val_loss: 0.0437 - val_accuracy: 0.9667\n",
            "Epoch 289/1000\n",
            "3/3 - 0s - loss: 0.0020 - accuracy: 1.0000 - val_loss: 0.0682 - val_accuracy: 0.9667\n",
            "Epoch 290/1000\n",
            "3/3 - 0s - loss: 0.0034 - accuracy: 1.0000 - val_loss: 0.0656 - val_accuracy: 0.9667\n",
            "Epoch 291/1000\n",
            "3/3 - 0s - loss: 0.0028 - accuracy: 1.0000 - val_loss: 0.0259 - val_accuracy: 0.9667\n",
            "Epoch 292/1000\n",
            "3/3 - 0s - loss: 0.0039 - accuracy: 1.0000 - val_loss: 0.0233 - val_accuracy: 0.9667\n",
            "Epoch 293/1000\n",
            "3/3 - 0s - loss: 0.0036 - accuracy: 1.0000 - val_loss: 0.0459 - val_accuracy: 0.9667\n",
            "Epoch 294/1000\n",
            "3/3 - 0s - loss: 0.0022 - accuracy: 1.0000 - val_loss: 0.1022 - val_accuracy: 0.9667\n",
            "Epoch 295/1000\n",
            "3/3 - 0s - loss: 0.0063 - accuracy: 1.0000 - val_loss: 0.1012 - val_accuracy: 0.9667\n",
            "Epoch 296/1000\n",
            "3/3 - 0s - loss: 0.0055 - accuracy: 1.0000 - val_loss: 0.0508 - val_accuracy: 0.9667\n",
            "Epoch 297/1000\n",
            "3/3 - 0s - loss: 0.0029 - accuracy: 1.0000 - val_loss: 0.0319 - val_accuracy: 0.9667\n",
            "Epoch 298/1000\n",
            "3/3 - 0s - loss: 0.0022 - accuracy: 1.0000 - val_loss: 0.0519 - val_accuracy: 0.9667\n",
            "Epoch 299/1000\n",
            "3/3 - 0s - loss: 0.0019 - accuracy: 1.0000 - val_loss: 0.0873 - val_accuracy: 0.9667\n",
            "Epoch 300/1000\n",
            "3/3 - 0s - loss: 0.0038 - accuracy: 1.0000 - val_loss: 0.0872 - val_accuracy: 0.9667\n",
            "Epoch 301/1000\n",
            "3/3 - 0s - loss: 0.0032 - accuracy: 1.0000 - val_loss: 0.0612 - val_accuracy: 0.9667\n",
            "Epoch 302/1000\n",
            "3/3 - 0s - loss: 0.0020 - accuracy: 1.0000 - val_loss: 0.0359 - val_accuracy: 0.9667\n",
            "Epoch 303/1000\n",
            "3/3 - 0s - loss: 0.0024 - accuracy: 1.0000 - val_loss: 0.0363 - val_accuracy: 0.9667\n",
            "Epoch 304/1000\n",
            "3/3 - 0s - loss: 0.0016 - accuracy: 1.0000 - val_loss: 0.0669 - val_accuracy: 0.9667\n",
            "Epoch 305/1000\n",
            "3/3 - 0s - loss: 0.0022 - accuracy: 1.0000 - val_loss: 0.0883 - val_accuracy: 0.9667\n",
            "Epoch 306/1000\n",
            "3/3 - 0s - loss: 0.0046 - accuracy: 1.0000 - val_loss: 0.0447 - val_accuracy: 0.9667\n",
            "Epoch 307/1000\n",
            "3/3 - 0s - loss: 0.0066 - accuracy: 1.0000 - val_loss: 0.0069 - val_accuracy: 1.0000\n",
            "Epoch 308/1000\n",
            "3/3 - 0s - loss: 0.0101 - accuracy: 1.0000 - val_loss: 0.0856 - val_accuracy: 0.9667\n",
            "Epoch 309/1000\n",
            "3/3 - 0s - loss: 0.0054 - accuracy: 1.0000 - val_loss: 0.1470 - val_accuracy: 0.9667\n",
            "Epoch 310/1000\n",
            "3/3 - 0s - loss: 0.0164 - accuracy: 0.9889 - val_loss: 0.0465 - val_accuracy: 0.9667\n",
            "Epoch 311/1000\n",
            "3/3 - 0s - loss: 0.0092 - accuracy: 1.0000 - val_loss: 0.0026 - val_accuracy: 1.0000\n",
            "Epoch 312/1000\n",
            "3/3 - 0s - loss: 0.0258 - accuracy: 0.9889 - val_loss: 0.1296 - val_accuracy: 0.9667\n",
            "Epoch 313/1000\n",
            "3/3 - 0s - loss: 0.0190 - accuracy: 0.9889 - val_loss: 0.1932 - val_accuracy: 0.9667\n",
            "Epoch 314/1000\n",
            "3/3 - 0s - loss: 0.0324 - accuracy: 0.9778 - val_loss: 0.0618 - val_accuracy: 0.9667\n",
            "Epoch 315/1000\n",
            "3/3 - 0s - loss: 0.0022 - accuracy: 1.0000 - val_loss: 0.0051 - val_accuracy: 1.0000\n",
            "Epoch 316/1000\n",
            "3/3 - 0s - loss: 0.0293 - accuracy: 0.9889 - val_loss: 0.1073 - val_accuracy: 0.9667\n",
            "Epoch 317/1000\n",
            "3/3 - 0s - loss: 0.0664 - accuracy: 0.9778 - val_loss: 0.2278 - val_accuracy: 0.9667\n",
            "Epoch 318/1000\n",
            "3/3 - 0s - loss: 0.0872 - accuracy: 0.9778 - val_loss: 0.0536 - val_accuracy: 0.9667\n",
            "Epoch 319/1000\n",
            "3/3 - 0s - loss: 0.0118 - accuracy: 0.9889 - val_loss: 0.0405 - val_accuracy: 0.9667\n",
            "Epoch 320/1000\n",
            "3/3 - 0s - loss: 0.0049 - accuracy: 1.0000 - val_loss: 0.2078 - val_accuracy: 0.9667\n",
            "Epoch 321/1000\n",
            "3/3 - 0s - loss: 0.0663 - accuracy: 0.9778 - val_loss: 0.1469 - val_accuracy: 0.9667\n",
            "Epoch 322/1000\n",
            "3/3 - 0s - loss: 0.0052 - accuracy: 1.0000 - val_loss: 0.0282 - val_accuracy: 0.9667\n",
            "Epoch 323/1000\n",
            "3/3 - 0s - loss: 0.0032 - accuracy: 1.0000 - val_loss: 0.0044 - val_accuracy: 1.0000\n",
            "Epoch 324/1000\n",
            "3/3 - 0s - loss: 0.0231 - accuracy: 0.9889 - val_loss: 0.0515 - val_accuracy: 0.9667\n",
            "Epoch 325/1000\n",
            "3/3 - 0s - loss: 0.0024 - accuracy: 1.0000 - val_loss: 0.1521 - val_accuracy: 0.9667\n",
            "Epoch 326/1000\n",
            "3/3 - 0s - loss: 0.0177 - accuracy: 0.9889 - val_loss: 0.1211 - val_accuracy: 0.9667\n",
            "Epoch 327/1000\n",
            "3/3 - 0s - loss: 0.0045 - accuracy: 1.0000 - val_loss: 0.0493 - val_accuracy: 0.9667\n",
            "Epoch 328/1000\n",
            "3/3 - 0s - loss: 0.0013 - accuracy: 1.0000 - val_loss: 0.0134 - val_accuracy: 1.0000\n",
            "Epoch 329/1000\n",
            "3/3 - 0s - loss: 0.0062 - accuracy: 1.0000 - val_loss: 0.0186 - val_accuracy: 1.0000\n",
            "Epoch 330/1000\n",
            "3/3 - 0s - loss: 0.0028 - accuracy: 1.0000 - val_loss: 0.0514 - val_accuracy: 0.9667\n",
            "Epoch 331/1000\n",
            "3/3 - 0s - loss: 0.0014 - accuracy: 1.0000 - val_loss: 0.0897 - val_accuracy: 0.9667\n",
            "Epoch 332/1000\n",
            "3/3 - 0s - loss: 0.0042 - accuracy: 1.0000 - val_loss: 0.0723 - val_accuracy: 0.9667\n",
            "Epoch 333/1000\n",
            "3/3 - 0s - loss: 0.0021 - accuracy: 1.0000 - val_loss: 0.0245 - val_accuracy: 0.9667\n",
            "Epoch 334/1000\n",
            "3/3 - 0s - loss: 0.0025 - accuracy: 1.0000 - val_loss: 0.0255 - val_accuracy: 0.9667\n",
            "Epoch 335/1000\n",
            "3/3 - 0s - loss: 0.0021 - accuracy: 1.0000 - val_loss: 0.0443 - val_accuracy: 0.9667\n",
            "Epoch 336/1000\n",
            "3/3 - 0s - loss: 0.0014 - accuracy: 1.0000 - val_loss: 0.0643 - val_accuracy: 0.9667\n",
            "Epoch 337/1000\n",
            "3/3 - 0s - loss: 0.0017 - accuracy: 1.0000 - val_loss: 0.0726 - val_accuracy: 0.9667\n",
            "Epoch 338/1000\n",
            "3/3 - 0s - loss: 0.0017 - accuracy: 1.0000 - val_loss: 0.0605 - val_accuracy: 0.9667\n",
            "Epoch 339/1000\n",
            "3/3 - 0s - loss: 0.0012 - accuracy: 1.0000 - val_loss: 0.0386 - val_accuracy: 0.9667\n",
            "Epoch 340/1000\n",
            "3/3 - 0s - loss: 0.0014 - accuracy: 1.0000 - val_loss: 0.0276 - val_accuracy: 0.9667\n",
            "Epoch 341/1000\n",
            "3/3 - 0s - loss: 0.0022 - accuracy: 1.0000 - val_loss: 0.0328 - val_accuracy: 0.9667\n",
            "Epoch 342/1000\n",
            "3/3 - 0s - loss: 0.0014 - accuracy: 1.0000 - val_loss: 0.0599 - val_accuracy: 0.9667\n",
            "Epoch 343/1000\n",
            "3/3 - 0s - loss: 0.0017 - accuracy: 1.0000 - val_loss: 0.0653 - val_accuracy: 0.9667\n",
            "Epoch 344/1000\n",
            "3/3 - 0s - loss: 0.0013 - accuracy: 1.0000 - val_loss: 0.0386 - val_accuracy: 0.9667\n",
            "Epoch 345/1000\n",
            "3/3 - 0s - loss: 0.0013 - accuracy: 1.0000 - val_loss: 0.0281 - val_accuracy: 0.9667\n",
            "Epoch 346/1000\n",
            "3/3 - 0s - loss: 0.0019 - accuracy: 1.0000 - val_loss: 0.0307 - val_accuracy: 0.9667\n",
            "Epoch 347/1000\n",
            "3/3 - 0s - loss: 0.0015 - accuracy: 1.0000 - val_loss: 0.0425 - val_accuracy: 0.9667\n",
            "Epoch 348/1000\n",
            "3/3 - 0s - loss: 0.0012 - accuracy: 1.0000 - val_loss: 0.0583 - val_accuracy: 0.9667\n",
            "Epoch 349/1000\n",
            "3/3 - 0s - loss: 0.0012 - accuracy: 1.0000 - val_loss: 0.0664 - val_accuracy: 0.9667\n",
            "Epoch 350/1000\n",
            "3/3 - 0s - loss: 0.0014 - accuracy: 1.0000 - val_loss: 0.0596 - val_accuracy: 0.9667\n",
            "Epoch 351/1000\n",
            "3/3 - 0s - loss: 0.0011 - accuracy: 1.0000 - val_loss: 0.0422 - val_accuracy: 0.9667\n",
            "Epoch 352/1000\n",
            "3/3 - 0s - loss: 0.0011 - accuracy: 1.0000 - val_loss: 0.0358 - val_accuracy: 0.9667\n",
            "Epoch 353/1000\n",
            "3/3 - 0s - loss: 0.0012 - accuracy: 1.0000 - val_loss: 0.0376 - val_accuracy: 0.9667\n",
            "Epoch 354/1000\n",
            "3/3 - 0s - loss: 0.0011 - accuracy: 1.0000 - val_loss: 0.0424 - val_accuracy: 0.9667\n",
            "Epoch 355/1000\n",
            "3/3 - 0s - loss: 0.0010 - accuracy: 1.0000 - val_loss: 0.0498 - val_accuracy: 0.9667\n",
            "Epoch 356/1000\n",
            "3/3 - 0s - loss: 9.8904e-04 - accuracy: 1.0000 - val_loss: 0.0564 - val_accuracy: 0.9667\n",
            "Epoch 357/1000\n",
            "3/3 - 0s - loss: 0.0011 - accuracy: 1.0000 - val_loss: 0.0558 - val_accuracy: 0.9667\n",
            "Epoch 358/1000\n",
            "3/3 - 0s - loss: 0.0010 - accuracy: 1.0000 - val_loss: 0.0438 - val_accuracy: 0.9667\n",
            "Epoch 359/1000\n",
            "3/3 - 0s - loss: 9.7098e-04 - accuracy: 1.0000 - val_loss: 0.0377 - val_accuracy: 0.9667\n",
            "Epoch 360/1000\n",
            "3/3 - 0s - loss: 0.0011 - accuracy: 1.0000 - val_loss: 0.0331 - val_accuracy: 0.9667\n",
            "Epoch 361/1000\n",
            "3/3 - 0s - loss: 0.0012 - accuracy: 1.0000 - val_loss: 0.0355 - val_accuracy: 0.9667\n",
            "Epoch 362/1000\n",
            "3/3 - 0s - loss: 0.0011 - accuracy: 1.0000 - val_loss: 0.0400 - val_accuracy: 0.9667\n",
            "Epoch 363/1000\n",
            "3/3 - 0s - loss: 9.3873e-04 - accuracy: 1.0000 - val_loss: 0.0489 - val_accuracy: 0.9667\n",
            "Epoch 364/1000\n",
            "3/3 - 0s - loss: 8.4532e-04 - accuracy: 1.0000 - val_loss: 0.0558 - val_accuracy: 0.9667\n",
            "Epoch 365/1000\n",
            "3/3 - 0s - loss: 8.7508e-04 - accuracy: 1.0000 - val_loss: 0.0592 - val_accuracy: 0.9667\n",
            "Epoch 366/1000\n",
            "3/3 - 0s - loss: 8.9177e-04 - accuracy: 1.0000 - val_loss: 0.0568 - val_accuracy: 0.9667\n",
            "Epoch 367/1000\n",
            "3/3 - 0s - loss: 8.4388e-04 - accuracy: 1.0000 - val_loss: 0.0524 - val_accuracy: 0.9667\n",
            "Epoch 368/1000\n",
            "3/3 - 0s - loss: 7.8287e-04 - accuracy: 1.0000 - val_loss: 0.0488 - val_accuracy: 0.9667\n",
            "Epoch 369/1000\n",
            "3/3 - 0s - loss: 7.7380e-04 - accuracy: 1.0000 - val_loss: 0.0477 - val_accuracy: 0.9667\n",
            "Epoch 370/1000\n",
            "3/3 - 0s - loss: 7.5106e-04 - accuracy: 1.0000 - val_loss: 0.0456 - val_accuracy: 0.9667\n",
            "Epoch 371/1000\n",
            "3/3 - 0s - loss: 7.3583e-04 - accuracy: 1.0000 - val_loss: 0.0417 - val_accuracy: 0.9667\n",
            "Epoch 372/1000\n",
            "3/3 - 0s - loss: 7.6121e-04 - accuracy: 1.0000 - val_loss: 0.0441 - val_accuracy: 0.9667\n",
            "Epoch 373/1000\n",
            "3/3 - 0s - loss: 7.3399e-04 - accuracy: 1.0000 - val_loss: 0.0494 - val_accuracy: 0.9667\n",
            "Epoch 374/1000\n",
            "3/3 - 0s - loss: 6.7561e-04 - accuracy: 1.0000 - val_loss: 0.0524 - val_accuracy: 0.9667\n",
            "Epoch 375/1000\n",
            "3/3 - 0s - loss: 6.6145e-04 - accuracy: 1.0000 - val_loss: 0.0537 - val_accuracy: 0.9667\n",
            "Epoch 376/1000\n",
            "3/3 - 0s - loss: 6.4350e-04 - accuracy: 1.0000 - val_loss: 0.0518 - val_accuracy: 0.9667\n",
            "Epoch 377/1000\n",
            "3/3 - 0s - loss: 6.2073e-04 - accuracy: 1.0000 - val_loss: 0.0517 - val_accuracy: 0.9667\n",
            "Epoch 378/1000\n",
            "3/3 - 0s - loss: 6.0029e-04 - accuracy: 1.0000 - val_loss: 0.0489 - val_accuracy: 0.9667\n",
            "Epoch 379/1000\n",
            "3/3 - 0s - loss: 5.8893e-04 - accuracy: 1.0000 - val_loss: 0.0413 - val_accuracy: 0.9667\n",
            "Epoch 380/1000\n",
            "3/3 - 0s - loss: 6.6760e-04 - accuracy: 1.0000 - val_loss: 0.0421 - val_accuracy: 0.9667\n",
            "Epoch 381/1000\n",
            "3/3 - 0s - loss: 5.9575e-04 - accuracy: 1.0000 - val_loss: 0.0597 - val_accuracy: 0.9667\n",
            "Epoch 382/1000\n",
            "3/3 - 0s - loss: 6.2828e-04 - accuracy: 1.0000 - val_loss: 0.0705 - val_accuracy: 0.9667\n",
            "Epoch 383/1000\n",
            "3/3 - 0s - loss: 6.7123e-04 - accuracy: 1.0000 - val_loss: 0.0689 - val_accuracy: 0.9667\n",
            "Epoch 384/1000\n",
            "3/3 - 0s - loss: 5.7728e-04 - accuracy: 1.0000 - val_loss: 0.0581 - val_accuracy: 0.9667\n",
            "Epoch 385/1000\n",
            "3/3 - 0s - loss: 5.0903e-04 - accuracy: 1.0000 - val_loss: 0.0532 - val_accuracy: 0.9667\n",
            "Epoch 386/1000\n",
            "3/3 - 0s - loss: 4.5270e-04 - accuracy: 1.0000 - val_loss: 0.0591 - val_accuracy: 0.9667\n",
            "Epoch 387/1000\n",
            "3/3 - 0s - loss: 4.7043e-04 - accuracy: 1.0000 - val_loss: 0.0630 - val_accuracy: 0.9667\n",
            "Epoch 388/1000\n",
            "3/3 - 0s - loss: 4.6797e-04 - accuracy: 1.0000 - val_loss: 0.0605 - val_accuracy: 0.9667\n",
            "Epoch 389/1000\n",
            "3/3 - 0s - loss: 4.3939e-04 - accuracy: 1.0000 - val_loss: 0.0594 - val_accuracy: 0.9667\n",
            "Epoch 390/1000\n",
            "3/3 - 0s - loss: 4.2491e-04 - accuracy: 1.0000 - val_loss: 0.0578 - val_accuracy: 0.9667\n",
            "Epoch 391/1000\n",
            "3/3 - 0s - loss: 4.0017e-04 - accuracy: 1.0000 - val_loss: 0.0493 - val_accuracy: 0.9667\n",
            "Epoch 392/1000\n",
            "3/3 - 0s - loss: 3.8209e-04 - accuracy: 1.0000 - val_loss: 0.0495 - val_accuracy: 0.9667\n",
            "Epoch 393/1000\n",
            "3/3 - 0s - loss: 3.7005e-04 - accuracy: 1.0000 - val_loss: 0.0519 - val_accuracy: 0.9667\n",
            "Epoch 394/1000\n",
            "3/3 - 0s - loss: 3.6221e-04 - accuracy: 1.0000 - val_loss: 0.0560 - val_accuracy: 0.9667\n",
            "Epoch 395/1000\n",
            "3/3 - 0s - loss: 3.4564e-04 - accuracy: 1.0000 - val_loss: 0.0575 - val_accuracy: 0.9667\n",
            "Epoch 396/1000\n",
            "3/3 - 0s - loss: 3.4248e-04 - accuracy: 1.0000 - val_loss: 0.0553 - val_accuracy: 0.9667\n",
            "Epoch 397/1000\n",
            "3/3 - 0s - loss: 3.3145e-04 - accuracy: 1.0000 - val_loss: 0.0457 - val_accuracy: 0.9667\n",
            "Epoch 398/1000\n",
            "3/3 - 0s - loss: 3.6428e-04 - accuracy: 1.0000 - val_loss: 0.0412 - val_accuracy: 0.9667\n",
            "Epoch 399/1000\n",
            "3/3 - 0s - loss: 3.5792e-04 - accuracy: 1.0000 - val_loss: 0.0445 - val_accuracy: 0.9667\n",
            "Epoch 400/1000\n",
            "3/3 - 0s - loss: 3.1614e-04 - accuracy: 1.0000 - val_loss: 0.0484 - val_accuracy: 0.9667\n",
            "Epoch 401/1000\n",
            "3/3 - 0s - loss: 3.1338e-04 - accuracy: 1.0000 - val_loss: 0.0597 - val_accuracy: 0.9667\n",
            "Epoch 402/1000\n",
            "3/3 - 0s - loss: 3.1435e-04 - accuracy: 1.0000 - val_loss: 0.0604 - val_accuracy: 0.9667\n",
            "Epoch 403/1000\n",
            "3/3 - 0s - loss: 2.4325e-04 - accuracy: 1.0000 - val_loss: 0.0457 - val_accuracy: 0.9667\n",
            "Epoch 404/1000\n",
            "3/3 - 0s - loss: 2.8003e-04 - accuracy: 1.0000 - val_loss: 0.0359 - val_accuracy: 0.9667\n",
            "Epoch 405/1000\n",
            "3/3 - 0s - loss: 3.5996e-04 - accuracy: 1.0000 - val_loss: 0.0353 - val_accuracy: 0.9667\n",
            "Epoch 406/1000\n",
            "3/3 - 0s - loss: 3.3210e-04 - accuracy: 1.0000 - val_loss: 0.0449 - val_accuracy: 0.9667\n",
            "Epoch 407/1000\n",
            "3/3 - 0s - loss: 2.5755e-04 - accuracy: 1.0000 - val_loss: 0.0707 - val_accuracy: 0.9667\n",
            "Epoch 408/1000\n",
            "3/3 - 0s - loss: 2.8275e-04 - accuracy: 1.0000 - val_loss: 0.0870 - val_accuracy: 0.9667\n",
            "Epoch 409/1000\n",
            "3/3 - 0s - loss: 3.8395e-04 - accuracy: 1.0000 - val_loss: 0.0895 - val_accuracy: 0.9667\n",
            "Epoch 410/1000\n",
            "3/3 - 0s - loss: 3.7583e-04 - accuracy: 1.0000 - val_loss: 0.0786 - val_accuracy: 0.9667\n",
            "Epoch 411/1000\n",
            "3/3 - 0s - loss: 2.4242e-04 - accuracy: 1.0000 - val_loss: 0.0557 - val_accuracy: 0.9667\n",
            "Epoch 412/1000\n",
            "3/3 - 0s - loss: 2.1583e-04 - accuracy: 1.0000 - val_loss: 0.0399 - val_accuracy: 0.9667\n",
            "Epoch 413/1000\n",
            "3/3 - 0s - loss: 2.5626e-04 - accuracy: 1.0000 - val_loss: 0.0348 - val_accuracy: 0.9667\n",
            "Epoch 414/1000\n",
            "3/3 - 0s - loss: 3.1635e-04 - accuracy: 1.0000 - val_loss: 0.0366 - val_accuracy: 0.9667\n",
            "Epoch 415/1000\n",
            "3/3 - 0s - loss: 2.5965e-04 - accuracy: 1.0000 - val_loss: 0.0451 - val_accuracy: 0.9667\n",
            "Epoch 416/1000\n",
            "3/3 - 0s - loss: 2.1979e-04 - accuracy: 1.0000 - val_loss: 0.0579 - val_accuracy: 0.9667\n",
            "Epoch 417/1000\n",
            "3/3 - 0s - loss: 1.8993e-04 - accuracy: 1.0000 - val_loss: 0.0677 - val_accuracy: 0.9667\n",
            "Epoch 418/1000\n",
            "3/3 - 0s - loss: 2.0872e-04 - accuracy: 1.0000 - val_loss: 0.0730 - val_accuracy: 0.9667\n",
            "Epoch 419/1000\n",
            "3/3 - 0s - loss: 2.0851e-04 - accuracy: 1.0000 - val_loss: 0.0722 - val_accuracy: 0.9667\n",
            "Epoch 420/1000\n",
            "3/3 - 0s - loss: 1.9545e-04 - accuracy: 1.0000 - val_loss: 0.0639 - val_accuracy: 0.9667\n",
            "Epoch 421/1000\n",
            "3/3 - 0s - loss: 2.0179e-04 - accuracy: 1.0000 - val_loss: 0.0497 - val_accuracy: 0.9667\n",
            "Epoch 422/1000\n",
            "3/3 - 0s - loss: 1.7837e-04 - accuracy: 1.0000 - val_loss: 0.0510 - val_accuracy: 0.9667\n",
            "Epoch 423/1000\n",
            "3/3 - 0s - loss: 1.7506e-04 - accuracy: 1.0000 - val_loss: 0.0549 - val_accuracy: 0.9667\n",
            "Epoch 424/1000\n",
            "3/3 - 0s - loss: 1.6140e-04 - accuracy: 1.0000 - val_loss: 0.0582 - val_accuracy: 0.9667\n",
            "Epoch 425/1000\n",
            "3/3 - 0s - loss: 1.5524e-04 - accuracy: 1.0000 - val_loss: 0.0606 - val_accuracy: 0.9667\n",
            "Epoch 426/1000\n",
            "3/3 - 0s - loss: 1.5360e-04 - accuracy: 1.0000 - val_loss: 0.0625 - val_accuracy: 0.9667\n",
            "Epoch 427/1000\n",
            "3/3 - 0s - loss: 1.5306e-04 - accuracy: 1.0000 - val_loss: 0.0669 - val_accuracy: 0.9667\n",
            "Epoch 428/1000\n",
            "3/3 - 0s - loss: 1.5454e-04 - accuracy: 1.0000 - val_loss: 0.0679 - val_accuracy: 0.9667\n",
            "Epoch 429/1000\n",
            "3/3 - 0s - loss: 1.5519e-04 - accuracy: 1.0000 - val_loss: 0.0673 - val_accuracy: 0.9667\n",
            "Epoch 430/1000\n",
            "3/3 - 0s - loss: 1.4907e-04 - accuracy: 1.0000 - val_loss: 0.0640 - val_accuracy: 0.9667\n",
            "Epoch 431/1000\n",
            "3/3 - 0s - loss: 1.4367e-04 - accuracy: 1.0000 - val_loss: 0.0613 - val_accuracy: 0.9667\n",
            "Epoch 432/1000\n",
            "3/3 - 0s - loss: 1.4062e-04 - accuracy: 1.0000 - val_loss: 0.0602 - val_accuracy: 0.9667\n",
            "Epoch 433/1000\n",
            "3/3 - 0s - loss: 1.3630e-04 - accuracy: 1.0000 - val_loss: 0.0609 - val_accuracy: 0.9667\n",
            "Epoch 434/1000\n",
            "3/3 - 0s - loss: 1.3521e-04 - accuracy: 1.0000 - val_loss: 0.0631 - val_accuracy: 0.9667\n",
            "Epoch 435/1000\n",
            "3/3 - 0s - loss: 1.3284e-04 - accuracy: 1.0000 - val_loss: 0.0637 - val_accuracy: 0.9667\n",
            "Epoch 436/1000\n",
            "3/3 - 0s - loss: 1.3115e-04 - accuracy: 1.0000 - val_loss: 0.0636 - val_accuracy: 0.9667\n",
            "Epoch 437/1000\n",
            "3/3 - 0s - loss: 1.2941e-04 - accuracy: 1.0000 - val_loss: 0.0620 - val_accuracy: 0.9667\n",
            "Epoch 438/1000\n",
            "3/3 - 0s - loss: 1.2747e-04 - accuracy: 1.0000 - val_loss: 0.0620 - val_accuracy: 0.9667\n",
            "Epoch 439/1000\n",
            "3/3 - 0s - loss: 1.2414e-04 - accuracy: 1.0000 - val_loss: 0.0660 - val_accuracy: 0.9667\n",
            "Epoch 440/1000\n",
            "3/3 - 0s - loss: 1.2972e-04 - accuracy: 1.0000 - val_loss: 0.0697 - val_accuracy: 0.9667\n",
            "Epoch 441/1000\n",
            "3/3 - 0s - loss: 1.2829e-04 - accuracy: 1.0000 - val_loss: 0.0691 - val_accuracy: 0.9667\n",
            "Epoch 442/1000\n",
            "3/3 - 0s - loss: 1.2683e-04 - accuracy: 1.0000 - val_loss: 0.0652 - val_accuracy: 0.9667\n",
            "Epoch 443/1000\n",
            "3/3 - 0s - loss: 1.1650e-04 - accuracy: 1.0000 - val_loss: 0.0530 - val_accuracy: 0.9667\n",
            "Epoch 444/1000\n",
            "3/3 - 0s - loss: 1.2416e-04 - accuracy: 1.0000 - val_loss: 0.0462 - val_accuracy: 0.9667\n",
            "Epoch 445/1000\n",
            "3/3 - 0s - loss: 1.3521e-04 - accuracy: 1.0000 - val_loss: 0.0459 - val_accuracy: 0.9667\n",
            "Epoch 446/1000\n",
            "3/3 - 0s - loss: 1.2725e-04 - accuracy: 1.0000 - val_loss: 0.0516 - val_accuracy: 0.9667\n",
            "Epoch 447/1000\n",
            "3/3 - 0s - loss: 1.1403e-04 - accuracy: 1.0000 - val_loss: 0.0589 - val_accuracy: 0.9667\n",
            "Epoch 448/1000\n",
            "3/3 - 0s - loss: 1.0662e-04 - accuracy: 1.0000 - val_loss: 0.0651 - val_accuracy: 0.9667\n",
            "Epoch 449/1000\n",
            "3/3 - 0s - loss: 1.0644e-04 - accuracy: 1.0000 - val_loss: 0.0689 - val_accuracy: 0.9667\n",
            "Epoch 450/1000\n",
            "3/3 - 0s - loss: 1.0838e-04 - accuracy: 1.0000 - val_loss: 0.0701 - val_accuracy: 0.9667\n",
            "Epoch 451/1000\n",
            "3/3 - 0s - loss: 1.0826e-04 - accuracy: 1.0000 - val_loss: 0.0697 - val_accuracy: 0.9667\n",
            "Epoch 452/1000\n",
            "3/3 - 0s - loss: 1.0635e-04 - accuracy: 1.0000 - val_loss: 0.0671 - val_accuracy: 0.9667\n",
            "Epoch 453/1000\n",
            "3/3 - 0s - loss: 1.0155e-04 - accuracy: 1.0000 - val_loss: 0.0647 - val_accuracy: 0.9667\n",
            "Epoch 454/1000\n",
            "3/3 - 0s - loss: 9.8506e-05 - accuracy: 1.0000 - val_loss: 0.0619 - val_accuracy: 0.9667\n",
            "Epoch 455/1000\n",
            "3/3 - 0s - loss: 9.7078e-05 - accuracy: 1.0000 - val_loss: 0.0596 - val_accuracy: 0.9667\n",
            "Epoch 456/1000\n",
            "3/3 - 0s - loss: 9.6280e-05 - accuracy: 1.0000 - val_loss: 0.0574 - val_accuracy: 0.9667\n",
            "Epoch 457/1000\n",
            "3/3 - 0s - loss: 9.8037e-05 - accuracy: 1.0000 - val_loss: 0.0534 - val_accuracy: 0.9667\n",
            "Epoch 458/1000\n",
            "3/3 - 0s - loss: 1.0132e-04 - accuracy: 1.0000 - val_loss: 0.0515 - val_accuracy: 0.9667\n",
            "Epoch 459/1000\n",
            "3/3 - 0s - loss: 1.0360e-04 - accuracy: 1.0000 - val_loss: 0.0518 - val_accuracy: 0.9667\n",
            "Epoch 460/1000\n",
            "3/3 - 0s - loss: 9.7847e-05 - accuracy: 1.0000 - val_loss: 0.0572 - val_accuracy: 0.9667\n",
            "Epoch 461/1000\n",
            "3/3 - 0s - loss: 9.3209e-05 - accuracy: 1.0000 - val_loss: 0.0620 - val_accuracy: 0.9667\n",
            "Epoch 462/1000\n",
            "3/3 - 0s - loss: 8.9748e-05 - accuracy: 1.0000 - val_loss: 0.0641 - val_accuracy: 0.9667\n",
            "Epoch 463/1000\n",
            "3/3 - 0s - loss: 8.8290e-05 - accuracy: 1.0000 - val_loss: 0.0651 - val_accuracy: 0.9667\n",
            "Epoch 464/1000\n",
            "3/3 - 0s - loss: 8.7273e-05 - accuracy: 1.0000 - val_loss: 0.0649 - val_accuracy: 0.9667\n",
            "Epoch 465/1000\n",
            "3/3 - 0s - loss: 8.5837e-05 - accuracy: 1.0000 - val_loss: 0.0636 - val_accuracy: 0.9667\n",
            "Epoch 466/1000\n",
            "3/3 - 0s - loss: 8.6246e-05 - accuracy: 1.0000 - val_loss: 0.0625 - val_accuracy: 0.9667\n",
            "Epoch 467/1000\n",
            "3/3 - 0s - loss: 8.2832e-05 - accuracy: 1.0000 - val_loss: 0.0650 - val_accuracy: 0.9667\n",
            "Epoch 468/1000\n",
            "3/3 - 0s - loss: 8.2271e-05 - accuracy: 1.0000 - val_loss: 0.0664 - val_accuracy: 0.9667\n",
            "Epoch 469/1000\n",
            "3/3 - 0s - loss: 8.2059e-05 - accuracy: 1.0000 - val_loss: 0.0671 - val_accuracy: 0.9667\n",
            "Epoch 470/1000\n",
            "3/3 - 0s - loss: 8.1038e-05 - accuracy: 1.0000 - val_loss: 0.0669 - val_accuracy: 0.9667\n",
            "Epoch 471/1000\n",
            "3/3 - 0s - loss: 7.9523e-05 - accuracy: 1.0000 - val_loss: 0.0656 - val_accuracy: 0.9667\n",
            "Epoch 472/1000\n",
            "3/3 - 0s - loss: 7.8557e-05 - accuracy: 1.0000 - val_loss: 0.0635 - val_accuracy: 0.9667\n",
            "Epoch 473/1000\n",
            "3/3 - 0s - loss: 7.7821e-05 - accuracy: 1.0000 - val_loss: 0.0618 - val_accuracy: 0.9667\n",
            "Epoch 474/1000\n",
            "3/3 - 0s - loss: 7.6111e-05 - accuracy: 1.0000 - val_loss: 0.0606 - val_accuracy: 0.9667\n",
            "Epoch 475/1000\n",
            "3/3 - 0s - loss: 7.4813e-05 - accuracy: 1.0000 - val_loss: 0.0587 - val_accuracy: 0.9667\n",
            "Epoch 476/1000\n",
            "3/3 - 0s - loss: 7.5615e-05 - accuracy: 1.0000 - val_loss: 0.0560 - val_accuracy: 0.9667\n",
            "Epoch 477/1000\n",
            "3/3 - 0s - loss: 7.6417e-05 - accuracy: 1.0000 - val_loss: 0.0545 - val_accuracy: 0.9667\n",
            "Epoch 478/1000\n",
            "3/3 - 0s - loss: 7.7288e-05 - accuracy: 1.0000 - val_loss: 0.0566 - val_accuracy: 0.9667\n",
            "Epoch 479/1000\n",
            "3/3 - 0s - loss: 7.2117e-05 - accuracy: 1.0000 - val_loss: 0.0645 - val_accuracy: 0.9667\n",
            "Epoch 480/1000\n",
            "3/3 - 0s - loss: 7.2078e-05 - accuracy: 1.0000 - val_loss: 0.0692 - val_accuracy: 0.9667\n",
            "Epoch 481/1000\n",
            "3/3 - 0s - loss: 7.0964e-05 - accuracy: 1.0000 - val_loss: 0.0679 - val_accuracy: 0.9667\n",
            "Epoch 482/1000\n",
            "3/3 - 0s - loss: 6.9220e-05 - accuracy: 1.0000 - val_loss: 0.0664 - val_accuracy: 0.9667\n",
            "Epoch 483/1000\n",
            "3/3 - 0s - loss: 6.7457e-05 - accuracy: 1.0000 - val_loss: 0.0653 - val_accuracy: 0.9667\n",
            "Epoch 484/1000\n",
            "3/3 - 0s - loss: 6.6939e-05 - accuracy: 1.0000 - val_loss: 0.0642 - val_accuracy: 0.9667\n",
            "Epoch 485/1000\n",
            "3/3 - 0s - loss: 6.6082e-05 - accuracy: 1.0000 - val_loss: 0.0636 - val_accuracy: 0.9667\n",
            "Epoch 486/1000\n",
            "3/3 - 0s - loss: 6.5396e-05 - accuracy: 1.0000 - val_loss: 0.0636 - val_accuracy: 0.9667\n",
            "Epoch 487/1000\n",
            "3/3 - 0s - loss: 6.4715e-05 - accuracy: 1.0000 - val_loss: 0.0641 - val_accuracy: 0.9667\n",
            "Epoch 488/1000\n",
            "3/3 - 0s - loss: 6.3984e-05 - accuracy: 1.0000 - val_loss: 0.0656 - val_accuracy: 0.9667\n",
            "Epoch 489/1000\n",
            "3/3 - 0s - loss: 6.3662e-05 - accuracy: 1.0000 - val_loss: 0.0659 - val_accuracy: 0.9667\n",
            "Epoch 490/1000\n",
            "3/3 - 0s - loss: 6.3116e-05 - accuracy: 1.0000 - val_loss: 0.0644 - val_accuracy: 0.9667\n",
            "Epoch 491/1000\n",
            "3/3 - 0s - loss: 6.2490e-05 - accuracy: 1.0000 - val_loss: 0.0636 - val_accuracy: 0.9667\n",
            "Epoch 492/1000\n",
            "3/3 - 0s - loss: 6.1919e-05 - accuracy: 1.0000 - val_loss: 0.0638 - val_accuracy: 0.9667\n",
            "Epoch 493/1000\n",
            "3/3 - 0s - loss: 6.1077e-05 - accuracy: 1.0000 - val_loss: 0.0640 - val_accuracy: 0.9667\n",
            "Epoch 494/1000\n",
            "3/3 - 0s - loss: 6.0598e-05 - accuracy: 1.0000 - val_loss: 0.0645 - val_accuracy: 0.9667\n",
            "Epoch 495/1000\n",
            "3/3 - 0s - loss: 6.0025e-05 - accuracy: 1.0000 - val_loss: 0.0647 - val_accuracy: 0.9667\n",
            "Epoch 496/1000\n",
            "3/3 - 0s - loss: 5.9655e-05 - accuracy: 1.0000 - val_loss: 0.0655 - val_accuracy: 0.9667\n",
            "Epoch 497/1000\n",
            "3/3 - 0s - loss: 6.0012e-05 - accuracy: 1.0000 - val_loss: 0.0685 - val_accuracy: 0.9667\n",
            "Epoch 498/1000\n",
            "3/3 - 0s - loss: 5.9086e-05 - accuracy: 1.0000 - val_loss: 0.0692 - val_accuracy: 0.9667\n",
            "Epoch 499/1000\n",
            "3/3 - 0s - loss: 5.8751e-05 - accuracy: 1.0000 - val_loss: 0.0690 - val_accuracy: 0.9667\n",
            "Epoch 500/1000\n",
            "3/3 - 0s - loss: 5.7757e-05 - accuracy: 1.0000 - val_loss: 0.0659 - val_accuracy: 0.9667\n",
            "Epoch 501/1000\n",
            "3/3 - 0s - loss: 5.7772e-05 - accuracy: 1.0000 - val_loss: 0.0620 - val_accuracy: 0.9667\n",
            "Epoch 502/1000\n",
            "3/3 - 0s - loss: 5.8109e-05 - accuracy: 1.0000 - val_loss: 0.0616 - val_accuracy: 0.9667\n",
            "Epoch 503/1000\n",
            "3/3 - 0s - loss: 5.7602e-05 - accuracy: 1.0000 - val_loss: 0.0662 - val_accuracy: 0.9667\n",
            "Epoch 504/1000\n",
            "3/3 - 0s - loss: 5.5072e-05 - accuracy: 1.0000 - val_loss: 0.0673 - val_accuracy: 0.9667\n",
            "Epoch 505/1000\n",
            "3/3 - 0s - loss: 5.4312e-05 - accuracy: 1.0000 - val_loss: 0.0682 - val_accuracy: 0.9667\n",
            "Epoch 506/1000\n",
            "3/3 - 0s - loss: 5.4025e-05 - accuracy: 1.0000 - val_loss: 0.0679 - val_accuracy: 0.9667\n",
            "Epoch 507/1000\n",
            "3/3 - 0s - loss: 5.3210e-05 - accuracy: 1.0000 - val_loss: 0.0662 - val_accuracy: 0.9667\n",
            "Epoch 508/1000\n",
            "3/3 - 0s - loss: 5.2575e-05 - accuracy: 1.0000 - val_loss: 0.0654 - val_accuracy: 0.9667\n",
            "Epoch 509/1000\n",
            "3/3 - 0s - loss: 5.2233e-05 - accuracy: 1.0000 - val_loss: 0.0646 - val_accuracy: 0.9667\n",
            "Epoch 510/1000\n",
            "3/3 - 0s - loss: 5.1972e-05 - accuracy: 1.0000 - val_loss: 0.0642 - val_accuracy: 0.9667\n",
            "Epoch 511/1000\n",
            "3/3 - 0s - loss: 5.1554e-05 - accuracy: 1.0000 - val_loss: 0.0649 - val_accuracy: 0.9667\n",
            "Epoch 512/1000\n",
            "3/3 - 0s - loss: 5.0975e-05 - accuracy: 1.0000 - val_loss: 0.0644 - val_accuracy: 0.9667\n",
            "Epoch 513/1000\n",
            "3/3 - 0s - loss: 5.0530e-05 - accuracy: 1.0000 - val_loss: 0.0624 - val_accuracy: 0.9667\n",
            "Epoch 514/1000\n",
            "3/3 - 0s - loss: 5.0335e-05 - accuracy: 1.0000 - val_loss: 0.0619 - val_accuracy: 0.9667\n",
            "Epoch 515/1000\n",
            "3/3 - 0s - loss: 4.9905e-05 - accuracy: 1.0000 - val_loss: 0.0635 - val_accuracy: 0.9667\n",
            "Epoch 516/1000\n",
            "3/3 - 0s - loss: 4.9215e-05 - accuracy: 1.0000 - val_loss: 0.0651 - val_accuracy: 0.9667\n",
            "Epoch 517/1000\n",
            "3/3 - 0s - loss: 4.8598e-05 - accuracy: 1.0000 - val_loss: 0.0664 - val_accuracy: 0.9667\n",
            "Epoch 518/1000\n",
            "3/3 - 0s - loss: 4.8164e-05 - accuracy: 1.0000 - val_loss: 0.0669 - val_accuracy: 0.9667\n",
            "Epoch 519/1000\n",
            "3/3 - 0s - loss: 4.7908e-05 - accuracy: 1.0000 - val_loss: 0.0675 - val_accuracy: 0.9667\n",
            "Epoch 520/1000\n",
            "3/3 - 0s - loss: 4.7526e-05 - accuracy: 1.0000 - val_loss: 0.0675 - val_accuracy: 0.9667\n",
            "Epoch 521/1000\n",
            "3/3 - 0s - loss: 4.7031e-05 - accuracy: 1.0000 - val_loss: 0.0671 - val_accuracy: 0.9667\n",
            "Epoch 522/1000\n",
            "3/3 - 0s - loss: 4.6594e-05 - accuracy: 1.0000 - val_loss: 0.0670 - val_accuracy: 0.9667\n",
            "Epoch 523/1000\n",
            "3/3 - 0s - loss: 4.6263e-05 - accuracy: 1.0000 - val_loss: 0.0674 - val_accuracy: 0.9667\n",
            "Epoch 524/1000\n",
            "3/3 - 0s - loss: 4.6066e-05 - accuracy: 1.0000 - val_loss: 0.0685 - val_accuracy: 0.9667\n",
            "Epoch 525/1000\n",
            "3/3 - 0s - loss: 4.5545e-05 - accuracy: 1.0000 - val_loss: 0.0681 - val_accuracy: 0.9667\n",
            "Epoch 526/1000\n",
            "3/3 - 0s - loss: 4.4887e-05 - accuracy: 1.0000 - val_loss: 0.0690 - val_accuracy: 0.9667\n",
            "Epoch 527/1000\n",
            "3/3 - 0s - loss: 4.4585e-05 - accuracy: 1.0000 - val_loss: 0.0693 - val_accuracy: 0.9667\n",
            "Epoch 528/1000\n",
            "3/3 - 0s - loss: 4.4492e-05 - accuracy: 1.0000 - val_loss: 0.0700 - val_accuracy: 0.9667\n",
            "Epoch 529/1000\n",
            "3/3 - 0s - loss: 4.3640e-05 - accuracy: 1.0000 - val_loss: 0.0729 - val_accuracy: 0.9667\n",
            "Epoch 530/1000\n",
            "3/3 - 0s - loss: 4.4133e-05 - accuracy: 1.0000 - val_loss: 0.0756 - val_accuracy: 0.9667\n",
            "Epoch 531/1000\n",
            "3/3 - 0s - loss: 4.4728e-05 - accuracy: 1.0000 - val_loss: 0.0764 - val_accuracy: 0.9667\n",
            "Epoch 532/1000\n",
            "3/3 - 0s - loss: 4.4695e-05 - accuracy: 1.0000 - val_loss: 0.0763 - val_accuracy: 0.9667\n",
            "Epoch 533/1000\n",
            "3/3 - 0s - loss: 4.4073e-05 - accuracy: 1.0000 - val_loss: 0.0750 - val_accuracy: 0.9667\n",
            "Epoch 534/1000\n",
            "3/3 - 0s - loss: 4.3138e-05 - accuracy: 1.0000 - val_loss: 0.0730 - val_accuracy: 0.9667\n",
            "Epoch 535/1000\n",
            "3/3 - 0s - loss: 4.2373e-05 - accuracy: 1.0000 - val_loss: 0.0713 - val_accuracy: 0.9667\n",
            "Epoch 536/1000\n",
            "3/3 - 0s - loss: 4.1665e-05 - accuracy: 1.0000 - val_loss: 0.0705 - val_accuracy: 0.9667\n",
            "Epoch 537/1000\n",
            "3/3 - 0s - loss: 4.1370e-05 - accuracy: 1.0000 - val_loss: 0.0695 - val_accuracy: 0.9667\n",
            "Epoch 538/1000\n",
            "3/3 - 0s - loss: 4.1004e-05 - accuracy: 1.0000 - val_loss: 0.0691 - val_accuracy: 0.9667\n",
            "Epoch 539/1000\n",
            "3/3 - 0s - loss: 4.0539e-05 - accuracy: 1.0000 - val_loss: 0.0681 - val_accuracy: 0.9667\n",
            "Epoch 540/1000\n",
            "3/3 - 0s - loss: 4.0256e-05 - accuracy: 1.0000 - val_loss: 0.0662 - val_accuracy: 0.9667\n",
            "Epoch 541/1000\n",
            "3/3 - 0s - loss: 4.0388e-05 - accuracy: 1.0000 - val_loss: 0.0649 - val_accuracy: 0.9667\n",
            "Epoch 542/1000\n",
            "3/3 - 0s - loss: 3.9959e-05 - accuracy: 1.0000 - val_loss: 0.0642 - val_accuracy: 0.9667\n",
            "Epoch 543/1000\n",
            "3/3 - 0s - loss: 3.9355e-05 - accuracy: 1.0000 - val_loss: 0.0621 - val_accuracy: 0.9667\n",
            "Epoch 544/1000\n",
            "3/3 - 0s - loss: 3.9873e-05 - accuracy: 1.0000 - val_loss: 0.0607 - val_accuracy: 0.9667\n",
            "Epoch 545/1000\n",
            "3/3 - 0s - loss: 4.0231e-05 - accuracy: 1.0000 - val_loss: 0.0605 - val_accuracy: 0.9667\n",
            "Epoch 546/1000\n",
            "3/3 - 0s - loss: 3.9723e-05 - accuracy: 1.0000 - val_loss: 0.0615 - val_accuracy: 0.9667\n",
            "Epoch 547/1000\n",
            "3/3 - 0s - loss: 3.8841e-05 - accuracy: 1.0000 - val_loss: 0.0627 - val_accuracy: 0.9667\n",
            "Epoch 548/1000\n",
            "3/3 - 0s - loss: 3.8153e-05 - accuracy: 1.0000 - val_loss: 0.0641 - val_accuracy: 0.9667\n",
            "Epoch 549/1000\n",
            "3/3 - 0s - loss: 3.7870e-05 - accuracy: 1.0000 - val_loss: 0.0663 - val_accuracy: 0.9667\n",
            "Epoch 550/1000\n",
            "3/3 - 0s - loss: 3.7006e-05 - accuracy: 1.0000 - val_loss: 0.0688 - val_accuracy: 0.9667\n",
            "Epoch 551/1000\n",
            "3/3 - 0s - loss: 3.8009e-05 - accuracy: 1.0000 - val_loss: 0.0724 - val_accuracy: 0.9667\n",
            "Epoch 552/1000\n",
            "3/3 - 0s - loss: 3.6771e-05 - accuracy: 1.0000 - val_loss: 0.0717 - val_accuracy: 0.9667\n",
            "Epoch 553/1000\n",
            "3/3 - 0s - loss: 3.6250e-05 - accuracy: 1.0000 - val_loss: 0.0708 - val_accuracy: 0.9667\n",
            "Epoch 554/1000\n",
            "3/3 - 0s - loss: 3.5933e-05 - accuracy: 1.0000 - val_loss: 0.0702 - val_accuracy: 0.9667\n",
            "Epoch 555/1000\n",
            "3/3 - 0s - loss: 3.5550e-05 - accuracy: 1.0000 - val_loss: 0.0711 - val_accuracy: 0.9667\n",
            "Epoch 556/1000\n",
            "3/3 - 0s - loss: 3.5278e-05 - accuracy: 1.0000 - val_loss: 0.0710 - val_accuracy: 0.9667\n",
            "Epoch 557/1000\n",
            "3/3 - 0s - loss: 3.5075e-05 - accuracy: 1.0000 - val_loss: 0.0710 - val_accuracy: 0.9667\n",
            "Epoch 558/1000\n",
            "3/3 - 0s - loss: 3.4667e-05 - accuracy: 1.0000 - val_loss: 0.0707 - val_accuracy: 0.9667\n",
            "Epoch 559/1000\n",
            "3/3 - 0s - loss: 3.4442e-05 - accuracy: 1.0000 - val_loss: 0.0706 - val_accuracy: 0.9667\n",
            "Epoch 560/1000\n",
            "3/3 - 0s - loss: 3.4434e-05 - accuracy: 1.0000 - val_loss: 0.0698 - val_accuracy: 0.9667\n",
            "Epoch 561/1000\n",
            "3/3 - 0s - loss: 3.3919e-05 - accuracy: 1.0000 - val_loss: 0.0699 - val_accuracy: 0.9667\n",
            "Epoch 562/1000\n",
            "3/3 - 0s - loss: 3.3710e-05 - accuracy: 1.0000 - val_loss: 0.0699 - val_accuracy: 0.9667\n",
            "Epoch 563/1000\n",
            "3/3 - 0s - loss: 3.3477e-05 - accuracy: 1.0000 - val_loss: 0.0698 - val_accuracy: 0.9667\n",
            "Epoch 564/1000\n",
            "3/3 - 0s - loss: 3.3284e-05 - accuracy: 1.0000 - val_loss: 0.0695 - val_accuracy: 0.9667\n",
            "Epoch 565/1000\n",
            "3/3 - 0s - loss: 3.3134e-05 - accuracy: 1.0000 - val_loss: 0.0690 - val_accuracy: 0.9667\n",
            "Epoch 566/1000\n",
            "3/3 - 0s - loss: 3.3492e-05 - accuracy: 1.0000 - val_loss: 0.0670 - val_accuracy: 0.9667\n",
            "Epoch 567/1000\n",
            "3/3 - 0s - loss: 3.2568e-05 - accuracy: 1.0000 - val_loss: 0.0681 - val_accuracy: 0.9667\n",
            "Epoch 568/1000\n",
            "3/3 - 0s - loss: 3.2167e-05 - accuracy: 1.0000 - val_loss: 0.0701 - val_accuracy: 0.9667\n",
            "Epoch 569/1000\n",
            "3/3 - 0s - loss: 3.2090e-05 - accuracy: 1.0000 - val_loss: 0.0733 - val_accuracy: 0.9667\n",
            "Epoch 570/1000\n",
            "3/3 - 0s - loss: 3.2411e-05 - accuracy: 1.0000 - val_loss: 0.0753 - val_accuracy: 0.9667\n",
            "Epoch 571/1000\n",
            "3/3 - 0s - loss: 3.2806e-05 - accuracy: 1.0000 - val_loss: 0.0764 - val_accuracy: 0.9667\n",
            "Epoch 572/1000\n",
            "3/3 - 0s - loss: 3.2395e-05 - accuracy: 1.0000 - val_loss: 0.0759 - val_accuracy: 0.9667\n",
            "Epoch 573/1000\n",
            "3/3 - 0s - loss: 3.2079e-05 - accuracy: 1.0000 - val_loss: 0.0753 - val_accuracy: 0.9667\n",
            "Epoch 574/1000\n",
            "3/3 - 0s - loss: 3.1681e-05 - accuracy: 1.0000 - val_loss: 0.0753 - val_accuracy: 0.9667\n",
            "Epoch 575/1000\n",
            "3/3 - 0s - loss: 3.1403e-05 - accuracy: 1.0000 - val_loss: 0.0749 - val_accuracy: 0.9667\n",
            "Epoch 576/1000\n",
            "3/3 - 0s - loss: 3.1125e-05 - accuracy: 1.0000 - val_loss: 0.0740 - val_accuracy: 0.9667\n",
            "Epoch 577/1000\n",
            "3/3 - 0s - loss: 3.0693e-05 - accuracy: 1.0000 - val_loss: 0.0735 - val_accuracy: 0.9667\n",
            "Epoch 578/1000\n",
            "3/3 - 0s - loss: 3.0350e-05 - accuracy: 1.0000 - val_loss: 0.0726 - val_accuracy: 0.9667\n",
            "Epoch 579/1000\n",
            "3/3 - 0s - loss: 3.0198e-05 - accuracy: 1.0000 - val_loss: 0.0712 - val_accuracy: 0.9667\n",
            "Epoch 580/1000\n",
            "3/3 - 0s - loss: 2.9990e-05 - accuracy: 1.0000 - val_loss: 0.0708 - val_accuracy: 0.9667\n",
            "Epoch 581/1000\n",
            "3/3 - 0s - loss: 2.9505e-05 - accuracy: 1.0000 - val_loss: 0.0720 - val_accuracy: 0.9667\n",
            "Epoch 582/1000\n",
            "3/3 - 0s - loss: 2.9334e-05 - accuracy: 1.0000 - val_loss: 0.0709 - val_accuracy: 0.9667\n",
            "Epoch 583/1000\n",
            "3/3 - 0s - loss: 2.9636e-05 - accuracy: 1.0000 - val_loss: 0.0676 - val_accuracy: 0.9667\n",
            "Epoch 584/1000\n",
            "3/3 - 0s - loss: 2.8782e-05 - accuracy: 1.0000 - val_loss: 0.0659 - val_accuracy: 0.9667\n",
            "Epoch 585/1000\n",
            "3/3 - 0s - loss: 2.9042e-05 - accuracy: 1.0000 - val_loss: 0.0640 - val_accuracy: 0.9667\n",
            "Epoch 586/1000\n",
            "3/3 - 0s - loss: 2.9227e-05 - accuracy: 1.0000 - val_loss: 0.0631 - val_accuracy: 0.9667\n",
            "Epoch 587/1000\n",
            "3/3 - 0s - loss: 2.9103e-05 - accuracy: 1.0000 - val_loss: 0.0633 - val_accuracy: 0.9667\n",
            "Epoch 588/1000\n",
            "3/3 - 0s - loss: 2.8869e-05 - accuracy: 1.0000 - val_loss: 0.0631 - val_accuracy: 0.9667\n",
            "Epoch 589/1000\n",
            "3/3 - 0s - loss: 2.8707e-05 - accuracy: 1.0000 - val_loss: 0.0633 - val_accuracy: 0.9667\n",
            "Epoch 590/1000\n",
            "3/3 - 0s - loss: 2.8592e-05 - accuracy: 1.0000 - val_loss: 0.0641 - val_accuracy: 0.9667\n",
            "Epoch 591/1000\n",
            "3/3 - 0s - loss: 2.8143e-05 - accuracy: 1.0000 - val_loss: 0.0649 - val_accuracy: 0.9667\n",
            "Epoch 592/1000\n",
            "3/3 - 0s - loss: 2.7766e-05 - accuracy: 1.0000 - val_loss: 0.0658 - val_accuracy: 0.9667\n",
            "Epoch 593/1000\n",
            "3/3 - 0s - loss: 2.7418e-05 - accuracy: 1.0000 - val_loss: 0.0671 - val_accuracy: 0.9667\n",
            "Epoch 594/1000\n",
            "3/3 - 0s - loss: 2.7054e-05 - accuracy: 1.0000 - val_loss: 0.0684 - val_accuracy: 0.9667\n",
            "Epoch 595/1000\n",
            "3/3 - 0s - loss: 2.6826e-05 - accuracy: 1.0000 - val_loss: 0.0691 - val_accuracy: 0.9667\n",
            "Epoch 596/1000\n",
            "3/3 - 0s - loss: 2.6687e-05 - accuracy: 1.0000 - val_loss: 0.0698 - val_accuracy: 0.9667\n",
            "Epoch 597/1000\n",
            "3/3 - 0s - loss: 2.6559e-05 - accuracy: 1.0000 - val_loss: 0.0705 - val_accuracy: 0.9667\n",
            "Epoch 598/1000\n",
            "3/3 - 0s - loss: 2.6743e-05 - accuracy: 1.0000 - val_loss: 0.0711 - val_accuracy: 0.9667\n",
            "Epoch 599/1000\n",
            "3/3 - 0s - loss: 2.6284e-05 - accuracy: 1.0000 - val_loss: 0.0694 - val_accuracy: 0.9667\n",
            "Epoch 600/1000\n",
            "3/3 - 0s - loss: 2.6350e-05 - accuracy: 1.0000 - val_loss: 0.0678 - val_accuracy: 0.9667\n",
            "Epoch 601/1000\n",
            "3/3 - 0s - loss: 2.5971e-05 - accuracy: 1.0000 - val_loss: 0.0671 - val_accuracy: 0.9667\n",
            "Epoch 602/1000\n",
            "3/3 - 0s - loss: 2.6011e-05 - accuracy: 1.0000 - val_loss: 0.0651 - val_accuracy: 0.9667\n",
            "Epoch 603/1000\n",
            "3/3 - 0s - loss: 2.6085e-05 - accuracy: 1.0000 - val_loss: 0.0642 - val_accuracy: 0.9667\n",
            "Epoch 604/1000\n",
            "3/3 - 0s - loss: 2.6065e-05 - accuracy: 1.0000 - val_loss: 0.0643 - val_accuracy: 0.9667\n",
            "Epoch 605/1000\n",
            "3/3 - 0s - loss: 2.5885e-05 - accuracy: 1.0000 - val_loss: 0.0645 - val_accuracy: 0.9667\n",
            "Epoch 606/1000\n",
            "3/3 - 0s - loss: 2.5670e-05 - accuracy: 1.0000 - val_loss: 0.0651 - val_accuracy: 0.9667\n",
            "Epoch 607/1000\n",
            "3/3 - 0s - loss: 2.5402e-05 - accuracy: 1.0000 - val_loss: 0.0664 - val_accuracy: 0.9667\n",
            "Epoch 608/1000\n",
            "3/3 - 0s - loss: 2.4938e-05 - accuracy: 1.0000 - val_loss: 0.0680 - val_accuracy: 0.9667\n",
            "Epoch 609/1000\n",
            "3/3 - 0s - loss: 2.4904e-05 - accuracy: 1.0000 - val_loss: 0.0707 - val_accuracy: 0.9667\n",
            "Epoch 610/1000\n",
            "3/3 - 0s - loss: 2.4593e-05 - accuracy: 1.0000 - val_loss: 0.0723 - val_accuracy: 0.9667\n",
            "Epoch 611/1000\n",
            "3/3 - 0s - loss: 2.4545e-05 - accuracy: 1.0000 - val_loss: 0.0733 - val_accuracy: 0.9667\n",
            "Epoch 612/1000\n",
            "3/3 - 0s - loss: 2.4541e-05 - accuracy: 1.0000 - val_loss: 0.0742 - val_accuracy: 0.9667\n",
            "Epoch 613/1000\n",
            "3/3 - 0s - loss: 2.4450e-05 - accuracy: 1.0000 - val_loss: 0.0751 - val_accuracy: 0.9667\n",
            "Epoch 614/1000\n",
            "3/3 - 0s - loss: 2.4361e-05 - accuracy: 1.0000 - val_loss: 0.0756 - val_accuracy: 0.9667\n",
            "Epoch 615/1000\n",
            "3/3 - 0s - loss: 2.4470e-05 - accuracy: 1.0000 - val_loss: 0.0761 - val_accuracy: 0.9667\n",
            "Epoch 616/1000\n",
            "3/3 - 0s - loss: 2.4176e-05 - accuracy: 1.0000 - val_loss: 0.0737 - val_accuracy: 0.9667\n",
            "Epoch 617/1000\n",
            "3/3 - 0s - loss: 2.3563e-05 - accuracy: 1.0000 - val_loss: 0.0719 - val_accuracy: 0.9667\n",
            "Epoch 618/1000\n",
            "3/3 - 0s - loss: 2.3270e-05 - accuracy: 1.0000 - val_loss: 0.0703 - val_accuracy: 0.9667\n",
            "Epoch 619/1000\n",
            "3/3 - 0s - loss: 2.3328e-05 - accuracy: 1.0000 - val_loss: 0.0673 - val_accuracy: 0.9667\n",
            "Epoch 620/1000\n",
            "3/3 - 0s - loss: 2.3373e-05 - accuracy: 1.0000 - val_loss: 0.0657 - val_accuracy: 0.9667\n",
            "Epoch 621/1000\n",
            "3/3 - 0s - loss: 2.3419e-05 - accuracy: 1.0000 - val_loss: 0.0652 - val_accuracy: 0.9667\n",
            "Epoch 622/1000\n",
            "3/3 - 0s - loss: 2.3451e-05 - accuracy: 1.0000 - val_loss: 0.0656 - val_accuracy: 0.9667\n",
            "Epoch 623/1000\n",
            "3/3 - 0s - loss: 2.3183e-05 - accuracy: 1.0000 - val_loss: 0.0663 - val_accuracy: 0.9667\n",
            "Epoch 624/1000\n",
            "3/3 - 0s - loss: 2.2940e-05 - accuracy: 1.0000 - val_loss: 0.0670 - val_accuracy: 0.9667\n",
            "Epoch 625/1000\n",
            "3/3 - 0s - loss: 2.2784e-05 - accuracy: 1.0000 - val_loss: 0.0685 - val_accuracy: 0.9667\n",
            "Epoch 626/1000\n",
            "3/3 - 0s - loss: 2.2480e-05 - accuracy: 1.0000 - val_loss: 0.0699 - val_accuracy: 0.9667\n",
            "Epoch 627/1000\n",
            "3/3 - 0s - loss: 2.2200e-05 - accuracy: 1.0000 - val_loss: 0.0710 - val_accuracy: 0.9667\n",
            "Epoch 628/1000\n",
            "3/3 - 0s - loss: 2.2059e-05 - accuracy: 1.0000 - val_loss: 0.0717 - val_accuracy: 0.9667\n",
            "Epoch 629/1000\n",
            "3/3 - 0s - loss: 2.1987e-05 - accuracy: 1.0000 - val_loss: 0.0720 - val_accuracy: 0.9667\n",
            "Epoch 630/1000\n",
            "3/3 - 0s - loss: 2.1909e-05 - accuracy: 1.0000 - val_loss: 0.0722 - val_accuracy: 0.9667\n",
            "Epoch 631/1000\n",
            "3/3 - 0s - loss: 2.1835e-05 - accuracy: 1.0000 - val_loss: 0.0716 - val_accuracy: 0.9667\n",
            "Epoch 632/1000\n",
            "3/3 - 0s - loss: 2.1452e-05 - accuracy: 1.0000 - val_loss: 0.0690 - val_accuracy: 0.9667\n",
            "Epoch 633/1000\n",
            "3/3 - 0s - loss: 2.2017e-05 - accuracy: 1.0000 - val_loss: 0.0655 - val_accuracy: 0.9667\n",
            "Epoch 634/1000\n",
            "3/3 - 0s - loss: 2.2261e-05 - accuracy: 1.0000 - val_loss: 0.0637 - val_accuracy: 0.9667\n",
            "Epoch 635/1000\n",
            "3/3 - 0s - loss: 2.2184e-05 - accuracy: 1.0000 - val_loss: 0.0644 - val_accuracy: 0.9667\n",
            "Epoch 636/1000\n",
            "3/3 - 0s - loss: 2.2114e-05 - accuracy: 1.0000 - val_loss: 0.0666 - val_accuracy: 0.9667\n",
            "Epoch 637/1000\n",
            "3/3 - 0s - loss: 2.1295e-05 - accuracy: 1.0000 - val_loss: 0.0682 - val_accuracy: 0.9667\n",
            "Epoch 638/1000\n",
            "3/3 - 0s - loss: 2.1194e-05 - accuracy: 1.0000 - val_loss: 0.0702 - val_accuracy: 0.9667\n",
            "Epoch 639/1000\n",
            "3/3 - 0s - loss: 2.0900e-05 - accuracy: 1.0000 - val_loss: 0.0709 - val_accuracy: 0.9667\n",
            "Epoch 640/1000\n",
            "3/3 - 0s - loss: 2.0683e-05 - accuracy: 1.0000 - val_loss: 0.0700 - val_accuracy: 0.9667\n",
            "Epoch 641/1000\n",
            "3/3 - 0s - loss: 2.0594e-05 - accuracy: 1.0000 - val_loss: 0.0689 - val_accuracy: 0.9667\n",
            "Epoch 642/1000\n",
            "3/3 - 0s - loss: 2.0635e-05 - accuracy: 1.0000 - val_loss: 0.0668 - val_accuracy: 0.9667\n",
            "Epoch 643/1000\n",
            "3/3 - 0s - loss: 2.0602e-05 - accuracy: 1.0000 - val_loss: 0.0653 - val_accuracy: 0.9667\n",
            "Epoch 644/1000\n",
            "3/3 - 0s - loss: 2.0786e-05 - accuracy: 1.0000 - val_loss: 0.0645 - val_accuracy: 0.9667\n",
            "Epoch 645/1000\n",
            "3/3 - 0s - loss: 2.0791e-05 - accuracy: 1.0000 - val_loss: 0.0657 - val_accuracy: 0.9667\n",
            "Epoch 646/1000\n",
            "3/3 - 0s - loss: 2.0574e-05 - accuracy: 1.0000 - val_loss: 0.0671 - val_accuracy: 0.9667\n",
            "Epoch 647/1000\n",
            "3/3 - 0s - loss: 2.0104e-05 - accuracy: 1.0000 - val_loss: 0.0671 - val_accuracy: 0.9667\n",
            "Epoch 648/1000\n",
            "3/3 - 0s - loss: 1.9964e-05 - accuracy: 1.0000 - val_loss: 0.0664 - val_accuracy: 0.9667\n",
            "Epoch 649/1000\n",
            "3/3 - 0s - loss: 2.0035e-05 - accuracy: 1.0000 - val_loss: 0.0663 - val_accuracy: 0.9667\n",
            "Epoch 650/1000\n",
            "3/3 - 0s - loss: 1.9785e-05 - accuracy: 1.0000 - val_loss: 0.0670 - val_accuracy: 0.9667\n",
            "Epoch 651/1000\n",
            "3/3 - 0s - loss: 1.9593e-05 - accuracy: 1.0000 - val_loss: 0.0676 - val_accuracy: 0.9667\n",
            "Epoch 652/1000\n",
            "3/3 - 0s - loss: 1.9497e-05 - accuracy: 1.0000 - val_loss: 0.0686 - val_accuracy: 0.9667\n",
            "Epoch 653/1000\n",
            "3/3 - 0s - loss: 1.9372e-05 - accuracy: 1.0000 - val_loss: 0.0693 - val_accuracy: 0.9667\n",
            "Epoch 654/1000\n",
            "3/3 - 0s - loss: 1.9226e-05 - accuracy: 1.0000 - val_loss: 0.0700 - val_accuracy: 0.9667\n",
            "Epoch 655/1000\n",
            "3/3 - 0s - loss: 1.9115e-05 - accuracy: 1.0000 - val_loss: 0.0705 - val_accuracy: 0.9667\n",
            "Epoch 656/1000\n",
            "3/3 - 0s - loss: 1.9114e-05 - accuracy: 1.0000 - val_loss: 0.0714 - val_accuracy: 0.9667\n",
            "Epoch 657/1000\n",
            "3/3 - 0s - loss: 1.8986e-05 - accuracy: 1.0000 - val_loss: 0.0720 - val_accuracy: 0.9667\n",
            "Epoch 658/1000\n",
            "3/3 - 0s - loss: 1.8843e-05 - accuracy: 1.0000 - val_loss: 0.0721 - val_accuracy: 0.9667\n",
            "Epoch 659/1000\n",
            "3/3 - 0s - loss: 1.8750e-05 - accuracy: 1.0000 - val_loss: 0.0721 - val_accuracy: 0.9667\n",
            "Epoch 660/1000\n",
            "3/3 - 0s - loss: 1.8633e-05 - accuracy: 1.0000 - val_loss: 0.0710 - val_accuracy: 0.9667\n",
            "Epoch 661/1000\n",
            "3/3 - 0s - loss: 1.8556e-05 - accuracy: 1.0000 - val_loss: 0.0701 - val_accuracy: 0.9667\n",
            "Epoch 662/1000\n",
            "3/3 - 0s - loss: 1.8525e-05 - accuracy: 1.0000 - val_loss: 0.0704 - val_accuracy: 0.9667\n",
            "Epoch 663/1000\n",
            "3/3 - 0s - loss: 1.8187e-05 - accuracy: 1.0000 - val_loss: 0.0728 - val_accuracy: 0.9667\n",
            "Epoch 664/1000\n",
            "3/3 - 0s - loss: 1.8218e-05 - accuracy: 1.0000 - val_loss: 0.0749 - val_accuracy: 0.9667\n",
            "Epoch 665/1000\n",
            "3/3 - 0s - loss: 1.8202e-05 - accuracy: 1.0000 - val_loss: 0.0764 - val_accuracy: 0.9667\n",
            "Epoch 666/1000\n",
            "3/3 - 0s - loss: 1.8260e-05 - accuracy: 1.0000 - val_loss: 0.0773 - val_accuracy: 0.9667\n",
            "Epoch 667/1000\n",
            "3/3 - 0s - loss: 1.8108e-05 - accuracy: 1.0000 - val_loss: 0.0771 - val_accuracy: 0.9667\n",
            "Epoch 668/1000\n",
            "3/3 - 0s - loss: 1.8079e-05 - accuracy: 1.0000 - val_loss: 0.0758 - val_accuracy: 0.9667\n",
            "Epoch 669/1000\n",
            "3/3 - 0s - loss: 1.7713e-05 - accuracy: 1.0000 - val_loss: 0.0744 - val_accuracy: 0.9667\n",
            "Epoch 670/1000\n",
            "3/3 - 0s - loss: 1.7602e-05 - accuracy: 1.0000 - val_loss: 0.0715 - val_accuracy: 0.9667\n",
            "Epoch 671/1000\n",
            "3/3 - 0s - loss: 1.7488e-05 - accuracy: 1.0000 - val_loss: 0.0697 - val_accuracy: 0.9667\n",
            "Epoch 672/1000\n",
            "3/3 - 0s - loss: 1.7484e-05 - accuracy: 1.0000 - val_loss: 0.0691 - val_accuracy: 0.9667\n",
            "Epoch 673/1000\n",
            "3/3 - 0s - loss: 1.7537e-05 - accuracy: 1.0000 - val_loss: 0.0687 - val_accuracy: 0.9667\n",
            "Epoch 674/1000\n",
            "3/3 - 0s - loss: 1.7398e-05 - accuracy: 1.0000 - val_loss: 0.0692 - val_accuracy: 0.9667\n",
            "Epoch 675/1000\n",
            "3/3 - 0s - loss: 1.7275e-05 - accuracy: 1.0000 - val_loss: 0.0696 - val_accuracy: 0.9667\n",
            "Epoch 676/1000\n",
            "3/3 - 0s - loss: 1.7175e-05 - accuracy: 1.0000 - val_loss: 0.0701 - val_accuracy: 0.9667\n",
            "Epoch 677/1000\n",
            "3/3 - 0s - loss: 1.6978e-05 - accuracy: 1.0000 - val_loss: 0.0706 - val_accuracy: 0.9667\n",
            "Epoch 678/1000\n",
            "3/3 - 0s - loss: 1.6907e-05 - accuracy: 1.0000 - val_loss: 0.0709 - val_accuracy: 0.9667\n",
            "Epoch 679/1000\n",
            "3/3 - 0s - loss: 1.6847e-05 - accuracy: 1.0000 - val_loss: 0.0699 - val_accuracy: 0.9667\n",
            "Epoch 680/1000\n",
            "3/3 - 0s - loss: 1.6733e-05 - accuracy: 1.0000 - val_loss: 0.0701 - val_accuracy: 0.9667\n",
            "Epoch 681/1000\n",
            "3/3 - 0s - loss: 1.6643e-05 - accuracy: 1.0000 - val_loss: 0.0702 - val_accuracy: 0.9667\n",
            "Epoch 682/1000\n",
            "3/3 - 0s - loss: 1.6497e-05 - accuracy: 1.0000 - val_loss: 0.0707 - val_accuracy: 0.9667\n",
            "Epoch 683/1000\n",
            "3/3 - 0s - loss: 1.6368e-05 - accuracy: 1.0000 - val_loss: 0.0715 - val_accuracy: 0.9667\n",
            "Epoch 684/1000\n",
            "3/3 - 0s - loss: 1.6370e-05 - accuracy: 1.0000 - val_loss: 0.0720 - val_accuracy: 0.9667\n",
            "Epoch 685/1000\n",
            "3/3 - 0s - loss: 1.6192e-05 - accuracy: 1.0000 - val_loss: 0.0709 - val_accuracy: 0.9667\n",
            "Epoch 686/1000\n",
            "3/3 - 0s - loss: 1.6128e-05 - accuracy: 1.0000 - val_loss: 0.0706 - val_accuracy: 0.9667\n",
            "Epoch 687/1000\n",
            "3/3 - 0s - loss: 1.6018e-05 - accuracy: 1.0000 - val_loss: 0.0713 - val_accuracy: 0.9667\n",
            "Epoch 688/1000\n",
            "3/3 - 0s - loss: 1.5886e-05 - accuracy: 1.0000 - val_loss: 0.0727 - val_accuracy: 0.9667\n",
            "Epoch 689/1000\n",
            "3/3 - 0s - loss: 1.5804e-05 - accuracy: 1.0000 - val_loss: 0.0735 - val_accuracy: 0.9667\n",
            "Epoch 690/1000\n",
            "3/3 - 0s - loss: 1.5691e-05 - accuracy: 1.0000 - val_loss: 0.0739 - val_accuracy: 0.9667\n",
            "Epoch 691/1000\n",
            "3/3 - 0s - loss: 1.5592e-05 - accuracy: 1.0000 - val_loss: 0.0739 - val_accuracy: 0.9667\n",
            "Epoch 692/1000\n",
            "3/3 - 0s - loss: 1.5495e-05 - accuracy: 1.0000 - val_loss: 0.0729 - val_accuracy: 0.9667\n",
            "Epoch 693/1000\n",
            "3/3 - 0s - loss: 1.5375e-05 - accuracy: 1.0000 - val_loss: 0.0727 - val_accuracy: 0.9667\n",
            "Epoch 694/1000\n",
            "3/3 - 0s - loss: 1.5319e-05 - accuracy: 1.0000 - val_loss: 0.0724 - val_accuracy: 0.9667\n",
            "Epoch 695/1000\n",
            "3/3 - 0s - loss: 1.5279e-05 - accuracy: 1.0000 - val_loss: 0.0730 - val_accuracy: 0.9667\n",
            "Epoch 696/1000\n",
            "3/3 - 0s - loss: 1.5107e-05 - accuracy: 1.0000 - val_loss: 0.0757 - val_accuracy: 0.9667\n",
            "Epoch 697/1000\n",
            "3/3 - 0s - loss: 1.5345e-05 - accuracy: 1.0000 - val_loss: 0.0783 - val_accuracy: 0.9667\n",
            "Epoch 698/1000\n",
            "3/3 - 0s - loss: 1.5394e-05 - accuracy: 1.0000 - val_loss: 0.0796 - val_accuracy: 0.9667\n",
            "Epoch 699/1000\n",
            "3/3 - 0s - loss: 1.5245e-05 - accuracy: 1.0000 - val_loss: 0.0789 - val_accuracy: 0.9667\n",
            "Epoch 700/1000\n",
            "3/3 - 0s - loss: 1.5140e-05 - accuracy: 1.0000 - val_loss: 0.0768 - val_accuracy: 0.9667\n",
            "Epoch 701/1000\n",
            "3/3 - 0s - loss: 1.4991e-05 - accuracy: 1.0000 - val_loss: 0.0750 - val_accuracy: 0.9667\n",
            "Epoch 702/1000\n",
            "3/3 - 0s - loss: 1.4646e-05 - accuracy: 1.0000 - val_loss: 0.0737 - val_accuracy: 0.9667\n",
            "Epoch 703/1000\n",
            "3/3 - 0s - loss: 1.4560e-05 - accuracy: 1.0000 - val_loss: 0.0719 - val_accuracy: 0.9667\n",
            "Epoch 704/1000\n",
            "3/3 - 0s - loss: 1.4616e-05 - accuracy: 1.0000 - val_loss: 0.0708 - val_accuracy: 0.9667\n",
            "Epoch 705/1000\n",
            "3/3 - 0s - loss: 1.4612e-05 - accuracy: 1.0000 - val_loss: 0.0700 - val_accuracy: 0.9667\n",
            "Epoch 706/1000\n",
            "3/3 - 0s - loss: 1.4563e-05 - accuracy: 1.0000 - val_loss: 0.0694 - val_accuracy: 0.9667\n",
            "Epoch 707/1000\n",
            "3/3 - 0s - loss: 1.4504e-05 - accuracy: 1.0000 - val_loss: 0.0692 - val_accuracy: 0.9667\n",
            "Epoch 708/1000\n",
            "3/3 - 0s - loss: 1.4432e-05 - accuracy: 1.0000 - val_loss: 0.0684 - val_accuracy: 0.9667\n",
            "Epoch 709/1000\n",
            "3/3 - 0s - loss: 1.4451e-05 - accuracy: 1.0000 - val_loss: 0.0686 - val_accuracy: 0.9667\n",
            "Epoch 710/1000\n",
            "3/3 - 0s - loss: 1.4303e-05 - accuracy: 1.0000 - val_loss: 0.0690 - val_accuracy: 0.9667\n",
            "Epoch 711/1000\n",
            "3/3 - 0s - loss: 1.4160e-05 - accuracy: 1.0000 - val_loss: 0.0706 - val_accuracy: 0.9667\n",
            "Epoch 712/1000\n",
            "3/3 - 0s - loss: 1.4230e-05 - accuracy: 1.0000 - val_loss: 0.0739 - val_accuracy: 0.9667\n",
            "Epoch 713/1000\n",
            "3/3 - 0s - loss: 1.3887e-05 - accuracy: 1.0000 - val_loss: 0.0749 - val_accuracy: 0.9667\n",
            "Epoch 714/1000\n",
            "3/3 - 0s - loss: 1.3820e-05 - accuracy: 1.0000 - val_loss: 0.0759 - val_accuracy: 0.9667\n",
            "Epoch 715/1000\n",
            "3/3 - 0s - loss: 1.3894e-05 - accuracy: 1.0000 - val_loss: 0.0772 - val_accuracy: 0.9667\n",
            "Epoch 716/1000\n",
            "3/3 - 0s - loss: 1.3738e-05 - accuracy: 1.0000 - val_loss: 0.0762 - val_accuracy: 0.9667\n",
            "Epoch 717/1000\n",
            "3/3 - 0s - loss: 1.3612e-05 - accuracy: 1.0000 - val_loss: 0.0736 - val_accuracy: 0.9667\n",
            "Epoch 718/1000\n",
            "3/3 - 0s - loss: 1.3439e-05 - accuracy: 1.0000 - val_loss: 0.0718 - val_accuracy: 0.9667\n",
            "Epoch 719/1000\n",
            "3/3 - 0s - loss: 1.3411e-05 - accuracy: 1.0000 - val_loss: 0.0705 - val_accuracy: 0.9667\n",
            "Epoch 720/1000\n",
            "3/3 - 0s - loss: 1.3401e-05 - accuracy: 1.0000 - val_loss: 0.0703 - val_accuracy: 0.9667\n",
            "Epoch 721/1000\n",
            "3/3 - 0s - loss: 1.3375e-05 - accuracy: 1.0000 - val_loss: 0.0712 - val_accuracy: 0.9667\n",
            "Epoch 722/1000\n",
            "3/3 - 0s - loss: 1.3190e-05 - accuracy: 1.0000 - val_loss: 0.0722 - val_accuracy: 0.9667\n",
            "Epoch 723/1000\n",
            "3/3 - 0s - loss: 1.3133e-05 - accuracy: 1.0000 - val_loss: 0.0737 - val_accuracy: 0.9667\n",
            "Epoch 724/1000\n",
            "3/3 - 0s - loss: 1.3131e-05 - accuracy: 1.0000 - val_loss: 0.0743 - val_accuracy: 0.9667\n",
            "Epoch 725/1000\n",
            "3/3 - 0s - loss: 1.2996e-05 - accuracy: 1.0000 - val_loss: 0.0734 - val_accuracy: 0.9667\n",
            "Epoch 726/1000\n",
            "3/3 - 0s - loss: 1.2953e-05 - accuracy: 1.0000 - val_loss: 0.0730 - val_accuracy: 0.9667\n",
            "Epoch 727/1000\n",
            "3/3 - 0s - loss: 1.2825e-05 - accuracy: 1.0000 - val_loss: 0.0741 - val_accuracy: 0.9667\n",
            "Epoch 728/1000\n",
            "3/3 - 0s - loss: 1.2750e-05 - accuracy: 1.0000 - val_loss: 0.0749 - val_accuracy: 0.9667\n",
            "Epoch 729/1000\n",
            "3/3 - 0s - loss: 1.2713e-05 - accuracy: 1.0000 - val_loss: 0.0752 - val_accuracy: 0.9667\n",
            "Epoch 730/1000\n",
            "3/3 - 0s - loss: 1.2582e-05 - accuracy: 1.0000 - val_loss: 0.0746 - val_accuracy: 0.9667\n",
            "Epoch 731/1000\n",
            "3/3 - 0s - loss: 1.2562e-05 - accuracy: 1.0000 - val_loss: 0.0741 - val_accuracy: 0.9667\n",
            "Epoch 732/1000\n",
            "3/3 - 0s - loss: 1.2486e-05 - accuracy: 1.0000 - val_loss: 0.0740 - val_accuracy: 0.9667\n",
            "Epoch 733/1000\n",
            "3/3 - 0s - loss: 1.2464e-05 - accuracy: 1.0000 - val_loss: 0.0740 - val_accuracy: 0.9667\n",
            "Epoch 734/1000\n",
            "3/3 - 0s - loss: 1.2517e-05 - accuracy: 1.0000 - val_loss: 0.0729 - val_accuracy: 0.9667\n",
            "Epoch 735/1000\n",
            "3/3 - 0s - loss: 1.2403e-05 - accuracy: 1.0000 - val_loss: 0.0729 - val_accuracy: 0.9667\n",
            "Epoch 736/1000\n",
            "3/3 - 0s - loss: 1.2294e-05 - accuracy: 1.0000 - val_loss: 0.0735 - val_accuracy: 0.9667\n",
            "Epoch 737/1000\n",
            "3/3 - 0s - loss: 1.2196e-05 - accuracy: 1.0000 - val_loss: 0.0741 - val_accuracy: 0.9667\n",
            "Epoch 738/1000\n",
            "3/3 - 0s - loss: 1.2134e-05 - accuracy: 1.0000 - val_loss: 0.0749 - val_accuracy: 0.9667\n",
            "Epoch 739/1000\n",
            "3/3 - 0s - loss: 1.2061e-05 - accuracy: 1.0000 - val_loss: 0.0756 - val_accuracy: 0.9667\n",
            "Epoch 740/1000\n",
            "3/3 - 0s - loss: 1.2028e-05 - accuracy: 1.0000 - val_loss: 0.0763 - val_accuracy: 0.9667\n",
            "Epoch 741/1000\n",
            "3/3 - 0s - loss: 1.2016e-05 - accuracy: 1.0000 - val_loss: 0.0770 - val_accuracy: 0.9667\n",
            "Epoch 742/1000\n",
            "3/3 - 0s - loss: 1.1977e-05 - accuracy: 1.0000 - val_loss: 0.0774 - val_accuracy: 0.9667\n",
            "Epoch 743/1000\n",
            "3/3 - 0s - loss: 1.1934e-05 - accuracy: 1.0000 - val_loss: 0.0774 - val_accuracy: 0.9667\n",
            "Epoch 744/1000\n",
            "3/3 - 0s - loss: 1.1884e-05 - accuracy: 1.0000 - val_loss: 0.0773 - val_accuracy: 0.9667\n",
            "Epoch 745/1000\n",
            "3/3 - 0s - loss: 1.1846e-05 - accuracy: 1.0000 - val_loss: 0.0771 - val_accuracy: 0.9667\n",
            "Epoch 746/1000\n",
            "3/3 - 0s - loss: 1.1795e-05 - accuracy: 1.0000 - val_loss: 0.0766 - val_accuracy: 0.9667\n",
            "Epoch 747/1000\n",
            "3/3 - 0s - loss: 1.1724e-05 - accuracy: 1.0000 - val_loss: 0.0765 - val_accuracy: 0.9667\n",
            "Epoch 748/1000\n",
            "3/3 - 0s - loss: 1.1659e-05 - accuracy: 1.0000 - val_loss: 0.0765 - val_accuracy: 0.9667\n",
            "Epoch 749/1000\n",
            "3/3 - 0s - loss: 1.1619e-05 - accuracy: 1.0000 - val_loss: 0.0763 - val_accuracy: 0.9667\n",
            "Epoch 750/1000\n",
            "3/3 - 0s - loss: 1.1579e-05 - accuracy: 1.0000 - val_loss: 0.0768 - val_accuracy: 0.9667\n",
            "Epoch 751/1000\n",
            "3/3 - 0s - loss: 1.1538e-05 - accuracy: 1.0000 - val_loss: 0.0785 - val_accuracy: 0.9667\n",
            "Epoch 752/1000\n",
            "3/3 - 0s - loss: 1.1548e-05 - accuracy: 1.0000 - val_loss: 0.0796 - val_accuracy: 0.9667\n",
            "Epoch 753/1000\n",
            "3/3 - 0s - loss: 1.1554e-05 - accuracy: 1.0000 - val_loss: 0.0805 - val_accuracy: 0.9667\n",
            "Epoch 754/1000\n",
            "3/3 - 0s - loss: 1.1500e-05 - accuracy: 1.0000 - val_loss: 0.0820 - val_accuracy: 0.9667\n",
            "Epoch 755/1000\n",
            "3/3 - 0s - loss: 1.1566e-05 - accuracy: 1.0000 - val_loss: 0.0832 - val_accuracy: 0.9667\n",
            "Epoch 756/1000\n",
            "3/3 - 0s - loss: 1.1634e-05 - accuracy: 1.0000 - val_loss: 0.0838 - val_accuracy: 0.9667\n",
            "Epoch 757/1000\n",
            "3/3 - 0s - loss: 1.1585e-05 - accuracy: 1.0000 - val_loss: 0.0832 - val_accuracy: 0.9667\n",
            "Epoch 758/1000\n",
            "3/3 - 0s - loss: 1.1401e-05 - accuracy: 1.0000 - val_loss: 0.0814 - val_accuracy: 0.9667\n",
            "Epoch 759/1000\n",
            "3/3 - 0s - loss: 1.1252e-05 - accuracy: 1.0000 - val_loss: 0.0787 - val_accuracy: 0.9667\n",
            "Epoch 760/1000\n",
            "3/3 - 0s - loss: 1.1034e-05 - accuracy: 1.0000 - val_loss: 0.0763 - val_accuracy: 0.9667\n",
            "Epoch 761/1000\n",
            "3/3 - 0s - loss: 1.1059e-05 - accuracy: 1.0000 - val_loss: 0.0745 - val_accuracy: 0.9667\n",
            "Epoch 762/1000\n",
            "3/3 - 0s - loss: 1.1031e-05 - accuracy: 1.0000 - val_loss: 0.0737 - val_accuracy: 0.9667\n",
            "Epoch 763/1000\n",
            "3/3 - 0s - loss: 1.1026e-05 - accuracy: 1.0000 - val_loss: 0.0734 - val_accuracy: 0.9667\n",
            "Epoch 764/1000\n",
            "3/3 - 0s - loss: 1.0991e-05 - accuracy: 1.0000 - val_loss: 0.0734 - val_accuracy: 0.9667\n",
            "Epoch 765/1000\n",
            "3/3 - 0s - loss: 1.0967e-05 - accuracy: 1.0000 - val_loss: 0.0735 - val_accuracy: 0.9667\n",
            "Epoch 766/1000\n",
            "3/3 - 0s - loss: 1.0896e-05 - accuracy: 1.0000 - val_loss: 0.0743 - val_accuracy: 0.9667\n",
            "Epoch 767/1000\n",
            "3/3 - 0s - loss: 1.0806e-05 - accuracy: 1.0000 - val_loss: 0.0755 - val_accuracy: 0.9667\n",
            "Epoch 768/1000\n",
            "3/3 - 0s - loss: 1.0730e-05 - accuracy: 1.0000 - val_loss: 0.0767 - val_accuracy: 0.9667\n",
            "Epoch 769/1000\n",
            "3/3 - 0s - loss: 1.0646e-05 - accuracy: 1.0000 - val_loss: 0.0775 - val_accuracy: 0.9667\n",
            "Epoch 770/1000\n",
            "3/3 - 0s - loss: 1.0676e-05 - accuracy: 1.0000 - val_loss: 0.0777 - val_accuracy: 0.9667\n",
            "Epoch 771/1000\n",
            "3/3 - 0s - loss: 1.0574e-05 - accuracy: 1.0000 - val_loss: 0.0764 - val_accuracy: 0.9667\n",
            "Epoch 772/1000\n",
            "3/3 - 0s - loss: 1.0512e-05 - accuracy: 1.0000 - val_loss: 0.0753 - val_accuracy: 0.9667\n",
            "Epoch 773/1000\n",
            "3/3 - 0s - loss: 1.0597e-05 - accuracy: 1.0000 - val_loss: 0.0730 - val_accuracy: 0.9667\n",
            "Epoch 774/1000\n",
            "3/3 - 0s - loss: 1.0624e-05 - accuracy: 1.0000 - val_loss: 0.0718 - val_accuracy: 0.9667\n",
            "Epoch 775/1000\n",
            "3/3 - 0s - loss: 1.0640e-05 - accuracy: 1.0000 - val_loss: 0.0723 - val_accuracy: 0.9667\n",
            "Epoch 776/1000\n",
            "3/3 - 0s - loss: 1.0546e-05 - accuracy: 1.0000 - val_loss: 0.0724 - val_accuracy: 0.9667\n",
            "Epoch 777/1000\n",
            "3/3 - 0s - loss: 1.0529e-05 - accuracy: 1.0000 - val_loss: 0.0745 - val_accuracy: 0.9667\n",
            "Epoch 778/1000\n",
            "3/3 - 0s - loss: 1.0233e-05 - accuracy: 1.0000 - val_loss: 0.0749 - val_accuracy: 0.9667\n",
            "Epoch 779/1000\n",
            "3/3 - 0s - loss: 1.0233e-05 - accuracy: 1.0000 - val_loss: 0.0752 - val_accuracy: 0.9667\n",
            "Epoch 780/1000\n",
            "3/3 - 0s - loss: 1.0154e-05 - accuracy: 1.0000 - val_loss: 0.0747 - val_accuracy: 0.9667\n",
            "Epoch 781/1000\n",
            "3/3 - 0s - loss: 1.0109e-05 - accuracy: 1.0000 - val_loss: 0.0742 - val_accuracy: 0.9667\n",
            "Epoch 782/1000\n",
            "3/3 - 0s - loss: 1.0048e-05 - accuracy: 1.0000 - val_loss: 0.0749 - val_accuracy: 0.9667\n",
            "Epoch 783/1000\n",
            "3/3 - 0s - loss: 1.0002e-05 - accuracy: 1.0000 - val_loss: 0.0771 - val_accuracy: 0.9667\n",
            "Epoch 784/1000\n",
            "3/3 - 0s - loss: 1.0023e-05 - accuracy: 1.0000 - val_loss: 0.0784 - val_accuracy: 0.9667\n",
            "Epoch 785/1000\n",
            "3/3 - 0s - loss: 9.9240e-06 - accuracy: 1.0000 - val_loss: 0.0780 - val_accuracy: 0.9667\n",
            "Epoch 786/1000\n",
            "3/3 - 0s - loss: 9.8657e-06 - accuracy: 1.0000 - val_loss: 0.0776 - val_accuracy: 0.9667\n",
            "Epoch 787/1000\n",
            "3/3 - 0s - loss: 9.8326e-06 - accuracy: 1.0000 - val_loss: 0.0776 - val_accuracy: 0.9667\n",
            "Epoch 788/1000\n",
            "3/3 - 0s - loss: 9.7624e-06 - accuracy: 1.0000 - val_loss: 0.0788 - val_accuracy: 0.9667\n",
            "Epoch 789/1000\n",
            "3/3 - 0s - loss: 9.7121e-06 - accuracy: 1.0000 - val_loss: 0.0798 - val_accuracy: 0.9667\n",
            "Epoch 790/1000\n",
            "3/3 - 0s - loss: 9.7624e-06 - accuracy: 1.0000 - val_loss: 0.0818 - val_accuracy: 0.9667\n",
            "Epoch 791/1000\n",
            "3/3 - 0s - loss: 9.7094e-06 - accuracy: 1.0000 - val_loss: 0.0827 - val_accuracy: 0.9667\n",
            "Epoch 792/1000\n",
            "3/3 - 0s - loss: 9.7319e-06 - accuracy: 1.0000 - val_loss: 0.0835 - val_accuracy: 0.9667\n",
            "Epoch 793/1000\n",
            "3/3 - 0s - loss: 9.8021e-06 - accuracy: 1.0000 - val_loss: 0.0837 - val_accuracy: 0.9667\n",
            "Epoch 794/1000\n",
            "3/3 - 0s - loss: 9.7571e-06 - accuracy: 1.0000 - val_loss: 0.0817 - val_accuracy: 0.9667\n",
            "Epoch 795/1000\n",
            "3/3 - 0s - loss: 9.5267e-06 - accuracy: 1.0000 - val_loss: 0.0803 - val_accuracy: 0.9667\n",
            "Epoch 796/1000\n",
            "3/3 - 0s - loss: 9.4446e-06 - accuracy: 1.0000 - val_loss: 0.0794 - val_accuracy: 0.9667\n",
            "Epoch 797/1000\n",
            "3/3 - 0s - loss: 9.3439e-06 - accuracy: 1.0000 - val_loss: 0.0794 - val_accuracy: 0.9667\n",
            "Epoch 798/1000\n",
            "3/3 - 0s - loss: 9.2949e-06 - accuracy: 1.0000 - val_loss: 0.0791 - val_accuracy: 0.9667\n",
            "Epoch 799/1000\n",
            "3/3 - 0s - loss: 9.2274e-06 - accuracy: 1.0000 - val_loss: 0.0790 - val_accuracy: 0.9667\n",
            "Epoch 800/1000\n",
            "3/3 - 0s - loss: 9.2035e-06 - accuracy: 1.0000 - val_loss: 0.0792 - val_accuracy: 0.9667\n",
            "Epoch 801/1000\n",
            "3/3 - 0s - loss: 9.1638e-06 - accuracy: 1.0000 - val_loss: 0.0794 - val_accuracy: 0.9667\n",
            "Epoch 802/1000\n",
            "3/3 - 0s - loss: 9.1267e-06 - accuracy: 1.0000 - val_loss: 0.0797 - val_accuracy: 0.9667\n",
            "Epoch 803/1000\n",
            "3/3 - 0s - loss: 9.0989e-06 - accuracy: 1.0000 - val_loss: 0.0797 - val_accuracy: 0.9667\n",
            "Epoch 804/1000\n",
            "3/3 - 0s - loss: 9.0843e-06 - accuracy: 1.0000 - val_loss: 0.0795 - val_accuracy: 0.9667\n",
            "Epoch 805/1000\n",
            "3/3 - 0s - loss: 9.0248e-06 - accuracy: 1.0000 - val_loss: 0.0796 - val_accuracy: 0.9667\n",
            "Epoch 806/1000\n",
            "3/3 - 0s - loss: 8.9930e-06 - accuracy: 1.0000 - val_loss: 0.0795 - val_accuracy: 0.9667\n",
            "Epoch 807/1000\n",
            "3/3 - 0s - loss: 9.0062e-06 - accuracy: 1.0000 - val_loss: 0.0788 - val_accuracy: 0.9667\n",
            "Epoch 808/1000\n",
            "3/3 - 0s - loss: 8.9162e-06 - accuracy: 1.0000 - val_loss: 0.0785 - val_accuracy: 0.9667\n",
            "Epoch 809/1000\n",
            "3/3 - 0s - loss: 8.8817e-06 - accuracy: 1.0000 - val_loss: 0.0785 - val_accuracy: 0.9667\n",
            "Epoch 810/1000\n",
            "3/3 - 0s - loss: 8.8393e-06 - accuracy: 1.0000 - val_loss: 0.0784 - val_accuracy: 0.9667\n",
            "Epoch 811/1000\n",
            "3/3 - 0s - loss: 8.7930e-06 - accuracy: 1.0000 - val_loss: 0.0778 - val_accuracy: 0.9667\n",
            "Epoch 812/1000\n",
            "3/3 - 0s - loss: 8.7652e-06 - accuracy: 1.0000 - val_loss: 0.0774 - val_accuracy: 0.9667\n",
            "Epoch 813/1000\n",
            "3/3 - 0s - loss: 8.7360e-06 - accuracy: 1.0000 - val_loss: 0.0774 - val_accuracy: 0.9667\n",
            "Epoch 814/1000\n",
            "3/3 - 0s - loss: 8.6923e-06 - accuracy: 1.0000 - val_loss: 0.0779 - val_accuracy: 0.9667\n",
            "Epoch 815/1000\n",
            "3/3 - 0s - loss: 8.6341e-06 - accuracy: 1.0000 - val_loss: 0.0785 - val_accuracy: 0.9667\n",
            "Epoch 816/1000\n",
            "3/3 - 0s - loss: 8.6129e-06 - accuracy: 1.0000 - val_loss: 0.0787 - val_accuracy: 0.9667\n",
            "Epoch 817/1000\n",
            "3/3 - 0s - loss: 8.6116e-06 - accuracy: 1.0000 - val_loss: 0.0780 - val_accuracy: 0.9667\n",
            "Epoch 818/1000\n",
            "3/3 - 0s - loss: 8.5573e-06 - accuracy: 1.0000 - val_loss: 0.0776 - val_accuracy: 0.9667\n",
            "Epoch 819/1000\n",
            "3/3 - 0s - loss: 8.5811e-06 - accuracy: 1.0000 - val_loss: 0.0759 - val_accuracy: 0.9667\n",
            "Epoch 820/1000\n",
            "3/3 - 0s - loss: 8.5069e-06 - accuracy: 1.0000 - val_loss: 0.0753 - val_accuracy: 0.9667\n",
            "Epoch 821/1000\n",
            "3/3 - 0s - loss: 8.5347e-06 - accuracy: 1.0000 - val_loss: 0.0749 - val_accuracy: 0.9667\n",
            "Epoch 822/1000\n",
            "3/3 - 0s - loss: 8.5029e-06 - accuracy: 1.0000 - val_loss: 0.0754 - val_accuracy: 0.9667\n",
            "Epoch 823/1000\n",
            "3/3 - 0s - loss: 8.4367e-06 - accuracy: 1.0000 - val_loss: 0.0756 - val_accuracy: 0.9667\n",
            "Epoch 824/1000\n",
            "3/3 - 0s - loss: 8.3917e-06 - accuracy: 1.0000 - val_loss: 0.0756 - val_accuracy: 0.9667\n",
            "Epoch 825/1000\n",
            "3/3 - 0s - loss: 8.3745e-06 - accuracy: 1.0000 - val_loss: 0.0762 - val_accuracy: 0.9667\n",
            "Epoch 826/1000\n",
            "3/3 - 0s - loss: 8.3242e-06 - accuracy: 1.0000 - val_loss: 0.0787 - val_accuracy: 0.9667\n",
            "Epoch 827/1000\n",
            "3/3 - 0s - loss: 8.3493e-06 - accuracy: 1.0000 - val_loss: 0.0803 - val_accuracy: 0.9667\n",
            "Epoch 828/1000\n",
            "3/3 - 0s - loss: 8.2791e-06 - accuracy: 1.0000 - val_loss: 0.0805 - val_accuracy: 0.9667\n",
            "Epoch 829/1000\n",
            "3/3 - 0s - loss: 8.2593e-06 - accuracy: 1.0000 - val_loss: 0.0810 - val_accuracy: 0.9667\n",
            "Epoch 830/1000\n",
            "3/3 - 0s - loss: 8.2301e-06 - accuracy: 1.0000 - val_loss: 0.0811 - val_accuracy: 0.9667\n",
            "Epoch 831/1000\n",
            "3/3 - 0s - loss: 8.2037e-06 - accuracy: 1.0000 - val_loss: 0.0809 - val_accuracy: 0.9667\n",
            "Epoch 832/1000\n",
            "3/3 - 0s - loss: 8.1785e-06 - accuracy: 1.0000 - val_loss: 0.0810 - val_accuracy: 0.9667\n",
            "Epoch 833/1000\n",
            "3/3 - 0s - loss: 8.1057e-06 - accuracy: 1.0000 - val_loss: 0.0822 - val_accuracy: 0.9667\n",
            "Epoch 834/1000\n",
            "3/3 - 0s - loss: 8.1388e-06 - accuracy: 1.0000 - val_loss: 0.0837 - val_accuracy: 0.9667\n",
            "Epoch 835/1000\n",
            "3/3 - 0s - loss: 8.1401e-06 - accuracy: 1.0000 - val_loss: 0.0844 - val_accuracy: 0.9667\n",
            "Epoch 836/1000\n",
            "3/3 - 0s - loss: 8.1388e-06 - accuracy: 1.0000 - val_loss: 0.0848 - val_accuracy: 0.9667\n",
            "Epoch 837/1000\n",
            "3/3 - 0s - loss: 8.1520e-06 - accuracy: 1.0000 - val_loss: 0.0854 - val_accuracy: 0.9667\n",
            "Epoch 838/1000\n",
            "3/3 - 0s - loss: 8.0937e-06 - accuracy: 1.0000 - val_loss: 0.0847 - val_accuracy: 0.9667\n",
            "Epoch 839/1000\n",
            "3/3 - 0s - loss: 8.0222e-06 - accuracy: 1.0000 - val_loss: 0.0840 - val_accuracy: 0.9667\n",
            "Epoch 840/1000\n",
            "3/3 - 0s - loss: 7.9520e-06 - accuracy: 1.0000 - val_loss: 0.0830 - val_accuracy: 0.9667\n",
            "Epoch 841/1000\n",
            "3/3 - 0s - loss: 7.8765e-06 - accuracy: 1.0000 - val_loss: 0.0820 - val_accuracy: 0.9667\n",
            "Epoch 842/1000\n",
            "3/3 - 0s - loss: 7.8553e-06 - accuracy: 1.0000 - val_loss: 0.0809 - val_accuracy: 0.9667\n",
            "Epoch 843/1000\n",
            "3/3 - 0s - loss: 7.7666e-06 - accuracy: 1.0000 - val_loss: 0.0808 - val_accuracy: 0.9667\n",
            "Epoch 844/1000\n",
            "3/3 - 0s - loss: 7.7242e-06 - accuracy: 1.0000 - val_loss: 0.0817 - val_accuracy: 0.9667\n",
            "Epoch 845/1000\n",
            "3/3 - 0s - loss: 7.7216e-06 - accuracy: 1.0000 - val_loss: 0.0822 - val_accuracy: 0.9667\n",
            "Epoch 846/1000\n",
            "3/3 - 0s - loss: 7.7057e-06 - accuracy: 1.0000 - val_loss: 0.0824 - val_accuracy: 0.9667\n",
            "Epoch 847/1000\n",
            "3/3 - 0s - loss: 7.6977e-06 - accuracy: 1.0000 - val_loss: 0.0820 - val_accuracy: 0.9667\n",
            "Epoch 848/1000\n",
            "3/3 - 0s - loss: 7.6382e-06 - accuracy: 1.0000 - val_loss: 0.0812 - val_accuracy: 0.9667\n",
            "Epoch 849/1000\n",
            "3/3 - 0s - loss: 7.6289e-06 - accuracy: 1.0000 - val_loss: 0.0793 - val_accuracy: 0.9667\n",
            "Epoch 850/1000\n",
            "3/3 - 0s - loss: 7.5587e-06 - accuracy: 1.0000 - val_loss: 0.0785 - val_accuracy: 0.9667\n",
            "Epoch 851/1000\n",
            "3/3 - 0s - loss: 7.5759e-06 - accuracy: 1.0000 - val_loss: 0.0786 - val_accuracy: 0.9667\n",
            "Epoch 852/1000\n",
            "3/3 - 0s - loss: 7.4673e-06 - accuracy: 1.0000 - val_loss: 0.0805 - val_accuracy: 0.9667\n",
            "Epoch 853/1000\n",
            "3/3 - 0s - loss: 7.5375e-06 - accuracy: 1.0000 - val_loss: 0.0837 - val_accuracy: 0.9667\n",
            "Epoch 854/1000\n",
            "3/3 - 0s - loss: 7.5150e-06 - accuracy: 1.0000 - val_loss: 0.0861 - val_accuracy: 0.9667\n",
            "Epoch 855/1000\n",
            "3/3 - 0s - loss: 7.5772e-06 - accuracy: 1.0000 - val_loss: 0.0881 - val_accuracy: 0.9667\n",
            "Epoch 856/1000\n",
            "3/3 - 0s - loss: 7.6898e-06 - accuracy: 1.0000 - val_loss: 0.0894 - val_accuracy: 0.9667\n",
            "Epoch 857/1000\n",
            "3/3 - 0s - loss: 7.6964e-06 - accuracy: 1.0000 - val_loss: 0.0896 - val_accuracy: 0.9667\n",
            "Epoch 858/1000\n",
            "3/3 - 0s - loss: 7.6898e-06 - accuracy: 1.0000 - val_loss: 0.0888 - val_accuracy: 0.9667\n",
            "Epoch 859/1000\n",
            "3/3 - 0s - loss: 7.6514e-06 - accuracy: 1.0000 - val_loss: 0.0860 - val_accuracy: 0.9667\n",
            "Epoch 860/1000\n",
            "3/3 - 0s - loss: 7.3733e-06 - accuracy: 1.0000 - val_loss: 0.0838 - val_accuracy: 0.9667\n",
            "Epoch 861/1000\n",
            "3/3 - 0s - loss: 7.2885e-06 - accuracy: 1.0000 - val_loss: 0.0823 - val_accuracy: 0.9667\n",
            "Epoch 862/1000\n",
            "3/3 - 0s - loss: 7.2263e-06 - accuracy: 1.0000 - val_loss: 0.0818 - val_accuracy: 0.9667\n",
            "Epoch 863/1000\n",
            "3/3 - 0s - loss: 7.1680e-06 - accuracy: 1.0000 - val_loss: 0.0819 - val_accuracy: 0.9667\n",
            "Epoch 864/1000\n",
            "3/3 - 0s - loss: 7.1296e-06 - accuracy: 1.0000 - val_loss: 0.0819 - val_accuracy: 0.9667\n",
            "Epoch 865/1000\n",
            "3/3 - 0s - loss: 7.1071e-06 - accuracy: 1.0000 - val_loss: 0.0819 - val_accuracy: 0.9667\n",
            "Epoch 866/1000\n",
            "3/3 - 0s - loss: 7.0753e-06 - accuracy: 1.0000 - val_loss: 0.0819 - val_accuracy: 0.9667\n",
            "Epoch 867/1000\n",
            "3/3 - 0s - loss: 7.0647e-06 - accuracy: 1.0000 - val_loss: 0.0821 - val_accuracy: 0.9667\n",
            "Epoch 868/1000\n",
            "3/3 - 0s - loss: 7.0409e-06 - accuracy: 1.0000 - val_loss: 0.0824 - val_accuracy: 0.9667\n",
            "Epoch 869/1000\n",
            "3/3 - 0s - loss: 7.0078e-06 - accuracy: 1.0000 - val_loss: 0.0819 - val_accuracy: 0.9667\n",
            "Epoch 870/1000\n",
            "3/3 - 0s - loss: 6.9548e-06 - accuracy: 1.0000 - val_loss: 0.0798 - val_accuracy: 0.9667\n",
            "Epoch 871/1000\n",
            "3/3 - 0s - loss: 6.9667e-06 - accuracy: 1.0000 - val_loss: 0.0771 - val_accuracy: 0.9667\n",
            "Epoch 872/1000\n",
            "3/3 - 0s - loss: 6.9455e-06 - accuracy: 1.0000 - val_loss: 0.0751 - val_accuracy: 0.9667\n",
            "Epoch 873/1000\n",
            "3/3 - 0s - loss: 7.0369e-06 - accuracy: 1.0000 - val_loss: 0.0738 - val_accuracy: 0.9667\n",
            "Epoch 874/1000\n",
            "3/3 - 0s - loss: 7.0315e-06 - accuracy: 1.0000 - val_loss: 0.0734 - val_accuracy: 0.9667\n",
            "Epoch 875/1000\n",
            "3/3 - 0s - loss: 7.0170e-06 - accuracy: 1.0000 - val_loss: 0.0736 - val_accuracy: 0.9667\n",
            "Epoch 876/1000\n",
            "3/3 - 0s - loss: 6.9852e-06 - accuracy: 1.0000 - val_loss: 0.0742 - val_accuracy: 0.9667\n",
            "Epoch 877/1000\n",
            "3/3 - 0s - loss: 6.9336e-06 - accuracy: 1.0000 - val_loss: 0.0751 - val_accuracy: 0.9667\n",
            "Epoch 878/1000\n",
            "3/3 - 0s - loss: 6.8779e-06 - accuracy: 1.0000 - val_loss: 0.0758 - val_accuracy: 0.9667\n",
            "Epoch 879/1000\n",
            "3/3 - 0s - loss: 6.8236e-06 - accuracy: 1.0000 - val_loss: 0.0759 - val_accuracy: 0.9667\n",
            "Epoch 880/1000\n",
            "3/3 - 0s - loss: 6.8077e-06 - accuracy: 1.0000 - val_loss: 0.0758 - val_accuracy: 0.9667\n",
            "Epoch 881/1000\n",
            "3/3 - 0s - loss: 6.7587e-06 - accuracy: 1.0000 - val_loss: 0.0762 - val_accuracy: 0.9667\n",
            "Epoch 882/1000\n",
            "3/3 - 0s - loss: 6.7137e-06 - accuracy: 1.0000 - val_loss: 0.0770 - val_accuracy: 0.9667\n",
            "Epoch 883/1000\n",
            "3/3 - 0s - loss: 6.6621e-06 - accuracy: 1.0000 - val_loss: 0.0777 - val_accuracy: 0.9667\n",
            "Epoch 884/1000\n",
            "3/3 - 0s - loss: 6.6343e-06 - accuracy: 1.0000 - val_loss: 0.0785 - val_accuracy: 0.9667\n",
            "Epoch 885/1000\n",
            "3/3 - 0s - loss: 6.6157e-06 - accuracy: 1.0000 - val_loss: 0.0795 - val_accuracy: 0.9667\n",
            "Epoch 886/1000\n",
            "3/3 - 0s - loss: 6.5707e-06 - accuracy: 1.0000 - val_loss: 0.0799 - val_accuracy: 0.9667\n",
            "Epoch 887/1000\n",
            "3/3 - 0s - loss: 6.5641e-06 - accuracy: 1.0000 - val_loss: 0.0803 - val_accuracy: 0.9667\n",
            "Epoch 888/1000\n",
            "3/3 - 0s - loss: 6.5429e-06 - accuracy: 1.0000 - val_loss: 0.0804 - val_accuracy: 0.9667\n",
            "Epoch 889/1000\n",
            "3/3 - 0s - loss: 6.5336e-06 - accuracy: 1.0000 - val_loss: 0.0801 - val_accuracy: 0.9667\n",
            "Epoch 890/1000\n",
            "3/3 - 0s - loss: 6.5111e-06 - accuracy: 1.0000 - val_loss: 0.0787 - val_accuracy: 0.9667\n",
            "Epoch 891/1000\n",
            "3/3 - 0s - loss: 6.4647e-06 - accuracy: 1.0000 - val_loss: 0.0785 - val_accuracy: 0.9667\n",
            "Epoch 892/1000\n",
            "3/3 - 0s - loss: 6.4621e-06 - accuracy: 1.0000 - val_loss: 0.0785 - val_accuracy: 0.9667\n",
            "Epoch 893/1000\n",
            "3/3 - 0s - loss: 6.4502e-06 - accuracy: 1.0000 - val_loss: 0.0780 - val_accuracy: 0.9667\n",
            "Epoch 894/1000\n",
            "3/3 - 0s - loss: 6.4184e-06 - accuracy: 1.0000 - val_loss: 0.0776 - val_accuracy: 0.9667\n",
            "Epoch 895/1000\n",
            "3/3 - 0s - loss: 6.3879e-06 - accuracy: 1.0000 - val_loss: 0.0769 - val_accuracy: 0.9667\n",
            "Epoch 896/1000\n",
            "3/3 - 0s - loss: 6.3919e-06 - accuracy: 1.0000 - val_loss: 0.0767 - val_accuracy: 0.9667\n",
            "Epoch 897/1000\n",
            "3/3 - 0s - loss: 6.3919e-06 - accuracy: 1.0000 - val_loss: 0.0775 - val_accuracy: 0.9667\n",
            "Epoch 898/1000\n",
            "3/3 - 0s - loss: 6.3191e-06 - accuracy: 1.0000 - val_loss: 0.0784 - val_accuracy: 0.9667\n",
            "Epoch 899/1000\n",
            "3/3 - 0s - loss: 6.3297e-06 - accuracy: 1.0000 - val_loss: 0.0807 - val_accuracy: 0.9667\n",
            "Epoch 900/1000\n",
            "3/3 - 0s - loss: 6.3071e-06 - accuracy: 1.0000 - val_loss: 0.0819 - val_accuracy: 0.9667\n",
            "Epoch 901/1000\n",
            "3/3 - 0s - loss: 6.2860e-06 - accuracy: 1.0000 - val_loss: 0.0819 - val_accuracy: 0.9667\n",
            "Epoch 902/1000\n",
            "3/3 - 0s - loss: 6.2648e-06 - accuracy: 1.0000 - val_loss: 0.0818 - val_accuracy: 0.9667\n",
            "Epoch 903/1000\n",
            "3/3 - 0s - loss: 6.2250e-06 - accuracy: 1.0000 - val_loss: 0.0810 - val_accuracy: 0.9667\n",
            "Epoch 904/1000\n",
            "3/3 - 0s - loss: 6.2065e-06 - accuracy: 1.0000 - val_loss: 0.0802 - val_accuracy: 0.9667\n",
            "Epoch 905/1000\n",
            "3/3 - 0s - loss: 6.1694e-06 - accuracy: 1.0000 - val_loss: 0.0797 - val_accuracy: 0.9667\n",
            "Epoch 906/1000\n",
            "3/3 - 0s - loss: 6.1403e-06 - accuracy: 1.0000 - val_loss: 0.0792 - val_accuracy: 0.9667\n",
            "Epoch 907/1000\n",
            "3/3 - 0s - loss: 6.1204e-06 - accuracy: 1.0000 - val_loss: 0.0787 - val_accuracy: 0.9667\n",
            "Epoch 908/1000\n",
            "3/3 - 0s - loss: 6.0820e-06 - accuracy: 1.0000 - val_loss: 0.0773 - val_accuracy: 0.9667\n",
            "Epoch 909/1000\n",
            "3/3 - 0s - loss: 6.1164e-06 - accuracy: 1.0000 - val_loss: 0.0767 - val_accuracy: 0.9667\n",
            "Epoch 910/1000\n",
            "3/3 - 0s - loss: 6.0926e-06 - accuracy: 1.0000 - val_loss: 0.0770 - val_accuracy: 0.9667\n",
            "Epoch 911/1000\n",
            "3/3 - 0s - loss: 6.0913e-06 - accuracy: 1.0000 - val_loss: 0.0773 - val_accuracy: 0.9667\n",
            "Epoch 912/1000\n",
            "3/3 - 0s - loss: 6.0383e-06 - accuracy: 1.0000 - val_loss: 0.0768 - val_accuracy: 0.9667\n",
            "Epoch 913/1000\n",
            "3/3 - 0s - loss: 6.0423e-06 - accuracy: 1.0000 - val_loss: 0.0767 - val_accuracy: 0.9667\n",
            "Epoch 914/1000\n",
            "3/3 - 0s - loss: 6.0078e-06 - accuracy: 1.0000 - val_loss: 0.0775 - val_accuracy: 0.9667\n",
            "Epoch 915/1000\n",
            "3/3 - 0s - loss: 5.9721e-06 - accuracy: 1.0000 - val_loss: 0.0796 - val_accuracy: 0.9667\n",
            "Epoch 916/1000\n",
            "3/3 - 0s - loss: 5.9363e-06 - accuracy: 1.0000 - val_loss: 0.0805 - val_accuracy: 0.9667\n",
            "Epoch 917/1000\n",
            "3/3 - 0s - loss: 5.9337e-06 - accuracy: 1.0000 - val_loss: 0.0812 - val_accuracy: 0.9667\n",
            "Epoch 918/1000\n",
            "3/3 - 0s - loss: 5.9072e-06 - accuracy: 1.0000 - val_loss: 0.0815 - val_accuracy: 0.9667\n",
            "Epoch 919/1000\n",
            "3/3 - 0s - loss: 5.9098e-06 - accuracy: 1.0000 - val_loss: 0.0814 - val_accuracy: 0.9667\n",
            "Epoch 920/1000\n",
            "3/3 - 0s - loss: 5.8886e-06 - accuracy: 1.0000 - val_loss: 0.0804 - val_accuracy: 0.9667\n",
            "Epoch 921/1000\n",
            "3/3 - 0s - loss: 5.8423e-06 - accuracy: 1.0000 - val_loss: 0.0802 - val_accuracy: 0.9667\n",
            "Epoch 922/1000\n",
            "3/3 - 0s - loss: 5.8131e-06 - accuracy: 1.0000 - val_loss: 0.0804 - val_accuracy: 0.9667\n",
            "Epoch 923/1000\n",
            "3/3 - 0s - loss: 5.7853e-06 - accuracy: 1.0000 - val_loss: 0.0800 - val_accuracy: 0.9667\n",
            "Epoch 924/1000\n",
            "3/3 - 0s - loss: 5.7787e-06 - accuracy: 1.0000 - val_loss: 0.0786 - val_accuracy: 0.9667\n",
            "Epoch 925/1000\n",
            "3/3 - 0s - loss: 5.7681e-06 - accuracy: 1.0000 - val_loss: 0.0781 - val_accuracy: 0.9667\n",
            "Epoch 926/1000\n",
            "3/3 - 0s - loss: 5.7588e-06 - accuracy: 1.0000 - val_loss: 0.0788 - val_accuracy: 0.9667\n",
            "Epoch 927/1000\n",
            "3/3 - 0s - loss: 5.7032e-06 - accuracy: 1.0000 - val_loss: 0.0789 - val_accuracy: 0.9667\n",
            "Epoch 928/1000\n",
            "3/3 - 0s - loss: 5.6436e-06 - accuracy: 1.0000 - val_loss: 0.0804 - val_accuracy: 0.9667\n",
            "Epoch 929/1000\n",
            "3/3 - 0s - loss: 5.6383e-06 - accuracy: 1.0000 - val_loss: 0.0818 - val_accuracy: 0.9667\n",
            "Epoch 930/1000\n",
            "3/3 - 0s - loss: 5.6688e-06 - accuracy: 1.0000 - val_loss: 0.0826 - val_accuracy: 0.9667\n",
            "Epoch 931/1000\n",
            "3/3 - 0s - loss: 5.6251e-06 - accuracy: 1.0000 - val_loss: 0.0826 - val_accuracy: 0.9667\n",
            "Epoch 932/1000\n",
            "3/3 - 0s - loss: 5.6026e-06 - accuracy: 1.0000 - val_loss: 0.0826 - val_accuracy: 0.9667\n",
            "Epoch 933/1000\n",
            "3/3 - 0s - loss: 5.5721e-06 - accuracy: 1.0000 - val_loss: 0.0825 - val_accuracy: 0.9667\n",
            "Epoch 934/1000\n",
            "3/3 - 0s - loss: 5.5469e-06 - accuracy: 1.0000 - val_loss: 0.0822 - val_accuracy: 0.9667\n",
            "Epoch 935/1000\n",
            "3/3 - 0s - loss: 5.5271e-06 - accuracy: 1.0000 - val_loss: 0.0820 - val_accuracy: 0.9667\n",
            "Epoch 936/1000\n",
            "3/3 - 0s - loss: 5.5046e-06 - accuracy: 1.0000 - val_loss: 0.0820 - val_accuracy: 0.9667\n",
            "Epoch 937/1000\n",
            "3/3 - 0s - loss: 5.4820e-06 - accuracy: 1.0000 - val_loss: 0.0826 - val_accuracy: 0.9667\n",
            "Epoch 938/1000\n",
            "3/3 - 0s - loss: 5.4754e-06 - accuracy: 1.0000 - val_loss: 0.0826 - val_accuracy: 0.9667\n",
            "Epoch 939/1000\n",
            "3/3 - 0s - loss: 5.4701e-06 - accuracy: 1.0000 - val_loss: 0.0815 - val_accuracy: 0.9667\n",
            "Epoch 940/1000\n",
            "3/3 - 0s - loss: 5.4092e-06 - accuracy: 1.0000 - val_loss: 0.0812 - val_accuracy: 0.9667\n",
            "Epoch 941/1000\n",
            "3/3 - 0s - loss: 5.3787e-06 - accuracy: 1.0000 - val_loss: 0.0814 - val_accuracy: 0.9667\n",
            "Epoch 942/1000\n",
            "3/3 - 0s - loss: 5.3496e-06 - accuracy: 1.0000 - val_loss: 0.0817 - val_accuracy: 0.9667\n",
            "Epoch 943/1000\n",
            "3/3 - 0s - loss: 5.3377e-06 - accuracy: 1.0000 - val_loss: 0.0816 - val_accuracy: 0.9667\n",
            "Epoch 944/1000\n",
            "3/3 - 0s - loss: 5.3258e-06 - accuracy: 1.0000 - val_loss: 0.0806 - val_accuracy: 0.9667\n",
            "Epoch 945/1000\n",
            "3/3 - 0s - loss: 5.3072e-06 - accuracy: 1.0000 - val_loss: 0.0802 - val_accuracy: 0.9667\n",
            "Epoch 946/1000\n",
            "3/3 - 0s - loss: 5.2979e-06 - accuracy: 1.0000 - val_loss: 0.0802 - val_accuracy: 0.9667\n",
            "Epoch 947/1000\n",
            "3/3 - 0s - loss: 5.2820e-06 - accuracy: 1.0000 - val_loss: 0.0804 - val_accuracy: 0.9667\n",
            "Epoch 948/1000\n",
            "3/3 - 0s - loss: 5.2516e-06 - accuracy: 1.0000 - val_loss: 0.0806 - val_accuracy: 0.9667\n",
            "Epoch 949/1000\n",
            "3/3 - 0s - loss: 5.2357e-06 - accuracy: 1.0000 - val_loss: 0.0809 - val_accuracy: 0.9667\n",
            "Epoch 950/1000\n",
            "3/3 - 0s - loss: 5.2198e-06 - accuracy: 1.0000 - val_loss: 0.0811 - val_accuracy: 0.9667\n",
            "Epoch 951/1000\n",
            "3/3 - 0s - loss: 5.1920e-06 - accuracy: 1.0000 - val_loss: 0.0816 - val_accuracy: 0.9667\n",
            "Epoch 952/1000\n",
            "3/3 - 0s - loss: 5.1867e-06 - accuracy: 1.0000 - val_loss: 0.0821 - val_accuracy: 0.9667\n",
            "Epoch 953/1000\n",
            "3/3 - 0s - loss: 5.1668e-06 - accuracy: 1.0000 - val_loss: 0.0825 - val_accuracy: 0.9667\n",
            "Epoch 954/1000\n",
            "3/3 - 0s - loss: 5.1681e-06 - accuracy: 1.0000 - val_loss: 0.0829 - val_accuracy: 0.9667\n",
            "Epoch 955/1000\n",
            "3/3 - 0s - loss: 5.1456e-06 - accuracy: 1.0000 - val_loss: 0.0829 - val_accuracy: 0.9667\n",
            "Epoch 956/1000\n",
            "3/3 - 0s - loss: 5.1377e-06 - accuracy: 1.0000 - val_loss: 0.0826 - val_accuracy: 0.9667\n",
            "Epoch 957/1000\n",
            "3/3 - 0s - loss: 5.1138e-06 - accuracy: 1.0000 - val_loss: 0.0826 - val_accuracy: 0.9667\n",
            "Epoch 958/1000\n",
            "3/3 - 0s - loss: 5.0927e-06 - accuracy: 1.0000 - val_loss: 0.0823 - val_accuracy: 0.9667\n",
            "Epoch 959/1000\n",
            "3/3 - 0s - loss: 5.1033e-06 - accuracy: 1.0000 - val_loss: 0.0823 - val_accuracy: 0.9667\n",
            "Epoch 960/1000\n",
            "3/3 - 0s - loss: 5.0781e-06 - accuracy: 1.0000 - val_loss: 0.0834 - val_accuracy: 0.9667\n",
            "Epoch 961/1000\n",
            "3/3 - 0s - loss: 5.0662e-06 - accuracy: 1.0000 - val_loss: 0.0832 - val_accuracy: 0.9667\n",
            "Epoch 962/1000\n",
            "3/3 - 0s - loss: 5.0331e-06 - accuracy: 1.0000 - val_loss: 0.0826 - val_accuracy: 0.9667\n",
            "Epoch 963/1000\n",
            "3/3 - 0s - loss: 5.0092e-06 - accuracy: 1.0000 - val_loss: 0.0808 - val_accuracy: 0.9667\n",
            "Epoch 964/1000\n",
            "3/3 - 0s - loss: 5.0278e-06 - accuracy: 1.0000 - val_loss: 0.0796 - val_accuracy: 0.9667\n",
            "Epoch 965/1000\n",
            "3/3 - 0s - loss: 5.0066e-06 - accuracy: 1.0000 - val_loss: 0.0791 - val_accuracy: 0.9667\n",
            "Epoch 966/1000\n",
            "3/3 - 0s - loss: 4.9933e-06 - accuracy: 1.0000 - val_loss: 0.0790 - val_accuracy: 0.9667\n",
            "Epoch 967/1000\n",
            "3/3 - 0s - loss: 4.9774e-06 - accuracy: 1.0000 - val_loss: 0.0792 - val_accuracy: 0.9667\n",
            "Epoch 968/1000\n",
            "3/3 - 0s - loss: 4.9602e-06 - accuracy: 1.0000 - val_loss: 0.0797 - val_accuracy: 0.9667\n",
            "Epoch 969/1000\n",
            "3/3 - 0s - loss: 4.9350e-06 - accuracy: 1.0000 - val_loss: 0.0802 - val_accuracy: 0.9667\n",
            "Epoch 970/1000\n",
            "3/3 - 0s - loss: 4.9046e-06 - accuracy: 1.0000 - val_loss: 0.0810 - val_accuracy: 0.9667\n",
            "Epoch 971/1000\n",
            "3/3 - 0s - loss: 4.8754e-06 - accuracy: 1.0000 - val_loss: 0.0820 - val_accuracy: 0.9667\n",
            "Epoch 972/1000\n",
            "3/3 - 0s - loss: 4.8596e-06 - accuracy: 1.0000 - val_loss: 0.0828 - val_accuracy: 0.9667\n",
            "Epoch 973/1000\n",
            "3/3 - 0s - loss: 4.9165e-06 - accuracy: 1.0000 - val_loss: 0.0839 - val_accuracy: 0.9667\n",
            "Epoch 974/1000\n",
            "3/3 - 0s - loss: 4.8622e-06 - accuracy: 1.0000 - val_loss: 0.0833 - val_accuracy: 0.9667\n",
            "Epoch 975/1000\n",
            "3/3 - 0s - loss: 4.8251e-06 - accuracy: 1.0000 - val_loss: 0.0828 - val_accuracy: 0.9667\n",
            "Epoch 976/1000\n",
            "3/3 - 0s - loss: 4.8106e-06 - accuracy: 1.0000 - val_loss: 0.0826 - val_accuracy: 0.9667\n",
            "Epoch 977/1000\n",
            "3/3 - 0s - loss: 4.7933e-06 - accuracy: 1.0000 - val_loss: 0.0827 - val_accuracy: 0.9667\n",
            "Epoch 978/1000\n",
            "3/3 - 0s - loss: 4.7827e-06 - accuracy: 1.0000 - val_loss: 0.0817 - val_accuracy: 0.9667\n",
            "Epoch 979/1000\n",
            "3/3 - 0s - loss: 4.7947e-06 - accuracy: 1.0000 - val_loss: 0.0815 - val_accuracy: 0.9667\n",
            "Epoch 980/1000\n",
            "3/3 - 0s - loss: 4.7271e-06 - accuracy: 1.0000 - val_loss: 0.0830 - val_accuracy: 0.9667\n",
            "Epoch 981/1000\n",
            "3/3 - 0s - loss: 4.7231e-06 - accuracy: 1.0000 - val_loss: 0.0843 - val_accuracy: 0.9667\n",
            "Epoch 982/1000\n",
            "3/3 - 0s - loss: 4.7404e-06 - accuracy: 1.0000 - val_loss: 0.0852 - val_accuracy: 0.9667\n",
            "Epoch 983/1000\n",
            "3/3 - 0s - loss: 4.7205e-06 - accuracy: 1.0000 - val_loss: 0.0857 - val_accuracy: 0.9667\n",
            "Epoch 984/1000\n",
            "3/3 - 0s - loss: 4.7443e-06 - accuracy: 1.0000 - val_loss: 0.0863 - val_accuracy: 0.9667\n",
            "Epoch 985/1000\n",
            "3/3 - 0s - loss: 4.7059e-06 - accuracy: 1.0000 - val_loss: 0.0856 - val_accuracy: 0.9667\n",
            "Epoch 986/1000\n",
            "3/3 - 0s - loss: 4.6715e-06 - accuracy: 1.0000 - val_loss: 0.0855 - val_accuracy: 0.9667\n",
            "Epoch 987/1000\n",
            "3/3 - 0s - loss: 4.6463e-06 - accuracy: 1.0000 - val_loss: 0.0852 - val_accuracy: 0.9667\n",
            "Epoch 988/1000\n",
            "3/3 - 0s - loss: 4.6198e-06 - accuracy: 1.0000 - val_loss: 0.0849 - val_accuracy: 0.9667\n",
            "Epoch 989/1000\n",
            "3/3 - 0s - loss: 4.5960e-06 - accuracy: 1.0000 - val_loss: 0.0845 - val_accuracy: 0.9667\n",
            "Epoch 990/1000\n",
            "3/3 - 0s - loss: 4.5894e-06 - accuracy: 1.0000 - val_loss: 0.0839 - val_accuracy: 0.9667\n",
            "Epoch 991/1000\n",
            "3/3 - 0s - loss: 4.5669e-06 - accuracy: 1.0000 - val_loss: 0.0839 - val_accuracy: 0.9667\n",
            "Epoch 992/1000\n",
            "3/3 - 0s - loss: 4.5311e-06 - accuracy: 1.0000 - val_loss: 0.0850 - val_accuracy: 0.9667\n",
            "Epoch 993/1000\n",
            "3/3 - 0s - loss: 4.5020e-06 - accuracy: 1.0000 - val_loss: 0.0869 - val_accuracy: 0.9667\n",
            "Epoch 994/1000\n",
            "3/3 - 0s - loss: 4.5854e-06 - accuracy: 1.0000 - val_loss: 0.0885 - val_accuracy: 0.9667\n",
            "Epoch 995/1000\n",
            "3/3 - 0s - loss: 4.5669e-06 - accuracy: 1.0000 - val_loss: 0.0884 - val_accuracy: 0.9667\n",
            "Epoch 996/1000\n",
            "3/3 - 0s - loss: 4.5457e-06 - accuracy: 1.0000 - val_loss: 0.0875 - val_accuracy: 0.9667\n",
            "Epoch 997/1000\n",
            "3/3 - 0s - loss: 4.5271e-06 - accuracy: 1.0000 - val_loss: 0.0848 - val_accuracy: 0.9667\n",
            "Epoch 998/1000\n",
            "3/3 - 0s - loss: 4.4159e-06 - accuracy: 1.0000 - val_loss: 0.0831 - val_accuracy: 0.9667\n",
            "Epoch 999/1000\n",
            "3/3 - 0s - loss: 4.4066e-06 - accuracy: 1.0000 - val_loss: 0.0820 - val_accuracy: 0.9667\n",
            "Epoch 1000/1000\n",
            "3/3 - 0s - loss: 4.4000e-06 - accuracy: 1.0000 - val_loss: 0.0812 - val_accuracy: 0.9667\n"
          ],
          "name": "stdout"
        }
      ]
    },
    {
      "cell_type": "code",
      "metadata": {
        "colab": {
          "base_uri": "https://localhost:8080/",
          "height": 279
        },
        "id": "aqudGc-9Nwmb",
        "outputId": "18dfd50b-0ebf-48ac-8b7f-151ad04892bb"
      },
      "source": [
        "%matplotlib inline\n",
        "import matplotlib.pyplot as plt\n",
        "fig, loss_ax = plt.subplots()\n",
        "acc_ax = loss_ax.twinx()\n",
        "loss_ax.plot(history1.history['loss'], 'y', label='train loss')\n",
        "loss_ax.plot(history1.history['val_loss'], 'r', label='val loss')\n",
        "acc_ax.plot(history1.history['accuracy'], 'b', label='train acc')\n",
        "acc_ax.plot(history1.history['val_accuracy'], 'g', label='val acc')\n",
        "\n",
        "loss_ax.set_xlabel('epoch')\n",
        "loss_ax.set_ylabel('loss')\n",
        "acc_ax.set_ylabel('accuray')\n",
        "\n",
        "loss_ax.legend(loc='lower right')\n",
        "acc_ax.legend(loc='upper right')\n",
        "plt.show()"
      ],
      "execution_count": null,
      "outputs": [
        {
          "output_type": "display_data",
          "data": {
            "image/png": "[encoded data removed]",
            "text/plain": [
              "<Figure size 432x288 with 2 Axes>"
            ]
          },
          "metadata": {
            "tags": [],
            "needs_background": "light"
          }
        }
      ]
    },
    {
      "cell_type": "code",
      "metadata": {
        "colab": {
          "base_uri": "https://localhost:8080/"
        },
        "id": "YB6qurVeNwmc",
        "outputId": "3804c827-fa81-44c7-c86c-b48287b179a1"
      },
      "source": [
        "loss_and_metrics = model1.evaluate(X_test, y_test)\n",
        "print('## 손실과 정확도 평가  ##')\n",
        "print(loss_and_metrics)"
      ],
      "execution_count": null,
      "outputs": [
        {
          "output_type": "stream",
          "text": [
            "1/1 [==============================] - 0s 15ms/step - loss: 1.0340 - accuracy: 0.8667\n",
            "## 손실과 정확도 평가  ##\n",
            "[1.0339733362197876, 0.8666666746139526]\n"
          ],
          "name": "stdout"
        }
      ]
    },
    {
      "cell_type": "code",
      "metadata": {
        "colab": {
          "base_uri": "https://localhost:8080/"
        },
        "id": "e-NEqjf3Nwmc",
        "outputId": "65bf341d-089f-41ed-cdfb-f9d9a8d10f58"
      },
      "source": [
        "# 배치 정규화가 적용된 모델 생성\n",
        "from tensorflow.keras.initializers import RandomNormal, Constant\n",
        "model2 = Sequential([\n",
        "    Dense(64, input_shape=(4,), activation=\"relu\"),\n",
        "    BatchNormalization(),\n",
        "\n",
        "    Dense(128, activation='relu'),\n",
        "    BatchNormalization(),\n",
        "    Dense(128, activation='relu'),\n",
        "    BatchNormalization(),\n",
        "    Dense(64, activation='relu'),\n",
        "    BatchNormalization(),\n",
        "    Dense(64, activation='relu'),\n",
        "    BatchNormalization(\n",
        "        momentum=0.95, \n",
        "        epsilon=0.005,\n",
        "        beta_initializer=RandomNormal(mean=0.0, stddev=0.05), \n",
        "        gamma_initializer=Constant(value=0.9)\n",
        "    ),\n",
        "    Dense(3, activation='softmax')\n",
        "]);\n",
        "model2.summary()"
      ],
      "execution_count": null,
      "outputs": [
        {
          "output_type": "stream",
          "text": [
            "Model: \"sequential_1\"\n",
            "_________________________________________________________________\n",
            "Layer (type)                 Output Shape              Param #   \n",
            "=================================================================\n",
            "dense_6 (Dense)              (None, 64)                320       \n",
            "_________________________________________________________________\n",
            "batch_normalization (BatchNo (None, 64)                256       \n",
            "_________________________________________________________________\n",
            "dense_7 (Dense)              (None, 128)               8320      \n",
            "_________________________________________________________________\n",
            "batch_normalization_1 (Batch (None, 128)               512       \n",
            "_________________________________________________________________\n",
            "dense_8 (Dense)              (None, 128)               16512     \n",
            "_________________________________________________________________\n",
            "batch_normalization_2 (Batch (None, 128)               512       \n",
            "_________________________________________________________________\n",
            "dense_9 (Dense)              (None, 64)                8256      \n",
            "_________________________________________________________________\n",
            "batch_normalization_3 (Batch (None, 64)                256       \n",
            "_________________________________________________________________\n",
            "dense_10 (Dense)             (None, 64)                4160      \n",
            "_________________________________________________________________\n",
            "batch_normalization_4 (Batch (None, 64)                256       \n",
            "_________________________________________________________________\n",
            "dense_11 (Dense)             (None, 3)                 195       \n",
            "=================================================================\n",
            "Total params: 39,555\n",
            "Trainable params: 38,659\n",
            "Non-trainable params: 896\n",
            "_________________________________________________________________\n"
          ],
          "name": "stdout"
        }
      ]
    },
    {
      "cell_type": "code",
      "metadata": {
        "colab": {
          "base_uri": "https://localhost:8080/"
        },
        "id": "oAGIgGHbNwmd",
        "outputId": "7595943e-c1b1-468f-b65c-86257e527ee6"
      },
      "source": [
        "model2.compile(\n",
        "    optimizer='adam', \n",
        "    loss='categorical_crossentropy', \n",
        "    metrics=['accuracy']\n",
        ")\n",
        "\n",
        "history2 = model2.fit(\n",
        "    X_train, \n",
        "    y_train, \n",
        "    epochs=1000, \n",
        "    validation_split=0.25, \n",
        "    batch_size=40, \n",
        "    verbose=2\n",
        ")"
      ],
      "execution_count": null,
      "outputs": [
        {
          "output_type": "stream",
          "text": [
            "Epoch 1/1000\n",
            "3/3 - 1s - loss: 1.0973 - accuracy: 0.5667 - val_loss: 1.0590 - val_accuracy: 0.3333\n",
            "Epoch 2/1000\n",
            "3/3 - 0s - loss: 0.2453 - accuracy: 0.9333 - val_loss: 1.0818 - val_accuracy: 0.3333\n",
            "Epoch 3/1000\n",
            "3/3 - 0s - loss: 0.0769 - accuracy: 1.0000 - val_loss: 1.1078 - val_accuracy: 0.3333\n",
            "Epoch 4/1000\n",
            "3/3 - 0s - loss: 0.1032 - accuracy: 0.9667 - val_loss: 1.1206 - val_accuracy: 0.3333\n",
            "Epoch 5/1000\n",
            "3/3 - 0s - loss: 0.0628 - accuracy: 0.9889 - val_loss: 1.0994 - val_accuracy: 0.3333\n",
            "Epoch 6/1000\n",
            "3/3 - 0s - loss: 0.0437 - accuracy: 0.9889 - val_loss: 1.0770 - val_accuracy: 0.3333\n",
            "Epoch 7/1000\n",
            "3/3 - 0s - loss: 0.0424 - accuracy: 1.0000 - val_loss: 1.0652 - val_accuracy: 0.3333\n",
            "Epoch 8/1000\n",
            "3/3 - 0s - loss: 0.0210 - accuracy: 1.0000 - val_loss: 1.0572 - val_accuracy: 0.3333\n",
            "Epoch 9/1000\n",
            "3/3 - 0s - loss: 0.0152 - accuracy: 1.0000 - val_loss: 1.0461 - val_accuracy: 0.3333\n",
            "Epoch 10/1000\n",
            "3/3 - 0s - loss: 0.0361 - accuracy: 0.9889 - val_loss: 1.0343 - val_accuracy: 0.3333\n",
            "Epoch 11/1000\n",
            "3/3 - 0s - loss: 0.0235 - accuracy: 1.0000 - val_loss: 1.0186 - val_accuracy: 0.3333\n",
            "Epoch 12/1000\n",
            "3/3 - 0s - loss: 0.0275 - accuracy: 0.9889 - val_loss: 1.0120 - val_accuracy: 0.3333\n",
            "Epoch 13/1000\n",
            "3/3 - 0s - loss: 0.0305 - accuracy: 0.9889 - val_loss: 1.0072 - val_accuracy: 0.3333\n",
            "Epoch 14/1000\n",
            "3/3 - 0s - loss: 0.0201 - accuracy: 1.0000 - val_loss: 1.0097 - val_accuracy: 0.3333\n",
            "Epoch 15/1000\n",
            "3/3 - 0s - loss: 0.0600 - accuracy: 0.9778 - val_loss: 0.9968 - val_accuracy: 0.3333\n",
            "Epoch 16/1000\n",
            "3/3 - 0s - loss: 0.0562 - accuracy: 0.9667 - val_loss: 0.9707 - val_accuracy: 0.3333\n",
            "Epoch 17/1000\n",
            "3/3 - 0s - loss: 0.0131 - accuracy: 1.0000 - val_loss: 0.9433 - val_accuracy: 0.3667\n",
            "Epoch 18/1000\n",
            "3/3 - 0s - loss: 0.0398 - accuracy: 0.9889 - val_loss: 0.9195 - val_accuracy: 0.3667\n",
            "Epoch 19/1000\n",
            "3/3 - 0s - loss: 0.1496 - accuracy: 0.9333 - val_loss: 0.9146 - val_accuracy: 0.3667\n",
            "Epoch 20/1000\n",
            "3/3 - 0s - loss: 0.0243 - accuracy: 1.0000 - val_loss: 0.9208 - val_accuracy: 0.3667\n",
            "Epoch 21/1000\n",
            "3/3 - 0s - loss: 0.0818 - accuracy: 0.9778 - val_loss: 0.9219 - val_accuracy: 0.3667\n",
            "Epoch 22/1000\n",
            "3/3 - 0s - loss: 0.0456 - accuracy: 0.9778 - val_loss: 0.9126 - val_accuracy: 0.3667\n",
            "Epoch 23/1000\n",
            "3/3 - 0s - loss: 0.0302 - accuracy: 0.9889 - val_loss: 0.9005 - val_accuracy: 0.3667\n",
            "Epoch 24/1000\n",
            "3/3 - 0s - loss: 0.0215 - accuracy: 1.0000 - val_loss: 0.8864 - val_accuracy: 0.3667\n",
            "Epoch 25/1000\n",
            "3/3 - 0s - loss: 0.0382 - accuracy: 0.9889 - val_loss: 0.8745 - val_accuracy: 0.3667\n",
            "Epoch 26/1000\n",
            "3/3 - 0s - loss: 0.0189 - accuracy: 1.0000 - val_loss: 0.8593 - val_accuracy: 0.4333\n",
            "Epoch 27/1000\n",
            "3/3 - 0s - loss: 0.0098 - accuracy: 1.0000 - val_loss: 0.8360 - val_accuracy: 0.4333\n",
            "Epoch 28/1000\n",
            "3/3 - 0s - loss: 0.0100 - accuracy: 1.0000 - val_loss: 0.8091 - val_accuracy: 0.4667\n",
            "Epoch 29/1000\n",
            "3/3 - 0s - loss: 0.0600 - accuracy: 0.9889 - val_loss: 0.7950 - val_accuracy: 0.4667\n",
            "Epoch 30/1000\n",
            "3/3 - 0s - loss: 0.0164 - accuracy: 1.0000 - val_loss: 0.7995 - val_accuracy: 0.4667\n",
            "Epoch 31/1000\n",
            "3/3 - 0s - loss: 0.0227 - accuracy: 1.0000 - val_loss: 0.8124 - val_accuracy: 0.4667\n",
            "Epoch 32/1000\n",
            "3/3 - 0s - loss: 0.0076 - accuracy: 1.0000 - val_loss: 0.8261 - val_accuracy: 0.4667\n",
            "Epoch 33/1000\n",
            "3/3 - 0s - loss: 0.0226 - accuracy: 1.0000 - val_loss: 0.8334 - val_accuracy: 0.4667\n",
            "Epoch 34/1000\n",
            "3/3 - 0s - loss: 0.0294 - accuracy: 0.9889 - val_loss: 0.8372 - val_accuracy: 0.4667\n",
            "Epoch 35/1000\n",
            "3/3 - 0s - loss: 0.0108 - accuracy: 1.0000 - val_loss: 0.8240 - val_accuracy: 0.4667\n",
            "Epoch 36/1000\n",
            "3/3 - 0s - loss: 0.0773 - accuracy: 0.9889 - val_loss: 0.8086 - val_accuracy: 0.4667\n",
            "Epoch 37/1000\n",
            "3/3 - 0s - loss: 0.0189 - accuracy: 1.0000 - val_loss: 0.7997 - val_accuracy: 0.4667\n",
            "Epoch 38/1000\n",
            "3/3 - 0s - loss: 0.0198 - accuracy: 1.0000 - val_loss: 0.7844 - val_accuracy: 0.5000\n",
            "Epoch 39/1000\n",
            "3/3 - 0s - loss: 0.0116 - accuracy: 1.0000 - val_loss: 0.7661 - val_accuracy: 0.5000\n",
            "Epoch 40/1000\n",
            "3/3 - 0s - loss: 0.0544 - accuracy: 0.9667 - val_loss: 0.7195 - val_accuracy: 0.5333\n",
            "Epoch 41/1000\n",
            "3/3 - 0s - loss: 0.0813 - accuracy: 0.9778 - val_loss: 0.6729 - val_accuracy: 0.6667\n",
            "Epoch 42/1000\n",
            "3/3 - 0s - loss: 0.0180 - accuracy: 1.0000 - val_loss: 0.6616 - val_accuracy: 0.7000\n",
            "Epoch 43/1000\n",
            "3/3 - 0s - loss: 0.0509 - accuracy: 0.9778 - val_loss: 0.6376 - val_accuracy: 0.8333\n",
            "Epoch 44/1000\n",
            "3/3 - 0s - loss: 0.0182 - accuracy: 1.0000 - val_loss: 0.6214 - val_accuracy: 0.8333\n",
            "Epoch 45/1000\n",
            "3/3 - 0s - loss: 0.0641 - accuracy: 0.9778 - val_loss: 0.6002 - val_accuracy: 0.8333\n",
            "Epoch 46/1000\n",
            "3/3 - 0s - loss: 0.1019 - accuracy: 0.9556 - val_loss: 0.5448 - val_accuracy: 0.9000\n",
            "Epoch 47/1000\n",
            "3/3 - 0s - loss: 0.0194 - accuracy: 1.0000 - val_loss: 0.5077 - val_accuracy: 1.0000\n",
            "Epoch 48/1000\n",
            "3/3 - 0s - loss: 0.0566 - accuracy: 0.9667 - val_loss: 0.4816 - val_accuracy: 1.0000\n",
            "Epoch 49/1000\n",
            "3/3 - 0s - loss: 0.0478 - accuracy: 0.9889 - val_loss: 0.4670 - val_accuracy: 1.0000\n",
            "Epoch 50/1000\n",
            "3/3 - 0s - loss: 0.0252 - accuracy: 1.0000 - val_loss: 0.4469 - val_accuracy: 1.0000\n",
            "Epoch 51/1000\n",
            "3/3 - 0s - loss: 0.0133 - accuracy: 1.0000 - val_loss: 0.4323 - val_accuracy: 1.0000\n",
            "Epoch 52/1000\n",
            "3/3 - 0s - loss: 0.0163 - accuracy: 1.0000 - val_loss: 0.4164 - val_accuracy: 1.0000\n",
            "Epoch 53/1000\n",
            "3/3 - 0s - loss: 0.0094 - accuracy: 1.0000 - val_loss: 0.4028 - val_accuracy: 1.0000\n",
            "Epoch 54/1000\n",
            "3/3 - 0s - loss: 0.0227 - accuracy: 1.0000 - val_loss: 0.3920 - val_accuracy: 0.9667\n",
            "Epoch 55/1000\n",
            "3/3 - 0s - loss: 0.0215 - accuracy: 0.9889 - val_loss: 0.3905 - val_accuracy: 0.9667\n",
            "Epoch 56/1000\n",
            "3/3 - 0s - loss: 0.0068 - accuracy: 1.0000 - val_loss: 0.4031 - val_accuracy: 0.9667\n",
            "Epoch 57/1000\n",
            "3/3 - 0s - loss: 0.0076 - accuracy: 1.0000 - val_loss: 0.4101 - val_accuracy: 0.9667\n",
            "Epoch 58/1000\n",
            "3/3 - 0s - loss: 0.0104 - accuracy: 1.0000 - val_loss: 0.4135 - val_accuracy: 0.9667\n",
            "Epoch 59/1000\n",
            "3/3 - 0s - loss: 0.0197 - accuracy: 0.9889 - val_loss: 0.3980 - val_accuracy: 0.9667\n",
            "Epoch 60/1000\n",
            "3/3 - 0s - loss: 0.0058 - accuracy: 1.0000 - val_loss: 0.3754 - val_accuracy: 0.9667\n",
            "Epoch 61/1000\n",
            "3/3 - 0s - loss: 0.0067 - accuracy: 1.0000 - val_loss: 0.3663 - val_accuracy: 0.9667\n",
            "Epoch 62/1000\n",
            "3/3 - 0s - loss: 0.0064 - accuracy: 1.0000 - val_loss: 0.3657 - val_accuracy: 0.9000\n",
            "Epoch 63/1000\n",
            "3/3 - 0s - loss: 0.0085 - accuracy: 1.0000 - val_loss: 0.3514 - val_accuracy: 0.9333\n",
            "Epoch 64/1000\n",
            "3/3 - 0s - loss: 0.0070 - accuracy: 1.0000 - val_loss: 0.3244 - val_accuracy: 0.9667\n",
            "Epoch 65/1000\n",
            "3/3 - 0s - loss: 0.0453 - accuracy: 0.9889 - val_loss: 0.2843 - val_accuracy: 0.9667\n",
            "Epoch 66/1000\n",
            "3/3 - 0s - loss: 0.0046 - accuracy: 1.0000 - val_loss: 0.2640 - val_accuracy: 0.9667\n",
            "Epoch 67/1000\n",
            "3/3 - 0s - loss: 0.0145 - accuracy: 0.9889 - val_loss: 0.2542 - val_accuracy: 0.9667\n",
            "Epoch 68/1000\n",
            "3/3 - 0s - loss: 0.0032 - accuracy: 1.0000 - val_loss: 0.2668 - val_accuracy: 0.9667\n",
            "Epoch 69/1000\n",
            "3/3 - 0s - loss: 0.0121 - accuracy: 1.0000 - val_loss: 0.2696 - val_accuracy: 0.9667\n",
            "Epoch 70/1000\n",
            "3/3 - 0s - loss: 0.0061 - accuracy: 1.0000 - val_loss: 0.2733 - val_accuracy: 0.9667\n",
            "Epoch 71/1000\n",
            "3/3 - 0s - loss: 0.0173 - accuracy: 1.0000 - val_loss: 0.2810 - val_accuracy: 0.9667\n",
            "Epoch 72/1000\n",
            "3/3 - 0s - loss: 0.0170 - accuracy: 1.0000 - val_loss: 0.2749 - val_accuracy: 0.9667\n",
            "Epoch 73/1000\n",
            "3/3 - 0s - loss: 0.0062 - accuracy: 1.0000 - val_loss: 0.2673 - val_accuracy: 0.9667\n",
            "Epoch 74/1000\n",
            "3/3 - 0s - loss: 0.0066 - accuracy: 1.0000 - val_loss: 0.2539 - val_accuracy: 0.9667\n",
            "Epoch 75/1000\n",
            "3/3 - 0s - loss: 0.0158 - accuracy: 0.9889 - val_loss: 0.2468 - val_accuracy: 0.9667\n",
            "Epoch 76/1000\n",
            "3/3 - 0s - loss: 0.0082 - accuracy: 1.0000 - val_loss: 0.2494 - val_accuracy: 0.9667\n",
            "Epoch 77/1000\n",
            "3/3 - 0s - loss: 0.0027 - accuracy: 1.0000 - val_loss: 0.2637 - val_accuracy: 0.9667\n",
            "Epoch 78/1000\n",
            "3/3 - 0s - loss: 0.0049 - accuracy: 1.0000 - val_loss: 0.2624 - val_accuracy: 0.9333\n",
            "Epoch 79/1000\n",
            "3/3 - 0s - loss: 0.0042 - accuracy: 1.0000 - val_loss: 0.2674 - val_accuracy: 0.9333\n",
            "Epoch 80/1000\n",
            "3/3 - 0s - loss: 0.0187 - accuracy: 0.9889 - val_loss: 0.2585 - val_accuracy: 0.9333\n",
            "Epoch 81/1000\n",
            "3/3 - 0s - loss: 0.0051 - accuracy: 1.0000 - val_loss: 0.2484 - val_accuracy: 0.9333\n",
            "Epoch 82/1000\n",
            "3/3 - 0s - loss: 0.0075 - accuracy: 1.0000 - val_loss: 0.2298 - val_accuracy: 0.9333\n",
            "Epoch 83/1000\n",
            "3/3 - 0s - loss: 0.0015 - accuracy: 1.0000 - val_loss: 0.2133 - val_accuracy: 0.9667\n",
            "Epoch 84/1000\n",
            "3/3 - 0s - loss: 0.0021 - accuracy: 1.0000 - val_loss: 0.2001 - val_accuracy: 0.9667\n",
            "Epoch 85/1000\n",
            "3/3 - 0s - loss: 0.0104 - accuracy: 0.9889 - val_loss: 0.1951 - val_accuracy: 0.9667\n",
            "Epoch 86/1000\n",
            "3/3 - 0s - loss: 0.0029 - accuracy: 1.0000 - val_loss: 0.1985 - val_accuracy: 0.9333\n",
            "Epoch 87/1000\n",
            "3/3 - 0s - loss: 0.0334 - accuracy: 0.9778 - val_loss: 0.2046 - val_accuracy: 0.9333\n",
            "Epoch 88/1000\n",
            "3/3 - 0s - loss: 0.3387 - accuracy: 0.9333 - val_loss: 0.2295 - val_accuracy: 0.9000\n",
            "Epoch 89/1000\n",
            "3/3 - 0s - loss: 0.0784 - accuracy: 0.9667 - val_loss: 0.3209 - val_accuracy: 0.8667\n",
            "Epoch 90/1000\n",
            "3/3 - 0s - loss: 0.0156 - accuracy: 1.0000 - val_loss: 0.4504 - val_accuracy: 0.8667\n",
            "Epoch 91/1000\n",
            "3/3 - 0s - loss: 0.0147 - accuracy: 1.0000 - val_loss: 0.5018 - val_accuracy: 0.8667\n",
            "Epoch 92/1000\n",
            "3/3 - 0s - loss: 0.0207 - accuracy: 0.9889 - val_loss: 0.4125 - val_accuracy: 0.8667\n",
            "Epoch 93/1000\n",
            "3/3 - 0s - loss: 0.0456 - accuracy: 0.9889 - val_loss: 0.3260 - val_accuracy: 0.9333\n",
            "Epoch 94/1000\n",
            "3/3 - 0s - loss: 0.0426 - accuracy: 0.9778 - val_loss: 0.2383 - val_accuracy: 1.0000\n",
            "Epoch 95/1000\n",
            "3/3 - 0s - loss: 0.0759 - accuracy: 0.9667 - val_loss: 0.2002 - val_accuracy: 0.9667\n",
            "Epoch 96/1000\n",
            "3/3 - 0s - loss: 0.0083 - accuracy: 1.0000 - val_loss: 0.2462 - val_accuracy: 0.9667\n",
            "Epoch 97/1000\n",
            "3/3 - 0s - loss: 0.0539 - accuracy: 0.9889 - val_loss: 0.2866 - val_accuracy: 0.9333\n",
            "Epoch 98/1000\n",
            "3/3 - 0s - loss: 0.1218 - accuracy: 0.9556 - val_loss: 0.2880 - val_accuracy: 0.9333\n",
            "Epoch 99/1000\n",
            "3/3 - 0s - loss: 0.0351 - accuracy: 0.9889 - val_loss: 0.2952 - val_accuracy: 0.9000\n",
            "Epoch 100/1000\n",
            "3/3 - 0s - loss: 0.0513 - accuracy: 0.9667 - val_loss: 0.2710 - val_accuracy: 0.9667\n",
            "Epoch 101/1000\n",
            "3/3 - 0s - loss: 0.0672 - accuracy: 0.9778 - val_loss: 0.2124 - val_accuracy: 0.9667\n",
            "Epoch 102/1000\n",
            "3/3 - 0s - loss: 0.0363 - accuracy: 0.9778 - val_loss: 0.1728 - val_accuracy: 0.9667\n",
            "Epoch 103/1000\n",
            "3/3 - 0s - loss: 0.0147 - accuracy: 1.0000 - val_loss: 0.1480 - val_accuracy: 0.9667\n",
            "Epoch 104/1000\n",
            "3/3 - 0s - loss: 0.0167 - accuracy: 1.0000 - val_loss: 0.1353 - val_accuracy: 0.9667\n",
            "Epoch 105/1000\n",
            "3/3 - 0s - loss: 0.0047 - accuracy: 1.0000 - val_loss: 0.1404 - val_accuracy: 0.9667\n",
            "Epoch 106/1000\n",
            "3/3 - 0s - loss: 0.0216 - accuracy: 0.9889 - val_loss: 0.1405 - val_accuracy: 0.9667\n",
            "Epoch 107/1000\n",
            "3/3 - 0s - loss: 0.0345 - accuracy: 0.9889 - val_loss: 0.1287 - val_accuracy: 0.9667\n",
            "Epoch 108/1000\n",
            "3/3 - 0s - loss: 0.0105 - accuracy: 1.0000 - val_loss: 0.1255 - val_accuracy: 0.9667\n",
            "Epoch 109/1000\n",
            "3/3 - 0s - loss: 0.0051 - accuracy: 1.0000 - val_loss: 0.1186 - val_accuracy: 0.9667\n",
            "Epoch 110/1000\n",
            "3/3 - 0s - loss: 0.1600 - accuracy: 0.9667 - val_loss: 0.1096 - val_accuracy: 0.9667\n",
            "Epoch 111/1000\n",
            "3/3 - 0s - loss: 0.0167 - accuracy: 1.0000 - val_loss: 0.1048 - val_accuracy: 0.9667\n",
            "Epoch 112/1000\n",
            "3/3 - 0s - loss: 0.0210 - accuracy: 0.9889 - val_loss: 0.0917 - val_accuracy: 0.9667\n",
            "Epoch 113/1000\n",
            "3/3 - 0s - loss: 0.0134 - accuracy: 1.0000 - val_loss: 0.0829 - val_accuracy: 0.9667\n",
            "Epoch 114/1000\n",
            "3/3 - 0s - loss: 0.0647 - accuracy: 0.9778 - val_loss: 0.0890 - val_accuracy: 0.9667\n",
            "Epoch 115/1000\n",
            "3/3 - 0s - loss: 0.0407 - accuracy: 0.9889 - val_loss: 0.1036 - val_accuracy: 0.9667\n",
            "Epoch 116/1000\n",
            "3/3 - 0s - loss: 0.0527 - accuracy: 0.9889 - val_loss: 0.0691 - val_accuracy: 1.0000\n",
            "Epoch 117/1000\n",
            "3/3 - 0s - loss: 0.0172 - accuracy: 1.0000 - val_loss: 0.0477 - val_accuracy: 1.0000\n",
            "Epoch 118/1000\n",
            "3/3 - 0s - loss: 0.0119 - accuracy: 1.0000 - val_loss: 0.0599 - val_accuracy: 1.0000\n",
            "Epoch 119/1000\n",
            "3/3 - 0s - loss: 0.0205 - accuracy: 1.0000 - val_loss: 0.0785 - val_accuracy: 1.0000\n",
            "Epoch 120/1000\n",
            "3/3 - 0s - loss: 0.0140 - accuracy: 1.0000 - val_loss: 0.0896 - val_accuracy: 0.9333\n",
            "Epoch 121/1000\n",
            "3/3 - 0s - loss: 0.0291 - accuracy: 1.0000 - val_loss: 0.0775 - val_accuracy: 0.9333\n",
            "Epoch 122/1000\n",
            "3/3 - 0s - loss: 0.0190 - accuracy: 1.0000 - val_loss: 0.0627 - val_accuracy: 1.0000\n",
            "Epoch 123/1000\n",
            "3/3 - 0s - loss: 0.0351 - accuracy: 0.9889 - val_loss: 0.0357 - val_accuracy: 1.0000\n",
            "Epoch 124/1000\n",
            "3/3 - 0s - loss: 0.0042 - accuracy: 1.0000 - val_loss: 0.0164 - val_accuracy: 1.0000\n",
            "Epoch 125/1000\n",
            "3/3 - 0s - loss: 0.0099 - accuracy: 1.0000 - val_loss: 0.0147 - val_accuracy: 1.0000\n",
            "Epoch 126/1000\n",
            "3/3 - 0s - loss: 0.0178 - accuracy: 1.0000 - val_loss: 0.0165 - val_accuracy: 1.0000\n",
            "Epoch 127/1000\n",
            "3/3 - 0s - loss: 0.1507 - accuracy: 0.9889 - val_loss: 0.0148 - val_accuracy: 1.0000\n",
            "Epoch 128/1000\n",
            "3/3 - 0s - loss: 0.0044 - accuracy: 1.0000 - val_loss: 0.0132 - val_accuracy: 1.0000\n",
            "Epoch 129/1000\n",
            "3/3 - 0s - loss: 0.1214 - accuracy: 0.9556 - val_loss: 0.0174 - val_accuracy: 1.0000\n",
            "Epoch 130/1000\n",
            "3/3 - 0s - loss: 0.0070 - accuracy: 1.0000 - val_loss: 0.0214 - val_accuracy: 1.0000\n",
            "Epoch 131/1000\n",
            "3/3 - 0s - loss: 0.0050 - accuracy: 1.0000 - val_loss: 0.0263 - val_accuracy: 1.0000\n",
            "Epoch 132/1000\n",
            "3/3 - 0s - loss: 0.0078 - accuracy: 1.0000 - val_loss: 0.0295 - val_accuracy: 1.0000\n",
            "Epoch 133/1000\n",
            "3/3 - 0s - loss: 0.0235 - accuracy: 0.9889 - val_loss: 0.0312 - val_accuracy: 1.0000\n",
            "Epoch 134/1000\n",
            "3/3 - 0s - loss: 0.0101 - accuracy: 1.0000 - val_loss: 0.0309 - val_accuracy: 1.0000\n",
            "Epoch 135/1000\n",
            "3/3 - 0s - loss: 0.0099 - accuracy: 1.0000 - val_loss: 0.0297 - val_accuracy: 1.0000\n",
            "Epoch 136/1000\n",
            "3/3 - 0s - loss: 0.0124 - accuracy: 1.0000 - val_loss: 0.0289 - val_accuracy: 1.0000\n",
            "Epoch 137/1000\n",
            "3/3 - 0s - loss: 0.0068 - accuracy: 1.0000 - val_loss: 0.0280 - val_accuracy: 1.0000\n",
            "Epoch 138/1000\n",
            "3/3 - 0s - loss: 0.0159 - accuracy: 1.0000 - val_loss: 0.0274 - val_accuracy: 1.0000\n",
            "Epoch 139/1000\n",
            "3/3 - 0s - loss: 0.0068 - accuracy: 1.0000 - val_loss: 0.0224 - val_accuracy: 1.0000\n",
            "Epoch 140/1000\n",
            "3/3 - 0s - loss: 0.0107 - accuracy: 1.0000 - val_loss: 0.0166 - val_accuracy: 1.0000\n",
            "Epoch 141/1000\n",
            "3/3 - 0s - loss: 0.0120 - accuracy: 1.0000 - val_loss: 0.0120 - val_accuracy: 1.0000\n",
            "Epoch 142/1000\n",
            "3/3 - 0s - loss: 0.0039 - accuracy: 1.0000 - val_loss: 0.0108 - val_accuracy: 1.0000\n",
            "Epoch 143/1000\n",
            "3/3 - 0s - loss: 0.0060 - accuracy: 1.0000 - val_loss: 0.0111 - val_accuracy: 1.0000\n",
            "Epoch 144/1000\n",
            "3/3 - 0s - loss: 0.0067 - accuracy: 1.0000 - val_loss: 0.0121 - val_accuracy: 1.0000\n",
            "Epoch 145/1000\n",
            "3/3 - 0s - loss: 0.0123 - accuracy: 1.0000 - val_loss: 0.0115 - val_accuracy: 1.0000\n",
            "Epoch 146/1000\n",
            "3/3 - 0s - loss: 0.0084 - accuracy: 1.0000 - val_loss: 0.0115 - val_accuracy: 1.0000\n",
            "Epoch 147/1000\n",
            "3/3 - 0s - loss: 0.0049 - accuracy: 1.0000 - val_loss: 0.0114 - val_accuracy: 1.0000\n",
            "Epoch 148/1000\n",
            "3/3 - 0s - loss: 0.0043 - accuracy: 1.0000 - val_loss: 0.0104 - val_accuracy: 1.0000\n",
            "Epoch 149/1000\n",
            "3/3 - 0s - loss: 0.0025 - accuracy: 1.0000 - val_loss: 0.0098 - val_accuracy: 1.0000\n",
            "Epoch 150/1000\n",
            "3/3 - 0s - loss: 0.0043 - accuracy: 1.0000 - val_loss: 0.0087 - val_accuracy: 1.0000\n",
            "Epoch 151/1000\n",
            "3/3 - 0s - loss: 0.0043 - accuracy: 1.0000 - val_loss: 0.0077 - val_accuracy: 1.0000\n",
            "Epoch 152/1000\n",
            "3/3 - 0s - loss: 0.0035 - accuracy: 1.0000 - val_loss: 0.0070 - val_accuracy: 1.0000\n",
            "Epoch 153/1000\n",
            "3/3 - 0s - loss: 0.0033 - accuracy: 1.0000 - val_loss: 0.0064 - val_accuracy: 1.0000\n",
            "Epoch 154/1000\n",
            "3/3 - 0s - loss: 0.0105 - accuracy: 1.0000 - val_loss: 0.0060 - val_accuracy: 1.0000\n",
            "Epoch 155/1000\n",
            "3/3 - 0s - loss: 0.0024 - accuracy: 1.0000 - val_loss: 0.0059 - val_accuracy: 1.0000\n",
            "Epoch 156/1000\n",
            "3/3 - 0s - loss: 0.0014 - accuracy: 1.0000 - val_loss: 0.0058 - val_accuracy: 1.0000\n",
            "Epoch 157/1000\n",
            "3/3 - 0s - loss: 0.0031 - accuracy: 1.0000 - val_loss: 0.0055 - val_accuracy: 1.0000\n",
            "Epoch 158/1000\n",
            "3/3 - 0s - loss: 0.0035 - accuracy: 1.0000 - val_loss: 0.0051 - val_accuracy: 1.0000\n",
            "Epoch 159/1000\n",
            "3/3 - 0s - loss: 0.0023 - accuracy: 1.0000 - val_loss: 0.0049 - val_accuracy: 1.0000\n",
            "Epoch 160/1000\n",
            "3/3 - 0s - loss: 0.0025 - accuracy: 1.0000 - val_loss: 0.0044 - val_accuracy: 1.0000\n",
            "Epoch 161/1000\n",
            "3/3 - 0s - loss: 0.0056 - accuracy: 1.0000 - val_loss: 0.0039 - val_accuracy: 1.0000\n",
            "Epoch 162/1000\n",
            "3/3 - 0s - loss: 0.0045 - accuracy: 1.0000 - val_loss: 0.0034 - val_accuracy: 1.0000\n",
            "Epoch 163/1000\n",
            "3/3 - 0s - loss: 0.0172 - accuracy: 0.9889 - val_loss: 0.0041 - val_accuracy: 1.0000\n",
            "Epoch 164/1000\n",
            "3/3 - 0s - loss: 0.0030 - accuracy: 1.0000 - val_loss: 0.0115 - val_accuracy: 1.0000\n",
            "Epoch 165/1000\n",
            "3/3 - 0s - loss: 0.0297 - accuracy: 0.9889 - val_loss: 0.0079 - val_accuracy: 1.0000\n",
            "Epoch 166/1000\n",
            "3/3 - 0s - loss: 0.0051 - accuracy: 1.0000 - val_loss: 0.0052 - val_accuracy: 1.0000\n",
            "Epoch 167/1000\n",
            "3/3 - 0s - loss: 0.0195 - accuracy: 1.0000 - val_loss: 0.0052 - val_accuracy: 1.0000\n",
            "Epoch 168/1000\n",
            "3/3 - 0s - loss: 0.0030 - accuracy: 1.0000 - val_loss: 0.0122 - val_accuracy: 1.0000\n",
            "Epoch 169/1000\n",
            "3/3 - 0s - loss: 0.1960 - accuracy: 0.9778 - val_loss: 0.0212 - val_accuracy: 1.0000\n",
            "Epoch 170/1000\n",
            "3/3 - 0s - loss: 0.0054 - accuracy: 1.0000 - val_loss: 0.0301 - val_accuracy: 1.0000\n",
            "Epoch 171/1000\n",
            "3/3 - 0s - loss: 0.0288 - accuracy: 0.9889 - val_loss: 0.0618 - val_accuracy: 0.9667\n",
            "Epoch 172/1000\n",
            "3/3 - 0s - loss: 0.0408 - accuracy: 0.9778 - val_loss: 0.0577 - val_accuracy: 0.9667\n",
            "Epoch 173/1000\n",
            "3/3 - 0s - loss: 0.2615 - accuracy: 0.9444 - val_loss: 0.0270 - val_accuracy: 1.0000\n",
            "Epoch 174/1000\n",
            "3/3 - 0s - loss: 0.0352 - accuracy: 0.9889 - val_loss: 0.0385 - val_accuracy: 1.0000\n",
            "Epoch 175/1000\n",
            "3/3 - 0s - loss: 0.0426 - accuracy: 0.9778 - val_loss: 0.0552 - val_accuracy: 1.0000\n",
            "Epoch 176/1000\n",
            "3/3 - 0s - loss: 0.0855 - accuracy: 0.9667 - val_loss: 0.0603 - val_accuracy: 1.0000\n",
            "Epoch 177/1000\n",
            "3/3 - 0s - loss: 0.0829 - accuracy: 0.9778 - val_loss: 0.0504 - val_accuracy: 1.0000\n",
            "Epoch 178/1000\n",
            "3/3 - 0s - loss: 0.0429 - accuracy: 0.9889 - val_loss: 0.0377 - val_accuracy: 1.0000\n",
            "Epoch 179/1000\n",
            "3/3 - 0s - loss: 0.0313 - accuracy: 0.9889 - val_loss: 0.0238 - val_accuracy: 1.0000\n",
            "Epoch 180/1000\n",
            "3/3 - 0s - loss: 0.0146 - accuracy: 1.0000 - val_loss: 0.0140 - val_accuracy: 1.0000\n",
            "Epoch 181/1000\n",
            "3/3 - 0s - loss: 0.0338 - accuracy: 1.0000 - val_loss: 0.0091 - val_accuracy: 1.0000\n",
            "Epoch 182/1000\n",
            "3/3 - 0s - loss: 0.0225 - accuracy: 0.9889 - val_loss: 0.0077 - val_accuracy: 1.0000\n",
            "Epoch 183/1000\n",
            "3/3 - 0s - loss: 0.0231 - accuracy: 0.9889 - val_loss: 0.0114 - val_accuracy: 1.0000\n",
            "Epoch 184/1000\n",
            "3/3 - 0s - loss: 0.0123 - accuracy: 1.0000 - val_loss: 0.0211 - val_accuracy: 1.0000\n",
            "Epoch 185/1000\n",
            "3/3 - 0s - loss: 0.0054 - accuracy: 1.0000 - val_loss: 0.0382 - val_accuracy: 0.9667\n",
            "Epoch 186/1000\n",
            "3/3 - 0s - loss: 0.0402 - accuracy: 0.9778 - val_loss: 0.0422 - val_accuracy: 0.9667\n",
            "Epoch 187/1000\n",
            "3/3 - 0s - loss: 0.0149 - accuracy: 1.0000 - val_loss: 0.0389 - val_accuracy: 1.0000\n",
            "Epoch 188/1000\n",
            "3/3 - 0s - loss: 0.0077 - accuracy: 1.0000 - val_loss: 0.0359 - val_accuracy: 1.0000\n",
            "Epoch 189/1000\n",
            "3/3 - 0s - loss: 0.0086 - accuracy: 1.0000 - val_loss: 0.0312 - val_accuracy: 1.0000\n",
            "Epoch 190/1000\n",
            "3/3 - 0s - loss: 0.0039 - accuracy: 1.0000 - val_loss: 0.0265 - val_accuracy: 1.0000\n",
            "Epoch 191/1000\n",
            "3/3 - 0s - loss: 0.0046 - accuracy: 1.0000 - val_loss: 0.0214 - val_accuracy: 1.0000\n",
            "Epoch 192/1000\n",
            "3/3 - 0s - loss: 0.0068 - accuracy: 1.0000 - val_loss: 0.0177 - val_accuracy: 1.0000\n",
            "Epoch 193/1000\n",
            "3/3 - 0s - loss: 0.0040 - accuracy: 1.0000 - val_loss: 0.0129 - val_accuracy: 1.0000\n",
            "Epoch 194/1000\n",
            "3/3 - 0s - loss: 0.0697 - accuracy: 0.9778 - val_loss: 0.0103 - val_accuracy: 1.0000\n",
            "Epoch 195/1000\n",
            "3/3 - 0s - loss: 0.0028 - accuracy: 1.0000 - val_loss: 0.0113 - val_accuracy: 1.0000\n",
            "Epoch 196/1000\n",
            "3/3 - 0s - loss: 0.0031 - accuracy: 1.0000 - val_loss: 0.0143 - val_accuracy: 1.0000\n",
            "Epoch 197/1000\n",
            "3/3 - 0s - loss: 0.0153 - accuracy: 0.9889 - val_loss: 0.0231 - val_accuracy: 1.0000\n",
            "Epoch 198/1000\n",
            "3/3 - 0s - loss: 0.0134 - accuracy: 0.9889 - val_loss: 0.0446 - val_accuracy: 1.0000\n",
            "Epoch 199/1000\n",
            "3/3 - 0s - loss: 0.0096 - accuracy: 1.0000 - val_loss: 0.0321 - val_accuracy: 1.0000\n",
            "Epoch 200/1000\n",
            "3/3 - 0s - loss: 0.0678 - accuracy: 0.9778 - val_loss: 0.0106 - val_accuracy: 1.0000\n",
            "Epoch 201/1000\n",
            "3/3 - 0s - loss: 0.0083 - accuracy: 1.0000 - val_loss: 0.0087 - val_accuracy: 1.0000\n",
            "Epoch 202/1000\n",
            "3/3 - 0s - loss: 0.0035 - accuracy: 1.0000 - val_loss: 0.0083 - val_accuracy: 1.0000\n",
            "Epoch 203/1000\n",
            "3/3 - 0s - loss: 0.0075 - accuracy: 1.0000 - val_loss: 0.0083 - val_accuracy: 1.0000\n",
            "Epoch 204/1000\n",
            "3/3 - 0s - loss: 0.0093 - accuracy: 1.0000 - val_loss: 0.0084 - val_accuracy: 1.0000\n",
            "Epoch 205/1000\n",
            "3/3 - 0s - loss: 0.0276 - accuracy: 0.9889 - val_loss: 0.0109 - val_accuracy: 1.0000\n",
            "Epoch 206/1000\n",
            "3/3 - 0s - loss: 0.0067 - accuracy: 1.0000 - val_loss: 0.0390 - val_accuracy: 1.0000\n",
            "Epoch 207/1000\n",
            "3/3 - 0s - loss: 0.0132 - accuracy: 1.0000 - val_loss: 0.0951 - val_accuracy: 0.9333\n",
            "Epoch 208/1000\n",
            "3/3 - 0s - loss: 0.0826 - accuracy: 0.9556 - val_loss: 0.0730 - val_accuracy: 0.9667\n",
            "Epoch 209/1000\n",
            "3/3 - 0s - loss: 0.0634 - accuracy: 0.9889 - val_loss: 0.0041 - val_accuracy: 1.0000\n",
            "Epoch 210/1000\n",
            "3/3 - 0s - loss: 0.0345 - accuracy: 0.9889 - val_loss: 0.0556 - val_accuracy: 0.9667\n",
            "Epoch 211/1000\n",
            "3/3 - 0s - loss: 0.2360 - accuracy: 0.9556 - val_loss: 0.4590 - val_accuracy: 0.8667\n",
            "Epoch 212/1000\n",
            "3/3 - 0s - loss: 0.0846 - accuracy: 0.9667 - val_loss: 0.1736 - val_accuracy: 0.9000\n",
            "Epoch 213/1000\n",
            "3/3 - 0s - loss: 0.0214 - accuracy: 1.0000 - val_loss: 0.0486 - val_accuracy: 0.9667\n",
            "Epoch 214/1000\n",
            "3/3 - 0s - loss: 0.0198 - accuracy: 1.0000 - val_loss: 0.0141 - val_accuracy: 1.0000\n",
            "Epoch 215/1000\n",
            "3/3 - 0s - loss: 0.0097 - accuracy: 1.0000 - val_loss: 0.0070 - val_accuracy: 1.0000\n",
            "Epoch 216/1000\n",
            "3/3 - 0s - loss: 0.0133 - accuracy: 1.0000 - val_loss: 0.0058 - val_accuracy: 1.0000\n",
            "Epoch 217/1000\n",
            "3/3 - 0s - loss: 0.0115 - accuracy: 1.0000 - val_loss: 0.0052 - val_accuracy: 1.0000\n",
            "Epoch 218/1000\n",
            "3/3 - 0s - loss: 0.0087 - accuracy: 1.0000 - val_loss: 0.0044 - val_accuracy: 1.0000\n",
            "Epoch 219/1000\n",
            "3/3 - 0s - loss: 0.0099 - accuracy: 1.0000 - val_loss: 0.0039 - val_accuracy: 1.0000\n",
            "Epoch 220/1000\n",
            "3/3 - 0s - loss: 0.0176 - accuracy: 1.0000 - val_loss: 0.0034 - val_accuracy: 1.0000\n",
            "Epoch 221/1000\n",
            "3/3 - 0s - loss: 0.0042 - accuracy: 1.0000 - val_loss: 0.0034 - val_accuracy: 1.0000\n",
            "Epoch 222/1000\n",
            "3/3 - 0s - loss: 0.0046 - accuracy: 1.0000 - val_loss: 0.0034 - val_accuracy: 1.0000\n",
            "Epoch 223/1000\n",
            "3/3 - 0s - loss: 0.0676 - accuracy: 0.9889 - val_loss: 0.0033 - val_accuracy: 1.0000\n",
            "Epoch 224/1000\n",
            "3/3 - 0s - loss: 0.0761 - accuracy: 0.9889 - val_loss: 0.0025 - val_accuracy: 1.0000\n",
            "Epoch 225/1000\n",
            "3/3 - 0s - loss: 0.0096 - accuracy: 1.0000 - val_loss: 0.0019 - val_accuracy: 1.0000\n",
            "Epoch 226/1000\n",
            "3/3 - 0s - loss: 0.0243 - accuracy: 0.9889 - val_loss: 0.0030 - val_accuracy: 1.0000\n",
            "Epoch 227/1000\n",
            "3/3 - 0s - loss: 0.1746 - accuracy: 0.9778 - val_loss: 0.0056 - val_accuracy: 1.0000\n",
            "Epoch 228/1000\n",
            "3/3 - 0s - loss: 0.0353 - accuracy: 0.9889 - val_loss: 0.0043 - val_accuracy: 1.0000\n",
            "Epoch 229/1000\n",
            "3/3 - 0s - loss: 0.1658 - accuracy: 0.9556 - val_loss: 0.0034 - val_accuracy: 1.0000\n",
            "Epoch 230/1000\n",
            "3/3 - 0s - loss: 0.0421 - accuracy: 0.9889 - val_loss: 0.0081 - val_accuracy: 1.0000\n",
            "Epoch 231/1000\n",
            "3/3 - 0s - loss: 0.1605 - accuracy: 0.9444 - val_loss: 0.0157 - val_accuracy: 1.0000\n",
            "Epoch 232/1000\n",
            "3/3 - 0s - loss: 0.0127 - accuracy: 1.0000 - val_loss: 0.0253 - val_accuracy: 1.0000\n",
            "Epoch 233/1000\n",
            "3/3 - 0s - loss: 0.0291 - accuracy: 1.0000 - val_loss: 0.0547 - val_accuracy: 1.0000\n",
            "Epoch 234/1000\n",
            "3/3 - 0s - loss: 0.0570 - accuracy: 0.9778 - val_loss: 0.0883 - val_accuracy: 0.9333\n",
            "Epoch 235/1000\n",
            "3/3 - 0s - loss: 0.0220 - accuracy: 1.0000 - val_loss: 0.1022 - val_accuracy: 0.9333\n",
            "Epoch 236/1000\n",
            "3/3 - 0s - loss: 0.0224 - accuracy: 0.9889 - val_loss: 0.0974 - val_accuracy: 0.9333\n",
            "Epoch 237/1000\n",
            "3/3 - 0s - loss: 0.0315 - accuracy: 1.0000 - val_loss: 0.0755 - val_accuracy: 0.9667\n",
            "Epoch 238/1000\n",
            "3/3 - 0s - loss: 0.0112 - accuracy: 1.0000 - val_loss: 0.0477 - val_accuracy: 1.0000\n",
            "Epoch 239/1000\n",
            "3/3 - 0s - loss: 0.0167 - accuracy: 1.0000 - val_loss: 0.0328 - val_accuracy: 1.0000\n",
            "Epoch 240/1000\n",
            "3/3 - 0s - loss: 0.0118 - accuracy: 1.0000 - val_loss: 0.0241 - val_accuracy: 1.0000\n",
            "Epoch 241/1000\n",
            "3/3 - 0s - loss: 0.0108 - accuracy: 1.0000 - val_loss: 0.0160 - val_accuracy: 1.0000\n",
            "Epoch 242/1000\n",
            "3/3 - 0s - loss: 0.0086 - accuracy: 1.0000 - val_loss: 0.0119 - val_accuracy: 1.0000\n",
            "Epoch 243/1000\n",
            "3/3 - 0s - loss: 0.1361 - accuracy: 0.9556 - val_loss: 0.0090 - val_accuracy: 1.0000\n",
            "Epoch 244/1000\n",
            "3/3 - 0s - loss: 0.0164 - accuracy: 1.0000 - val_loss: 0.0115 - val_accuracy: 1.0000\n",
            "Epoch 245/1000\n",
            "3/3 - 0s - loss: 0.0089 - accuracy: 1.0000 - val_loss: 0.0234 - val_accuracy: 1.0000\n",
            "Epoch 246/1000\n",
            "3/3 - 0s - loss: 0.0134 - accuracy: 1.0000 - val_loss: 0.0425 - val_accuracy: 0.9667\n",
            "Epoch 247/1000\n",
            "3/3 - 0s - loss: 0.0097 - accuracy: 1.0000 - val_loss: 0.0550 - val_accuracy: 0.9667\n",
            "Epoch 248/1000\n",
            "3/3 - 0s - loss: 0.0142 - accuracy: 1.0000 - val_loss: 0.0569 - val_accuracy: 0.9667\n",
            "Epoch 249/1000\n",
            "3/3 - 0s - loss: 0.0206 - accuracy: 0.9889 - val_loss: 0.0441 - val_accuracy: 0.9667\n",
            "Epoch 250/1000\n",
            "3/3 - 0s - loss: 0.0110 - accuracy: 1.0000 - val_loss: 0.0227 - val_accuracy: 1.0000\n",
            "Epoch 251/1000\n",
            "3/3 - 0s - loss: 0.0192 - accuracy: 1.0000 - val_loss: 0.0162 - val_accuracy: 1.0000\n",
            "Epoch 252/1000\n",
            "3/3 - 0s - loss: 0.0338 - accuracy: 0.9889 - val_loss: 0.0142 - val_accuracy: 1.0000\n",
            "Epoch 253/1000\n",
            "3/3 - 0s - loss: 0.0101 - accuracy: 1.0000 - val_loss: 0.0140 - val_accuracy: 1.0000\n",
            "Epoch 254/1000\n",
            "3/3 - 0s - loss: 0.0073 - accuracy: 1.0000 - val_loss: 0.0152 - val_accuracy: 1.0000\n",
            "Epoch 255/1000\n",
            "3/3 - 0s - loss: 0.0608 - accuracy: 0.9778 - val_loss: 0.0162 - val_accuracy: 1.0000\n",
            "Epoch 256/1000\n",
            "3/3 - 0s - loss: 0.0169 - accuracy: 1.0000 - val_loss: 0.0354 - val_accuracy: 1.0000\n",
            "Epoch 257/1000\n",
            "3/3 - 0s - loss: 0.0050 - accuracy: 1.0000 - val_loss: 0.0706 - val_accuracy: 0.9667\n",
            "Epoch 258/1000\n",
            "3/3 - 0s - loss: 0.0147 - accuracy: 0.9889 - val_loss: 0.0927 - val_accuracy: 0.9667\n",
            "Epoch 259/1000\n",
            "3/3 - 0s - loss: 0.0070 - accuracy: 1.0000 - val_loss: 0.0882 - val_accuracy: 0.9667\n",
            "Epoch 260/1000\n",
            "3/3 - 0s - loss: 0.0072 - accuracy: 1.0000 - val_loss: 0.0811 - val_accuracy: 0.9667\n",
            "Epoch 261/1000\n",
            "3/3 - 0s - loss: 0.0055 - accuracy: 1.0000 - val_loss: 0.0746 - val_accuracy: 0.9667\n",
            "Epoch 262/1000\n",
            "3/3 - 0s - loss: 0.0203 - accuracy: 0.9889 - val_loss: 0.0607 - val_accuracy: 0.9667\n",
            "Epoch 263/1000\n",
            "3/3 - 0s - loss: 0.0068 - accuracy: 1.0000 - val_loss: 0.0527 - val_accuracy: 0.9667\n",
            "Epoch 264/1000\n",
            "3/3 - 0s - loss: 0.0079 - accuracy: 1.0000 - val_loss: 0.0436 - val_accuracy: 0.9667\n",
            "Epoch 265/1000\n",
            "3/3 - 0s - loss: 0.0153 - accuracy: 1.0000 - val_loss: 0.0309 - val_accuracy: 1.0000\n",
            "Epoch 266/1000\n",
            "3/3 - 0s - loss: 0.0329 - accuracy: 0.9889 - val_loss: 0.0099 - val_accuracy: 1.0000\n",
            "Epoch 267/1000\n",
            "3/3 - 0s - loss: 0.0041 - accuracy: 1.0000 - val_loss: 0.0032 - val_accuracy: 1.0000\n",
            "Epoch 268/1000\n",
            "3/3 - 0s - loss: 0.0104 - accuracy: 1.0000 - val_loss: 0.0037 - val_accuracy: 1.0000\n",
            "Epoch 269/1000\n",
            "3/3 - 0s - loss: 0.0192 - accuracy: 0.9889 - val_loss: 0.0057 - val_accuracy: 1.0000\n",
            "Epoch 270/1000\n",
            "3/3 - 0s - loss: 0.0949 - accuracy: 0.9778 - val_loss: 0.0072 - val_accuracy: 1.0000\n",
            "Epoch 271/1000\n",
            "3/3 - 0s - loss: 0.0135 - accuracy: 1.0000 - val_loss: 0.0071 - val_accuracy: 1.0000\n",
            "Epoch 272/1000\n",
            "3/3 - 0s - loss: 0.0451 - accuracy: 0.9889 - val_loss: 0.0115 - val_accuracy: 1.0000\n",
            "Epoch 273/1000\n",
            "3/3 - 0s - loss: 0.0075 - accuracy: 1.0000 - val_loss: 0.0184 - val_accuracy: 1.0000\n",
            "Epoch 274/1000\n",
            "3/3 - 0s - loss: 0.0193 - accuracy: 1.0000 - val_loss: 0.0308 - val_accuracy: 1.0000\n",
            "Epoch 275/1000\n",
            "3/3 - 0s - loss: 0.0151 - accuracy: 1.0000 - val_loss: 0.0363 - val_accuracy: 1.0000\n",
            "Epoch 276/1000\n",
            "3/3 - 0s - loss: 0.0088 - accuracy: 1.0000 - val_loss: 0.0356 - val_accuracy: 1.0000\n",
            "Epoch 277/1000\n",
            "3/3 - 0s - loss: 0.0096 - accuracy: 1.0000 - val_loss: 0.0359 - val_accuracy: 1.0000\n",
            "Epoch 278/1000\n",
            "3/3 - 0s - loss: 0.0110 - accuracy: 1.0000 - val_loss: 0.0400 - val_accuracy: 1.0000\n",
            "Epoch 279/1000\n",
            "3/3 - 0s - loss: 0.0058 - accuracy: 1.0000 - val_loss: 0.0451 - val_accuracy: 1.0000\n",
            "Epoch 280/1000\n",
            "3/3 - 0s - loss: 0.0121 - accuracy: 1.0000 - val_loss: 0.0439 - val_accuracy: 1.0000\n",
            "Epoch 281/1000\n",
            "3/3 - 0s - loss: 0.0042 - accuracy: 1.0000 - val_loss: 0.0440 - val_accuracy: 0.9667\n",
            "Epoch 282/1000\n",
            "3/3 - 0s - loss: 0.0085 - accuracy: 1.0000 - val_loss: 0.0406 - val_accuracy: 1.0000\n",
            "Epoch 283/1000\n",
            "3/3 - 0s - loss: 0.0038 - accuracy: 1.0000 - val_loss: 0.0374 - val_accuracy: 1.0000\n",
            "Epoch 284/1000\n",
            "3/3 - 0s - loss: 0.0077 - accuracy: 1.0000 - val_loss: 0.0362 - val_accuracy: 1.0000\n",
            "Epoch 285/1000\n",
            "3/3 - 0s - loss: 0.0073 - accuracy: 1.0000 - val_loss: 0.0324 - val_accuracy: 1.0000\n",
            "Epoch 286/1000\n",
            "3/3 - 0s - loss: 0.0040 - accuracy: 1.0000 - val_loss: 0.0284 - val_accuracy: 1.0000\n",
            "Epoch 287/1000\n",
            "3/3 - 0s - loss: 0.0092 - accuracy: 1.0000 - val_loss: 0.0223 - val_accuracy: 1.0000\n",
            "Epoch 288/1000\n",
            "3/3 - 0s - loss: 0.0696 - accuracy: 0.9778 - val_loss: 0.0078 - val_accuracy: 1.0000\n",
            "Epoch 289/1000\n",
            "3/3 - 0s - loss: 0.0020 - accuracy: 1.0000 - val_loss: 0.0053 - val_accuracy: 1.0000\n",
            "Epoch 290/1000\n",
            "3/3 - 0s - loss: 0.0160 - accuracy: 0.9889 - val_loss: 0.0099 - val_accuracy: 1.0000\n",
            "Epoch 291/1000\n",
            "3/3 - 0s - loss: 0.0208 - accuracy: 1.0000 - val_loss: 0.0096 - val_accuracy: 1.0000\n",
            "Epoch 292/1000\n",
            "3/3 - 0s - loss: 0.0150 - accuracy: 1.0000 - val_loss: 0.0075 - val_accuracy: 1.0000\n",
            "Epoch 293/1000\n",
            "3/3 - 0s - loss: 0.0056 - accuracy: 1.0000 - val_loss: 0.0064 - val_accuracy: 1.0000\n",
            "Epoch 294/1000\n",
            "3/3 - 0s - loss: 0.0034 - accuracy: 1.0000 - val_loss: 0.0055 - val_accuracy: 1.0000\n",
            "Epoch 295/1000\n",
            "3/3 - 0s - loss: 0.0057 - accuracy: 1.0000 - val_loss: 0.0048 - val_accuracy: 1.0000\n",
            "Epoch 296/1000\n",
            "3/3 - 0s - loss: 0.0086 - accuracy: 1.0000 - val_loss: 0.0041 - val_accuracy: 1.0000\n",
            "Epoch 297/1000\n",
            "3/3 - 0s - loss: 0.0040 - accuracy: 1.0000 - val_loss: 0.0035 - val_accuracy: 1.0000\n",
            "Epoch 298/1000\n",
            "3/3 - 0s - loss: 0.0035 - accuracy: 1.0000 - val_loss: 0.0031 - val_accuracy: 1.0000\n",
            "Epoch 299/1000\n",
            "3/3 - 0s - loss: 0.0701 - accuracy: 0.9889 - val_loss: 0.0027 - val_accuracy: 1.0000\n",
            "Epoch 300/1000\n",
            "3/3 - 0s - loss: 0.0038 - accuracy: 1.0000 - val_loss: 0.0026 - val_accuracy: 1.0000\n",
            "Epoch 301/1000\n",
            "3/3 - 0s - loss: 0.0031 - accuracy: 1.0000 - val_loss: 0.0028 - val_accuracy: 1.0000\n",
            "Epoch 302/1000\n",
            "3/3 - 0s - loss: 0.0157 - accuracy: 1.0000 - val_loss: 0.0029 - val_accuracy: 1.0000\n",
            "Epoch 303/1000\n",
            "3/3 - 0s - loss: 0.0081 - accuracy: 1.0000 - val_loss: 0.0029 - val_accuracy: 1.0000\n",
            "Epoch 304/1000\n",
            "3/3 - 0s - loss: 0.0032 - accuracy: 1.0000 - val_loss: 0.0028 - val_accuracy: 1.0000\n",
            "Epoch 305/1000\n",
            "3/3 - 0s - loss: 0.0052 - accuracy: 1.0000 - val_loss: 0.0027 - val_accuracy: 1.0000\n",
            "Epoch 306/1000\n",
            "3/3 - 0s - loss: 0.0111 - accuracy: 1.0000 - val_loss: 0.0024 - val_accuracy: 1.0000\n",
            "Epoch 307/1000\n",
            "3/3 - 0s - loss: 0.0039 - accuracy: 1.0000 - val_loss: 0.0022 - val_accuracy: 1.0000\n",
            "Epoch 308/1000\n",
            "3/3 - 0s - loss: 0.0074 - accuracy: 1.0000 - val_loss: 0.0021 - val_accuracy: 1.0000\n",
            "Epoch 309/1000\n",
            "3/3 - 0s - loss: 0.0101 - accuracy: 1.0000 - val_loss: 0.0028 - val_accuracy: 1.0000\n",
            "Epoch 310/1000\n",
            "3/3 - 0s - loss: 0.0022 - accuracy: 1.0000 - val_loss: 0.0050 - val_accuracy: 1.0000\n",
            "Epoch 311/1000\n",
            "3/3 - 0s - loss: 0.0034 - accuracy: 1.0000 - val_loss: 0.0078 - val_accuracy: 1.0000\n",
            "Epoch 312/1000\n",
            "3/3 - 0s - loss: 0.0313 - accuracy: 0.9889 - val_loss: 0.0060 - val_accuracy: 1.0000\n",
            "Epoch 313/1000\n",
            "3/3 - 0s - loss: 0.0057 - accuracy: 1.0000 - val_loss: 0.0046 - val_accuracy: 1.0000\n",
            "Epoch 314/1000\n",
            "3/3 - 0s - loss: 0.0034 - accuracy: 1.0000 - val_loss: 0.0037 - val_accuracy: 1.0000\n",
            "Epoch 315/1000\n",
            "3/3 - 0s - loss: 0.0118 - accuracy: 1.0000 - val_loss: 0.0029 - val_accuracy: 1.0000\n",
            "Epoch 316/1000\n",
            "3/3 - 0s - loss: 0.0039 - accuracy: 1.0000 - val_loss: 0.0024 - val_accuracy: 1.0000\n",
            "Epoch 317/1000\n",
            "3/3 - 0s - loss: 0.0084 - accuracy: 1.0000 - val_loss: 0.0018 - val_accuracy: 1.0000\n",
            "Epoch 318/1000\n",
            "3/3 - 0s - loss: 0.0035 - accuracy: 1.0000 - val_loss: 0.0016 - val_accuracy: 1.0000\n",
            "Epoch 319/1000\n",
            "3/3 - 0s - loss: 0.0039 - accuracy: 1.0000 - val_loss: 0.0015 - val_accuracy: 1.0000\n",
            "Epoch 320/1000\n",
            "3/3 - 0s - loss: 0.0052 - accuracy: 1.0000 - val_loss: 0.0014 - val_accuracy: 1.0000\n",
            "Epoch 321/1000\n",
            "3/3 - 0s - loss: 0.0033 - accuracy: 1.0000 - val_loss: 0.0013 - val_accuracy: 1.0000\n",
            "Epoch 322/1000\n",
            "3/3 - 0s - loss: 0.0016 - accuracy: 1.0000 - val_loss: 0.0013 - val_accuracy: 1.0000\n",
            "Epoch 323/1000\n",
            "3/3 - 0s - loss: 0.0091 - accuracy: 1.0000 - val_loss: 0.0013 - val_accuracy: 1.0000\n",
            "Epoch 324/1000\n",
            "3/3 - 0s - loss: 0.0011 - accuracy: 1.0000 - val_loss: 0.0014 - val_accuracy: 1.0000\n",
            "Epoch 325/1000\n",
            "3/3 - 0s - loss: 0.0021 - accuracy: 1.0000 - val_loss: 0.0015 - val_accuracy: 1.0000\n",
            "Epoch 326/1000\n",
            "3/3 - 0s - loss: 0.0856 - accuracy: 0.9667 - val_loss: 0.0019 - val_accuracy: 1.0000\n",
            "Epoch 327/1000\n",
            "3/3 - 0s - loss: 0.0398 - accuracy: 0.9889 - val_loss: 0.0042 - val_accuracy: 1.0000\n",
            "Epoch 328/1000\n",
            "3/3 - 0s - loss: 0.0015 - accuracy: 1.0000 - val_loss: 0.0053 - val_accuracy: 1.0000\n",
            "Epoch 329/1000\n",
            "3/3 - 0s - loss: 0.0043 - accuracy: 1.0000 - val_loss: 0.0094 - val_accuracy: 1.0000\n",
            "Epoch 330/1000\n",
            "3/3 - 0s - loss: 0.0139 - accuracy: 0.9889 - val_loss: 0.0179 - val_accuracy: 1.0000\n",
            "Epoch 331/1000\n",
            "3/3 - 0s - loss: 0.0051 - accuracy: 1.0000 - val_loss: 0.0389 - val_accuracy: 1.0000\n",
            "Epoch 332/1000\n",
            "3/3 - 0s - loss: 0.0335 - accuracy: 0.9778 - val_loss: 0.0387 - val_accuracy: 1.0000\n",
            "Epoch 333/1000\n",
            "3/3 - 0s - loss: 0.0947 - accuracy: 0.9667 - val_loss: 0.0180 - val_accuracy: 1.0000\n",
            "Epoch 334/1000\n",
            "3/3 - 0s - loss: 0.0088 - accuracy: 1.0000 - val_loss: 0.0210 - val_accuracy: 1.0000\n",
            "Epoch 335/1000\n",
            "3/3 - 0s - loss: 0.0114 - accuracy: 1.0000 - val_loss: 0.0493 - val_accuracy: 1.0000\n",
            "Epoch 336/1000\n",
            "3/3 - 0s - loss: 0.0126 - accuracy: 1.0000 - val_loss: 0.1017 - val_accuracy: 0.9667\n",
            "Epoch 337/1000\n",
            "3/3 - 0s - loss: 0.0212 - accuracy: 1.0000 - val_loss: 0.1287 - val_accuracy: 0.9333\n",
            "Epoch 338/1000\n",
            "3/3 - 0s - loss: 0.0152 - accuracy: 1.0000 - val_loss: 0.0868 - val_accuracy: 0.9667\n",
            "Epoch 339/1000\n",
            "3/3 - 0s - loss: 0.1946 - accuracy: 0.9444 - val_loss: 0.0315 - val_accuracy: 1.0000\n",
            "Epoch 340/1000\n",
            "3/3 - 0s - loss: 0.0081 - accuracy: 1.0000 - val_loss: 0.0196 - val_accuracy: 1.0000\n",
            "Epoch 341/1000\n",
            "3/3 - 0s - loss: 0.0068 - accuracy: 1.0000 - val_loss: 0.0154 - val_accuracy: 1.0000\n",
            "Epoch 342/1000\n",
            "3/3 - 0s - loss: 0.0092 - accuracy: 1.0000 - val_loss: 0.0130 - val_accuracy: 1.0000\n",
            "Epoch 343/1000\n",
            "3/3 - 0s - loss: 0.0089 - accuracy: 1.0000 - val_loss: 0.0117 - val_accuracy: 1.0000\n",
            "Epoch 344/1000\n",
            "3/3 - 0s - loss: 0.0076 - accuracy: 1.0000 - val_loss: 0.0113 - val_accuracy: 1.0000\n",
            "Epoch 345/1000\n",
            "3/3 - 0s - loss: 0.0083 - accuracy: 1.0000 - val_loss: 0.0110 - val_accuracy: 1.0000\n",
            "Epoch 346/1000\n",
            "3/3 - 0s - loss: 0.0107 - accuracy: 1.0000 - val_loss: 0.0111 - val_accuracy: 1.0000\n",
            "Epoch 347/1000\n",
            "3/3 - 0s - loss: 0.0076 - accuracy: 1.0000 - val_loss: 0.0111 - val_accuracy: 1.0000\n",
            "Epoch 348/1000\n",
            "3/3 - 0s - loss: 0.0125 - accuracy: 0.9889 - val_loss: 0.0126 - val_accuracy: 1.0000\n",
            "Epoch 349/1000\n",
            "3/3 - 0s - loss: 0.0073 - accuracy: 1.0000 - val_loss: 0.0175 - val_accuracy: 1.0000\n",
            "Epoch 350/1000\n",
            "3/3 - 0s - loss: 0.0048 - accuracy: 1.0000 - val_loss: 0.0221 - val_accuracy: 1.0000\n",
            "Epoch 351/1000\n",
            "3/3 - 0s - loss: 0.0045 - accuracy: 1.0000 - val_loss: 0.0262 - val_accuracy: 1.0000\n",
            "Epoch 352/1000\n",
            "3/3 - 0s - loss: 0.0056 - accuracy: 1.0000 - val_loss: 0.0287 - val_accuracy: 1.0000\n",
            "Epoch 353/1000\n",
            "3/3 - 0s - loss: 0.0069 - accuracy: 1.0000 - val_loss: 0.0285 - val_accuracy: 1.0000\n",
            "Epoch 354/1000\n",
            "3/3 - 0s - loss: 0.0037 - accuracy: 1.0000 - val_loss: 0.0278 - val_accuracy: 1.0000\n",
            "Epoch 355/1000\n",
            "3/3 - 0s - loss: 0.0072 - accuracy: 1.0000 - val_loss: 0.0256 - val_accuracy: 1.0000\n",
            "Epoch 356/1000\n",
            "3/3 - 0s - loss: 0.0027 - accuracy: 1.0000 - val_loss: 0.0197 - val_accuracy: 1.0000\n",
            "Epoch 357/1000\n",
            "3/3 - 0s - loss: 0.0035 - accuracy: 1.0000 - val_loss: 0.0156 - val_accuracy: 1.0000\n",
            "Epoch 358/1000\n",
            "3/3 - 0s - loss: 0.0021 - accuracy: 1.0000 - val_loss: 0.0136 - val_accuracy: 1.0000\n",
            "Epoch 359/1000\n",
            "3/3 - 0s - loss: 0.1005 - accuracy: 0.9889 - val_loss: 0.0099 - val_accuracy: 1.0000\n",
            "Epoch 360/1000\n",
            "3/3 - 0s - loss: 0.0019 - accuracy: 1.0000 - val_loss: 0.0093 - val_accuracy: 1.0000\n",
            "Epoch 361/1000\n",
            "3/3 - 0s - loss: 0.0080 - accuracy: 1.0000 - val_loss: 0.0145 - val_accuracy: 1.0000\n",
            "Epoch 362/1000\n",
            "3/3 - 0s - loss: 0.0295 - accuracy: 0.9889 - val_loss: 0.0188 - val_accuracy: 1.0000\n",
            "Epoch 363/1000\n",
            "3/3 - 0s - loss: 0.0045 - accuracy: 1.0000 - val_loss: 0.0145 - val_accuracy: 1.0000\n",
            "Epoch 364/1000\n",
            "3/3 - 0s - loss: 0.0261 - accuracy: 0.9889 - val_loss: 0.0125 - val_accuracy: 1.0000\n",
            "Epoch 365/1000\n",
            "3/3 - 0s - loss: 0.0190 - accuracy: 0.9889 - val_loss: 0.0128 - val_accuracy: 1.0000\n",
            "Epoch 366/1000\n",
            "3/3 - 0s - loss: 0.0080 - accuracy: 1.0000 - val_loss: 0.0136 - val_accuracy: 1.0000\n",
            "Epoch 367/1000\n",
            "3/3 - 0s - loss: 0.0089 - accuracy: 1.0000 - val_loss: 0.0139 - val_accuracy: 1.0000\n",
            "Epoch 368/1000\n",
            "3/3 - 0s - loss: 0.0079 - accuracy: 1.0000 - val_loss: 0.0136 - val_accuracy: 1.0000\n",
            "Epoch 369/1000\n",
            "3/3 - 0s - loss: 0.1898 - accuracy: 0.9556 - val_loss: 0.0153 - val_accuracy: 1.0000\n",
            "Epoch 370/1000\n",
            "3/3 - 0s - loss: 0.0066 - accuracy: 1.0000 - val_loss: 0.0340 - val_accuracy: 1.0000\n",
            "Epoch 371/1000\n",
            "3/3 - 0s - loss: 0.0081 - accuracy: 1.0000 - val_loss: 0.0684 - val_accuracy: 1.0000\n",
            "Epoch 372/1000\n",
            "3/3 - 0s - loss: 0.0680 - accuracy: 0.9778 - val_loss: 0.0849 - val_accuracy: 1.0000\n",
            "Epoch 373/1000\n",
            "3/3 - 0s - loss: 0.0096 - accuracy: 1.0000 - val_loss: 0.0706 - val_accuracy: 1.0000\n",
            "Epoch 374/1000\n",
            "3/3 - 0s - loss: 0.0174 - accuracy: 1.0000 - val_loss: 0.0614 - val_accuracy: 1.0000\n",
            "Epoch 375/1000\n",
            "3/3 - 0s - loss: 0.0155 - accuracy: 1.0000 - val_loss: 0.0460 - val_accuracy: 1.0000\n",
            "Epoch 376/1000\n",
            "3/3 - 0s - loss: 0.0068 - accuracy: 1.0000 - val_loss: 0.0293 - val_accuracy: 1.0000\n",
            "Epoch 377/1000\n",
            "3/3 - 0s - loss: 0.0057 - accuracy: 1.0000 - val_loss: 0.0228 - val_accuracy: 1.0000\n",
            "Epoch 378/1000\n",
            "3/3 - 0s - loss: 0.0042 - accuracy: 1.0000 - val_loss: 0.0195 - val_accuracy: 1.0000\n",
            "Epoch 379/1000\n",
            "3/3 - 0s - loss: 0.0100 - accuracy: 1.0000 - val_loss: 0.0168 - val_accuracy: 1.0000\n",
            "Epoch 380/1000\n",
            "3/3 - 0s - loss: 0.0050 - accuracy: 1.0000 - val_loss: 0.0149 - val_accuracy: 1.0000\n",
            "Epoch 381/1000\n",
            "3/3 - 0s - loss: 0.0124 - accuracy: 1.0000 - val_loss: 0.0130 - val_accuracy: 1.0000\n",
            "Epoch 382/1000\n",
            "3/3 - 0s - loss: 0.0043 - accuracy: 1.0000 - val_loss: 0.0116 - val_accuracy: 1.0000\n",
            "Epoch 383/1000\n",
            "3/3 - 0s - loss: 0.0140 - accuracy: 0.9889 - val_loss: 0.0103 - val_accuracy: 1.0000\n",
            "Epoch 384/1000\n",
            "3/3 - 0s - loss: 0.0093 - accuracy: 1.0000 - val_loss: 0.0092 - val_accuracy: 1.0000\n",
            "Epoch 385/1000\n",
            "3/3 - 0s - loss: 0.0032 - accuracy: 1.0000 - val_loss: 0.0088 - val_accuracy: 1.0000\n",
            "Epoch 386/1000\n",
            "3/3 - 0s - loss: 0.0041 - accuracy: 1.0000 - val_loss: 0.0087 - val_accuracy: 1.0000\n",
            "Epoch 387/1000\n",
            "3/3 - 0s - loss: 0.0073 - accuracy: 1.0000 - val_loss: 0.0084 - val_accuracy: 1.0000\n",
            "Epoch 388/1000\n",
            "3/3 - 0s - loss: 0.0055 - accuracy: 1.0000 - val_loss: 0.0073 - val_accuracy: 1.0000\n",
            "Epoch 389/1000\n",
            "3/3 - 0s - loss: 0.0031 - accuracy: 1.0000 - val_loss: 0.0065 - val_accuracy: 1.0000\n",
            "Epoch 390/1000\n",
            "3/3 - 0s - loss: 0.0032 - accuracy: 1.0000 - val_loss: 0.0060 - val_accuracy: 1.0000\n",
            "Epoch 391/1000\n",
            "3/3 - 0s - loss: 0.0023 - accuracy: 1.0000 - val_loss: 0.0055 - val_accuracy: 1.0000\n",
            "Epoch 392/1000\n",
            "3/3 - 0s - loss: 0.0017 - accuracy: 1.0000 - val_loss: 0.0051 - val_accuracy: 1.0000\n",
            "Epoch 393/1000\n",
            "3/3 - 0s - loss: 0.0026 - accuracy: 1.0000 - val_loss: 0.0047 - val_accuracy: 1.0000\n",
            "Epoch 394/1000\n",
            "3/3 - 0s - loss: 0.0015 - accuracy: 1.0000 - val_loss: 0.0045 - val_accuracy: 1.0000\n",
            "Epoch 395/1000\n",
            "3/3 - 0s - loss: 0.0038 - accuracy: 1.0000 - val_loss: 0.0041 - val_accuracy: 1.0000\n",
            "Epoch 396/1000\n",
            "3/3 - 0s - loss: 0.0032 - accuracy: 1.0000 - val_loss: 0.0039 - val_accuracy: 1.0000\n",
            "Epoch 397/1000\n",
            "3/3 - 0s - loss: 0.0019 - accuracy: 1.0000 - val_loss: 0.0039 - val_accuracy: 1.0000\n",
            "Epoch 398/1000\n",
            "3/3 - 0s - loss: 0.0558 - accuracy: 0.9889 - val_loss: 0.0046 - val_accuracy: 1.0000\n",
            "Epoch 399/1000\n",
            "3/3 - 0s - loss: 0.0062 - accuracy: 1.0000 - val_loss: 0.0118 - val_accuracy: 1.0000\n",
            "Epoch 400/1000\n",
            "3/3 - 0s - loss: 0.0031 - accuracy: 1.0000 - val_loss: 0.0384 - val_accuracy: 1.0000\n",
            "Epoch 401/1000\n",
            "3/3 - 0s - loss: 0.0031 - accuracy: 1.0000 - val_loss: 0.0784 - val_accuracy: 0.9333\n",
            "Epoch 402/1000\n",
            "3/3 - 0s - loss: 0.1012 - accuracy: 0.9556 - val_loss: 0.0192 - val_accuracy: 1.0000\n",
            "Epoch 403/1000\n",
            "3/3 - 0s - loss: 0.0199 - accuracy: 0.9889 - val_loss: 0.0076 - val_accuracy: 1.0000\n",
            "Epoch 404/1000\n",
            "3/3 - 0s - loss: 0.0054 - accuracy: 1.0000 - val_loss: 0.0456 - val_accuracy: 0.9667\n",
            "Epoch 405/1000\n",
            "3/3 - 0s - loss: 0.0187 - accuracy: 1.0000 - val_loss: 0.1017 - val_accuracy: 0.9333\n",
            "Epoch 406/1000\n",
            "3/3 - 0s - loss: 0.0108 - accuracy: 1.0000 - val_loss: 0.1247 - val_accuracy: 0.9333\n",
            "Epoch 407/1000\n",
            "3/3 - 0s - loss: 0.0234 - accuracy: 0.9889 - val_loss: 0.0924 - val_accuracy: 0.9333\n",
            "Epoch 408/1000\n",
            "3/3 - 0s - loss: 0.0301 - accuracy: 0.9778 - val_loss: 0.0274 - val_accuracy: 1.0000\n",
            "Epoch 409/1000\n",
            "3/3 - 0s - loss: 0.0095 - accuracy: 1.0000 - val_loss: 0.0090 - val_accuracy: 1.0000\n",
            "Epoch 410/1000\n",
            "3/3 - 0s - loss: 0.0041 - accuracy: 1.0000 - val_loss: 0.0051 - val_accuracy: 1.0000\n",
            "Epoch 411/1000\n",
            "3/3 - 0s - loss: 0.0040 - accuracy: 1.0000 - val_loss: 0.0043 - val_accuracy: 1.0000\n",
            "Epoch 412/1000\n",
            "3/3 - 0s - loss: 0.0033 - accuracy: 1.0000 - val_loss: 0.0043 - val_accuracy: 1.0000\n",
            "Epoch 413/1000\n",
            "3/3 - 0s - loss: 0.0840 - accuracy: 0.9778 - val_loss: 0.0047 - val_accuracy: 1.0000\n",
            "Epoch 414/1000\n",
            "3/3 - 0s - loss: 0.0331 - accuracy: 1.0000 - val_loss: 0.0083 - val_accuracy: 1.0000\n",
            "Epoch 415/1000\n",
            "3/3 - 0s - loss: 0.0085 - accuracy: 1.0000 - val_loss: 0.0129 - val_accuracy: 1.0000\n",
            "Epoch 416/1000\n",
            "3/3 - 0s - loss: 0.0077 - accuracy: 1.0000 - val_loss: 0.0171 - val_accuracy: 1.0000\n",
            "Epoch 417/1000\n",
            "3/3 - 0s - loss: 0.0096 - accuracy: 1.0000 - val_loss: 0.0188 - val_accuracy: 1.0000\n",
            "Epoch 418/1000\n",
            "3/3 - 0s - loss: 0.0092 - accuracy: 1.0000 - val_loss: 0.0184 - val_accuracy: 1.0000\n",
            "Epoch 419/1000\n",
            "3/3 - 0s - loss: 0.0164 - accuracy: 1.0000 - val_loss: 0.0168 - val_accuracy: 1.0000\n",
            "Epoch 420/1000\n",
            "3/3 - 0s - loss: 0.0061 - accuracy: 1.0000 - val_loss: 0.0155 - val_accuracy: 1.0000\n",
            "Epoch 421/1000\n",
            "3/3 - 0s - loss: 0.0040 - accuracy: 1.0000 - val_loss: 0.0141 - val_accuracy: 1.0000\n",
            "Epoch 422/1000\n",
            "3/3 - 0s - loss: 0.0053 - accuracy: 1.0000 - val_loss: 0.0120 - val_accuracy: 1.0000\n",
            "Epoch 423/1000\n",
            "3/3 - 0s - loss: 0.0101 - accuracy: 1.0000 - val_loss: 0.0093 - val_accuracy: 1.0000\n",
            "Epoch 424/1000\n",
            "3/3 - 0s - loss: 0.0028 - accuracy: 1.0000 - val_loss: 0.0079 - val_accuracy: 1.0000\n",
            "Epoch 425/1000\n",
            "3/3 - 0s - loss: 0.0093 - accuracy: 1.0000 - val_loss: 0.0062 - val_accuracy: 1.0000\n",
            "Epoch 426/1000\n",
            "3/3 - 0s - loss: 0.0055 - accuracy: 1.0000 - val_loss: 0.0051 - val_accuracy: 1.0000\n",
            "Epoch 427/1000\n",
            "3/3 - 0s - loss: 0.0058 - accuracy: 1.0000 - val_loss: 0.0051 - val_accuracy: 1.0000\n",
            "Epoch 428/1000\n",
            "3/3 - 0s - loss: 0.0125 - accuracy: 1.0000 - val_loss: 0.0052 - val_accuracy: 1.0000\n",
            "Epoch 429/1000\n",
            "3/3 - 0s - loss: 0.0204 - accuracy: 0.9889 - val_loss: 0.0048 - val_accuracy: 1.0000\n",
            "Epoch 430/1000\n",
            "3/3 - 0s - loss: 0.0027 - accuracy: 1.0000 - val_loss: 0.0054 - val_accuracy: 1.0000\n",
            "Epoch 431/1000\n",
            "3/3 - 0s - loss: 0.0804 - accuracy: 0.9667 - val_loss: 0.0269 - val_accuracy: 1.0000\n",
            "Epoch 432/1000\n",
            "3/3 - 0s - loss: 0.0278 - accuracy: 0.9889 - val_loss: 0.0929 - val_accuracy: 0.9667\n",
            "Epoch 433/1000\n",
            "3/3 - 0s - loss: 0.0124 - accuracy: 1.0000 - val_loss: 0.0781 - val_accuracy: 0.9667\n",
            "Epoch 434/1000\n",
            "3/3 - 0s - loss: 0.1016 - accuracy: 0.9667 - val_loss: 0.0224 - val_accuracy: 1.0000\n",
            "Epoch 435/1000\n",
            "3/3 - 0s - loss: 0.0260 - accuracy: 0.9889 - val_loss: 0.0048 - val_accuracy: 1.0000\n",
            "Epoch 436/1000\n",
            "3/3 - 0s - loss: 0.0105 - accuracy: 1.0000 - val_loss: 0.0023 - val_accuracy: 1.0000\n",
            "Epoch 437/1000\n",
            "3/3 - 0s - loss: 0.0190 - accuracy: 0.9889 - val_loss: 0.0017 - val_accuracy: 1.0000\n",
            "Epoch 438/1000\n",
            "3/3 - 0s - loss: 0.0209 - accuracy: 0.9889 - val_loss: 0.0019 - val_accuracy: 1.0000\n",
            "Epoch 439/1000\n",
            "3/3 - 0s - loss: 0.0048 - accuracy: 1.0000 - val_loss: 0.0022 - val_accuracy: 1.0000\n",
            "Epoch 440/1000\n",
            "3/3 - 0s - loss: 0.2168 - accuracy: 0.9556 - val_loss: 0.0024 - val_accuracy: 1.0000\n",
            "Epoch 441/1000\n",
            "3/3 - 0s - loss: 0.0431 - accuracy: 0.9889 - val_loss: 0.0035 - val_accuracy: 1.0000\n",
            "Epoch 442/1000\n",
            "3/3 - 0s - loss: 0.0085 - accuracy: 1.0000 - val_loss: 0.0079 - val_accuracy: 1.0000\n",
            "Epoch 443/1000\n",
            "3/3 - 0s - loss: 0.0081 - accuracy: 1.0000 - val_loss: 0.0210 - val_accuracy: 1.0000\n",
            "Epoch 444/1000\n",
            "3/3 - 0s - loss: 0.0103 - accuracy: 1.0000 - val_loss: 0.0397 - val_accuracy: 1.0000\n",
            "Epoch 445/1000\n",
            "3/3 - 0s - loss: 0.0749 - accuracy: 0.9889 - val_loss: 0.0601 - val_accuracy: 0.9667\n",
            "Epoch 446/1000\n",
            "3/3 - 0s - loss: 0.0339 - accuracy: 0.9889 - val_loss: 0.0851 - val_accuracy: 0.9667\n",
            "Epoch 447/1000\n",
            "3/3 - 0s - loss: 0.0225 - accuracy: 1.0000 - val_loss: 0.0880 - val_accuracy: 0.9667\n",
            "Epoch 448/1000\n",
            "3/3 - 0s - loss: 0.0212 - accuracy: 1.0000 - val_loss: 0.0569 - val_accuracy: 1.0000\n",
            "Epoch 449/1000\n",
            "3/3 - 0s - loss: 0.0162 - accuracy: 1.0000 - val_loss: 0.0367 - val_accuracy: 1.0000\n",
            "Epoch 450/1000\n",
            "3/3 - 0s - loss: 0.0099 - accuracy: 1.0000 - val_loss: 0.0257 - val_accuracy: 1.0000\n",
            "Epoch 451/1000\n",
            "3/3 - 0s - loss: 0.0315 - accuracy: 0.9889 - val_loss: 0.0222 - val_accuracy: 1.0000\n",
            "Epoch 452/1000\n",
            "3/3 - 0s - loss: 0.0094 - accuracy: 1.0000 - val_loss: 0.0276 - val_accuracy: 1.0000\n",
            "Epoch 453/1000\n",
            "3/3 - 0s - loss: 0.0057 - accuracy: 1.0000 - val_loss: 0.0304 - val_accuracy: 1.0000\n",
            "Epoch 454/1000\n",
            "3/3 - 0s - loss: 0.0068 - accuracy: 1.0000 - val_loss: 0.0322 - val_accuracy: 1.0000\n",
            "Epoch 455/1000\n",
            "3/3 - 0s - loss: 0.0487 - accuracy: 0.9778 - val_loss: 0.0292 - val_accuracy: 1.0000\n",
            "Epoch 456/1000\n",
            "3/3 - 0s - loss: 0.0143 - accuracy: 1.0000 - val_loss: 0.0341 - val_accuracy: 1.0000\n",
            "Epoch 457/1000\n",
            "3/3 - 0s - loss: 0.0290 - accuracy: 0.9778 - val_loss: 0.0160 - val_accuracy: 1.0000\n",
            "Epoch 458/1000\n",
            "3/3 - 0s - loss: 0.0055 - accuracy: 1.0000 - val_loss: 0.0065 - val_accuracy: 1.0000\n",
            "Epoch 459/1000\n",
            "3/3 - 0s - loss: 0.0046 - accuracy: 1.0000 - val_loss: 0.0048 - val_accuracy: 1.0000\n",
            "Epoch 460/1000\n",
            "3/3 - 0s - loss: 0.0046 - accuracy: 1.0000 - val_loss: 0.0047 - val_accuracy: 1.0000\n",
            "Epoch 461/1000\n",
            "3/3 - 0s - loss: 0.0134 - accuracy: 1.0000 - val_loss: 0.0047 - val_accuracy: 1.0000\n",
            "Epoch 462/1000\n",
            "3/3 - 0s - loss: 0.0051 - accuracy: 1.0000 - val_loss: 0.0054 - val_accuracy: 1.0000\n",
            "Epoch 463/1000\n",
            "3/3 - 0s - loss: 0.1238 - accuracy: 0.9778 - val_loss: 0.0064 - val_accuracy: 1.0000\n",
            "Epoch 464/1000\n",
            "3/3 - 0s - loss: 0.0158 - accuracy: 1.0000 - val_loss: 0.0165 - val_accuracy: 1.0000\n",
            "Epoch 465/1000\n",
            "3/3 - 0s - loss: 0.0140 - accuracy: 1.0000 - val_loss: 0.0387 - val_accuracy: 0.9667\n",
            "Epoch 466/1000\n",
            "3/3 - 0s - loss: 0.0229 - accuracy: 1.0000 - val_loss: 0.0258 - val_accuracy: 1.0000\n",
            "Epoch 467/1000\n",
            "3/3 - 0s - loss: 0.0362 - accuracy: 0.9889 - val_loss: 0.0098 - val_accuracy: 1.0000\n",
            "Epoch 468/1000\n",
            "3/3 - 0s - loss: 0.0102 - accuracy: 1.0000 - val_loss: 0.0050 - val_accuracy: 1.0000\n",
            "Epoch 469/1000\n",
            "3/3 - 0s - loss: 0.0053 - accuracy: 1.0000 - val_loss: 0.0056 - val_accuracy: 1.0000\n",
            "Epoch 470/1000\n",
            "3/3 - 0s - loss: 0.0075 - accuracy: 1.0000 - val_loss: 0.0120 - val_accuracy: 1.0000\n",
            "Epoch 471/1000\n",
            "3/3 - 0s - loss: 0.0107 - accuracy: 1.0000 - val_loss: 0.0356 - val_accuracy: 0.9667\n",
            "Epoch 472/1000\n",
            "3/3 - 0s - loss: 0.0119 - accuracy: 1.0000 - val_loss: 0.0576 - val_accuracy: 0.9667\n",
            "Epoch 473/1000\n",
            "3/3 - 0s - loss: 0.0070 - accuracy: 1.0000 - val_loss: 0.0729 - val_accuracy: 0.9667\n",
            "Epoch 474/1000\n",
            "3/3 - 0s - loss: 0.0039 - accuracy: 1.0000 - val_loss: 0.0770 - val_accuracy: 0.9667\n",
            "Epoch 475/1000\n",
            "3/3 - 0s - loss: 0.0042 - accuracy: 1.0000 - val_loss: 0.0733 - val_accuracy: 0.9667\n",
            "Epoch 476/1000\n",
            "3/3 - 0s - loss: 0.0278 - accuracy: 0.9889 - val_loss: 0.0251 - val_accuracy: 1.0000\n",
            "Epoch 477/1000\n",
            "3/3 - 0s - loss: 0.0093 - accuracy: 1.0000 - val_loss: 0.0083 - val_accuracy: 1.0000\n",
            "Epoch 478/1000\n",
            "3/3 - 0s - loss: 0.0047 - accuracy: 1.0000 - val_loss: 0.1369 - val_accuracy: 0.9333\n",
            "Epoch 479/1000\n",
            "3/3 - 0s - loss: 0.0094 - accuracy: 1.0000 - val_loss: 0.3178 - val_accuracy: 0.9000\n",
            "Epoch 480/1000\n",
            "3/3 - 0s - loss: 0.0429 - accuracy: 0.9778 - val_loss: 0.3438 - val_accuracy: 0.9000\n",
            "Epoch 481/1000\n",
            "3/3 - 0s - loss: 0.0414 - accuracy: 0.9778 - val_loss: 0.1277 - val_accuracy: 0.9333\n",
            "Epoch 482/1000\n",
            "3/3 - 0s - loss: 0.0135 - accuracy: 1.0000 - val_loss: 0.0241 - val_accuracy: 1.0000\n",
            "Epoch 483/1000\n",
            "3/3 - 0s - loss: 0.0086 - accuracy: 1.0000 - val_loss: 0.0023 - val_accuracy: 1.0000\n",
            "Epoch 484/1000\n",
            "3/3 - 0s - loss: 0.0227 - accuracy: 0.9889 - val_loss: 0.0054 - val_accuracy: 1.0000\n",
            "Epoch 485/1000\n",
            "3/3 - 0s - loss: 0.0348 - accuracy: 0.9889 - val_loss: 0.0190 - val_accuracy: 1.0000\n",
            "Epoch 486/1000\n",
            "3/3 - 0s - loss: 0.0040 - accuracy: 1.0000 - val_loss: 0.0042 - val_accuracy: 1.0000\n",
            "Epoch 487/1000\n",
            "3/3 - 0s - loss: 0.0046 - accuracy: 1.0000 - val_loss: 0.0022 - val_accuracy: 1.0000\n",
            "Epoch 488/1000\n",
            "3/3 - 0s - loss: 0.0035 - accuracy: 1.0000 - val_loss: 0.0020 - val_accuracy: 1.0000\n",
            "Epoch 489/1000\n",
            "3/3 - 0s - loss: 0.0025 - accuracy: 1.0000 - val_loss: 0.0024 - val_accuracy: 1.0000\n",
            "Epoch 490/1000\n",
            "3/3 - 0s - loss: 0.0114 - accuracy: 1.0000 - val_loss: 0.0029 - val_accuracy: 1.0000\n",
            "Epoch 491/1000\n",
            "3/3 - 0s - loss: 0.0035 - accuracy: 1.0000 - val_loss: 0.0037 - val_accuracy: 1.0000\n",
            "Epoch 492/1000\n",
            "3/3 - 0s - loss: 0.0117 - accuracy: 1.0000 - val_loss: 0.0040 - val_accuracy: 1.0000\n",
            "Epoch 493/1000\n",
            "3/3 - 0s - loss: 0.0036 - accuracy: 1.0000 - val_loss: 0.0041 - val_accuracy: 1.0000\n",
            "Epoch 494/1000\n",
            "3/3 - 0s - loss: 0.0031 - accuracy: 1.0000 - val_loss: 0.0043 - val_accuracy: 1.0000\n",
            "Epoch 495/1000\n",
            "3/3 - 0s - loss: 0.0058 - accuracy: 1.0000 - val_loss: 0.0047 - val_accuracy: 1.0000\n",
            "Epoch 496/1000\n",
            "3/3 - 0s - loss: 0.0064 - accuracy: 1.0000 - val_loss: 0.0041 - val_accuracy: 1.0000\n",
            "Epoch 497/1000\n",
            "3/3 - 0s - loss: 0.0068 - accuracy: 1.0000 - val_loss: 0.0027 - val_accuracy: 1.0000\n",
            "Epoch 498/1000\n",
            "3/3 - 0s - loss: 0.0028 - accuracy: 1.0000 - val_loss: 0.0017 - val_accuracy: 1.0000\n",
            "Epoch 499/1000\n",
            "3/3 - 0s - loss: 0.0101 - accuracy: 0.9889 - val_loss: 0.0019 - val_accuracy: 1.0000\n",
            "Epoch 500/1000\n",
            "3/3 - 0s - loss: 0.0014 - accuracy: 1.0000 - val_loss: 0.0061 - val_accuracy: 1.0000\n",
            "Epoch 501/1000\n",
            "3/3 - 0s - loss: 0.0031 - accuracy: 1.0000 - val_loss: 0.0165 - val_accuracy: 1.0000\n",
            "Epoch 502/1000\n",
            "3/3 - 0s - loss: 0.0062 - accuracy: 1.0000 - val_loss: 0.0177 - val_accuracy: 1.0000\n",
            "Epoch 503/1000\n",
            "3/3 - 0s - loss: 0.0013 - accuracy: 1.0000 - val_loss: 0.0055 - val_accuracy: 1.0000\n",
            "Epoch 504/1000\n",
            "3/3 - 0s - loss: 0.0015 - accuracy: 1.0000 - val_loss: 0.0024 - val_accuracy: 1.0000\n",
            "Epoch 505/1000\n",
            "3/3 - 0s - loss: 0.0015 - accuracy: 1.0000 - val_loss: 0.0014 - val_accuracy: 1.0000\n",
            "Epoch 506/1000\n",
            "3/3 - 0s - loss: 9.1641e-04 - accuracy: 1.0000 - val_loss: 0.0011 - val_accuracy: 1.0000\n",
            "Epoch 507/1000\n",
            "3/3 - 0s - loss: 0.0374 - accuracy: 0.9889 - val_loss: 0.0025 - val_accuracy: 1.0000\n",
            "Epoch 508/1000\n",
            "3/3 - 0s - loss: 0.0547 - accuracy: 0.9889 - val_loss: 0.1372 - val_accuracy: 0.9333\n",
            "Epoch 509/1000\n",
            "3/3 - 0s - loss: 0.0644 - accuracy: 0.9667 - val_loss: 0.0189 - val_accuracy: 1.0000\n",
            "Epoch 510/1000\n",
            "3/3 - 0s - loss: 0.0090 - accuracy: 1.0000 - val_loss: 0.0036 - val_accuracy: 1.0000\n",
            "Epoch 511/1000\n",
            "3/3 - 0s - loss: 0.0073 - accuracy: 1.0000 - val_loss: 0.1430 - val_accuracy: 0.9667\n",
            "Epoch 512/1000\n",
            "3/3 - 0s - loss: 0.0096 - accuracy: 1.0000 - val_loss: 0.4917 - val_accuracy: 0.9000\n",
            "Epoch 513/1000\n",
            "3/3 - 0s - loss: 0.0162 - accuracy: 1.0000 - val_loss: 0.6681 - val_accuracy: 0.8667\n",
            "Epoch 514/1000\n",
            "3/3 - 0s - loss: 0.0215 - accuracy: 0.9889 - val_loss: 0.7341 - val_accuracy: 0.8667\n",
            "Epoch 515/1000\n",
            "3/3 - 0s - loss: 0.0244 - accuracy: 0.9889 - val_loss: 0.7283 - val_accuracy: 0.8667\n",
            "Epoch 516/1000\n",
            "3/3 - 0s - loss: 0.0364 - accuracy: 0.9889 - val_loss: 0.6540 - val_accuracy: 0.8667\n",
            "Epoch 517/1000\n",
            "3/3 - 0s - loss: 0.0215 - accuracy: 1.0000 - val_loss: 0.5466 - val_accuracy: 0.8667\n",
            "Epoch 518/1000\n",
            "3/3 - 0s - loss: 0.0075 - accuracy: 1.0000 - val_loss: 0.4532 - val_accuracy: 0.8667\n",
            "Epoch 519/1000\n",
            "3/3 - 0s - loss: 0.0038 - accuracy: 1.0000 - val_loss: 0.3736 - val_accuracy: 0.8667\n",
            "Epoch 520/1000\n",
            "3/3 - 0s - loss: 0.0039 - accuracy: 1.0000 - val_loss: 0.3219 - val_accuracy: 0.8667\n",
            "Epoch 521/1000\n",
            "3/3 - 0s - loss: 0.0104 - accuracy: 1.0000 - val_loss: 0.2593 - val_accuracy: 0.9000\n",
            "Epoch 522/1000\n",
            "3/3 - 0s - loss: 0.0023 - accuracy: 1.0000 - val_loss: 0.2025 - val_accuracy: 0.9333\n",
            "Epoch 523/1000\n",
            "3/3 - 0s - loss: 0.0026 - accuracy: 1.0000 - val_loss: 0.1639 - val_accuracy: 0.9333\n",
            "Epoch 524/1000\n",
            "3/3 - 0s - loss: 0.0020 - accuracy: 1.0000 - val_loss: 0.1391 - val_accuracy: 0.9667\n",
            "Epoch 525/1000\n",
            "3/3 - 0s - loss: 0.0604 - accuracy: 0.9778 - val_loss: 0.1362 - val_accuracy: 0.9667\n",
            "Epoch 526/1000\n",
            "3/3 - 0s - loss: 0.0088 - accuracy: 1.0000 - val_loss: 0.1336 - val_accuracy: 0.9667\n",
            "Epoch 527/1000\n",
            "3/3 - 0s - loss: 0.0222 - accuracy: 0.9889 - val_loss: 0.0965 - val_accuracy: 0.9667\n",
            "Epoch 528/1000\n",
            "3/3 - 0s - loss: 0.0076 - accuracy: 1.0000 - val_loss: 0.0686 - val_accuracy: 0.9667\n",
            "Epoch 529/1000\n",
            "3/3 - 0s - loss: 0.0323 - accuracy: 0.9889 - val_loss: 0.0342 - val_accuracy: 0.9667\n",
            "Epoch 530/1000\n",
            "3/3 - 0s - loss: 0.1722 - accuracy: 0.9778 - val_loss: 0.0101 - val_accuracy: 1.0000\n",
            "Epoch 531/1000\n",
            "3/3 - 0s - loss: 0.0202 - accuracy: 0.9889 - val_loss: 0.0375 - val_accuracy: 1.0000\n",
            "Epoch 532/1000\n",
            "3/3 - 0s - loss: 0.0248 - accuracy: 0.9889 - val_loss: 0.1780 - val_accuracy: 0.9333\n",
            "Epoch 533/1000\n",
            "3/3 - 0s - loss: 0.0796 - accuracy: 0.9667 - val_loss: 0.2278 - val_accuracy: 0.9000\n",
            "Epoch 534/1000\n",
            "3/3 - 0s - loss: 0.0178 - accuracy: 1.0000 - val_loss: 0.1472 - val_accuracy: 0.9333\n",
            "Epoch 535/1000\n",
            "3/3 - 0s - loss: 0.0555 - accuracy: 0.9778 - val_loss: 0.1043 - val_accuracy: 0.9667\n",
            "Epoch 536/1000\n",
            "3/3 - 0s - loss: 0.0416 - accuracy: 0.9778 - val_loss: 0.1530 - val_accuracy: 0.9000\n",
            "Epoch 537/1000\n",
            "3/3 - 0s - loss: 0.0122 - accuracy: 1.0000 - val_loss: 0.2002 - val_accuracy: 0.9000\n",
            "Epoch 538/1000\n",
            "3/3 - 0s - loss: 0.0175 - accuracy: 0.9889 - val_loss: 0.2078 - val_accuracy: 0.9333\n",
            "Epoch 539/1000\n",
            "3/3 - 0s - loss: 0.0050 - accuracy: 1.0000 - val_loss: 0.2152 - val_accuracy: 0.9333\n",
            "Epoch 540/1000\n",
            "3/3 - 0s - loss: 0.0149 - accuracy: 1.0000 - val_loss: 0.1974 - val_accuracy: 0.9333\n",
            "Epoch 541/1000\n",
            "3/3 - 0s - loss: 0.0124 - accuracy: 1.0000 - val_loss: 0.1561 - val_accuracy: 0.9333\n",
            "Epoch 542/1000\n",
            "3/3 - 0s - loss: 0.0074 - accuracy: 1.0000 - val_loss: 0.0821 - val_accuracy: 0.9667\n",
            "Epoch 543/1000\n",
            "3/3 - 0s - loss: 0.0112 - accuracy: 1.0000 - val_loss: 0.0440 - val_accuracy: 0.9667\n",
            "Epoch 544/1000\n",
            "3/3 - 0s - loss: 0.0090 - accuracy: 1.0000 - val_loss: 0.0307 - val_accuracy: 1.0000\n",
            "Epoch 545/1000\n",
            "3/3 - 0s - loss: 0.0039 - accuracy: 1.0000 - val_loss: 0.0314 - val_accuracy: 1.0000\n",
            "Epoch 546/1000\n",
            "3/3 - 0s - loss: 0.0103 - accuracy: 1.0000 - val_loss: 0.0332 - val_accuracy: 0.9667\n",
            "Epoch 547/1000\n",
            "3/3 - 0s - loss: 0.0148 - accuracy: 0.9889 - val_loss: 0.0387 - val_accuracy: 0.9667\n",
            "Epoch 548/1000\n",
            "3/3 - 0s - loss: 0.0081 - accuracy: 1.0000 - val_loss: 0.0469 - val_accuracy: 0.9667\n",
            "Epoch 549/1000\n",
            "3/3 - 0s - loss: 0.0023 - accuracy: 1.0000 - val_loss: 0.0577 - val_accuracy: 0.9667\n",
            "Epoch 550/1000\n",
            "3/3 - 0s - loss: 0.0036 - accuracy: 1.0000 - val_loss: 0.0655 - val_accuracy: 0.9667\n",
            "Epoch 551/1000\n",
            "3/3 - 0s - loss: 0.0052 - accuracy: 1.0000 - val_loss: 0.0662 - val_accuracy: 0.9667\n",
            "Epoch 552/1000\n",
            "3/3 - 0s - loss: 0.0210 - accuracy: 0.9889 - val_loss: 0.0547 - val_accuracy: 0.9667\n",
            "Epoch 553/1000\n",
            "3/3 - 0s - loss: 0.0129 - accuracy: 1.0000 - val_loss: 0.0378 - val_accuracy: 0.9667\n",
            "Epoch 554/1000\n",
            "3/3 - 0s - loss: 0.0187 - accuracy: 1.0000 - val_loss: 0.0426 - val_accuracy: 0.9667\n",
            "Epoch 555/1000\n",
            "3/3 - 0s - loss: 0.0063 - accuracy: 1.0000 - val_loss: 0.0816 - val_accuracy: 0.9333\n",
            "Epoch 556/1000\n",
            "3/3 - 0s - loss: 0.0106 - accuracy: 1.0000 - val_loss: 0.1421 - val_accuracy: 0.9333\n",
            "Epoch 557/1000\n",
            "3/3 - 0s - loss: 0.0050 - accuracy: 1.0000 - val_loss: 0.1767 - val_accuracy: 0.9333\n",
            "Epoch 558/1000\n",
            "3/3 - 0s - loss: 0.0248 - accuracy: 0.9889 - val_loss: 0.1550 - val_accuracy: 0.9333\n",
            "Epoch 559/1000\n",
            "3/3 - 0s - loss: 0.1376 - accuracy: 0.9667 - val_loss: 0.0568 - val_accuracy: 0.9667\n",
            "Epoch 560/1000\n",
            "3/3 - 0s - loss: 0.0035 - accuracy: 1.0000 - val_loss: 0.0186 - val_accuracy: 1.0000\n",
            "Epoch 561/1000\n",
            "3/3 - 0s - loss: 0.0436 - accuracy: 0.9778 - val_loss: 0.0740 - val_accuracy: 0.9667\n",
            "Epoch 562/1000\n",
            "3/3 - 0s - loss: 0.0113 - accuracy: 1.0000 - val_loss: 0.1481 - val_accuracy: 0.9333\n",
            "Epoch 563/1000\n",
            "3/3 - 0s - loss: 0.0254 - accuracy: 0.9889 - val_loss: 0.1968 - val_accuracy: 0.9000\n",
            "Epoch 564/1000\n",
            "3/3 - 0s - loss: 0.0217 - accuracy: 1.0000 - val_loss: 0.2088 - val_accuracy: 0.9000\n",
            "Epoch 565/1000\n",
            "3/3 - 0s - loss: 0.0101 - accuracy: 1.0000 - val_loss: 0.2101 - val_accuracy: 0.9000\n",
            "Epoch 566/1000\n",
            "3/3 - 0s - loss: 0.0813 - accuracy: 0.9889 - val_loss: 0.2302 - val_accuracy: 0.9000\n",
            "Epoch 567/1000\n",
            "3/3 - 0s - loss: 0.0154 - accuracy: 1.0000 - val_loss: 0.3064 - val_accuracy: 0.9000\n",
            "Epoch 568/1000\n",
            "3/3 - 0s - loss: 0.0244 - accuracy: 1.0000 - val_loss: 0.2789 - val_accuracy: 0.9000\n",
            "Epoch 569/1000\n",
            "3/3 - 0s - loss: 0.0148 - accuracy: 1.0000 - val_loss: 0.1576 - val_accuracy: 0.9667\n",
            "Epoch 570/1000\n",
            "3/3 - 0s - loss: 0.0130 - accuracy: 1.0000 - val_loss: 0.0933 - val_accuracy: 0.9667\n",
            "Epoch 571/1000\n",
            "3/3 - 0s - loss: 0.0214 - accuracy: 0.9889 - val_loss: 0.0472 - val_accuracy: 1.0000\n",
            "Epoch 572/1000\n",
            "3/3 - 0s - loss: 0.0071 - accuracy: 1.0000 - val_loss: 0.0305 - val_accuracy: 1.0000\n",
            "Epoch 573/1000\n",
            "3/3 - 0s - loss: 0.0086 - accuracy: 1.0000 - val_loss: 0.0282 - val_accuracy: 1.0000\n",
            "Epoch 574/1000\n",
            "3/3 - 0s - loss: 0.0044 - accuracy: 1.0000 - val_loss: 0.0251 - val_accuracy: 1.0000\n",
            "Epoch 575/1000\n",
            "3/3 - 0s - loss: 0.0109 - accuracy: 1.0000 - val_loss: 0.0201 - val_accuracy: 1.0000\n",
            "Epoch 576/1000\n",
            "3/3 - 0s - loss: 0.0057 - accuracy: 1.0000 - val_loss: 0.0149 - val_accuracy: 1.0000\n",
            "Epoch 577/1000\n",
            "3/3 - 0s - loss: 0.0034 - accuracy: 1.0000 - val_loss: 0.0112 - val_accuracy: 1.0000\n",
            "Epoch 578/1000\n",
            "3/3 - 0s - loss: 0.0057 - accuracy: 1.0000 - val_loss: 0.0090 - val_accuracy: 1.0000\n",
            "Epoch 579/1000\n",
            "3/3 - 0s - loss: 0.0024 - accuracy: 1.0000 - val_loss: 0.0079 - val_accuracy: 1.0000\n",
            "Epoch 580/1000\n",
            "3/3 - 0s - loss: 0.0022 - accuracy: 1.0000 - val_loss: 0.0072 - val_accuracy: 1.0000\n",
            "Epoch 581/1000\n",
            "3/3 - 0s - loss: 0.0094 - accuracy: 1.0000 - val_loss: 0.0067 - val_accuracy: 1.0000\n",
            "Epoch 582/1000\n",
            "3/3 - 0s - loss: 0.0031 - accuracy: 1.0000 - val_loss: 0.0075 - val_accuracy: 1.0000\n",
            "Epoch 583/1000\n",
            "3/3 - 0s - loss: 0.0028 - accuracy: 1.0000 - val_loss: 0.0087 - val_accuracy: 1.0000\n",
            "Epoch 584/1000\n",
            "3/3 - 0s - loss: 0.0029 - accuracy: 1.0000 - val_loss: 0.0092 - val_accuracy: 1.0000\n",
            "Epoch 585/1000\n",
            "3/3 - 0s - loss: 0.0019 - accuracy: 1.0000 - val_loss: 0.0092 - val_accuracy: 1.0000\n",
            "Epoch 586/1000\n",
            "3/3 - 0s - loss: 0.0045 - accuracy: 1.0000 - val_loss: 0.0094 - val_accuracy: 1.0000\n",
            "Epoch 587/1000\n",
            "3/3 - 0s - loss: 0.0032 - accuracy: 1.0000 - val_loss: 0.0092 - val_accuracy: 1.0000\n",
            "Epoch 588/1000\n",
            "3/3 - 0s - loss: 0.0105 - accuracy: 1.0000 - val_loss: 0.0068 - val_accuracy: 1.0000\n",
            "Epoch 589/1000\n",
            "3/3 - 0s - loss: 0.0032 - accuracy: 1.0000 - val_loss: 0.0057 - val_accuracy: 1.0000\n",
            "Epoch 590/1000\n",
            "3/3 - 0s - loss: 0.0046 - accuracy: 1.0000 - val_loss: 0.0048 - val_accuracy: 1.0000\n",
            "Epoch 591/1000\n",
            "3/3 - 0s - loss: 0.0021 - accuracy: 1.0000 - val_loss: 0.0042 - val_accuracy: 1.0000\n",
            "Epoch 592/1000\n",
            "3/3 - 0s - loss: 0.0020 - accuracy: 1.0000 - val_loss: 0.0039 - val_accuracy: 1.0000\n",
            "Epoch 593/1000\n",
            "3/3 - 0s - loss: 0.0018 - accuracy: 1.0000 - val_loss: 0.0037 - val_accuracy: 1.0000\n",
            "Epoch 594/1000\n",
            "3/3 - 0s - loss: 0.0033 - accuracy: 1.0000 - val_loss: 0.0037 - val_accuracy: 1.0000\n",
            "Epoch 595/1000\n",
            "3/3 - 0s - loss: 0.0088 - accuracy: 1.0000 - val_loss: 0.0035 - val_accuracy: 1.0000\n",
            "Epoch 596/1000\n",
            "3/3 - 0s - loss: 0.0031 - accuracy: 1.0000 - val_loss: 0.0032 - val_accuracy: 1.0000\n",
            "Epoch 597/1000\n",
            "3/3 - 0s - loss: 0.0027 - accuracy: 1.0000 - val_loss: 0.0029 - val_accuracy: 1.0000\n",
            "Epoch 598/1000\n",
            "3/3 - 0s - loss: 0.0034 - accuracy: 1.0000 - val_loss: 0.0027 - val_accuracy: 1.0000\n",
            "Epoch 599/1000\n",
            "3/3 - 0s - loss: 0.0365 - accuracy: 0.9889 - val_loss: 0.0038 - val_accuracy: 1.0000\n",
            "Epoch 600/1000\n",
            "3/3 - 0s - loss: 0.0048 - accuracy: 1.0000 - val_loss: 0.0110 - val_accuracy: 1.0000\n",
            "Epoch 601/1000\n",
            "3/3 - 0s - loss: 0.0423 - accuracy: 0.9889 - val_loss: 0.0241 - val_accuracy: 1.0000\n",
            "Epoch 602/1000\n",
            "3/3 - 0s - loss: 0.0052 - accuracy: 1.0000 - val_loss: 0.0305 - val_accuracy: 1.0000\n",
            "Epoch 603/1000\n",
            "3/3 - 0s - loss: 0.0068 - accuracy: 1.0000 - val_loss: 0.0363 - val_accuracy: 1.0000\n",
            "Epoch 604/1000\n",
            "3/3 - 0s - loss: 0.0118 - accuracy: 1.0000 - val_loss: 0.0544 - val_accuracy: 0.9667\n",
            "Epoch 605/1000\n",
            "3/3 - 0s - loss: 0.0099 - accuracy: 1.0000 - val_loss: 0.0641 - val_accuracy: 0.9667\n",
            "Epoch 606/1000\n",
            "3/3 - 0s - loss: 0.0041 - accuracy: 1.0000 - val_loss: 0.0647 - val_accuracy: 0.9667\n",
            "Epoch 607/1000\n",
            "3/3 - 0s - loss: 0.0393 - accuracy: 0.9889 - val_loss: 0.0426 - val_accuracy: 0.9667\n",
            "Epoch 608/1000\n",
            "3/3 - 0s - loss: 0.0029 - accuracy: 1.0000 - val_loss: 0.0266 - val_accuracy: 1.0000\n",
            "Epoch 609/1000\n",
            "3/3 - 0s - loss: 0.0261 - accuracy: 0.9889 - val_loss: 0.0225 - val_accuracy: 1.0000\n",
            "Epoch 610/1000\n",
            "3/3 - 0s - loss: 0.0020 - accuracy: 1.0000 - val_loss: 0.0198 - val_accuracy: 1.0000\n",
            "Epoch 611/1000\n",
            "3/3 - 0s - loss: 0.0022 - accuracy: 1.0000 - val_loss: 0.0172 - val_accuracy: 1.0000\n",
            "Epoch 612/1000\n",
            "3/3 - 0s - loss: 0.0117 - accuracy: 0.9889 - val_loss: 0.0157 - val_accuracy: 1.0000\n",
            "Epoch 613/1000\n",
            "3/3 - 0s - loss: 0.0019 - accuracy: 1.0000 - val_loss: 0.0158 - val_accuracy: 1.0000\n",
            "Epoch 614/1000\n",
            "3/3 - 0s - loss: 0.0367 - accuracy: 0.9889 - val_loss: 0.0090 - val_accuracy: 1.0000\n",
            "Epoch 615/1000\n",
            "3/3 - 0s - loss: 0.0011 - accuracy: 1.0000 - val_loss: 0.0136 - val_accuracy: 1.0000\n",
            "Epoch 616/1000\n",
            "3/3 - 0s - loss: 0.0238 - accuracy: 1.0000 - val_loss: 0.0458 - val_accuracy: 0.9667\n",
            "Epoch 617/1000\n",
            "3/3 - 0s - loss: 0.0776 - accuracy: 0.9667 - val_loss: 0.0713 - val_accuracy: 0.9333\n",
            "Epoch 618/1000\n",
            "3/3 - 0s - loss: 0.0121 - accuracy: 1.0000 - val_loss: 0.0117 - val_accuracy: 1.0000\n",
            "Epoch 619/1000\n",
            "3/3 - 0s - loss: 0.0168 - accuracy: 0.9889 - val_loss: 0.0048 - val_accuracy: 1.0000\n",
            "Epoch 620/1000\n",
            "3/3 - 0s - loss: 0.0135 - accuracy: 1.0000 - val_loss: 0.0038 - val_accuracy: 1.0000\n",
            "Epoch 621/1000\n",
            "3/3 - 0s - loss: 0.0081 - accuracy: 1.0000 - val_loss: 0.0047 - val_accuracy: 1.0000\n",
            "Epoch 622/1000\n",
            "3/3 - 0s - loss: 0.0027 - accuracy: 1.0000 - val_loss: 0.0078 - val_accuracy: 1.0000\n",
            "Epoch 623/1000\n",
            "3/3 - 0s - loss: 0.0035 - accuracy: 1.0000 - val_loss: 0.0135 - val_accuracy: 1.0000\n",
            "Epoch 624/1000\n",
            "3/3 - 0s - loss: 0.0019 - accuracy: 1.0000 - val_loss: 0.0208 - val_accuracy: 1.0000\n",
            "Epoch 625/1000\n",
            "3/3 - 0s - loss: 0.0106 - accuracy: 1.0000 - val_loss: 0.0225 - val_accuracy: 1.0000\n",
            "Epoch 626/1000\n",
            "3/3 - 0s - loss: 0.0037 - accuracy: 1.0000 - val_loss: 0.0180 - val_accuracy: 1.0000\n",
            "Epoch 627/1000\n",
            "3/3 - 0s - loss: 0.0204 - accuracy: 0.9889 - val_loss: 0.0173 - val_accuracy: 1.0000\n",
            "Epoch 628/1000\n",
            "3/3 - 0s - loss: 0.0077 - accuracy: 1.0000 - val_loss: 0.0232 - val_accuracy: 1.0000\n",
            "Epoch 629/1000\n",
            "3/3 - 0s - loss: 0.0022 - accuracy: 1.0000 - val_loss: 0.0274 - val_accuracy: 1.0000\n",
            "Epoch 630/1000\n",
            "3/3 - 0s - loss: 0.0041 - accuracy: 1.0000 - val_loss: 0.0236 - val_accuracy: 1.0000\n",
            "Epoch 631/1000\n",
            "3/3 - 0s - loss: 0.0038 - accuracy: 1.0000 - val_loss: 0.0121 - val_accuracy: 1.0000\n",
            "Epoch 632/1000\n",
            "3/3 - 0s - loss: 0.0022 - accuracy: 1.0000 - val_loss: 0.0071 - val_accuracy: 1.0000\n",
            "Epoch 633/1000\n",
            "3/3 - 0s - loss: 0.0021 - accuracy: 1.0000 - val_loss: 0.0039 - val_accuracy: 1.0000\n",
            "Epoch 634/1000\n",
            "3/3 - 0s - loss: 0.0018 - accuracy: 1.0000 - val_loss: 0.0024 - val_accuracy: 1.0000\n",
            "Epoch 635/1000\n",
            "3/3 - 0s - loss: 0.0012 - accuracy: 1.0000 - val_loss: 0.0018 - val_accuracy: 1.0000\n",
            "Epoch 636/1000\n",
            "3/3 - 0s - loss: 9.8130e-04 - accuracy: 1.0000 - val_loss: 0.0016 - val_accuracy: 1.0000\n",
            "Epoch 637/1000\n",
            "3/3 - 0s - loss: 0.0031 - accuracy: 1.0000 - val_loss: 0.0014 - val_accuracy: 1.0000\n",
            "Epoch 638/1000\n",
            "3/3 - 0s - loss: 0.0012 - accuracy: 1.0000 - val_loss: 0.0013 - val_accuracy: 1.0000\n",
            "Epoch 639/1000\n",
            "3/3 - 0s - loss: 0.0011 - accuracy: 1.0000 - val_loss: 0.0013 - val_accuracy: 1.0000\n",
            "Epoch 640/1000\n",
            "3/3 - 0s - loss: 0.0020 - accuracy: 1.0000 - val_loss: 0.0012 - val_accuracy: 1.0000\n",
            "Epoch 641/1000\n",
            "3/3 - 0s - loss: 0.0021 - accuracy: 1.0000 - val_loss: 0.0012 - val_accuracy: 1.0000\n",
            "Epoch 642/1000\n",
            "3/3 - 0s - loss: 0.0147 - accuracy: 0.9889 - val_loss: 0.0011 - val_accuracy: 1.0000\n",
            "Epoch 643/1000\n",
            "3/3 - 0s - loss: 0.0025 - accuracy: 1.0000 - val_loss: 0.0011 - val_accuracy: 1.0000\n",
            "Epoch 644/1000\n",
            "3/3 - 0s - loss: 0.0046 - accuracy: 1.0000 - val_loss: 0.0011 - val_accuracy: 1.0000\n",
            "Epoch 645/1000\n",
            "3/3 - 0s - loss: 0.0012 - accuracy: 1.0000 - val_loss: 0.0010 - val_accuracy: 1.0000\n",
            "Epoch 646/1000\n",
            "3/3 - 0s - loss: 0.0014 - accuracy: 1.0000 - val_loss: 0.0010 - val_accuracy: 1.0000\n",
            "Epoch 647/1000\n",
            "3/3 - 0s - loss: 0.0011 - accuracy: 1.0000 - val_loss: 9.9878e-04 - val_accuracy: 1.0000\n",
            "Epoch 648/1000\n",
            "3/3 - 0s - loss: 0.0018 - accuracy: 1.0000 - val_loss: 9.6902e-04 - val_accuracy: 1.0000\n",
            "Epoch 649/1000\n",
            "3/3 - 0s - loss: 0.0035 - accuracy: 1.0000 - val_loss: 9.6646e-04 - val_accuracy: 1.0000\n",
            "Epoch 650/1000\n",
            "3/3 - 0s - loss: 0.0011 - accuracy: 1.0000 - val_loss: 9.9819e-04 - val_accuracy: 1.0000\n",
            "Epoch 651/1000\n",
            "3/3 - 0s - loss: 0.1595 - accuracy: 0.9556 - val_loss: 0.0018 - val_accuracy: 1.0000\n",
            "Epoch 652/1000\n",
            "3/3 - 0s - loss: 0.0261 - accuracy: 0.9889 - val_loss: 0.0048 - val_accuracy: 1.0000\n",
            "Epoch 653/1000\n",
            "3/3 - 0s - loss: 0.0013 - accuracy: 1.0000 - val_loss: 0.0696 - val_accuracy: 0.9667\n",
            "Epoch 654/1000\n",
            "3/3 - 0s - loss: 0.0013 - accuracy: 1.0000 - val_loss: 0.2398 - val_accuracy: 0.9333\n",
            "Epoch 655/1000\n",
            "3/3 - 0s - loss: 0.0076 - accuracy: 1.0000 - val_loss: 0.3565 - val_accuracy: 0.9333\n",
            "Epoch 656/1000\n",
            "3/3 - 0s - loss: 0.0185 - accuracy: 0.9889 - val_loss: 0.3483 - val_accuracy: 0.9333\n",
            "Epoch 657/1000\n",
            "3/3 - 0s - loss: 0.0115 - accuracy: 1.0000 - val_loss: 0.1962 - val_accuracy: 0.9333\n",
            "Epoch 658/1000\n",
            "3/3 - 0s - loss: 0.0024 - accuracy: 1.0000 - val_loss: 0.0846 - val_accuracy: 0.9667\n",
            "Epoch 659/1000\n",
            "3/3 - 0s - loss: 0.0024 - accuracy: 1.0000 - val_loss: 0.0350 - val_accuracy: 0.9667\n",
            "Epoch 660/1000\n",
            "3/3 - 0s - loss: 0.0039 - accuracy: 1.0000 - val_loss: 0.0226 - val_accuracy: 1.0000\n",
            "Epoch 661/1000\n",
            "3/3 - 0s - loss: 0.0104 - accuracy: 1.0000 - val_loss: 0.0217 - val_accuracy: 1.0000\n",
            "Epoch 662/1000\n",
            "3/3 - 0s - loss: 0.0028 - accuracy: 1.0000 - val_loss: 0.0204 - val_accuracy: 1.0000\n",
            "Epoch 663/1000\n",
            "3/3 - 0s - loss: 0.0036 - accuracy: 1.0000 - val_loss: 0.0188 - val_accuracy: 1.0000\n",
            "Epoch 664/1000\n",
            "3/3 - 0s - loss: 0.0028 - accuracy: 1.0000 - val_loss: 0.0170 - val_accuracy: 1.0000\n",
            "Epoch 665/1000\n",
            "3/3 - 0s - loss: 0.0037 - accuracy: 1.0000 - val_loss: 0.0154 - val_accuracy: 1.0000\n",
            "Epoch 666/1000\n",
            "3/3 - 0s - loss: 0.0418 - accuracy: 0.9889 - val_loss: 0.0072 - val_accuracy: 1.0000\n",
            "Epoch 667/1000\n",
            "3/3 - 0s - loss: 0.0086 - accuracy: 1.0000 - val_loss: 0.0529 - val_accuracy: 0.9667\n",
            "Epoch 668/1000\n",
            "3/3 - 0s - loss: 0.0030 - accuracy: 1.0000 - val_loss: 0.0344 - val_accuracy: 0.9667\n",
            "Epoch 669/1000\n",
            "3/3 - 0s - loss: 0.0244 - accuracy: 0.9889 - val_loss: 0.0163 - val_accuracy: 1.0000\n",
            "Epoch 670/1000\n",
            "3/3 - 0s - loss: 0.0574 - accuracy: 0.9778 - val_loss: 0.0018 - val_accuracy: 1.0000\n",
            "Epoch 671/1000\n",
            "3/3 - 0s - loss: 0.0029 - accuracy: 1.0000 - val_loss: 0.0030 - val_accuracy: 1.0000\n",
            "Epoch 672/1000\n",
            "3/3 - 0s - loss: 0.0058 - accuracy: 1.0000 - val_loss: 0.0346 - val_accuracy: 0.9667\n",
            "Epoch 673/1000\n",
            "3/3 - 0s - loss: 0.0466 - accuracy: 0.9778 - val_loss: 0.1181 - val_accuracy: 0.9333\n",
            "Epoch 674/1000\n",
            "3/3 - 0s - loss: 0.0183 - accuracy: 0.9889 - val_loss: 0.1506 - val_accuracy: 0.9333\n",
            "Epoch 675/1000\n",
            "3/3 - 0s - loss: 0.0288 - accuracy: 0.9889 - val_loss: 0.0651 - val_accuracy: 0.9667\n",
            "Epoch 676/1000\n",
            "3/3 - 0s - loss: 0.0085 - accuracy: 1.0000 - val_loss: 0.0756 - val_accuracy: 0.9667\n",
            "Epoch 677/1000\n",
            "3/3 - 0s - loss: 0.1369 - accuracy: 0.9778 - val_loss: 0.3360 - val_accuracy: 0.9333\n",
            "Epoch 678/1000\n",
            "3/3 - 0s - loss: 0.0122 - accuracy: 1.0000 - val_loss: 0.4902 - val_accuracy: 0.9000\n",
            "Epoch 679/1000\n",
            "3/3 - 0s - loss: 0.0330 - accuracy: 0.9778 - val_loss: 0.5805 - val_accuracy: 0.8667\n",
            "Epoch 680/1000\n",
            "3/3 - 0s - loss: 0.0547 - accuracy: 0.9778 - val_loss: 0.5569 - val_accuracy: 0.8667\n",
            "Epoch 681/1000\n",
            "3/3 - 0s - loss: 0.0139 - accuracy: 1.0000 - val_loss: 0.4916 - val_accuracy: 0.8667\n",
            "Epoch 682/1000\n",
            "3/3 - 0s - loss: 0.0159 - accuracy: 1.0000 - val_loss: 0.4206 - val_accuracy: 0.9000\n",
            "Epoch 683/1000\n",
            "3/3 - 0s - loss: 0.0848 - accuracy: 0.9778 - val_loss: 0.3206 - val_accuracy: 0.9000\n",
            "Epoch 684/1000\n",
            "3/3 - 0s - loss: 0.0056 - accuracy: 1.0000 - val_loss: 0.2142 - val_accuracy: 0.9333\n",
            "Epoch 685/1000\n",
            "3/3 - 0s - loss: 0.0054 - accuracy: 1.0000 - val_loss: 0.1378 - val_accuracy: 0.9333\n",
            "Epoch 686/1000\n",
            "3/3 - 0s - loss: 0.0078 - accuracy: 1.0000 - val_loss: 0.0959 - val_accuracy: 0.9667\n",
            "Epoch 687/1000\n",
            "3/3 - 0s - loss: 0.0951 - accuracy: 0.9778 - val_loss: 0.0894 - val_accuracy: 0.9667\n",
            "Epoch 688/1000\n",
            "3/3 - 0s - loss: 0.0079 - accuracy: 1.0000 - val_loss: 0.1205 - val_accuracy: 0.9333\n",
            "Epoch 689/1000\n",
            "3/3 - 0s - loss: 0.0043 - accuracy: 1.0000 - val_loss: 0.1394 - val_accuracy: 0.9333\n",
            "Epoch 690/1000\n",
            "3/3 - 0s - loss: 0.0046 - accuracy: 1.0000 - val_loss: 0.1473 - val_accuracy: 0.9333\n",
            "Epoch 691/1000\n",
            "3/3 - 0s - loss: 0.0035 - accuracy: 1.0000 - val_loss: 0.1492 - val_accuracy: 0.9333\n",
            "Epoch 692/1000\n",
            "3/3 - 0s - loss: 0.0049 - accuracy: 1.0000 - val_loss: 0.1473 - val_accuracy: 0.9333\n",
            "Epoch 693/1000\n",
            "3/3 - 0s - loss: 0.0049 - accuracy: 1.0000 - val_loss: 0.1434 - val_accuracy: 0.9333\n",
            "Epoch 694/1000\n",
            "3/3 - 0s - loss: 0.0264 - accuracy: 0.9889 - val_loss: 0.1329 - val_accuracy: 0.9333\n",
            "Epoch 695/1000\n",
            "3/3 - 0s - loss: 0.0035 - accuracy: 1.0000 - val_loss: 0.1333 - val_accuracy: 0.9333\n",
            "Epoch 696/1000\n",
            "3/3 - 0s - loss: 0.0073 - accuracy: 1.0000 - val_loss: 0.1254 - val_accuracy: 0.9333\n",
            "Epoch 697/1000\n",
            "3/3 - 0s - loss: 0.0066 - accuracy: 1.0000 - val_loss: 0.1122 - val_accuracy: 0.9333\n",
            "Epoch 698/1000\n",
            "3/3 - 0s - loss: 0.0056 - accuracy: 1.0000 - val_loss: 0.0988 - val_accuracy: 0.9333\n",
            "Epoch 699/1000\n",
            "3/3 - 0s - loss: 0.0042 - accuracy: 1.0000 - val_loss: 0.0877 - val_accuracy: 0.9333\n",
            "Epoch 700/1000\n",
            "3/3 - 0s - loss: 0.0317 - accuracy: 0.9889 - val_loss: 0.0737 - val_accuracy: 0.9333\n",
            "Epoch 701/1000\n",
            "3/3 - 0s - loss: 0.0039 - accuracy: 1.0000 - val_loss: 0.0736 - val_accuracy: 0.9667\n",
            "Epoch 702/1000\n",
            "3/3 - 0s - loss: 0.0100 - accuracy: 1.0000 - val_loss: 0.0794 - val_accuracy: 0.9667\n",
            "Epoch 703/1000\n",
            "3/3 - 0s - loss: 0.0119 - accuracy: 1.0000 - val_loss: 0.0927 - val_accuracy: 0.9667\n",
            "Epoch 704/1000\n",
            "3/3 - 0s - loss: 0.0193 - accuracy: 0.9889 - val_loss: 0.1082 - val_accuracy: 0.9667\n",
            "Epoch 705/1000\n",
            "3/3 - 0s - loss: 0.0120 - accuracy: 0.9889 - val_loss: 0.1204 - val_accuracy: 0.9667\n",
            "Epoch 706/1000\n",
            "3/3 - 0s - loss: 0.0097 - accuracy: 0.9889 - val_loss: 0.1142 - val_accuracy: 0.9667\n",
            "Epoch 707/1000\n",
            "3/3 - 0s - loss: 0.0083 - accuracy: 1.0000 - val_loss: 0.1069 - val_accuracy: 0.9667\n",
            "Epoch 708/1000\n",
            "3/3 - 0s - loss: 0.0182 - accuracy: 1.0000 - val_loss: 0.0934 - val_accuracy: 0.9667\n",
            "Epoch 709/1000\n",
            "3/3 - 0s - loss: 0.0332 - accuracy: 0.9889 - val_loss: 0.0669 - val_accuracy: 0.9667\n",
            "Epoch 710/1000\n",
            "3/3 - 0s - loss: 0.0060 - accuracy: 1.0000 - val_loss: 0.0363 - val_accuracy: 0.9667\n",
            "Epoch 711/1000\n",
            "3/3 - 0s - loss: 0.1363 - accuracy: 0.9667 - val_loss: 0.0142 - val_accuracy: 1.0000\n",
            "Epoch 712/1000\n",
            "3/3 - 0s - loss: 0.0205 - accuracy: 0.9889 - val_loss: 0.0034 - val_accuracy: 1.0000\n",
            "Epoch 713/1000\n",
            "3/3 - 0s - loss: 0.0053 - accuracy: 1.0000 - val_loss: 0.0046 - val_accuracy: 1.0000\n",
            "Epoch 714/1000\n",
            "3/3 - 0s - loss: 0.1912 - accuracy: 0.9778 - val_loss: 0.0074 - val_accuracy: 1.0000\n",
            "Epoch 715/1000\n",
            "3/3 - 0s - loss: 0.0177 - accuracy: 1.0000 - val_loss: 0.0445 - val_accuracy: 0.9667\n",
            "Epoch 716/1000\n",
            "3/3 - 0s - loss: 0.0074 - accuracy: 1.0000 - val_loss: 0.1154 - val_accuracy: 0.9667\n",
            "Epoch 717/1000\n",
            "3/3 - 0s - loss: 0.0866 - accuracy: 0.9778 - val_loss: 0.1240 - val_accuracy: 0.9667\n",
            "Epoch 718/1000\n",
            "3/3 - 0s - loss: 0.0291 - accuracy: 0.9889 - val_loss: 0.0828 - val_accuracy: 0.9667\n",
            "Epoch 719/1000\n",
            "3/3 - 0s - loss: 0.0508 - accuracy: 0.9889 - val_loss: 0.0707 - val_accuracy: 1.0000\n",
            "Epoch 720/1000\n",
            "3/3 - 0s - loss: 0.0147 - accuracy: 1.0000 - val_loss: 0.1150 - val_accuracy: 0.9333\n",
            "Epoch 721/1000\n",
            "3/3 - 0s - loss: 0.0264 - accuracy: 0.9889 - val_loss: 0.1500 - val_accuracy: 0.9333\n",
            "Epoch 722/1000\n",
            "3/3 - 0s - loss: 0.0198 - accuracy: 1.0000 - val_loss: 0.1318 - val_accuracy: 0.9333\n",
            "Epoch 723/1000\n",
            "3/3 - 0s - loss: 0.0214 - accuracy: 1.0000 - val_loss: 0.1042 - val_accuracy: 0.9333\n",
            "Epoch 724/1000\n",
            "3/3 - 0s - loss: 0.0237 - accuracy: 0.9889 - val_loss: 0.0687 - val_accuracy: 0.9667\n",
            "Epoch 725/1000\n",
            "3/3 - 0s - loss: 0.0046 - accuracy: 1.0000 - val_loss: 0.0445 - val_accuracy: 1.0000\n",
            "Epoch 726/1000\n",
            "3/3 - 0s - loss: 0.0251 - accuracy: 0.9889 - val_loss: 0.0521 - val_accuracy: 0.9667\n",
            "Epoch 727/1000\n",
            "3/3 - 0s - loss: 0.0029 - accuracy: 1.0000 - val_loss: 0.1340 - val_accuracy: 0.9333\n",
            "Epoch 728/1000\n",
            "3/3 - 0s - loss: 0.0067 - accuracy: 1.0000 - val_loss: 0.1930 - val_accuracy: 0.9333\n",
            "Epoch 729/1000\n",
            "3/3 - 0s - loss: 0.0334 - accuracy: 0.9889 - val_loss: 0.2060 - val_accuracy: 0.9333\n",
            "Epoch 730/1000\n",
            "3/3 - 0s - loss: 0.0201 - accuracy: 0.9889 - val_loss: 0.1798 - val_accuracy: 0.9333\n",
            "Epoch 731/1000\n",
            "3/3 - 0s - loss: 0.0076 - accuracy: 1.0000 - val_loss: 0.1049 - val_accuracy: 0.9333\n",
            "Epoch 732/1000\n",
            "3/3 - 0s - loss: 0.0146 - accuracy: 1.0000 - val_loss: 0.0387 - val_accuracy: 0.9667\n",
            "Epoch 733/1000\n",
            "3/3 - 0s - loss: 0.0037 - accuracy: 1.0000 - val_loss: 0.0132 - val_accuracy: 1.0000\n",
            "Epoch 734/1000\n",
            "3/3 - 0s - loss: 0.0017 - accuracy: 1.0000 - val_loss: 0.0052 - val_accuracy: 1.0000\n",
            "Epoch 735/1000\n",
            "3/3 - 0s - loss: 0.0013 - accuracy: 1.0000 - val_loss: 0.0026 - val_accuracy: 1.0000\n",
            "Epoch 736/1000\n",
            "3/3 - 0s - loss: 0.0041 - accuracy: 1.0000 - val_loss: 0.0017 - val_accuracy: 1.0000\n",
            "Epoch 737/1000\n",
            "3/3 - 0s - loss: 0.0036 - accuracy: 1.0000 - val_loss: 0.0014 - val_accuracy: 1.0000\n",
            "Epoch 738/1000\n",
            "3/3 - 0s - loss: 0.0023 - accuracy: 1.0000 - val_loss: 0.0012 - val_accuracy: 1.0000\n",
            "Epoch 739/1000\n",
            "3/3 - 0s - loss: 0.0038 - accuracy: 1.0000 - val_loss: 0.0012 - val_accuracy: 1.0000\n",
            "Epoch 740/1000\n",
            "3/3 - 0s - loss: 0.0024 - accuracy: 1.0000 - val_loss: 0.0012 - val_accuracy: 1.0000\n",
            "Epoch 741/1000\n",
            "3/3 - 0s - loss: 0.0029 - accuracy: 1.0000 - val_loss: 0.0014 - val_accuracy: 1.0000\n",
            "Epoch 742/1000\n",
            "3/3 - 0s - loss: 0.0452 - accuracy: 0.9889 - val_loss: 0.0013 - val_accuracy: 1.0000\n",
            "Epoch 743/1000\n",
            "3/3 - 0s - loss: 0.0039 - accuracy: 1.0000 - val_loss: 0.0174 - val_accuracy: 1.0000\n",
            "Epoch 744/1000\n",
            "3/3 - 0s - loss: 0.0030 - accuracy: 1.0000 - val_loss: 0.1801 - val_accuracy: 0.9667\n",
            "Epoch 745/1000\n",
            "3/3 - 0s - loss: 0.0056 - accuracy: 1.0000 - val_loss: 0.3850 - val_accuracy: 0.9000\n",
            "Epoch 746/1000\n",
            "3/3 - 0s - loss: 0.1075 - accuracy: 0.9778 - val_loss: 0.4210 - val_accuracy: 0.9000\n",
            "Epoch 747/1000\n",
            "3/3 - 0s - loss: 0.0076 - accuracy: 1.0000 - val_loss: 0.2579 - val_accuracy: 0.9333\n",
            "Epoch 748/1000\n",
            "3/3 - 0s - loss: 0.0037 - accuracy: 1.0000 - val_loss: 0.1762 - val_accuracy: 0.9667\n",
            "Epoch 749/1000\n",
            "3/3 - 0s - loss: 0.0045 - accuracy: 1.0000 - val_loss: 0.1308 - val_accuracy: 0.9667\n",
            "Epoch 750/1000\n",
            "3/3 - 0s - loss: 0.0094 - accuracy: 1.0000 - val_loss: 0.1075 - val_accuracy: 0.9667\n",
            "Epoch 751/1000\n",
            "3/3 - 0s - loss: 0.0287 - accuracy: 0.9889 - val_loss: 0.0989 - val_accuracy: 0.9667\n",
            "Epoch 752/1000\n",
            "3/3 - 0s - loss: 0.0155 - accuracy: 1.0000 - val_loss: 0.1094 - val_accuracy: 0.9667\n",
            "Epoch 753/1000\n",
            "3/3 - 0s - loss: 0.0061 - accuracy: 1.0000 - val_loss: 0.1184 - val_accuracy: 0.9667\n",
            "Epoch 754/1000\n",
            "3/3 - 0s - loss: 0.0070 - accuracy: 1.0000 - val_loss: 0.1191 - val_accuracy: 0.9667\n",
            "Epoch 755/1000\n",
            "3/3 - 0s - loss: 0.0069 - accuracy: 1.0000 - val_loss: 0.1174 - val_accuracy: 0.9667\n",
            "Epoch 756/1000\n",
            "3/3 - 0s - loss: 0.0131 - accuracy: 0.9889 - val_loss: 0.1059 - val_accuracy: 0.9667\n",
            "Epoch 757/1000\n",
            "3/3 - 0s - loss: 0.0509 - accuracy: 0.9889 - val_loss: 0.0608 - val_accuracy: 0.9667\n",
            "Epoch 758/1000\n",
            "3/3 - 0s - loss: 0.0502 - accuracy: 0.9778 - val_loss: 0.0268 - val_accuracy: 1.0000\n",
            "Epoch 759/1000\n",
            "3/3 - 0s - loss: 0.0091 - accuracy: 1.0000 - val_loss: 0.0175 - val_accuracy: 1.0000\n",
            "Epoch 760/1000\n",
            "3/3 - 0s - loss: 0.0074 - accuracy: 1.0000 - val_loss: 0.0166 - val_accuracy: 1.0000\n",
            "Epoch 761/1000\n",
            "3/3 - 0s - loss: 0.0043 - accuracy: 1.0000 - val_loss: 0.0182 - val_accuracy: 1.0000\n",
            "Epoch 762/1000\n",
            "3/3 - 0s - loss: 0.0037 - accuracy: 1.0000 - val_loss: 0.0223 - val_accuracy: 1.0000\n",
            "Epoch 763/1000\n",
            "3/3 - 0s - loss: 0.0045 - accuracy: 1.0000 - val_loss: 0.0269 - val_accuracy: 1.0000\n",
            "Epoch 764/1000\n",
            "3/3 - 0s - loss: 0.0589 - accuracy: 0.9778 - val_loss: 0.0480 - val_accuracy: 0.9667\n",
            "Epoch 765/1000\n",
            "3/3 - 0s - loss: 0.0110 - accuracy: 1.0000 - val_loss: 0.1081 - val_accuracy: 0.9333\n",
            "Epoch 766/1000\n",
            "3/3 - 0s - loss: 0.0044 - accuracy: 1.0000 - val_loss: 0.1186 - val_accuracy: 0.9333\n",
            "Epoch 767/1000\n",
            "3/3 - 0s - loss: 0.0252 - accuracy: 0.9889 - val_loss: 0.1142 - val_accuracy: 0.9333\n",
            "Epoch 768/1000\n",
            "3/3 - 0s - loss: 0.0842 - accuracy: 0.9556 - val_loss: 0.0973 - val_accuracy: 0.9333\n",
            "Epoch 769/1000\n",
            "3/3 - 0s - loss: 0.0095 - accuracy: 1.0000 - val_loss: 0.1066 - val_accuracy: 0.9333\n",
            "Epoch 770/1000\n",
            "3/3 - 0s - loss: 0.0036 - accuracy: 1.0000 - val_loss: 0.0996 - val_accuracy: 0.9333\n",
            "Epoch 771/1000\n",
            "3/3 - 0s - loss: 0.0020 - accuracy: 1.0000 - val_loss: 0.0917 - val_accuracy: 0.9333\n",
            "Epoch 772/1000\n",
            "3/3 - 0s - loss: 0.0014 - accuracy: 1.0000 - val_loss: 0.0842 - val_accuracy: 0.9333\n",
            "Epoch 773/1000\n",
            "3/3 - 0s - loss: 0.0033 - accuracy: 1.0000 - val_loss: 0.0755 - val_accuracy: 0.9333\n",
            "Epoch 774/1000\n",
            "3/3 - 0s - loss: 0.0021 - accuracy: 1.0000 - val_loss: 0.0677 - val_accuracy: 0.9667\n",
            "Epoch 775/1000\n",
            "3/3 - 0s - loss: 0.0033 - accuracy: 1.0000 - val_loss: 0.0607 - val_accuracy: 0.9667\n",
            "Epoch 776/1000\n",
            "3/3 - 0s - loss: 0.0042 - accuracy: 1.0000 - val_loss: 0.0529 - val_accuracy: 0.9667\n",
            "Epoch 777/1000\n",
            "3/3 - 0s - loss: 0.0077 - accuracy: 1.0000 - val_loss: 0.0392 - val_accuracy: 1.0000\n",
            "Epoch 778/1000\n",
            "3/3 - 0s - loss: 0.0015 - accuracy: 1.0000 - val_loss: 0.0301 - val_accuracy: 1.0000\n",
            "Epoch 779/1000\n",
            "3/3 - 0s - loss: 0.0019 - accuracy: 1.0000 - val_loss: 0.0241 - val_accuracy: 1.0000\n",
            "Epoch 780/1000\n",
            "3/3 - 0s - loss: 0.0025 - accuracy: 1.0000 - val_loss: 0.0192 - val_accuracy: 1.0000\n",
            "Epoch 781/1000\n",
            "3/3 - 0s - loss: 0.0025 - accuracy: 1.0000 - val_loss: 0.0167 - val_accuracy: 1.0000\n",
            "Epoch 782/1000\n",
            "3/3 - 0s - loss: 0.0100 - accuracy: 1.0000 - val_loss: 0.0143 - val_accuracy: 1.0000\n",
            "Epoch 783/1000\n",
            "3/3 - 0s - loss: 0.0024 - accuracy: 1.0000 - val_loss: 0.0123 - val_accuracy: 1.0000\n",
            "Epoch 784/1000\n",
            "3/3 - 0s - loss: 0.0032 - accuracy: 1.0000 - val_loss: 0.0118 - val_accuracy: 1.0000\n",
            "Epoch 785/1000\n",
            "3/3 - 0s - loss: 0.0026 - accuracy: 1.0000 - val_loss: 0.0111 - val_accuracy: 1.0000\n",
            "Epoch 786/1000\n",
            "3/3 - 0s - loss: 0.0053 - accuracy: 1.0000 - val_loss: 0.0113 - val_accuracy: 1.0000\n",
            "Epoch 787/1000\n",
            "3/3 - 0s - loss: 0.0034 - accuracy: 1.0000 - val_loss: 0.0125 - val_accuracy: 1.0000\n",
            "Epoch 788/1000\n",
            "3/3 - 0s - loss: 0.0021 - accuracy: 1.0000 - val_loss: 0.0147 - val_accuracy: 1.0000\n",
            "Epoch 789/1000\n",
            "3/3 - 0s - loss: 0.0022 - accuracy: 1.0000 - val_loss: 0.0160 - val_accuracy: 1.0000\n",
            "Epoch 790/1000\n",
            "3/3 - 0s - loss: 0.0029 - accuracy: 1.0000 - val_loss: 0.0179 - val_accuracy: 1.0000\n",
            "Epoch 791/1000\n",
            "3/3 - 0s - loss: 0.0087 - accuracy: 1.0000 - val_loss: 0.0207 - val_accuracy: 1.0000\n",
            "Epoch 792/1000\n",
            "3/3 - 0s - loss: 0.0046 - accuracy: 1.0000 - val_loss: 0.0216 - val_accuracy: 1.0000\n",
            "Epoch 793/1000\n",
            "3/3 - 0s - loss: 0.0035 - accuracy: 1.0000 - val_loss: 0.0192 - val_accuracy: 1.0000\n",
            "Epoch 794/1000\n",
            "3/3 - 0s - loss: 8.2598e-04 - accuracy: 1.0000 - val_loss: 0.0174 - val_accuracy: 1.0000\n",
            "Epoch 795/1000\n",
            "3/3 - 0s - loss: 0.0215 - accuracy: 0.9889 - val_loss: 0.0038 - val_accuracy: 1.0000\n",
            "Epoch 796/1000\n",
            "3/3 - 0s - loss: 0.0038 - accuracy: 1.0000 - val_loss: 0.0046 - val_accuracy: 1.0000\n",
            "Epoch 797/1000\n",
            "3/3 - 0s - loss: 0.0060 - accuracy: 1.0000 - val_loss: 0.0386 - val_accuracy: 1.0000\n",
            "Epoch 798/1000\n",
            "3/3 - 0s - loss: 0.0049 - accuracy: 1.0000 - val_loss: 0.1159 - val_accuracy: 0.9333\n",
            "Epoch 799/1000\n",
            "3/3 - 0s - loss: 0.0136 - accuracy: 0.9889 - val_loss: 0.1741 - val_accuracy: 0.9333\n",
            "Epoch 800/1000\n",
            "3/3 - 0s - loss: 0.0172 - accuracy: 1.0000 - val_loss: 0.1430 - val_accuracy: 0.9333\n",
            "Epoch 801/1000\n",
            "3/3 - 0s - loss: 0.0098 - accuracy: 1.0000 - val_loss: 0.0858 - val_accuracy: 0.9333\n",
            "Epoch 802/1000\n",
            "3/3 - 0s - loss: 0.0057 - accuracy: 1.0000 - val_loss: 0.0472 - val_accuracy: 0.9667\n",
            "Epoch 803/1000\n",
            "3/3 - 0s - loss: 0.0064 - accuracy: 1.0000 - val_loss: 0.0214 - val_accuracy: 1.0000\n",
            "Epoch 804/1000\n",
            "3/3 - 0s - loss: 0.0036 - accuracy: 1.0000 - val_loss: 0.0094 - val_accuracy: 1.0000\n",
            "Epoch 805/1000\n",
            "3/3 - 0s - loss: 0.0010 - accuracy: 1.0000 - val_loss: 0.0038 - val_accuracy: 1.0000\n",
            "Epoch 806/1000\n",
            "3/3 - 0s - loss: 0.0049 - accuracy: 1.0000 - val_loss: 0.0014 - val_accuracy: 1.0000\n",
            "Epoch 807/1000\n",
            "3/3 - 0s - loss: 0.0012 - accuracy: 1.0000 - val_loss: 5.1832e-04 - val_accuracy: 1.0000\n",
            "Epoch 808/1000\n",
            "3/3 - 0s - loss: 6.8227e-04 - accuracy: 1.0000 - val_loss: 3.8782e-04 - val_accuracy: 1.0000\n",
            "Epoch 809/1000\n",
            "3/3 - 0s - loss: 0.0014 - accuracy: 1.0000 - val_loss: 3.8897e-04 - val_accuracy: 1.0000\n",
            "Epoch 810/1000\n",
            "3/3 - 0s - loss: 5.7040e-04 - accuracy: 1.0000 - val_loss: 4.2706e-04 - val_accuracy: 1.0000\n",
            "Epoch 811/1000\n",
            "3/3 - 0s - loss: 0.0085 - accuracy: 0.9889 - val_loss: 5.4354e-04 - val_accuracy: 1.0000\n",
            "Epoch 812/1000\n",
            "3/3 - 0s - loss: 0.0012 - accuracy: 1.0000 - val_loss: 0.0013 - val_accuracy: 1.0000\n",
            "Epoch 813/1000\n",
            "3/3 - 0s - loss: 0.0023 - accuracy: 1.0000 - val_loss: 0.0036 - val_accuracy: 1.0000\n",
            "Epoch 814/1000\n",
            "3/3 - 0s - loss: 0.0022 - accuracy: 1.0000 - val_loss: 0.0068 - val_accuracy: 1.0000\n",
            "Epoch 815/1000\n",
            "3/3 - 0s - loss: 0.0034 - accuracy: 1.0000 - val_loss: 0.0088 - val_accuracy: 1.0000\n",
            "Epoch 816/1000\n",
            "3/3 - 0s - loss: 0.0091 - accuracy: 1.0000 - val_loss: 0.0076 - val_accuracy: 1.0000\n",
            "Epoch 817/1000\n",
            "3/3 - 0s - loss: 0.0021 - accuracy: 1.0000 - val_loss: 0.0041 - val_accuracy: 1.0000\n",
            "Epoch 818/1000\n",
            "3/3 - 0s - loss: 0.0019 - accuracy: 1.0000 - val_loss: 0.0032 - val_accuracy: 1.0000\n",
            "Epoch 819/1000\n",
            "3/3 - 0s - loss: 7.3943e-04 - accuracy: 1.0000 - val_loss: 0.0031 - val_accuracy: 1.0000\n",
            "Epoch 820/1000\n",
            "3/3 - 0s - loss: 0.0022 - accuracy: 1.0000 - val_loss: 0.0035 - val_accuracy: 1.0000\n",
            "Epoch 821/1000\n",
            "3/3 - 0s - loss: 0.1544 - accuracy: 0.9667 - val_loss: 0.0023 - val_accuracy: 1.0000\n",
            "Epoch 822/1000\n",
            "3/3 - 0s - loss: 0.0013 - accuracy: 1.0000 - val_loss: 0.0072 - val_accuracy: 1.0000\n",
            "Epoch 823/1000\n",
            "3/3 - 0s - loss: 0.0423 - accuracy: 0.9667 - val_loss: 0.0043 - val_accuracy: 1.0000\n",
            "Epoch 824/1000\n",
            "3/3 - 0s - loss: 0.0035 - accuracy: 1.0000 - val_loss: 0.0157 - val_accuracy: 1.0000\n",
            "Epoch 825/1000\n",
            "3/3 - 0s - loss: 0.0074 - accuracy: 1.0000 - val_loss: 0.0499 - val_accuracy: 0.9667\n",
            "Epoch 826/1000\n",
            "3/3 - 0s - loss: 0.0116 - accuracy: 1.0000 - val_loss: 0.0736 - val_accuracy: 0.9667\n",
            "Epoch 827/1000\n",
            "3/3 - 0s - loss: 0.0161 - accuracy: 1.0000 - val_loss: 0.0719 - val_accuracy: 0.9333\n",
            "Epoch 828/1000\n",
            "3/3 - 0s - loss: 0.0150 - accuracy: 1.0000 - val_loss: 0.0693 - val_accuracy: 0.9667\n",
            "Epoch 829/1000\n",
            "3/3 - 0s - loss: 0.0407 - accuracy: 0.9778 - val_loss: 0.0550 - val_accuracy: 0.9667\n",
            "Epoch 830/1000\n",
            "3/3 - 0s - loss: 0.0367 - accuracy: 0.9889 - val_loss: 0.0219 - val_accuracy: 1.0000\n",
            "Epoch 831/1000\n",
            "3/3 - 0s - loss: 0.0169 - accuracy: 0.9889 - val_loss: 0.0231 - val_accuracy: 1.0000\n",
            "Epoch 832/1000\n",
            "3/3 - 0s - loss: 0.0309 - accuracy: 0.9778 - val_loss: 0.0256 - val_accuracy: 1.0000\n",
            "Epoch 833/1000\n",
            "3/3 - 0s - loss: 0.0074 - accuracy: 1.0000 - val_loss: 0.0333 - val_accuracy: 1.0000\n",
            "Epoch 834/1000\n",
            "3/3 - 0s - loss: 0.0367 - accuracy: 0.9889 - val_loss: 0.0188 - val_accuracy: 1.0000\n",
            "Epoch 835/1000\n",
            "3/3 - 0s - loss: 0.0216 - accuracy: 0.9889 - val_loss: 0.0078 - val_accuracy: 1.0000\n",
            "Epoch 836/1000\n",
            "3/3 - 0s - loss: 0.0226 - accuracy: 0.9889 - val_loss: 0.0039 - val_accuracy: 1.0000\n",
            "Epoch 837/1000\n",
            "3/3 - 0s - loss: 0.0079 - accuracy: 1.0000 - val_loss: 0.0033 - val_accuracy: 1.0000\n",
            "Epoch 838/1000\n",
            "3/3 - 0s - loss: 0.0038 - accuracy: 1.0000 - val_loss: 0.0030 - val_accuracy: 1.0000\n",
            "Epoch 839/1000\n",
            "3/3 - 0s - loss: 0.0030 - accuracy: 1.0000 - val_loss: 0.0027 - val_accuracy: 1.0000\n",
            "Epoch 840/1000\n",
            "3/3 - 0s - loss: 0.0072 - accuracy: 1.0000 - val_loss: 0.0024 - val_accuracy: 1.0000\n",
            "Epoch 841/1000\n",
            "3/3 - 0s - loss: 0.0025 - accuracy: 1.0000 - val_loss: 0.0023 - val_accuracy: 1.0000\n",
            "Epoch 842/1000\n",
            "3/3 - 0s - loss: 0.0017 - accuracy: 1.0000 - val_loss: 0.0021 - val_accuracy: 1.0000\n",
            "Epoch 843/1000\n",
            "3/3 - 0s - loss: 0.0080 - accuracy: 1.0000 - val_loss: 0.0020 - val_accuracy: 1.0000\n",
            "Epoch 844/1000\n",
            "3/3 - 0s - loss: 0.0034 - accuracy: 1.0000 - val_loss: 0.0019 - val_accuracy: 1.0000\n",
            "Epoch 845/1000\n",
            "3/3 - 0s - loss: 0.0223 - accuracy: 0.9889 - val_loss: 0.0018 - val_accuracy: 1.0000\n",
            "Epoch 846/1000\n",
            "3/3 - 0s - loss: 0.0140 - accuracy: 0.9889 - val_loss: 0.0018 - val_accuracy: 1.0000\n",
            "Epoch 847/1000\n",
            "3/3 - 0s - loss: 0.0013 - accuracy: 1.0000 - val_loss: 0.0021 - val_accuracy: 1.0000\n",
            "Epoch 848/1000\n",
            "3/3 - 0s - loss: 0.0029 - accuracy: 1.0000 - val_loss: 0.0026 - val_accuracy: 1.0000\n",
            "Epoch 849/1000\n",
            "3/3 - 0s - loss: 0.0018 - accuracy: 1.0000 - val_loss: 0.0030 - val_accuracy: 1.0000\n",
            "Epoch 850/1000\n",
            "3/3 - 0s - loss: 0.1416 - accuracy: 0.9667 - val_loss: 0.0060 - val_accuracy: 1.0000\n",
            "Epoch 851/1000\n",
            "3/3 - 0s - loss: 0.0107 - accuracy: 1.0000 - val_loss: 0.1315 - val_accuracy: 0.9333\n",
            "Epoch 852/1000\n",
            "3/3 - 0s - loss: 0.0374 - accuracy: 0.9889 - val_loss: 0.1135 - val_accuracy: 0.9333\n",
            "Epoch 853/1000\n",
            "3/3 - 0s - loss: 0.0270 - accuracy: 0.9889 - val_loss: 0.0626 - val_accuracy: 0.9667\n",
            "Epoch 854/1000\n",
            "3/3 - 0s - loss: 0.0230 - accuracy: 0.9889 - val_loss: 0.0356 - val_accuracy: 1.0000\n",
            "Epoch 855/1000\n",
            "3/3 - 0s - loss: 0.0175 - accuracy: 1.0000 - val_loss: 0.0230 - val_accuracy: 1.0000\n",
            "Epoch 856/1000\n",
            "3/3 - 0s - loss: 0.0072 - accuracy: 1.0000 - val_loss: 0.0184 - val_accuracy: 1.0000\n",
            "Epoch 857/1000\n",
            "3/3 - 0s - loss: 0.0064 - accuracy: 1.0000 - val_loss: 0.0181 - val_accuracy: 1.0000\n",
            "Epoch 858/1000\n",
            "3/3 - 0s - loss: 0.0037 - accuracy: 1.0000 - val_loss: 0.0200 - val_accuracy: 1.0000\n",
            "Epoch 859/1000\n",
            "3/3 - 0s - loss: 0.0045 - accuracy: 1.0000 - val_loss: 0.0232 - val_accuracy: 1.0000\n",
            "Epoch 860/1000\n",
            "3/3 - 0s - loss: 0.0284 - accuracy: 0.9889 - val_loss: 0.0191 - val_accuracy: 1.0000\n",
            "Epoch 861/1000\n",
            "3/3 - 0s - loss: 0.0032 - accuracy: 1.0000 - val_loss: 0.0134 - val_accuracy: 1.0000\n",
            "Epoch 862/1000\n",
            "3/3 - 0s - loss: 0.0578 - accuracy: 0.9778 - val_loss: 0.0371 - val_accuracy: 0.9667\n",
            "Epoch 863/1000\n",
            "3/3 - 0s - loss: 0.0082 - accuracy: 1.0000 - val_loss: 0.2320 - val_accuracy: 0.9667\n",
            "Epoch 864/1000\n",
            "3/3 - 0s - loss: 0.0088 - accuracy: 1.0000 - val_loss: 0.4681 - val_accuracy: 0.8667\n",
            "Epoch 865/1000\n",
            "3/3 - 0s - loss: 0.0200 - accuracy: 0.9889 - val_loss: 0.5591 - val_accuracy: 0.8667\n",
            "Epoch 866/1000\n",
            "3/3 - 0s - loss: 0.0343 - accuracy: 0.9889 - val_loss: 0.3094 - val_accuracy: 0.9333\n",
            "Epoch 867/1000\n",
            "3/3 - 0s - loss: 0.0050 - accuracy: 1.0000 - val_loss: 0.1242 - val_accuracy: 0.9667\n",
            "Epoch 868/1000\n",
            "3/3 - 0s - loss: 0.0093 - accuracy: 1.0000 - val_loss: 0.0325 - val_accuracy: 1.0000\n",
            "Epoch 869/1000\n",
            "3/3 - 0s - loss: 0.0031 - accuracy: 1.0000 - val_loss: 0.0183 - val_accuracy: 1.0000\n",
            "Epoch 870/1000\n",
            "3/3 - 0s - loss: 0.0085 - accuracy: 1.0000 - val_loss: 0.0133 - val_accuracy: 1.0000\n",
            "Epoch 871/1000\n",
            "3/3 - 0s - loss: 0.0115 - accuracy: 1.0000 - val_loss: 0.0132 - val_accuracy: 1.0000\n",
            "Epoch 872/1000\n",
            "3/3 - 0s - loss: 0.0118 - accuracy: 0.9889 - val_loss: 0.0325 - val_accuracy: 1.0000\n",
            "Epoch 873/1000\n",
            "3/3 - 0s - loss: 0.0100 - accuracy: 1.0000 - val_loss: 0.0660 - val_accuracy: 0.9667\n",
            "Epoch 874/1000\n",
            "3/3 - 0s - loss: 0.0027 - accuracy: 1.0000 - val_loss: 0.0426 - val_accuracy: 0.9667\n",
            "Epoch 875/1000\n",
            "3/3 - 0s - loss: 0.0042 - accuracy: 1.0000 - val_loss: 0.0259 - val_accuracy: 1.0000\n",
            "Epoch 876/1000\n",
            "3/3 - 0s - loss: 0.0050 - accuracy: 1.0000 - val_loss: 0.0156 - val_accuracy: 1.0000\n",
            "Epoch 877/1000\n",
            "3/3 - 0s - loss: 0.0032 - accuracy: 1.0000 - val_loss: 0.0098 - val_accuracy: 1.0000\n",
            "Epoch 878/1000\n",
            "3/3 - 0s - loss: 0.0054 - accuracy: 1.0000 - val_loss: 0.0069 - val_accuracy: 1.0000\n",
            "Epoch 879/1000\n",
            "3/3 - 0s - loss: 0.0037 - accuracy: 1.0000 - val_loss: 0.0049 - val_accuracy: 1.0000\n",
            "Epoch 880/1000\n",
            "3/3 - 0s - loss: 0.0073 - accuracy: 1.0000 - val_loss: 0.0040 - val_accuracy: 1.0000\n",
            "Epoch 881/1000\n",
            "3/3 - 0s - loss: 0.0040 - accuracy: 1.0000 - val_loss: 0.0045 - val_accuracy: 1.0000\n",
            "Epoch 882/1000\n",
            "3/3 - 0s - loss: 0.0119 - accuracy: 0.9889 - val_loss: 0.0030 - val_accuracy: 1.0000\n",
            "Epoch 883/1000\n",
            "3/3 - 0s - loss: 0.0012 - accuracy: 1.0000 - val_loss: 0.0012 - val_accuracy: 1.0000\n",
            "Epoch 884/1000\n",
            "3/3 - 0s - loss: 0.1173 - accuracy: 0.9778 - val_loss: 0.0028 - val_accuracy: 1.0000\n",
            "Epoch 885/1000\n",
            "3/3 - 0s - loss: 0.0054 - accuracy: 1.0000 - val_loss: 0.0672 - val_accuracy: 1.0000\n",
            "Epoch 886/1000\n",
            "3/3 - 0s - loss: 0.1956 - accuracy: 0.9333 - val_loss: 0.1223 - val_accuracy: 0.9667\n",
            "Epoch 887/1000\n",
            "3/3 - 0s - loss: 0.1303 - accuracy: 0.9444 - val_loss: 0.1056 - val_accuracy: 0.9667\n",
            "Epoch 888/1000\n",
            "3/3 - 0s - loss: 0.0655 - accuracy: 0.9889 - val_loss: 0.0824 - val_accuracy: 0.9667\n",
            "Epoch 889/1000\n",
            "3/3 - 0s - loss: 0.1193 - accuracy: 0.9333 - val_loss: 0.0858 - val_accuracy: 0.9333\n",
            "Epoch 890/1000\n",
            "3/3 - 0s - loss: 0.0417 - accuracy: 0.9889 - val_loss: 0.0624 - val_accuracy: 1.0000\n",
            "Epoch 891/1000\n",
            "3/3 - 0s - loss: 0.0295 - accuracy: 0.9889 - val_loss: 0.0995 - val_accuracy: 0.9333\n",
            "Epoch 892/1000\n",
            "3/3 - 0s - loss: 0.0341 - accuracy: 0.9889 - val_loss: 0.1651 - val_accuracy: 0.9333\n",
            "Epoch 893/1000\n",
            "3/3 - 0s - loss: 0.0176 - accuracy: 1.0000 - val_loss: 0.2365 - val_accuracy: 0.9333\n",
            "Epoch 894/1000\n",
            "3/3 - 0s - loss: 0.0163 - accuracy: 1.0000 - val_loss: 0.2761 - val_accuracy: 0.9333\n",
            "Epoch 895/1000\n",
            "3/3 - 0s - loss: 0.0183 - accuracy: 1.0000 - val_loss: 0.3062 - val_accuracy: 0.9333\n",
            "Epoch 896/1000\n",
            "3/3 - 0s - loss: 0.0096 - accuracy: 1.0000 - val_loss: 0.3191 - val_accuracy: 0.9333\n",
            "Epoch 897/1000\n",
            "3/3 - 0s - loss: 0.0098 - accuracy: 1.0000 - val_loss: 0.3348 - val_accuracy: 0.9333\n",
            "Epoch 898/1000\n",
            "3/3 - 0s - loss: 0.0324 - accuracy: 0.9889 - val_loss: 0.3482 - val_accuracy: 0.9333\n",
            "Epoch 899/1000\n",
            "3/3 - 0s - loss: 0.0063 - accuracy: 1.0000 - val_loss: 0.4300 - val_accuracy: 0.8667\n",
            "Epoch 900/1000\n",
            "3/3 - 0s - loss: 0.0084 - accuracy: 1.0000 - val_loss: 0.4225 - val_accuracy: 0.9000\n",
            "Epoch 901/1000\n",
            "3/3 - 0s - loss: 0.0086 - accuracy: 1.0000 - val_loss: 0.3034 - val_accuracy: 0.9000\n",
            "Epoch 902/1000\n",
            "3/3 - 0s - loss: 0.0029 - accuracy: 1.0000 - val_loss: 0.1343 - val_accuracy: 0.9333\n",
            "Epoch 903/1000\n",
            "3/3 - 0s - loss: 0.0045 - accuracy: 1.0000 - val_loss: 0.0570 - val_accuracy: 0.9333\n",
            "Epoch 904/1000\n",
            "3/3 - 0s - loss: 0.0143 - accuracy: 1.0000 - val_loss: 0.0256 - val_accuracy: 1.0000\n",
            "Epoch 905/1000\n",
            "3/3 - 0s - loss: 0.0063 - accuracy: 1.0000 - val_loss: 0.0140 - val_accuracy: 1.0000\n",
            "Epoch 906/1000\n",
            "3/3 - 0s - loss: 0.0058 - accuracy: 1.0000 - val_loss: 0.0097 - val_accuracy: 1.0000\n",
            "Epoch 907/1000\n",
            "3/3 - 0s - loss: 0.0249 - accuracy: 1.0000 - val_loss: 0.0102 - val_accuracy: 1.0000\n",
            "Epoch 908/1000\n",
            "3/3 - 0s - loss: 0.0022 - accuracy: 1.0000 - val_loss: 0.0094 - val_accuracy: 1.0000\n",
            "Epoch 909/1000\n",
            "3/3 - 0s - loss: 0.0032 - accuracy: 1.0000 - val_loss: 0.0091 - val_accuracy: 1.0000\n",
            "Epoch 910/1000\n",
            "3/3 - 0s - loss: 0.0202 - accuracy: 0.9889 - val_loss: 0.0084 - val_accuracy: 1.0000\n",
            "Epoch 911/1000\n",
            "3/3 - 0s - loss: 0.0780 - accuracy: 0.9778 - val_loss: 0.0054 - val_accuracy: 1.0000\n",
            "Epoch 912/1000\n",
            "3/3 - 0s - loss: 0.0382 - accuracy: 0.9889 - val_loss: 0.0435 - val_accuracy: 0.9667\n",
            "Epoch 913/1000\n",
            "3/3 - 0s - loss: 0.0115 - accuracy: 1.0000 - val_loss: 0.0831 - val_accuracy: 0.9667\n",
            "Epoch 914/1000\n",
            "3/3 - 0s - loss: 0.0674 - accuracy: 0.9667 - val_loss: 0.0281 - val_accuracy: 1.0000\n",
            "Epoch 915/1000\n",
            "3/3 - 0s - loss: 0.0353 - accuracy: 0.9889 - val_loss: 0.0075 - val_accuracy: 1.0000\n",
            "Epoch 916/1000\n",
            "3/3 - 0s - loss: 0.1196 - accuracy: 0.9556 - val_loss: 0.1409 - val_accuracy: 0.9333\n",
            "Epoch 917/1000\n",
            "3/3 - 0s - loss: 0.0405 - accuracy: 0.9778 - val_loss: 0.5332 - val_accuracy: 0.8000\n",
            "Epoch 918/1000\n",
            "3/3 - 0s - loss: 0.0136 - accuracy: 1.0000 - val_loss: 1.1015 - val_accuracy: 0.7333\n",
            "Epoch 919/1000\n",
            "3/3 - 0s - loss: 0.0390 - accuracy: 0.9889 - val_loss: 1.4576 - val_accuracy: 0.7333\n",
            "Epoch 920/1000\n",
            "3/3 - 0s - loss: 0.0370 - accuracy: 0.9889 - val_loss: 1.4006 - val_accuracy: 0.7000\n",
            "Epoch 921/1000\n",
            "3/3 - 0s - loss: 0.0398 - accuracy: 0.9889 - val_loss: 0.7377 - val_accuracy: 0.8000\n",
            "Epoch 922/1000\n",
            "3/3 - 0s - loss: 0.0164 - accuracy: 1.0000 - val_loss: 0.2295 - val_accuracy: 0.9333\n",
            "Epoch 923/1000\n",
            "3/3 - 0s - loss: 0.0294 - accuracy: 0.9889 - val_loss: 0.1052 - val_accuracy: 0.9667\n",
            "Epoch 924/1000\n",
            "3/3 - 0s - loss: 0.0206 - accuracy: 0.9889 - val_loss: 0.1003 - val_accuracy: 0.9333\n",
            "Epoch 925/1000\n",
            "3/3 - 0s - loss: 0.0176 - accuracy: 1.0000 - val_loss: 0.1207 - val_accuracy: 0.9333\n",
            "Epoch 926/1000\n",
            "3/3 - 0s - loss: 0.0552 - accuracy: 0.9889 - val_loss: 0.1544 - val_accuracy: 0.9333\n",
            "Epoch 927/1000\n",
            "3/3 - 0s - loss: 0.0185 - accuracy: 1.0000 - val_loss: 0.1891 - val_accuracy: 0.9333\n",
            "Epoch 928/1000\n",
            "3/3 - 0s - loss: 0.0430 - accuracy: 0.9889 - val_loss: 0.1733 - val_accuracy: 0.9333\n",
            "Epoch 929/1000\n",
            "3/3 - 0s - loss: 0.0767 - accuracy: 0.9778 - val_loss: 0.1083 - val_accuracy: 0.9333\n",
            "Epoch 930/1000\n",
            "3/3 - 0s - loss: 0.0397 - accuracy: 0.9889 - val_loss: 0.0502 - val_accuracy: 0.9667\n",
            "Epoch 931/1000\n",
            "3/3 - 0s - loss: 0.0221 - accuracy: 1.0000 - val_loss: 0.0174 - val_accuracy: 1.0000\n",
            "Epoch 932/1000\n",
            "3/3 - 0s - loss: 0.0389 - accuracy: 0.9778 - val_loss: 0.0177 - val_accuracy: 1.0000\n",
            "Epoch 933/1000\n",
            "3/3 - 0s - loss: 0.0070 - accuracy: 1.0000 - val_loss: 0.0320 - val_accuracy: 1.0000\n",
            "Epoch 934/1000\n",
            "3/3 - 0s - loss: 0.0376 - accuracy: 0.9889 - val_loss: 0.0394 - val_accuracy: 1.0000\n",
            "Epoch 935/1000\n",
            "3/3 - 0s - loss: 0.0062 - accuracy: 1.0000 - val_loss: 0.0358 - val_accuracy: 1.0000\n",
            "Epoch 936/1000\n",
            "3/3 - 0s - loss: 0.0051 - accuracy: 1.0000 - val_loss: 0.0356 - val_accuracy: 1.0000\n",
            "Epoch 937/1000\n",
            "3/3 - 0s - loss: 0.0141 - accuracy: 0.9889 - val_loss: 0.0327 - val_accuracy: 1.0000\n",
            "Epoch 938/1000\n",
            "3/3 - 0s - loss: 0.0034 - accuracy: 1.0000 - val_loss: 0.0253 - val_accuracy: 1.0000\n",
            "Epoch 939/1000\n",
            "3/3 - 0s - loss: 0.0910 - accuracy: 0.9667 - val_loss: 0.0218 - val_accuracy: 1.0000\n",
            "Epoch 940/1000\n",
            "3/3 - 0s - loss: 0.0117 - accuracy: 0.9889 - val_loss: 0.0220 - val_accuracy: 1.0000\n",
            "Epoch 941/1000\n",
            "3/3 - 0s - loss: 0.0144 - accuracy: 0.9889 - val_loss: 0.0240 - val_accuracy: 1.0000\n",
            "Epoch 942/1000\n",
            "3/3 - 0s - loss: 0.0082 - accuracy: 1.0000 - val_loss: 0.0262 - val_accuracy: 1.0000\n",
            "Epoch 943/1000\n",
            "3/3 - 0s - loss: 0.0151 - accuracy: 1.0000 - val_loss: 0.0318 - val_accuracy: 1.0000\n",
            "Epoch 944/1000\n",
            "3/3 - 0s - loss: 0.0103 - accuracy: 1.0000 - val_loss: 0.0421 - val_accuracy: 1.0000\n",
            "Epoch 945/1000\n",
            "3/3 - 0s - loss: 0.0389 - accuracy: 0.9889 - val_loss: 0.0475 - val_accuracy: 0.9667\n",
            "Epoch 946/1000\n",
            "3/3 - 0s - loss: 0.0490 - accuracy: 0.9889 - val_loss: 0.0610 - val_accuracy: 0.9667\n",
            "Epoch 947/1000\n",
            "3/3 - 0s - loss: 0.0093 - accuracy: 1.0000 - val_loss: 0.0867 - val_accuracy: 0.9333\n",
            "Epoch 948/1000\n",
            "3/3 - 0s - loss: 0.0132 - accuracy: 1.0000 - val_loss: 0.1174 - val_accuracy: 0.9333\n",
            "Epoch 949/1000\n",
            "3/3 - 0s - loss: 0.0146 - accuracy: 1.0000 - val_loss: 0.1470 - val_accuracy: 0.9000\n",
            "Epoch 950/1000\n",
            "3/3 - 0s - loss: 0.0959 - accuracy: 0.9667 - val_loss: 0.1892 - val_accuracy: 0.9000\n",
            "Epoch 951/1000\n",
            "3/3 - 0s - loss: 0.0126 - accuracy: 1.0000 - val_loss: 0.2625 - val_accuracy: 0.9000\n",
            "Epoch 952/1000\n",
            "3/3 - 0s - loss: 0.0458 - accuracy: 0.9778 - val_loss: 0.2864 - val_accuracy: 0.8667\n",
            "Epoch 953/1000\n",
            "3/3 - 0s - loss: 0.0754 - accuracy: 0.9778 - val_loss: 0.2913 - val_accuracy: 0.8667\n",
            "Epoch 954/1000\n",
            "3/3 - 0s - loss: 0.0242 - accuracy: 0.9889 - val_loss: 0.2713 - val_accuracy: 0.8667\n",
            "Epoch 955/1000\n",
            "3/3 - 0s - loss: 0.1378 - accuracy: 0.9667 - val_loss: 0.1989 - val_accuracy: 0.9000\n",
            "Epoch 956/1000\n",
            "3/3 - 0s - loss: 0.0221 - accuracy: 1.0000 - val_loss: 0.1222 - val_accuracy: 0.9333\n",
            "Epoch 957/1000\n",
            "3/3 - 0s - loss: 0.0542 - accuracy: 0.9778 - val_loss: 0.0651 - val_accuracy: 0.9667\n",
            "Epoch 958/1000\n",
            "3/3 - 0s - loss: 0.0079 - accuracy: 1.0000 - val_loss: 0.0439 - val_accuracy: 0.9667\n",
            "Epoch 959/1000\n",
            "3/3 - 0s - loss: 0.0289 - accuracy: 0.9889 - val_loss: 0.0409 - val_accuracy: 0.9667\n",
            "Epoch 960/1000\n",
            "3/3 - 0s - loss: 0.0096 - accuracy: 1.0000 - val_loss: 0.0423 - val_accuracy: 0.9667\n",
            "Epoch 961/1000\n",
            "3/3 - 0s - loss: 0.0656 - accuracy: 0.9778 - val_loss: 0.0392 - val_accuracy: 0.9667\n",
            "Epoch 962/1000\n",
            "3/3 - 0s - loss: 0.0210 - accuracy: 0.9889 - val_loss: 0.0338 - val_accuracy: 1.0000\n",
            "Epoch 963/1000\n",
            "3/3 - 0s - loss: 0.1189 - accuracy: 0.9556 - val_loss: 0.0336 - val_accuracy: 1.0000\n",
            "Epoch 964/1000\n",
            "3/3 - 0s - loss: 0.0274 - accuracy: 0.9889 - val_loss: 0.0286 - val_accuracy: 1.0000\n",
            "Epoch 965/1000\n",
            "3/3 - 0s - loss: 0.0109 - accuracy: 1.0000 - val_loss: 0.0232 - val_accuracy: 1.0000\n",
            "Epoch 966/1000\n",
            "3/3 - 0s - loss: 0.0114 - accuracy: 1.0000 - val_loss: 0.0215 - val_accuracy: 1.0000\n",
            "Epoch 967/1000\n",
            "3/3 - 0s - loss: 0.0103 - accuracy: 1.0000 - val_loss: 0.0239 - val_accuracy: 1.0000\n",
            "Epoch 968/1000\n",
            "3/3 - 0s - loss: 0.0126 - accuracy: 1.0000 - val_loss: 0.0256 - val_accuracy: 1.0000\n",
            "Epoch 969/1000\n",
            "3/3 - 0s - loss: 0.0184 - accuracy: 1.0000 - val_loss: 0.0224 - val_accuracy: 1.0000\n",
            "Epoch 970/1000\n",
            "3/3 - 0s - loss: 0.0151 - accuracy: 1.0000 - val_loss: 0.0155 - val_accuracy: 1.0000\n",
            "Epoch 971/1000\n",
            "3/3 - 0s - loss: 0.0148 - accuracy: 0.9889 - val_loss: 0.0123 - val_accuracy: 1.0000\n",
            "Epoch 972/1000\n",
            "3/3 - 0s - loss: 0.0030 - accuracy: 1.0000 - val_loss: 0.0103 - val_accuracy: 1.0000\n",
            "Epoch 973/1000\n",
            "3/3 - 0s - loss: 0.0082 - accuracy: 1.0000 - val_loss: 0.0083 - val_accuracy: 1.0000\n",
            "Epoch 974/1000\n",
            "3/3 - 0s - loss: 0.1334 - accuracy: 0.9778 - val_loss: 0.0084 - val_accuracy: 1.0000\n",
            "Epoch 975/1000\n",
            "3/3 - 0s - loss: 0.0058 - accuracy: 1.0000 - val_loss: 0.0131 - val_accuracy: 1.0000\n",
            "Epoch 976/1000\n",
            "3/3 - 0s - loss: 0.0112 - accuracy: 1.0000 - val_loss: 0.0151 - val_accuracy: 1.0000\n",
            "Epoch 977/1000\n",
            "3/3 - 0s - loss: 0.0126 - accuracy: 1.0000 - val_loss: 0.0118 - val_accuracy: 1.0000\n",
            "Epoch 978/1000\n",
            "3/3 - 0s - loss: 0.0352 - accuracy: 0.9889 - val_loss: 0.0110 - val_accuracy: 1.0000\n",
            "Epoch 979/1000\n",
            "3/3 - 0s - loss: 0.0428 - accuracy: 0.9778 - val_loss: 0.0107 - val_accuracy: 1.0000\n",
            "Epoch 980/1000\n",
            "3/3 - 0s - loss: 0.0246 - accuracy: 0.9889 - val_loss: 0.0063 - val_accuracy: 1.0000\n",
            "Epoch 981/1000\n",
            "3/3 - 0s - loss: 0.0049 - accuracy: 1.0000 - val_loss: 0.0048 - val_accuracy: 1.0000\n",
            "Epoch 982/1000\n",
            "3/3 - 0s - loss: 0.0042 - accuracy: 1.0000 - val_loss: 0.0042 - val_accuracy: 1.0000\n",
            "Epoch 983/1000\n",
            "3/3 - 0s - loss: 0.0150 - accuracy: 1.0000 - val_loss: 0.0039 - val_accuracy: 1.0000\n",
            "Epoch 984/1000\n",
            "3/3 - 0s - loss: 0.0224 - accuracy: 0.9889 - val_loss: 0.0036 - val_accuracy: 1.0000\n",
            "Epoch 985/1000\n",
            "3/3 - 0s - loss: 0.0103 - accuracy: 1.0000 - val_loss: 0.0034 - val_accuracy: 1.0000\n",
            "Epoch 986/1000\n",
            "3/3 - 0s - loss: 0.0040 - accuracy: 1.0000 - val_loss: 0.0035 - val_accuracy: 1.0000\n",
            "Epoch 987/1000\n",
            "3/3 - 0s - loss: 0.0094 - accuracy: 1.0000 - val_loss: 0.0036 - val_accuracy: 1.0000\n",
            "Epoch 988/1000\n",
            "3/3 - 0s - loss: 0.2082 - accuracy: 0.9778 - val_loss: 0.0048 - val_accuracy: 1.0000\n",
            "Epoch 989/1000\n",
            "3/3 - 0s - loss: 0.0026 - accuracy: 1.0000 - val_loss: 0.0103 - val_accuracy: 1.0000\n",
            "Epoch 990/1000\n",
            "3/3 - 0s - loss: 0.0420 - accuracy: 0.9889 - val_loss: 0.0178 - val_accuracy: 1.0000\n",
            "Epoch 991/1000\n",
            "3/3 - 0s - loss: 0.0067 - accuracy: 1.0000 - val_loss: 0.0232 - val_accuracy: 1.0000\n",
            "Epoch 992/1000\n",
            "3/3 - 0s - loss: 0.0046 - accuracy: 1.0000 - val_loss: 0.0338 - val_accuracy: 1.0000\n",
            "Epoch 993/1000\n",
            "3/3 - 0s - loss: 0.0135 - accuracy: 1.0000 - val_loss: 0.0459 - val_accuracy: 1.0000\n",
            "Epoch 994/1000\n",
            "3/3 - 0s - loss: 0.0560 - accuracy: 0.9889 - val_loss: 0.0449 - val_accuracy: 1.0000\n",
            "Epoch 995/1000\n",
            "3/3 - 0s - loss: 0.0509 - accuracy: 0.9889 - val_loss: 0.0383 - val_accuracy: 1.0000\n",
            "Epoch 996/1000\n",
            "3/3 - 0s - loss: 0.0123 - accuracy: 1.0000 - val_loss: 0.0624 - val_accuracy: 0.9667\n",
            "Epoch 997/1000\n",
            "3/3 - 0s - loss: 0.0084 - accuracy: 1.0000 - val_loss: 0.0829 - val_accuracy: 0.9667\n",
            "Epoch 998/1000\n",
            "3/3 - 0s - loss: 0.0268 - accuracy: 0.9778 - val_loss: 0.0732 - val_accuracy: 0.9667\n",
            "Epoch 999/1000\n",
            "3/3 - 0s - loss: 0.0104 - accuracy: 1.0000 - val_loss: 0.0530 - val_accuracy: 0.9667\n",
            "Epoch 1000/1000\n",
            "3/3 - 0s - loss: 0.0284 - accuracy: 0.9889 - val_loss: 0.0304 - val_accuracy: 1.0000\n"
          ],
          "name": "stdout"
        }
      ]
    },
    {
      "cell_type": "code",
      "metadata": {
        "colab": {
          "base_uri": "https://localhost:8080/",
          "height": 279
        },
        "id": "OO5Lw4pdNwmd",
        "outputId": "9bfbdd16-a4f8-4d1c-e4ee-750300c6045c"
      },
      "source": [
        "%matplotlib inline\n",
        "import matplotlib.pyplot as plt\n",
        "\n",
        "fig, loss_ax = plt.subplots()\n",
        "\n",
        "acc_ax = loss_ax.twinx()\n",
        "\n",
        "loss_ax.plot(history2.history['loss'], 'y', label='train loss')\n",
        "loss_ax.plot(history2.history['val_loss'], 'r', label='val loss')\n",
        "\n",
        "acc_ax.plot(history2.history['accuracy'], 'b', label='train acc')\n",
        "acc_ax.plot(history2.history['val_accuracy'], 'g', label='val acc')\n",
        "\n",
        "loss_ax.set_xlabel('epoch')\n",
        "loss_ax.set_ylabel('loss')\n",
        "acc_ax.set_ylabel('accuray')\n",
        "\n",
        "loss_ax.legend(loc='lower right')\n",
        "acc_ax.legend(loc='upper right')\n",
        "plt.show()"
      ],
      "execution_count": null,
      "outputs": [
        {
          "output_type": "display_data",
          "data": {
            "image/png": "[encoded data removed]",
            "text/plain": [
              "<Figure size 432x288 with 2 Axes>"
            ]
          },
          "metadata": {
            "tags": [],
            "needs_background": "light"
          }
        }
      ]
    },
    {
      "cell_type": "code",
      "metadata": {
        "colab": {
          "base_uri": "https://localhost:8080/"
        },
        "id": "TQdIpspyNwmd",
        "outputId": "57fdf415-876e-4d31-e73d-f7d28602d1e1"
      },
      "source": [
        "loss_and_metrics = model2.evaluate(X_test, y_test)\n",
        "print('## 손실과 정확도 평가  ##')\n",
        "print(loss_and_metrics)"
      ],
      "execution_count": null,
      "outputs": [
        {
          "output_type": "stream",
          "text": [
            "1/1 [==============================] - 0s 15ms/step - loss: 0.4203 - accuracy: 0.9000\n",
            "## 손실과 정확도 평가  ##\n",
            "[0.4203338623046875, 0.8999999761581421]\n"
          ],
          "name": "stdout"
        }
      ]
    },
    {
      "cell_type": "code",
      "metadata": {
        "id": "eAGU2xWRNwme"
      },
      "source": [
        "#8.3.2 드롭아웃을 이용한 성능 최적화"
      ],
      "execution_count": null,
      "outputs": []
    },
    {
      "cell_type": "code",
      "metadata": {
        "id": "r0oamyIxNwme"
      },
      "source": [
        "import tensorflow_datasets as tfds\n",
        "import tensorflow as tf"
      ],
      "execution_count": null,
      "outputs": []
    },
    {
      "cell_type": "code",
      "metadata": {
        "colab": {
          "base_uri": "https://localhost:8080/",
          "height": 390,
          "referenced_widgets": [
            "35f778d3c8634bc38cbafa4be52dc116",
            "dafea8bdbe9b4dc8a959c6c662200e6d",
            "c34f29e0f89543f8af96cfaa00e7a328",
            "2230b4a2f4ec4a119121d8bdc3717fd1",
            "6c45e924ef304936bc52391a3fe5c9f3",
            "90c859de8ff143488b0154723113c188",
            "e6ee72ac08a547d8a6dedc4790ba0964",
            "2374c81953264d4eb70968324f6da71f",
            "746a909fff634588b42843c9eb4c4274",
            "b5dbe320f5b846a795ccbfc85da7e32b",
            "596cb816e1864ea1bb02e761f42a4c70",
            "fee5c1a40ab24c989f85d5458d948070",
            "d76fc346c4a740428d915e9e8fc256db",
            "b91fc50724d24e448a30200f2880b01f",
            "96c0cd3eed3f4f8fae15aeeb64079ed2",
            "48c70b343b11431db366df044b79ec19",
            "a4be88dab907491dbffc7321a622c811",
            "a4bc329440b844f5bccdc6a4d178744c",
            "00a7e2cc901f4f5fa3e7d65060dbf602",
            "baa248f2e50d4631952ac54fbaa93e07",
            "18b91ba49fdd40efbfcb5223edfd98bb",
            "0d5b9bca7f584c10a8d8688822d1333a",
            "acfbf3792d3d4a98921ded01fcb13605",
            "b7ae7b3bb4e94073ae2de4fd4909e93e",
            "ffe0c64c89e64273a7ddd7ad36b572f7",
            "932d977deb5043fabbecbaffc60b4440",
            "77947cf723ad45688597c26131e76764",
            "67d1c21623c547c6a230160b1aefd0b7",
            "83d676de53f34e89b87b4880d07bde28",
            "c12d5c6e5a714f9881acdd6bea8bfd88",
            "3cdf8d836f784c58a6b5a738f3445536",
            "c9eb753002d84db3bbecac627387a539",
            "d13f170a6d144a1680f2a9a8fe186327",
            "f7c84c801d7643b88230be18dcf7f713",
            "42637d4ebad44c448eb2ae14a00fa8ec",
            "2a35a25ef3f04221b1261a52b0466adb",
            "85964920bfa64ebba43e449f1e7790e6",
            "48972a623e044e0aabb51e6141ff46dc",
            "9c60e756dd534ec89825571d574fa842",
            "3c790f20cd9145e69eb714c2c7673895",
            "d920afa5307e4a8abbff45e9e6910267",
            "63b63c55bf334196a538770210f37299",
            "a73a4a5dbb034ef98128779c21c62ff9",
            "e5b931d56ab94d428c6d4b6bcefbd9a7",
            "5575e846fe114cfead58dba33d9defb6",
            "09257680659a4526bedab66e897033ae",
            "1033113f655b44388a847598abd77cf5",
            "eb8ec2f94a444f2ca7c761cb96acc484",
            "9c52b15ef6324f2085fcc48a46c9cf89",
            "e5f6fd2e2d9a4074876ec12c8c4ac9a3",
            "7a15d4806c9b41dbb96b8b887b72fde5",
            "65ab2d7058d244268d8c6b225a7a91e6",
            "30a9c8e8380f4c77a1aa7ac4c8831141",
            "70658405f84146278b772e2e45a4c203",
            "8cd5d8cb448541ed814498e36663444d",
            "d7047d54dd0c4812aca003e003285802",
            "08b646e596d9493c9cea41ab2f3082e1",
            "12b34e285d5b40b2849b9e2c76b5a03d",
            "bd7ac80927414c5e9aa6d03458394c5c",
            "3b18cf7976cf437eaa297aa3d73aea98",
            "905c48052acf444eb2eec0b803ccfeda",
            "e319b484635e4246a846fdaebdabbe39",
            "ad915c9e7ee24b7584bb4e87f508414d",
            "e7622e1a04024e8db60bf1f4ddd38347"
          ]
        },
        "id": "tKiULmYVNwme",
        "outputId": "38253f84-ce21-4617-9825-916a76a64c9a"
      },
      "source": [
        "(train_data, test_data), info = tfds.load(\n",
        "    'imdb_reviews/subwords8k', \n",
        "    split = (tfds.Split.TRAIN, tfds.Split.TEST), \n",
        "    with_info=True, as_supervised=True)\n",
        "padded_shapes = ([None],())\n",
        "train_batches = train_data.shuffle(1000).padded_batch(10, padded_shapes = padded_shapes)\n",
        "test_batches = test_data.shuffle(1000).padded_batch(10, padded_shapes = padded_shapes)"
      ],
      "execution_count": null,
      "outputs": [
        {
          "output_type": "stream",
          "text": [
            "WARNING:absl:TFDS datasets with text encoding are deprecated and will be removed in a future version. Instead, you should use the plain text version and tokenize the text using `tensorflow_text` (See: https://www.tensorflow.org/tutorials/tensorflow_text/intro#tfdata_example)\n"
          ],
          "name": "stderr"
        },
        {
          "output_type": "stream",
          "text": [
            "\u001b[1mDownloading and preparing dataset imdb_reviews/subwords8k/1.0.0 (download: 80.23 MiB, generated: Unknown size, total: 80.23 MiB) to /root/tensorflow_datasets/imdb_reviews/subwords8k/1.0.0...\u001b[0m\n"
          ],
          "name": "stdout"
        },
        {
          "output_type": "display_data",
          "data": {
            "application/vnd.jupyter.widget-view+json": {
              "model_id": "35f778d3c8634bc38cbafa4be52dc116",
              "version_minor": 0,
              "version_major": 2
            },
            "text/plain": [
              "HBox(children=(FloatProgress(value=1.0, bar_style='info', description='Dl Completed...', max=1.0, style=Progre…"
            ]
          },
          "metadata": {
            "tags": []
          }
        },
        {
          "output_type": "display_data",
          "data": {
            "application/vnd.jupyter.widget-view+json": {
              "model_id": "746a909fff634588b42843c9eb4c4274",
              "version_minor": 0,
              "version_major": 2
            },
            "text/plain": [
              "HBox(children=(FloatProgress(value=1.0, bar_style='info', description='Dl Size...', max=1.0, style=ProgressSty…"
            ]
          },
          "metadata": {
            "tags": []
          }
        },
        {
          "output_type": "stream",
          "text": [
            "\n",
            "\n",
            "\n",
            "\n"
          ],
          "name": "stdout"
        },
        {
          "output_type": "display_data",
          "data": {
            "application/vnd.jupyter.widget-view+json": {
              "model_id": "a4be88dab907491dbffc7321a622c811",
              "version_minor": 0,
              "version_major": 2
            },
            "text/plain": [
              "HBox(children=(FloatProgress(value=1.0, bar_style='info', max=1.0), HTML(value='')))"
            ]
          },
          "metadata": {
            "tags": []
          }
        },
        {
          "output_type": "stream",
          "text": [
            "\rShuffling and writing examples to /root/tensorflow_datasets/imdb_reviews/subwords8k/1.0.0.incomplete1OJWP2/imdb_reviews-train.tfrecord\n"
          ],
          "name": "stdout"
        },
        {
          "output_type": "display_data",
          "data": {
            "application/vnd.jupyter.widget-view+json": {
              "model_id": "ffe0c64c89e64273a7ddd7ad36b572f7",
              "version_minor": 0,
              "version_major": 2
            },
            "text/plain": [
              "HBox(children=(FloatProgress(value=0.0, max=25000.0), HTML(value='')))"
            ]
          },
          "metadata": {
            "tags": []
          }
        },
        {
          "output_type": "stream",
          "text": [
            "\r"
          ],
          "name": "stdout"
        },
        {
          "output_type": "display_data",
          "data": {
            "application/vnd.jupyter.widget-view+json": {
              "model_id": "d13f170a6d144a1680f2a9a8fe186327",
              "version_minor": 0,
              "version_major": 2
            },
            "text/plain": [
              "HBox(children=(FloatProgress(value=1.0, bar_style='info', max=1.0), HTML(value='')))"
            ]
          },
          "metadata": {
            "tags": []
          }
        },
        {
          "output_type": "stream",
          "text": [
            "\rShuffling and writing examples to /root/tensorflow_datasets/imdb_reviews/subwords8k/1.0.0.incomplete1OJWP2/imdb_reviews-test.tfrecord\n"
          ],
          "name": "stdout"
        },
        {
          "output_type": "display_data",
          "data": {
            "application/vnd.jupyter.widget-view+json": {
              "model_id": "d920afa5307e4a8abbff45e9e6910267",
              "version_minor": 0,
              "version_major": 2
            },
            "text/plain": [
              "HBox(children=(FloatProgress(value=0.0, max=25000.0), HTML(value='')))"
            ]
          },
          "metadata": {
            "tags": []
          }
        },
        {
          "output_type": "stream",
          "text": [
            "\r"
          ],
          "name": "stdout"
        },
        {
          "output_type": "display_data",
          "data": {
            "application/vnd.jupyter.widget-view+json": {
              "model_id": "9c52b15ef6324f2085fcc48a46c9cf89",
              "version_minor": 0,
              "version_major": 2
            },
            "text/plain": [
              "HBox(children=(FloatProgress(value=1.0, bar_style='info', max=1.0), HTML(value='')))"
            ]
          },
          "metadata": {
            "tags": []
          }
        },
        {
          "output_type": "stream",
          "text": [
            "\rShuffling and writing examples to /root/tensorflow_datasets/imdb_reviews/subwords8k/1.0.0.incomplete1OJWP2/imdb_reviews-unsupervised.tfrecord\n"
          ],
          "name": "stdout"
        },
        {
          "output_type": "display_data",
          "data": {
            "application/vnd.jupyter.widget-view+json": {
              "model_id": "08b646e596d9493c9cea41ab2f3082e1",
              "version_minor": 0,
              "version_major": 2
            },
            "text/plain": [
              "HBox(children=(FloatProgress(value=0.0, max=50000.0), HTML(value='')))"
            ]
          },
          "metadata": {
            "tags": []
          }
        },
        {
          "output_type": "stream",
          "text": [
            "WARNING:absl:Dataset is using deprecated text encoder API which will be removed soon. Please use the plain_text version of the dataset and migrate to `tensorflow_text`.\n"
          ],
          "name": "stderr"
        },
        {
          "output_type": "stream",
          "text": [
            "\u001b[1mDataset imdb_reviews downloaded and prepared to /root/tensorflow_datasets/imdb_reviews/subwords8k/1.0.0. Subsequent calls will reuse this data.\u001b[0m\n",
            "\r"
          ],
          "name": "stdout"
        }
      ]
    },
    {
      "cell_type": "code",
      "metadata": {
        "colab": {
          "base_uri": "https://localhost:8080/"
        },
        "id": "YdBABN37Nwme",
        "outputId": "539157cd-f302-432f-d8b0-2b979f9f4fa5"
      },
      "source": [
        "train_batch, train_labels = next(iter(train_batches))\n",
        "train_batch.numpy()"
      ],
      "execution_count": null,
      "outputs": [
        {
          "output_type": "execute_result",
          "data": {
            "text/plain": [
              "array([[  12,  109, 7968, ...,   14,   66, 7975],\n",
              "       [ 768, 5236, 2127, ...,    0,    0,    0],\n",
              "       [  19,  314,   18, ...,    0,    0,    0],\n",
              "       ...,\n",
              "       [ 373, 1669, 7748, ...,    0,    0,    0],\n",
              "       [1566, 2815, 7968, ...,    0,    0,    0],\n",
              "       [ 147,   41, 3330, ...,    0,    0,    0]])"
            ]
          },
          "metadata": {
            "tags": []
          },
          "execution_count": 19
        }
      ]
    },
    {
      "cell_type": "code",
      "metadata": {
        "id": "_lpiDPkdNwmf"
      },
      "source": [
        "#드롭아웃이 적용되지 않은 모델을 생성\n",
        "encoder = info.features['text'].encoder\n",
        "model = tf.keras.Sequential([\n",
        "tf.keras.layers.Embedding(encoder.vocab_size, 64),\n",
        "tf.keras.layers.LSTM(64),\n",
        "tf.keras.layers.Dense(64, activation='relu'),\n",
        "tf.keras.layers.Dense(1, activation='sigmoid')\n",
        "])"
      ],
      "execution_count": null,
      "outputs": []
    },
    {
      "cell_type": "code",
      "metadata": {
        "colab": {
          "base_uri": "https://localhost:8080/"
        },
        "id": "Ksi-jcdiNwmf",
        "outputId": "c5deaf05-cc3e-4eda-8234-0040c851389c"
      },
      "source": [
        "model.compile(loss='binary_crossentropy', \n",
        "              optimizer=tf.keras.optimizers.Adam(1e-4),metrics=['accuracy'])\n",
        "history = model.fit(train_batches, epochs=5, validation_data=test_batches, validation_steps=30)"
      ],
      "execution_count": null,
      "outputs": [
        {
          "output_type": "stream",
          "text": [
            "Epoch 1/5\n",
            "2500/2500 [==============================] - 88s 33ms/step - loss: 0.6932 - accuracy: 0.4975 - val_loss: 0.6910 - val_accuracy: 0.5200\n",
            "Epoch 2/5\n",
            "2500/2500 [==============================] - 82s 33ms/step - loss: 0.6907 - accuracy: 0.5089 - val_loss: 0.6925 - val_accuracy: 0.5133\n",
            "Epoch 3/5\n",
            "2500/2500 [==============================] - 83s 33ms/step - loss: 0.6851 - accuracy: 0.5245 - val_loss: 0.6786 - val_accuracy: 0.5267\n",
            "Epoch 4/5\n",
            "2500/2500 [==============================] - 83s 33ms/step - loss: 0.6658 - accuracy: 0.5435 - val_loss: 0.6654 - val_accuracy: 0.5433\n",
            "Epoch 5/5\n",
            "2500/2500 [==============================] - 83s 33ms/step - loss: 0.6671 - accuracy: 0.5397 - val_loss: 0.6701 - val_accuracy: 0.5233\n"
          ],
          "name": "stdout"
        }
      ]
    },
    {
      "cell_type": "code",
      "metadata": {
        "colab": {
          "base_uri": "https://localhost:8080/",
          "height": 465
        },
        "id": "U2Fp8QH-Nwmf",
        "outputId": "1160e55d-7d8f-47b4-dbd9-08815ef786b2"
      },
      "source": [
        "BUFFER_SIZE = 10000\n",
        "BATCH_SIZE = 64\n",
        "train_dataset = train_batches.shuffle(BUFFER_SIZE)\n",
        "import matplotlib.pyplot as plt\n",
        "history_dict = history.history\n",
        "acc = history_dict['accuracy']\n",
        "val_acc = history_dict['val_accuracy']\n",
        "loss = history_dict['loss']\n",
        "val_loss = history_dict['val_loss']\n",
        "epochs = range(1, len(acc) + 1)\n",
        "plt.figure(figsize=(4,3))\n",
        "plt.plot(epochs, loss, 'bo', label='Training loss')\n",
        "plt.plot(epochs, val_loss, 'b', label='Validation loss')\n",
        "plt.title('Training and validation loss')\n",
        "plt.xlabel('Epochs')\n",
        "plt.ylabel('Loss')\n",
        "plt.legend()\n",
        "plt.show()\n",
        "\n",
        "plt.figure(figsize=(4,3))\n",
        "plt.plot(epochs, acc, 'bo', label='Training acc')\n",
        "plt.plot(epochs, val_acc, 'b', label='Validation acc')\n",
        "plt.title('Training and validation accuracy')\n",
        "plt.xlabel('Epochs')\n",
        "plt.ylabel('Accuracy')\n",
        "plt.legend(loc='lower right')\n",
        "plt.ylim((0.5,1))\n",
        "plt.show()"
      ],
      "execution_count": null,
      "outputs": [
        {
          "output_type": "display_data",
          "data": {
            "image/png": "[encoded data removed]",
            "text/plain": [
              "<Figure size 288x216 with 1 Axes>"
            ]
          },
          "metadata": {
            "tags": [],
            "needs_background": "light"
          }
        },
        {
          "output_type": "display_data",
          "data": {
            "image/png": "[encoded data removed]",
            "text/plain": [
              "<Figure size 288x216 with 1 Axes>"
            ]
          },
          "metadata": {
            "tags": [],
            "needs_background": "light"
          }
        }
      ]
    },
    {
      "cell_type": "code",
      "metadata": {
        "colab": {
          "base_uri": "https://localhost:8080/"
        },
        "id": "pMynblvbNwmg",
        "outputId": "42425dca-844c-4a61-8bc9-66db3de60ab8"
      },
      "source": [
        "#성능 향상을 위해 LSTM 대신 Bidirectional RNN로 바꾸고 드롭아웃을 적용\n",
        "model = tf.keras.Sequential([\n",
        "tf.keras.layers.Embedding(encoder.vocab_size, 64),\n",
        "tf.keras.layers.Bidirectional(tf.keras.layers.LSTM(64, return_sequences=True)),\n",
        "tf.keras.layers.Bidirectional(tf.keras.layers.LSTM(32)),\n",
        "tf.keras.layers.Dense(64, activation='relu'),\n",
        "tf.keras.layers.Dropout(0.5),\n",
        "tf.keras.layers.Dense(1, activation='sigmoid')\n",
        "])\n",
        "model.summary()"
      ],
      "execution_count": null,
      "outputs": [
        {
          "output_type": "stream",
          "text": [
            "Model: \"sequential_3\"\n",
            "_________________________________________________________________\n",
            "Layer (type)                 Output Shape              Param #   \n",
            "=================================================================\n",
            "embedding_1 (Embedding)      (None, None, 64)          523840    \n",
            "_________________________________________________________________\n",
            "bidirectional (Bidirectional (None, None, 128)         66048     \n",
            "_________________________________________________________________\n",
            "bidirectional_1 (Bidirection (None, 64)                41216     \n",
            "_________________________________________________________________\n",
            "dense_14 (Dense)             (None, 64)                4160      \n",
            "_________________________________________________________________\n",
            "dropout (Dropout)            (None, 64)                0         \n",
            "_________________________________________________________________\n",
            "dense_15 (Dense)             (None, 1)                 65        \n",
            "=================================================================\n",
            "Total params: 635,329\n",
            "Trainable params: 635,329\n",
            "Non-trainable params: 0\n",
            "_________________________________________________________________\n"
          ],
          "name": "stdout"
        }
      ]
    },
    {
      "cell_type": "code",
      "metadata": {
        "colab": {
          "base_uri": "https://localhost:8080/"
        },
        "id": "CmB0-2KwNwmg",
        "outputId": "5179cd9d-f0fd-486f-cae4-fcc96e15230d"
      },
      "source": [
        "model.compile(loss='binary_crossentropy',          \n",
        "              optimizer=tf.keras.optimizers.Adam(1e-4),metrics=['accuracy'])\n",
        "history = model.fit(train_batches, epochs=5, validation_data=test_batches, validation_steps=30)"
      ],
      "execution_count": null,
      "outputs": [
        {
          "output_type": "stream",
          "text": [
            "Epoch 1/5\n",
            "2500/2500 [==============================] - 270s 106ms/step - loss: 0.6630 - accuracy: 0.5658 - val_loss: 0.5408 - val_accuracy: 0.7400\n",
            "Epoch 2/5\n",
            "2500/2500 [==============================] - 270s 108ms/step - loss: 0.3927 - accuracy: 0.8368 - val_loss: 0.3249 - val_accuracy: 0.8800\n",
            "Epoch 3/5\n",
            "2500/2500 [==============================] - 271s 108ms/step - loss: 0.2621 - accuracy: 0.9054 - val_loss: 0.3643 - val_accuracy: 0.8767\n",
            "Epoch 4/5\n",
            "2500/2500 [==============================] - 271s 108ms/step - loss: 0.2168 - accuracy: 0.9233 - val_loss: 0.3712 - val_accuracy: 0.8600\n",
            "Epoch 5/5\n",
            "2500/2500 [==============================] - 268s 107ms/step - loss: 0.1631 - accuracy: 0.9482 - val_loss: 0.3998 - val_accuracy: 0.8800\n"
          ],
          "name": "stdout"
        }
      ]
    },
    {
      "cell_type": "code",
      "metadata": {
        "colab": {
          "base_uri": "https://localhost:8080/",
          "height": 465
        },
        "id": "ecyh9uE6Nwmg",
        "outputId": "fd8a5cbe-800f-4deb-cbe1-c3d89d743253"
      },
      "source": [
        "BUFFER_SIZE = 10000\n",
        "BATCH_SIZE = 64\n",
        "train_dataset = train_batches.shuffle(BUFFER_SIZE)\n",
        "import matplotlib.pyplot as plt\n",
        "history_dict = history.history\n",
        "acc = history_dict['accuracy']\n",
        "val_acc = history_dict['val_accuracy']\n",
        "loss = history_dict['loss']\n",
        "val_loss = history_dict['val_loss']\n",
        "epochs = range(1, len(acc) + 1)\n",
        "plt.figure(figsize=(4,3))\n",
        "plt.plot(epochs, loss, 'bo', label='Training loss')\n",
        "plt.plot(epochs, val_loss, 'b', label='Validation loss')\n",
        "plt.title('Training and validation loss')\n",
        "plt.xlabel('Epochs')\n",
        "plt.ylabel('Loss')\n",
        "plt.legend()\n",
        "plt.show()\n",
        "\n",
        "plt.figure(figsize=(4,3))\n",
        "plt.plot(epochs, acc, 'bo', label='Training acc')\n",
        "plt.plot(epochs, val_acc, 'b', label='Validation acc')\n",
        "plt.title('Training and validation accuracy')\n",
        "plt.xlabel('Epochs')\n",
        "plt.ylabel('Accuracy')\n",
        "plt.legend(loc='lower right')\n",
        "plt.ylim((0.5,1))\n",
        "plt.show()"
      ],
      "execution_count": null,
      "outputs": [
        {
          "output_type": "display_data",
          "data": {
            "image/png": "[encoded data removed]",
            "text/plain": [
              "<Figure size 288x216 with 1 Axes>"
            ]
          },
          "metadata": {
            "tags": [],
            "needs_background": "light"
          }
        },
        {
          "output_type": "display_data",
          "data": {
            "image/png": "[encoded data removed]",
            "text/plain": [
              "<Figure size 288x216 with 1 Axes>"
            ]
          },
          "metadata": {
            "tags": [],
            "needs_background": "light"
          }
        }
      ]
    },
    {
      "cell_type": "code",
      "metadata": {
        "colab": {
          "base_uri": "https://localhost:8080/"
        },
        "id": "IfCft-ZlNwmh",
        "outputId": "88fc43cf-d5dc-4842-c48e-00a892dcaaed"
      },
      "source": [
        "#드롭아웃은 제거하고, Bidirectional RNN만 적용했을 때\n",
        "model = tf.keras.Sequential([\n",
        "    tf.keras.layers.Embedding(encoder.vocab_size, 64),\n",
        "    tf.keras.layers.Bidirectional(tf.keras.layers.LSTM(64)),\n",
        "    tf.keras.layers.Dense(64, activation='relu'),\n",
        "    tf.keras.layers.Dense(1, activation='sigmoid')\n",
        "])\n",
        "model.summary()"
      ],
      "execution_count": null,
      "outputs": [
        {
          "output_type": "stream",
          "text": [
            "Model: \"sequential_4\"\n",
            "_________________________________________________________________\n",
            "Layer (type)                 Output Shape              Param #   \n",
            "=================================================================\n",
            "embedding_2 (Embedding)      (None, None, 64)          523840    \n",
            "_________________________________________________________________\n",
            "bidirectional_2 (Bidirection (None, 128)               66048     \n",
            "_________________________________________________________________\n",
            "dense_16 (Dense)             (None, 64)                8256      \n",
            "_________________________________________________________________\n",
            "dense_17 (Dense)             (None, 1)                 65        \n",
            "=================================================================\n",
            "Total params: 598,209\n",
            "Trainable params: 598,209\n",
            "Non-trainable params: 0\n",
            "_________________________________________________________________\n"
          ],
          "name": "stdout"
        }
      ]
    },
    {
      "cell_type": "code",
      "metadata": {
        "colab": {
          "base_uri": "https://localhost:8080/"
        },
        "id": "zkahWZ-YNwmh",
        "outputId": "0e1d3c5e-46f3-401c-8fcb-6ed005fe722b"
      },
      "source": [
        "model.compile(loss='binary_crossentropy',          \n",
        "              optimizer=tf.keras.optimizers.Adam(1e-4),metrics=['accuracy'])\n",
        "history = model.fit(train_batches, epochs=5, validation_data=test_batches, validation_steps=30)"
      ],
      "execution_count": null,
      "outputs": [
        {
          "output_type": "stream",
          "text": [
            "Epoch 1/5\n",
            "2500/2500 [==============================] - 149s 59ms/step - loss: 0.6060 - accuracy: 0.6138 - val_loss: 0.3224 - val_accuracy: 0.8800\n",
            "Epoch 2/5\n",
            "2500/2500 [==============================] - 145s 58ms/step - loss: 0.3149 - accuracy: 0.8781 - val_loss: 0.3968 - val_accuracy: 0.8667\n",
            "Epoch 3/5\n",
            "2500/2500 [==============================] - 146s 58ms/step - loss: 0.2438 - accuracy: 0.9094 - val_loss: 0.3759 - val_accuracy: 0.8533\n",
            "Epoch 4/5\n",
            "2500/2500 [==============================] - 145s 58ms/step - loss: 0.2156 - accuracy: 0.9228 - val_loss: 0.3674 - val_accuracy: 0.8600\n",
            "Epoch 5/5\n",
            "2500/2500 [==============================] - 145s 58ms/step - loss: 0.1806 - accuracy: 0.9387 - val_loss: 0.3895 - val_accuracy: 0.8500\n"
          ],
          "name": "stdout"
        }
      ]
    },
    {
      "cell_type": "code",
      "metadata": {
        "colab": {
          "base_uri": "https://localhost:8080/",
          "height": 465
        },
        "id": "jcTvgVXENwmi",
        "outputId": "4f2b8d8b-1820-4484-b913-59825ca9fd14"
      },
      "source": [
        "BUFFER_SIZE = 10000\n",
        "BATCH_SIZE = 64\n",
        "train_dataset = train_batches.shuffle(BUFFER_SIZE)\n",
        "import matplotlib.pyplot as plt\n",
        "history_dict = history.history\n",
        "acc = history_dict['accuracy']\n",
        "val_acc = history_dict['val_accuracy']\n",
        "loss = history_dict['loss']\n",
        "val_loss = history_dict['val_loss']\n",
        "epochs = range(1, len(acc) + 1)\n",
        "plt.figure(figsize=(4,3))\n",
        "plt.plot(epochs, loss, 'bo', label='Training loss')\n",
        "plt.plot(epochs, val_loss, 'b', label='Validation loss')\n",
        "plt.title('Training and validation loss')\n",
        "plt.xlabel('Epochs')\n",
        "plt.ylabel('Loss')\n",
        "plt.legend()\n",
        "plt.show()\n",
        "\n",
        "plt.figure(figsize=(4,3))\n",
        "plt.plot(epochs, acc, 'bo', label='Training acc')\n",
        "plt.plot(epochs, val_acc, 'b', label='Validation acc')\n",
        "plt.title('Training and validation accuracy')\n",
        "plt.xlabel('Epochs')\n",
        "plt.ylabel('Accuracy')\n",
        "plt.legend(loc='lower right')\n",
        "plt.ylim((0.5,1))\n",
        "plt.show()"
      ],
      "execution_count": null,
      "outputs": [
        {
          "output_type": "display_data",
          "data": {
            "image/png": "[encoded data removed]",
            "text/plain": [
              "<Figure size 288x216 with 1 Axes>"
            ]
          },
          "metadata": {
            "tags": [],
            "needs_background": "light"
          }
        },
        {
          "output_type": "display_data",
          "data": {
            "image/png": "[encoded data removed]",
            "text/plain": [
              "<Figure size 288x216 with 1 Axes>"
            ]
          },
          "metadata": {
            "tags": [],
            "needs_background": "light"
          }
        }
      ]
    },
    {
      "cell_type": "code",
      "metadata": {
        "id": "-HRNYA8WNwmi"
      },
      "source": [
        "#8.3.3 조기 종료를 이용한 성능 최적화\n",
        "from tensorflow.keras.preprocessing import sequence\n",
        "from tensorflow.keras.models import Sequential\n",
        "from tensorflow.keras.layers import Dense, Dropout, Activation\n",
        "from tensorflow.keras.layers import Embedding\n",
        "from tensorflow.keras.layers import Conv1D, GlobalMaxPooling1D\n",
        "from tensorflow.keras.datasets import imdb\n",
        "import tensorflow as tf\n",
        "import numpy as np"
      ],
      "execution_count": null,
      "outputs": []
    },
    {
      "cell_type": "code",
      "metadata": {
        "id": "8fFO6C0rNwmj"
      },
      "source": [
        "max_features = 5000\n",
        "maxlen = 400\n",
        "batch_size = 32\n",
        "embedding_dims = 50\n",
        "filters = 250\n",
        "kernel_size = 3\n",
        "hidden_dims = 250\n",
        "epochs = 300\n",
        "np.random.seed(7)"
      ],
      "execution_count": null,
      "outputs": []
    },
    {
      "cell_type": "code",
      "metadata": {
        "id": "9ATNB49FNwmj"
      },
      "source": [
        "import os\n",
        "checkpoint_path = \"training_1/cp.ckpt\"\n",
        "checkpoint_dir = os.path.dirname(checkpoint_path)\n",
        "\n",
        "cp_callback = tf.keras.callbacks.ModelCheckpoint(filepath=checkpoint_path,verbose=1)"
      ],
      "execution_count": null,
      "outputs": []
    },
    {
      "cell_type": "code",
      "metadata": {
        "colab": {
          "base_uri": "https://localhost:8080/"
        },
        "id": "-Ghi1mQCNwmj",
        "outputId": "ef6bea83-e97c-4bff-a959-69403777c26a"
      },
      "source": [
        "(x_train, y_train), (x_test, y_test) = imdb.load_data(num_words=max_features)\n",
        "x_train = sequence.pad_sequences(x_train, maxlen=maxlen)\n",
        "x_test = sequence.pad_sequences(x_test, maxlen=maxlen)"
      ],
      "execution_count": null,
      "outputs": [
        {
          "output_type": "stream",
          "text": [
            "Downloading data from https://storage.googleapis.com/tensorflow/tf-keras-datasets/imdb.npz\n",
            "17465344/17464789 [==============================] - 1s 0us/step\n"
          ],
          "name": "stdout"
        },
        {
          "output_type": "stream",
          "text": [
            "<string>:6: VisibleDeprecationWarning: Creating an ndarray from ragged nested sequences (which is a list-or-tuple of lists-or-tuples-or ndarrays with different lengths or shapes) is deprecated. If you meant to do this, you must specify 'dtype=object' when creating the ndarray\n",
            "/usr/local/lib/python3.7/dist-packages/tensorflow/python/keras/datasets/imdb.py:159: VisibleDeprecationWarning: Creating an ndarray from ragged nested sequences (which is a list-or-tuple of lists-or-tuples-or ndarrays with different lengths or shapes) is deprecated. If you meant to do this, you must specify 'dtype=object' when creating the ndarray\n",
            "  x_train, y_train = np.array(xs[:idx]), np.array(labels[:idx])\n",
            "/usr/local/lib/python3.7/dist-packages/tensorflow/python/keras/datasets/imdb.py:160: VisibleDeprecationWarning: Creating an ndarray from ragged nested sequences (which is a list-or-tuple of lists-or-tuples-or ndarrays with different lengths or shapes) is deprecated. If you meant to do this, you must specify 'dtype=object' when creating the ndarray\n",
            "  x_test, y_test = np.array(xs[idx:]), np.array(labels[idx:])\n"
          ],
          "name": "stderr"
        }
      ]
    },
    {
      "cell_type": "code",
      "metadata": {
        "colab": {
          "base_uri": "https://localhost:8080/"
        },
        "id": "Z2UY3wA7Nwmj",
        "outputId": "f91f7004-4b92-45bc-e6bd-8cf9371646e4"
      },
      "source": [
        "# 조기종료를 적용하지 않은 모델\n",
        "model = Sequential()\n",
        "model.add(Embedding(max_features,\n",
        "                    embedding_dims,\n",
        "                    input_length=maxlen))\n",
        "model.add(Dropout(0.2))\n",
        "model.add(Conv1D(filters,\n",
        "                 kernel_size,\n",
        "                 padding='valid',\n",
        "                 activation='relu',\n",
        "                 strides=1))\n",
        "model.add(GlobalMaxPooling1D())\n",
        "model.add(Dense(hidden_dims))\n",
        "model.add(Dropout(0.2))\n",
        "model.add(Activation('relu'))\n",
        "model.add(Dense(1))\n",
        "model.add(Activation('sigmoid'))\n",
        "model.summary()"
      ],
      "execution_count": null,
      "outputs": [
        {
          "output_type": "stream",
          "text": [
            "Model: \"sequential_5\"\n",
            "_________________________________________________________________\n",
            "Layer (type)                 Output Shape              Param #   \n",
            "=================================================================\n",
            "embedding_3 (Embedding)      (None, 400, 50)           250000    \n",
            "_________________________________________________________________\n",
            "dropout_1 (Dropout)          (None, 400, 50)           0         \n",
            "_________________________________________________________________\n",
            "conv1d (Conv1D)              (None, 398, 250)          37750     \n",
            "_________________________________________________________________\n",
            "global_max_pooling1d (Global (None, 250)               0         \n",
            "_________________________________________________________________\n",
            "dense_18 (Dense)             (None, 250)               62750     \n",
            "_________________________________________________________________\n",
            "dropout_2 (Dropout)          (None, 250)               0         \n",
            "_________________________________________________________________\n",
            "activation (Activation)      (None, 250)               0         \n",
            "_________________________________________________________________\n",
            "dense_19 (Dense)             (None, 1)                 251       \n",
            "_________________________________________________________________\n",
            "activation_1 (Activation)    (None, 1)                 0         \n",
            "=================================================================\n",
            "Total params: 350,751\n",
            "Trainable params: 350,751\n",
            "Non-trainable params: 0\n",
            "_________________________________________________________________\n"
          ],
          "name": "stdout"
        }
      ]
    },
    {
      "cell_type": "code",
      "metadata": {
        "colab": {
          "base_uri": "https://localhost:8080/"
        },
        "id": "vUPF2V74Nwmk",
        "outputId": "e14c3e93-3ff3-4c36-a287-ae5e05392783"
      },
      "source": [
        "model.compile(loss='binary_crossentropy',\n",
        "              optimizer='adam',\n",
        "              metrics=['accuracy'])\n",
        "\n",
        "model.fit(x_train, y_train,\n",
        "          batch_size=batch_size,\n",
        "          epochs=epochs,\n",
        "          validation_split=0.2,\n",
        "          callbacks=[cp_callback])"
      ],
      "execution_count": null,
      "outputs": [
        {
          "output_type": "stream",
          "text": [
            "Epoch 1/300\n",
            "625/625 [==============================] - 6s 8ms/step - loss: 0.5477 - accuracy: 0.6826 - val_loss: 0.2839 - val_accuracy: 0.8816\n",
            "\n",
            "Epoch 00001: saving model to training_1/cp.ckpt\n",
            "INFO:tensorflow:Assets written to: training_1/cp.ckpt/assets\n"
          ],
          "name": "stdout"
        },
        {
          "output_type": "stream",
          "text": [
            "INFO:tensorflow:Assets written to: training_1/cp.ckpt/assets\n"
          ],
          "name": "stderr"
        },
        {
          "output_type": "stream",
          "text": [
            "Epoch 2/300\n",
            "625/625 [==============================] - 5s 8ms/step - loss: 0.2407 - accuracy: 0.9017 - val_loss: 0.2654 - val_accuracy: 0.8954\n",
            "\n",
            "Epoch 00002: saving model to training_1/cp.ckpt\n",
            "INFO:tensorflow:Assets written to: training_1/cp.ckpt/assets\n"
          ],
          "name": "stdout"
        },
        {
          "output_type": "stream",
          "text": [
            "INFO:tensorflow:Assets written to: training_1/cp.ckpt/assets\n"
          ],
          "name": "stderr"
        },
        {
          "output_type": "stream",
          "text": [
            "Epoch 3/300\n",
            "625/625 [==============================] - 5s 8ms/step - loss: 0.1509 - accuracy: 0.9450 - val_loss: 0.2816 - val_accuracy: 0.8928\n",
            "\n",
            "Epoch 00003: saving model to training_1/cp.ckpt\n",
            "INFO:tensorflow:Assets written to: training_1/cp.ckpt/assets\n"
          ],
          "name": "stdout"
        },
        {
          "output_type": "stream",
          "text": [
            "INFO:tensorflow:Assets written to: training_1/cp.ckpt/assets\n"
          ],
          "name": "stderr"
        },
        {
          "output_type": "stream",
          "text": [
            "Epoch 4/300\n",
            "625/625 [==============================] - 5s 8ms/step - loss: 0.0987 - accuracy: 0.9663 - val_loss: 0.3087 - val_accuracy: 0.8898\n",
            "\n",
            "Epoch 00004: saving model to training_1/cp.ckpt\n",
            "INFO:tensorflow:Assets written to: training_1/cp.ckpt/assets\n"
          ],
          "name": "stdout"
        },
        {
          "output_type": "stream",
          "text": [
            "INFO:tensorflow:Assets written to: training_1/cp.ckpt/assets\n"
          ],
          "name": "stderr"
        },
        {
          "output_type": "stream",
          "text": [
            "Epoch 5/300\n",
            "625/625 [==============================] - 5s 8ms/step - loss: 0.0613 - accuracy: 0.9772 - val_loss: 0.3714 - val_accuracy: 0.8878\n",
            "\n",
            "Epoch 00005: saving model to training_1/cp.ckpt\n",
            "INFO:tensorflow:Assets written to: training_1/cp.ckpt/assets\n"
          ],
          "name": "stdout"
        },
        {
          "output_type": "stream",
          "text": [
            "INFO:tensorflow:Assets written to: training_1/cp.ckpt/assets\n"
          ],
          "name": "stderr"
        },
        {
          "output_type": "stream",
          "text": [
            "Epoch 6/300\n",
            "625/625 [==============================] - 5s 8ms/step - loss: 0.0415 - accuracy: 0.9848 - val_loss: 0.4176 - val_accuracy: 0.8848\n",
            "\n",
            "Epoch 00006: saving model to training_1/cp.ckpt\n",
            "INFO:tensorflow:Assets written to: training_1/cp.ckpt/assets\n"
          ],
          "name": "stdout"
        },
        {
          "output_type": "stream",
          "text": [
            "INFO:tensorflow:Assets written to: training_1/cp.ckpt/assets\n"
          ],
          "name": "stderr"
        },
        {
          "output_type": "stream",
          "text": [
            "Epoch 7/300\n",
            "625/625 [==============================] - 5s 8ms/step - loss: 0.0376 - accuracy: 0.9869 - val_loss: 0.4568 - val_accuracy: 0.8848\n",
            "\n",
            "Epoch 00007: saving model to training_1/cp.ckpt\n",
            "INFO:tensorflow:Assets written to: training_1/cp.ckpt/assets\n"
          ],
          "name": "stdout"
        },
        {
          "output_type": "stream",
          "text": [
            "INFO:tensorflow:Assets written to: training_1/cp.ckpt/assets\n"
          ],
          "name": "stderr"
        },
        {
          "output_type": "stream",
          "text": [
            "Epoch 8/300\n",
            "625/625 [==============================] - 5s 8ms/step - loss: 0.0326 - accuracy: 0.9886 - val_loss: 0.5132 - val_accuracy: 0.8818\n",
            "\n",
            "Epoch 00008: saving model to training_1/cp.ckpt\n",
            "INFO:tensorflow:Assets written to: training_1/cp.ckpt/assets\n"
          ],
          "name": "stdout"
        },
        {
          "output_type": "stream",
          "text": [
            "INFO:tensorflow:Assets written to: training_1/cp.ckpt/assets\n"
          ],
          "name": "stderr"
        },
        {
          "output_type": "stream",
          "text": [
            "Epoch 9/300\n",
            "625/625 [==============================] - 5s 8ms/step - loss: 0.0238 - accuracy: 0.9924 - val_loss: 0.5298 - val_accuracy: 0.8838\n",
            "\n",
            "Epoch 00009: saving model to training_1/cp.ckpt\n",
            "INFO:tensorflow:Assets written to: training_1/cp.ckpt/assets\n"
          ],
          "name": "stdout"
        },
        {
          "output_type": "stream",
          "text": [
            "INFO:tensorflow:Assets written to: training_1/cp.ckpt/assets\n"
          ],
          "name": "stderr"
        },
        {
          "output_type": "stream",
          "text": [
            "Epoch 10/300\n",
            "625/625 [==============================] - 5s 8ms/step - loss: 0.0234 - accuracy: 0.9913 - val_loss: 0.6329 - val_accuracy: 0.8652\n",
            "\n",
            "Epoch 00010: saving model to training_1/cp.ckpt\n",
            "INFO:tensorflow:Assets written to: training_1/cp.ckpt/assets\n"
          ],
          "name": "stdout"
        },
        {
          "output_type": "stream",
          "text": [
            "INFO:tensorflow:Assets written to: training_1/cp.ckpt/assets\n"
          ],
          "name": "stderr"
        },
        {
          "output_type": "stream",
          "text": [
            "Epoch 11/300\n",
            "625/625 [==============================] - 5s 8ms/step - loss: 0.0315 - accuracy: 0.9878 - val_loss: 0.6002 - val_accuracy: 0.8738\n",
            "\n",
            "Epoch 00011: saving model to training_1/cp.ckpt\n",
            "INFO:tensorflow:Assets written to: training_1/cp.ckpt/assets\n"
          ],
          "name": "stdout"
        },
        {
          "output_type": "stream",
          "text": [
            "INFO:tensorflow:Assets written to: training_1/cp.ckpt/assets\n"
          ],
          "name": "stderr"
        },
        {
          "output_type": "stream",
          "text": [
            "Epoch 12/300\n",
            "625/625 [==============================] - 5s 8ms/step - loss: 0.0232 - accuracy: 0.9923 - val_loss: 0.5722 - val_accuracy: 0.8832\n",
            "\n",
            "Epoch 00012: saving model to training_1/cp.ckpt\n",
            "INFO:tensorflow:Assets written to: training_1/cp.ckpt/assets\n"
          ],
          "name": "stdout"
        },
        {
          "output_type": "stream",
          "text": [
            "INFO:tensorflow:Assets written to: training_1/cp.ckpt/assets\n"
          ],
          "name": "stderr"
        },
        {
          "output_type": "stream",
          "text": [
            "Epoch 13/300\n",
            "625/625 [==============================] - 5s 8ms/step - loss: 0.0183 - accuracy: 0.9934 - val_loss: 0.6033 - val_accuracy: 0.8842\n",
            "\n",
            "Epoch 00013: saving model to training_1/cp.ckpt\n",
            "INFO:tensorflow:Assets written to: training_1/cp.ckpt/assets\n"
          ],
          "name": "stdout"
        },
        {
          "output_type": "stream",
          "text": [
            "INFO:tensorflow:Assets written to: training_1/cp.ckpt/assets\n"
          ],
          "name": "stderr"
        },
        {
          "output_type": "stream",
          "text": [
            "Epoch 14/300\n",
            "625/625 [==============================] - 5s 8ms/step - loss: 0.0209 - accuracy: 0.9930 - val_loss: 0.5517 - val_accuracy: 0.8862\n",
            "\n",
            "Epoch 00014: saving model to training_1/cp.ckpt\n",
            "INFO:tensorflow:Assets written to: training_1/cp.ckpt/assets\n"
          ],
          "name": "stdout"
        },
        {
          "output_type": "stream",
          "text": [
            "INFO:tensorflow:Assets written to: training_1/cp.ckpt/assets\n"
          ],
          "name": "stderr"
        },
        {
          "output_type": "stream",
          "text": [
            "Epoch 15/300\n",
            "625/625 [==============================] - 5s 8ms/step - loss: 0.0138 - accuracy: 0.9950 - val_loss: 0.6198 - val_accuracy: 0.8852\n",
            "\n",
            "Epoch 00015: saving model to training_1/cp.ckpt\n",
            "INFO:tensorflow:Assets written to: training_1/cp.ckpt/assets\n"
          ],
          "name": "stdout"
        },
        {
          "output_type": "stream",
          "text": [
            "INFO:tensorflow:Assets written to: training_1/cp.ckpt/assets\n"
          ],
          "name": "stderr"
        },
        {
          "output_type": "stream",
          "text": [
            "Epoch 16/300\n",
            "625/625 [==============================] - 5s 8ms/step - loss: 0.0148 - accuracy: 0.9938 - val_loss: 0.6451 - val_accuracy: 0.8832\n",
            "\n",
            "Epoch 00016: saving model to training_1/cp.ckpt\n",
            "INFO:tensorflow:Assets written to: training_1/cp.ckpt/assets\n"
          ],
          "name": "stdout"
        },
        {
          "output_type": "stream",
          "text": [
            "INFO:tensorflow:Assets written to: training_1/cp.ckpt/assets\n"
          ],
          "name": "stderr"
        },
        {
          "output_type": "stream",
          "text": [
            "Epoch 17/300\n",
            "625/625 [==============================] - 5s 8ms/step - loss: 0.0164 - accuracy: 0.9940 - val_loss: 0.6038 - val_accuracy: 0.8898\n",
            "\n",
            "Epoch 00017: saving model to training_1/cp.ckpt\n",
            "INFO:tensorflow:Assets written to: training_1/cp.ckpt/assets\n"
          ],
          "name": "stdout"
        },
        {
          "output_type": "stream",
          "text": [
            "INFO:tensorflow:Assets written to: training_1/cp.ckpt/assets\n"
          ],
          "name": "stderr"
        },
        {
          "output_type": "stream",
          "text": [
            "Epoch 18/300\n",
            "625/625 [==============================] - 5s 8ms/step - loss: 0.0159 - accuracy: 0.9948 - val_loss: 0.6762 - val_accuracy: 0.8752\n",
            "\n",
            "Epoch 00018: saving model to training_1/cp.ckpt\n",
            "INFO:tensorflow:Assets written to: training_1/cp.ckpt/assets\n"
          ],
          "name": "stdout"
        },
        {
          "output_type": "stream",
          "text": [
            "INFO:tensorflow:Assets written to: training_1/cp.ckpt/assets\n"
          ],
          "name": "stderr"
        },
        {
          "output_type": "stream",
          "text": [
            "Epoch 19/300\n",
            "625/625 [==============================] - 5s 8ms/step - loss: 0.0137 - accuracy: 0.9948 - val_loss: 0.6322 - val_accuracy: 0.8860\n",
            "\n",
            "Epoch 00019: saving model to training_1/cp.ckpt\n",
            "INFO:tensorflow:Assets written to: training_1/cp.ckpt/assets\n"
          ],
          "name": "stdout"
        },
        {
          "output_type": "stream",
          "text": [
            "INFO:tensorflow:Assets written to: training_1/cp.ckpt/assets\n"
          ],
          "name": "stderr"
        },
        {
          "output_type": "stream",
          "text": [
            "Epoch 20/300\n",
            "625/625 [==============================] - 5s 8ms/step - loss: 0.0146 - accuracy: 0.9947 - val_loss: 0.6452 - val_accuracy: 0.8878\n",
            "\n",
            "Epoch 00020: saving model to training_1/cp.ckpt\n",
            "INFO:tensorflow:Assets written to: training_1/cp.ckpt/assets\n"
          ],
          "name": "stdout"
        },
        {
          "output_type": "stream",
          "text": [
            "INFO:tensorflow:Assets written to: training_1/cp.ckpt/assets\n"
          ],
          "name": "stderr"
        },
        {
          "output_type": "stream",
          "text": [
            "Epoch 21/300\n",
            "625/625 [==============================] - 5s 8ms/step - loss: 0.0135 - accuracy: 0.9952 - val_loss: 0.6728 - val_accuracy: 0.8828\n",
            "\n",
            "Epoch 00021: saving model to training_1/cp.ckpt\n",
            "INFO:tensorflow:Assets written to: training_1/cp.ckpt/assets\n"
          ],
          "name": "stdout"
        },
        {
          "output_type": "stream",
          "text": [
            "INFO:tensorflow:Assets written to: training_1/cp.ckpt/assets\n"
          ],
          "name": "stderr"
        },
        {
          "output_type": "stream",
          "text": [
            "Epoch 22/300\n",
            "625/625 [==============================] - 5s 8ms/step - loss: 0.0128 - accuracy: 0.9957 - val_loss: 0.7471 - val_accuracy: 0.8752\n",
            "\n",
            "Epoch 00022: saving model to training_1/cp.ckpt\n",
            "INFO:tensorflow:Assets written to: training_1/cp.ckpt/assets\n"
          ],
          "name": "stdout"
        },
        {
          "output_type": "stream",
          "text": [
            "INFO:tensorflow:Assets written to: training_1/cp.ckpt/assets\n"
          ],
          "name": "stderr"
        },
        {
          "output_type": "stream",
          "text": [
            "Epoch 23/300\n",
            "625/625 [==============================] - 5s 8ms/step - loss: 0.0119 - accuracy: 0.9960 - val_loss: 0.6452 - val_accuracy: 0.8854\n",
            "\n",
            "Epoch 00023: saving model to training_1/cp.ckpt\n",
            "INFO:tensorflow:Assets written to: training_1/cp.ckpt/assets\n"
          ],
          "name": "stdout"
        },
        {
          "output_type": "stream",
          "text": [
            "INFO:tensorflow:Assets written to: training_1/cp.ckpt/assets\n"
          ],
          "name": "stderr"
        },
        {
          "output_type": "stream",
          "text": [
            "Epoch 24/300\n",
            "625/625 [==============================] - 5s 8ms/step - loss: 0.0116 - accuracy: 0.9963 - val_loss: 0.6576 - val_accuracy: 0.8794\n",
            "\n",
            "Epoch 00024: saving model to training_1/cp.ckpt\n",
            "INFO:tensorflow:Assets written to: training_1/cp.ckpt/assets\n"
          ],
          "name": "stdout"
        },
        {
          "output_type": "stream",
          "text": [
            "INFO:tensorflow:Assets written to: training_1/cp.ckpt/assets\n"
          ],
          "name": "stderr"
        },
        {
          "output_type": "stream",
          "text": [
            "Epoch 25/300\n",
            "625/625 [==============================] - 5s 8ms/step - loss: 0.0120 - accuracy: 0.9955 - val_loss: 0.7974 - val_accuracy: 0.8858\n",
            "\n",
            "Epoch 00025: saving model to training_1/cp.ckpt\n",
            "INFO:tensorflow:Assets written to: training_1/cp.ckpt/assets\n"
          ],
          "name": "stdout"
        },
        {
          "output_type": "stream",
          "text": [
            "INFO:tensorflow:Assets written to: training_1/cp.ckpt/assets\n"
          ],
          "name": "stderr"
        },
        {
          "output_type": "stream",
          "text": [
            "Epoch 26/300\n",
            "625/625 [==============================] - 5s 8ms/step - loss: 0.0084 - accuracy: 0.9968 - val_loss: 0.8814 - val_accuracy: 0.8710\n",
            "\n",
            "Epoch 00026: saving model to training_1/cp.ckpt\n",
            "INFO:tensorflow:Assets written to: training_1/cp.ckpt/assets\n"
          ],
          "name": "stdout"
        },
        {
          "output_type": "stream",
          "text": [
            "INFO:tensorflow:Assets written to: training_1/cp.ckpt/assets\n"
          ],
          "name": "stderr"
        },
        {
          "output_type": "stream",
          "text": [
            "Epoch 27/300\n",
            "625/625 [==============================] - 5s 8ms/step - loss: 0.0125 - accuracy: 0.9954 - val_loss: 0.6572 - val_accuracy: 0.8810\n",
            "\n",
            "Epoch 00027: saving model to training_1/cp.ckpt\n",
            "INFO:tensorflow:Assets written to: training_1/cp.ckpt/assets\n"
          ],
          "name": "stdout"
        },
        {
          "output_type": "stream",
          "text": [
            "INFO:tensorflow:Assets written to: training_1/cp.ckpt/assets\n"
          ],
          "name": "stderr"
        },
        {
          "output_type": "stream",
          "text": [
            "Epoch 28/300\n",
            "625/625 [==============================] - 5s 8ms/step - loss: 0.0098 - accuracy: 0.9966 - val_loss: 0.6240 - val_accuracy: 0.8822\n",
            "\n",
            "Epoch 00028: saving model to training_1/cp.ckpt\n",
            "INFO:tensorflow:Assets written to: training_1/cp.ckpt/assets\n"
          ],
          "name": "stdout"
        },
        {
          "output_type": "stream",
          "text": [
            "INFO:tensorflow:Assets written to: training_1/cp.ckpt/assets\n"
          ],
          "name": "stderr"
        },
        {
          "output_type": "stream",
          "text": [
            "Epoch 29/300\n",
            "625/625 [==============================] - 5s 8ms/step - loss: 0.0095 - accuracy: 0.9963 - val_loss: 0.8248 - val_accuracy: 0.8788\n",
            "\n",
            "Epoch 00029: saving model to training_1/cp.ckpt\n",
            "INFO:tensorflow:Assets written to: training_1/cp.ckpt/assets\n"
          ],
          "name": "stdout"
        },
        {
          "output_type": "stream",
          "text": [
            "INFO:tensorflow:Assets written to: training_1/cp.ckpt/assets\n"
          ],
          "name": "stderr"
        },
        {
          "output_type": "stream",
          "text": [
            "Epoch 30/300\n",
            "625/625 [==============================] - 5s 8ms/step - loss: 0.0102 - accuracy: 0.9962 - val_loss: 0.8341 - val_accuracy: 0.8816\n",
            "\n",
            "Epoch 00030: saving model to training_1/cp.ckpt\n",
            "INFO:tensorflow:Assets written to: training_1/cp.ckpt/assets\n"
          ],
          "name": "stdout"
        },
        {
          "output_type": "stream",
          "text": [
            "INFO:tensorflow:Assets written to: training_1/cp.ckpt/assets\n"
          ],
          "name": "stderr"
        },
        {
          "output_type": "stream",
          "text": [
            "Epoch 31/300\n",
            "625/625 [==============================] - 5s 8ms/step - loss: 0.0132 - accuracy: 0.9958 - val_loss: 0.7032 - val_accuracy: 0.8852\n",
            "\n",
            "Epoch 00031: saving model to training_1/cp.ckpt\n",
            "INFO:tensorflow:Assets written to: training_1/cp.ckpt/assets\n"
          ],
          "name": "stdout"
        },
        {
          "output_type": "stream",
          "text": [
            "INFO:tensorflow:Assets written to: training_1/cp.ckpt/assets\n"
          ],
          "name": "stderr"
        },
        {
          "output_type": "stream",
          "text": [
            "Epoch 32/300\n",
            "625/625 [==============================] - 5s 8ms/step - loss: 0.0092 - accuracy: 0.9969 - val_loss: 0.6988 - val_accuracy: 0.8780\n",
            "\n",
            "Epoch 00032: saving model to training_1/cp.ckpt\n",
            "INFO:tensorflow:Assets written to: training_1/cp.ckpt/assets\n"
          ],
          "name": "stdout"
        },
        {
          "output_type": "stream",
          "text": [
            "INFO:tensorflow:Assets written to: training_1/cp.ckpt/assets\n"
          ],
          "name": "stderr"
        },
        {
          "output_type": "stream",
          "text": [
            "Epoch 33/300\n",
            "625/625 [==============================] - 5s 8ms/step - loss: 0.0083 - accuracy: 0.9971 - val_loss: 0.8163 - val_accuracy: 0.8770\n",
            "\n",
            "Epoch 00033: saving model to training_1/cp.ckpt\n",
            "INFO:tensorflow:Assets written to: training_1/cp.ckpt/assets\n"
          ],
          "name": "stdout"
        },
        {
          "output_type": "stream",
          "text": [
            "INFO:tensorflow:Assets written to: training_1/cp.ckpt/assets\n"
          ],
          "name": "stderr"
        },
        {
          "output_type": "stream",
          "text": [
            "Epoch 34/300\n",
            "625/625 [==============================] - 5s 8ms/step - loss: 0.0103 - accuracy: 0.9970 - val_loss: 0.7680 - val_accuracy: 0.8862\n",
            "\n",
            "Epoch 00034: saving model to training_1/cp.ckpt\n",
            "INFO:tensorflow:Assets written to: training_1/cp.ckpt/assets\n"
          ],
          "name": "stdout"
        },
        {
          "output_type": "stream",
          "text": [
            "INFO:tensorflow:Assets written to: training_1/cp.ckpt/assets\n"
          ],
          "name": "stderr"
        },
        {
          "output_type": "stream",
          "text": [
            "Epoch 35/300\n",
            "625/625 [==============================] - 5s 8ms/step - loss: 0.0099 - accuracy: 0.9962 - val_loss: 0.8674 - val_accuracy: 0.8862\n",
            "\n",
            "Epoch 00035: saving model to training_1/cp.ckpt\n",
            "INFO:tensorflow:Assets written to: training_1/cp.ckpt/assets\n"
          ],
          "name": "stdout"
        },
        {
          "output_type": "stream",
          "text": [
            "INFO:tensorflow:Assets written to: training_1/cp.ckpt/assets\n"
          ],
          "name": "stderr"
        },
        {
          "output_type": "stream",
          "text": [
            "Epoch 36/300\n",
            "625/625 [==============================] - 5s 8ms/step - loss: 0.0161 - accuracy: 0.9946 - val_loss: 0.8279 - val_accuracy: 0.8762\n",
            "\n",
            "Epoch 00036: saving model to training_1/cp.ckpt\n",
            "INFO:tensorflow:Assets written to: training_1/cp.ckpt/assets\n"
          ],
          "name": "stdout"
        },
        {
          "output_type": "stream",
          "text": [
            "INFO:tensorflow:Assets written to: training_1/cp.ckpt/assets\n"
          ],
          "name": "stderr"
        },
        {
          "output_type": "stream",
          "text": [
            "Epoch 37/300\n",
            "625/625 [==============================] - 5s 8ms/step - loss: 0.0079 - accuracy: 0.9976 - val_loss: 0.7718 - val_accuracy: 0.8854\n",
            "\n",
            "Epoch 00037: saving model to training_1/cp.ckpt\n",
            "INFO:tensorflow:Assets written to: training_1/cp.ckpt/assets\n"
          ],
          "name": "stdout"
        },
        {
          "output_type": "stream",
          "text": [
            "INFO:tensorflow:Assets written to: training_1/cp.ckpt/assets\n"
          ],
          "name": "stderr"
        },
        {
          "output_type": "stream",
          "text": [
            "Epoch 38/300\n",
            "625/625 [==============================] - 5s 8ms/step - loss: 0.0123 - accuracy: 0.9961 - val_loss: 0.7958 - val_accuracy: 0.8856\n",
            "\n",
            "Epoch 00038: saving model to training_1/cp.ckpt\n",
            "INFO:tensorflow:Assets written to: training_1/cp.ckpt/assets\n"
          ],
          "name": "stdout"
        },
        {
          "output_type": "stream",
          "text": [
            "INFO:tensorflow:Assets written to: training_1/cp.ckpt/assets\n"
          ],
          "name": "stderr"
        },
        {
          "output_type": "stream",
          "text": [
            "Epoch 39/300\n",
            "625/625 [==============================] - 5s 8ms/step - loss: 0.0078 - accuracy: 0.9973 - val_loss: 0.7218 - val_accuracy: 0.8822\n",
            "\n",
            "Epoch 00039: saving model to training_1/cp.ckpt\n",
            "INFO:tensorflow:Assets written to: training_1/cp.ckpt/assets\n"
          ],
          "name": "stdout"
        },
        {
          "output_type": "stream",
          "text": [
            "INFO:tensorflow:Assets written to: training_1/cp.ckpt/assets\n"
          ],
          "name": "stderr"
        },
        {
          "output_type": "stream",
          "text": [
            "Epoch 40/300\n",
            "625/625 [==============================] - 5s 8ms/step - loss: 0.0058 - accuracy: 0.9986 - val_loss: 0.8029 - val_accuracy: 0.8852\n",
            "\n",
            "Epoch 00040: saving model to training_1/cp.ckpt\n",
            "INFO:tensorflow:Assets written to: training_1/cp.ckpt/assets\n"
          ],
          "name": "stdout"
        },
        {
          "output_type": "stream",
          "text": [
            "INFO:tensorflow:Assets written to: training_1/cp.ckpt/assets\n"
          ],
          "name": "stderr"
        },
        {
          "output_type": "stream",
          "text": [
            "Epoch 41/300\n",
            "625/625 [==============================] - 5s 8ms/step - loss: 0.0074 - accuracy: 0.9972 - val_loss: 0.8507 - val_accuracy: 0.8844\n",
            "\n",
            "Epoch 00041: saving model to training_1/cp.ckpt\n",
            "INFO:tensorflow:Assets written to: training_1/cp.ckpt/assets\n"
          ],
          "name": "stdout"
        },
        {
          "output_type": "stream",
          "text": [
            "INFO:tensorflow:Assets written to: training_1/cp.ckpt/assets\n"
          ],
          "name": "stderr"
        },
        {
          "output_type": "stream",
          "text": [
            "Epoch 42/300\n",
            "625/625 [==============================] - 5s 8ms/step - loss: 0.0067 - accuracy: 0.9973 - val_loss: 0.8465 - val_accuracy: 0.8842\n",
            "\n",
            "Epoch 00042: saving model to training_1/cp.ckpt\n",
            "INFO:tensorflow:Assets written to: training_1/cp.ckpt/assets\n"
          ],
          "name": "stdout"
        },
        {
          "output_type": "stream",
          "text": [
            "INFO:tensorflow:Assets written to: training_1/cp.ckpt/assets\n"
          ],
          "name": "stderr"
        },
        {
          "output_type": "stream",
          "text": [
            "Epoch 43/300\n",
            "625/625 [==============================] - 5s 8ms/step - loss: 0.0064 - accuracy: 0.9979 - val_loss: 0.8794 - val_accuracy: 0.8834\n",
            "\n",
            "Epoch 00043: saving model to training_1/cp.ckpt\n",
            "INFO:tensorflow:Assets written to: training_1/cp.ckpt/assets\n"
          ],
          "name": "stdout"
        },
        {
          "output_type": "stream",
          "text": [
            "INFO:tensorflow:Assets written to: training_1/cp.ckpt/assets\n"
          ],
          "name": "stderr"
        },
        {
          "output_type": "stream",
          "text": [
            "Epoch 44/300\n",
            "625/625 [==============================] - 5s 8ms/step - loss: 0.0090 - accuracy: 0.9966 - val_loss: 0.8217 - val_accuracy: 0.8818\n",
            "\n",
            "Epoch 00044: saving model to training_1/cp.ckpt\n",
            "INFO:tensorflow:Assets written to: training_1/cp.ckpt/assets\n"
          ],
          "name": "stdout"
        },
        {
          "output_type": "stream",
          "text": [
            "INFO:tensorflow:Assets written to: training_1/cp.ckpt/assets\n"
          ],
          "name": "stderr"
        },
        {
          "output_type": "stream",
          "text": [
            "Epoch 45/300\n",
            "625/625 [==============================] - 5s 8ms/step - loss: 0.0102 - accuracy: 0.9967 - val_loss: 0.8258 - val_accuracy: 0.8824\n",
            "\n",
            "Epoch 00045: saving model to training_1/cp.ckpt\n",
            "INFO:tensorflow:Assets written to: training_1/cp.ckpt/assets\n"
          ],
          "name": "stdout"
        },
        {
          "output_type": "stream",
          "text": [
            "INFO:tensorflow:Assets written to: training_1/cp.ckpt/assets\n"
          ],
          "name": "stderr"
        },
        {
          "output_type": "stream",
          "text": [
            "Epoch 46/300\n",
            "625/625 [==============================] - 5s 8ms/step - loss: 0.0059 - accuracy: 0.9981 - val_loss: 0.7968 - val_accuracy: 0.8790\n",
            "\n",
            "Epoch 00046: saving model to training_1/cp.ckpt\n",
            "INFO:tensorflow:Assets written to: training_1/cp.ckpt/assets\n"
          ],
          "name": "stdout"
        },
        {
          "output_type": "stream",
          "text": [
            "INFO:tensorflow:Assets written to: training_1/cp.ckpt/assets\n"
          ],
          "name": "stderr"
        },
        {
          "output_type": "stream",
          "text": [
            "Epoch 47/300\n",
            "625/625 [==============================] - 5s 8ms/step - loss: 0.0073 - accuracy: 0.9977 - val_loss: 0.8182 - val_accuracy: 0.8856\n",
            "\n",
            "Epoch 00047: saving model to training_1/cp.ckpt\n",
            "INFO:tensorflow:Assets written to: training_1/cp.ckpt/assets\n"
          ],
          "name": "stdout"
        },
        {
          "output_type": "stream",
          "text": [
            "INFO:tensorflow:Assets written to: training_1/cp.ckpt/assets\n"
          ],
          "name": "stderr"
        },
        {
          "output_type": "stream",
          "text": [
            "Epoch 48/300\n",
            "625/625 [==============================] - 5s 8ms/step - loss: 0.0068 - accuracy: 0.9976 - val_loss: 0.9055 - val_accuracy: 0.8760\n",
            "\n",
            "Epoch 00048: saving model to training_1/cp.ckpt\n",
            "INFO:tensorflow:Assets written to: training_1/cp.ckpt/assets\n"
          ],
          "name": "stdout"
        },
        {
          "output_type": "stream",
          "text": [
            "INFO:tensorflow:Assets written to: training_1/cp.ckpt/assets\n"
          ],
          "name": "stderr"
        },
        {
          "output_type": "stream",
          "text": [
            "Epoch 49/300\n",
            "625/625 [==============================] - 5s 8ms/step - loss: 0.0076 - accuracy: 0.9976 - val_loss: 0.8891 - val_accuracy: 0.8838\n",
            "\n",
            "Epoch 00049: saving model to training_1/cp.ckpt\n",
            "INFO:tensorflow:Assets written to: training_1/cp.ckpt/assets\n"
          ],
          "name": "stdout"
        },
        {
          "output_type": "stream",
          "text": [
            "INFO:tensorflow:Assets written to: training_1/cp.ckpt/assets\n"
          ],
          "name": "stderr"
        },
        {
          "output_type": "stream",
          "text": [
            "Epoch 50/300\n",
            "625/625 [==============================] - 5s 8ms/step - loss: 0.0123 - accuracy: 0.9962 - val_loss: 0.7367 - val_accuracy: 0.8870\n",
            "\n",
            "Epoch 00050: saving model to training_1/cp.ckpt\n",
            "INFO:tensorflow:Assets written to: training_1/cp.ckpt/assets\n"
          ],
          "name": "stdout"
        },
        {
          "output_type": "stream",
          "text": [
            "INFO:tensorflow:Assets written to: training_1/cp.ckpt/assets\n"
          ],
          "name": "stderr"
        },
        {
          "output_type": "stream",
          "text": [
            "Epoch 51/300\n",
            "625/625 [==============================] - 5s 8ms/step - loss: 0.0061 - accuracy: 0.9976 - val_loss: 0.9310 - val_accuracy: 0.8776\n",
            "\n",
            "Epoch 00051: saving model to training_1/cp.ckpt\n",
            "INFO:tensorflow:Assets written to: training_1/cp.ckpt/assets\n"
          ],
          "name": "stdout"
        },
        {
          "output_type": "stream",
          "text": [
            "INFO:tensorflow:Assets written to: training_1/cp.ckpt/assets\n"
          ],
          "name": "stderr"
        },
        {
          "output_type": "stream",
          "text": [
            "Epoch 52/300\n",
            "625/625 [==============================] - 5s 8ms/step - loss: 0.0075 - accuracy: 0.9976 - val_loss: 0.9427 - val_accuracy: 0.8862\n",
            "\n",
            "Epoch 00052: saving model to training_1/cp.ckpt\n",
            "INFO:tensorflow:Assets written to: training_1/cp.ckpt/assets\n"
          ],
          "name": "stdout"
        },
        {
          "output_type": "stream",
          "text": [
            "INFO:tensorflow:Assets written to: training_1/cp.ckpt/assets\n"
          ],
          "name": "stderr"
        },
        {
          "output_type": "stream",
          "text": [
            "Epoch 53/300\n",
            "625/625 [==============================] - 5s 8ms/step - loss: 0.0094 - accuracy: 0.9971 - val_loss: 0.8960 - val_accuracy: 0.8868\n",
            "\n",
            "Epoch 00053: saving model to training_1/cp.ckpt\n",
            "INFO:tensorflow:Assets written to: training_1/cp.ckpt/assets\n"
          ],
          "name": "stdout"
        },
        {
          "output_type": "stream",
          "text": [
            "INFO:tensorflow:Assets written to: training_1/cp.ckpt/assets\n"
          ],
          "name": "stderr"
        },
        {
          "output_type": "stream",
          "text": [
            "Epoch 54/300\n",
            "625/625 [==============================] - 5s 8ms/step - loss: 0.0047 - accuracy: 0.9984 - val_loss: 0.9572 - val_accuracy: 0.8788\n",
            "\n",
            "Epoch 00054: saving model to training_1/cp.ckpt\n",
            "INFO:tensorflow:Assets written to: training_1/cp.ckpt/assets\n"
          ],
          "name": "stdout"
        },
        {
          "output_type": "stream",
          "text": [
            "INFO:tensorflow:Assets written to: training_1/cp.ckpt/assets\n"
          ],
          "name": "stderr"
        },
        {
          "output_type": "stream",
          "text": [
            "Epoch 55/300\n",
            "625/625 [==============================] - 5s 8ms/step - loss: 0.0054 - accuracy: 0.9980 - val_loss: 0.8950 - val_accuracy: 0.8854\n",
            "\n",
            "Epoch 00055: saving model to training_1/cp.ckpt\n",
            "INFO:tensorflow:Assets written to: training_1/cp.ckpt/assets\n"
          ],
          "name": "stdout"
        },
        {
          "output_type": "stream",
          "text": [
            "INFO:tensorflow:Assets written to: training_1/cp.ckpt/assets\n"
          ],
          "name": "stderr"
        },
        {
          "output_type": "stream",
          "text": [
            "Epoch 56/300\n",
            "625/625 [==============================] - 5s 8ms/step - loss: 0.0045 - accuracy: 0.9989 - val_loss: 0.8521 - val_accuracy: 0.8830\n",
            "\n",
            "Epoch 00056: saving model to training_1/cp.ckpt\n",
            "INFO:tensorflow:Assets written to: training_1/cp.ckpt/assets\n"
          ],
          "name": "stdout"
        },
        {
          "output_type": "stream",
          "text": [
            "INFO:tensorflow:Assets written to: training_1/cp.ckpt/assets\n"
          ],
          "name": "stderr"
        },
        {
          "output_type": "stream",
          "text": [
            "Epoch 57/300\n",
            "625/625 [==============================] - 5s 8ms/step - loss: 0.0042 - accuracy: 0.9986 - val_loss: 0.9021 - val_accuracy: 0.8838\n",
            "\n",
            "Epoch 00057: saving model to training_1/cp.ckpt\n",
            "INFO:tensorflow:Assets written to: training_1/cp.ckpt/assets\n"
          ],
          "name": "stdout"
        },
        {
          "output_type": "stream",
          "text": [
            "INFO:tensorflow:Assets written to: training_1/cp.ckpt/assets\n"
          ],
          "name": "stderr"
        },
        {
          "output_type": "stream",
          "text": [
            "Epoch 58/300\n",
            "625/625 [==============================] - 5s 8ms/step - loss: 0.0061 - accuracy: 0.9977 - val_loss: 0.9068 - val_accuracy: 0.8866\n",
            "\n",
            "Epoch 00058: saving model to training_1/cp.ckpt\n",
            "INFO:tensorflow:Assets written to: training_1/cp.ckpt/assets\n"
          ],
          "name": "stdout"
        },
        {
          "output_type": "stream",
          "text": [
            "INFO:tensorflow:Assets written to: training_1/cp.ckpt/assets\n"
          ],
          "name": "stderr"
        },
        {
          "output_type": "stream",
          "text": [
            "Epoch 59/300\n",
            "625/625 [==============================] - 5s 8ms/step - loss: 0.0054 - accuracy: 0.9981 - val_loss: 0.9539 - val_accuracy: 0.8850\n",
            "\n",
            "Epoch 00059: saving model to training_1/cp.ckpt\n",
            "INFO:tensorflow:Assets written to: training_1/cp.ckpt/assets\n"
          ],
          "name": "stdout"
        },
        {
          "output_type": "stream",
          "text": [
            "INFO:tensorflow:Assets written to: training_1/cp.ckpt/assets\n"
          ],
          "name": "stderr"
        },
        {
          "output_type": "stream",
          "text": [
            "Epoch 60/300\n",
            "625/625 [==============================] - 5s 8ms/step - loss: 0.0078 - accuracy: 0.9971 - val_loss: 0.8638 - val_accuracy: 0.8836\n",
            "\n",
            "Epoch 00060: saving model to training_1/cp.ckpt\n",
            "INFO:tensorflow:Assets written to: training_1/cp.ckpt/assets\n"
          ],
          "name": "stdout"
        },
        {
          "output_type": "stream",
          "text": [
            "INFO:tensorflow:Assets written to: training_1/cp.ckpt/assets\n"
          ],
          "name": "stderr"
        },
        {
          "output_type": "stream",
          "text": [
            "Epoch 61/300\n",
            "625/625 [==============================] - 5s 8ms/step - loss: 0.0049 - accuracy: 0.9985 - val_loss: 0.8744 - val_accuracy: 0.8846\n",
            "\n",
            "Epoch 00061: saving model to training_1/cp.ckpt\n",
            "INFO:tensorflow:Assets written to: training_1/cp.ckpt/assets\n"
          ],
          "name": "stdout"
        },
        {
          "output_type": "stream",
          "text": [
            "INFO:tensorflow:Assets written to: training_1/cp.ckpt/assets\n"
          ],
          "name": "stderr"
        },
        {
          "output_type": "stream",
          "text": [
            "Epoch 62/300\n",
            "625/625 [==============================] - 5s 8ms/step - loss: 0.0066 - accuracy: 0.9977 - val_loss: 0.9326 - val_accuracy: 0.8804\n",
            "\n",
            "Epoch 00062: saving model to training_1/cp.ckpt\n",
            "INFO:tensorflow:Assets written to: training_1/cp.ckpt/assets\n"
          ],
          "name": "stdout"
        },
        {
          "output_type": "stream",
          "text": [
            "INFO:tensorflow:Assets written to: training_1/cp.ckpt/assets\n"
          ],
          "name": "stderr"
        },
        {
          "output_type": "stream",
          "text": [
            "Epoch 63/300\n",
            "625/625 [==============================] - 5s 8ms/step - loss: 0.0030 - accuracy: 0.9991 - val_loss: 0.9602 - val_accuracy: 0.8878\n",
            "\n",
            "Epoch 00063: saving model to training_1/cp.ckpt\n",
            "INFO:tensorflow:Assets written to: training_1/cp.ckpt/assets\n"
          ],
          "name": "stdout"
        },
        {
          "output_type": "stream",
          "text": [
            "INFO:tensorflow:Assets written to: training_1/cp.ckpt/assets\n"
          ],
          "name": "stderr"
        },
        {
          "output_type": "stream",
          "text": [
            "Epoch 64/300\n",
            "625/625 [==============================] - 5s 8ms/step - loss: 0.0049 - accuracy: 0.9982 - val_loss: 0.8487 - val_accuracy: 0.8790\n",
            "\n",
            "Epoch 00064: saving model to training_1/cp.ckpt\n",
            "INFO:tensorflow:Assets written to: training_1/cp.ckpt/assets\n"
          ],
          "name": "stdout"
        },
        {
          "output_type": "stream",
          "text": [
            "INFO:tensorflow:Assets written to: training_1/cp.ckpt/assets\n"
          ],
          "name": "stderr"
        },
        {
          "output_type": "stream",
          "text": [
            "Epoch 65/300\n",
            "625/625 [==============================] - 5s 8ms/step - loss: 0.0029 - accuracy: 0.9992 - val_loss: 0.8217 - val_accuracy: 0.8828\n",
            "\n",
            "Epoch 00065: saving model to training_1/cp.ckpt\n",
            "INFO:tensorflow:Assets written to: training_1/cp.ckpt/assets\n"
          ],
          "name": "stdout"
        },
        {
          "output_type": "stream",
          "text": [
            "INFO:tensorflow:Assets written to: training_1/cp.ckpt/assets\n"
          ],
          "name": "stderr"
        },
        {
          "output_type": "stream",
          "text": [
            "Epoch 66/300\n",
            "625/625 [==============================] - 5s 8ms/step - loss: 0.0055 - accuracy: 0.9984 - val_loss: 0.9146 - val_accuracy: 0.8840\n",
            "\n",
            "Epoch 00066: saving model to training_1/cp.ckpt\n",
            "INFO:tensorflow:Assets written to: training_1/cp.ckpt/assets\n"
          ],
          "name": "stdout"
        },
        {
          "output_type": "stream",
          "text": [
            "INFO:tensorflow:Assets written to: training_1/cp.ckpt/assets\n"
          ],
          "name": "stderr"
        },
        {
          "output_type": "stream",
          "text": [
            "Epoch 67/300\n",
            "625/625 [==============================] - 5s 8ms/step - loss: 0.0044 - accuracy: 0.9985 - val_loss: 0.9109 - val_accuracy: 0.8864\n",
            "\n",
            "Epoch 00067: saving model to training_1/cp.ckpt\n",
            "INFO:tensorflow:Assets written to: training_1/cp.ckpt/assets\n"
          ],
          "name": "stdout"
        },
        {
          "output_type": "stream",
          "text": [
            "INFO:tensorflow:Assets written to: training_1/cp.ckpt/assets\n"
          ],
          "name": "stderr"
        },
        {
          "output_type": "stream",
          "text": [
            "Epoch 68/300\n",
            "625/625 [==============================] - 5s 8ms/step - loss: 0.0035 - accuracy: 0.9984 - val_loss: 0.9817 - val_accuracy: 0.8846\n",
            "\n",
            "Epoch 00068: saving model to training_1/cp.ckpt\n",
            "INFO:tensorflow:Assets written to: training_1/cp.ckpt/assets\n"
          ],
          "name": "stdout"
        },
        {
          "output_type": "stream",
          "text": [
            "INFO:tensorflow:Assets written to: training_1/cp.ckpt/assets\n"
          ],
          "name": "stderr"
        },
        {
          "output_type": "stream",
          "text": [
            "Epoch 69/300\n",
            "625/625 [==============================] - 5s 8ms/step - loss: 0.0050 - accuracy: 0.9983 - val_loss: 0.9389 - val_accuracy: 0.8876\n",
            "\n",
            "Epoch 00069: saving model to training_1/cp.ckpt\n",
            "INFO:tensorflow:Assets written to: training_1/cp.ckpt/assets\n"
          ],
          "name": "stdout"
        },
        {
          "output_type": "stream",
          "text": [
            "INFO:tensorflow:Assets written to: training_1/cp.ckpt/assets\n"
          ],
          "name": "stderr"
        },
        {
          "output_type": "stream",
          "text": [
            "Epoch 70/300\n",
            "625/625 [==============================] - 5s 8ms/step - loss: 0.0035 - accuracy: 0.9986 - val_loss: 0.9063 - val_accuracy: 0.8846\n",
            "\n",
            "Epoch 00070: saving model to training_1/cp.ckpt\n",
            "INFO:tensorflow:Assets written to: training_1/cp.ckpt/assets\n"
          ],
          "name": "stdout"
        },
        {
          "output_type": "stream",
          "text": [
            "INFO:tensorflow:Assets written to: training_1/cp.ckpt/assets\n"
          ],
          "name": "stderr"
        },
        {
          "output_type": "stream",
          "text": [
            "Epoch 71/300\n",
            "625/625 [==============================] - 5s 8ms/step - loss: 0.0051 - accuracy: 0.9983 - val_loss: 1.0948 - val_accuracy: 0.8720\n",
            "\n",
            "Epoch 00071: saving model to training_1/cp.ckpt\n",
            "INFO:tensorflow:Assets written to: training_1/cp.ckpt/assets\n"
          ],
          "name": "stdout"
        },
        {
          "output_type": "stream",
          "text": [
            "INFO:tensorflow:Assets written to: training_1/cp.ckpt/assets\n"
          ],
          "name": "stderr"
        },
        {
          "output_type": "stream",
          "text": [
            "Epoch 72/300\n",
            "625/625 [==============================] - 5s 8ms/step - loss: 0.0074 - accuracy: 0.9981 - val_loss: 0.8305 - val_accuracy: 0.8804\n",
            "\n",
            "Epoch 00072: saving model to training_1/cp.ckpt\n",
            "INFO:tensorflow:Assets written to: training_1/cp.ckpt/assets\n"
          ],
          "name": "stdout"
        },
        {
          "output_type": "stream",
          "text": [
            "INFO:tensorflow:Assets written to: training_1/cp.ckpt/assets\n"
          ],
          "name": "stderr"
        },
        {
          "output_type": "stream",
          "text": [
            "Epoch 73/300\n",
            "625/625 [==============================] - 5s 8ms/step - loss: 0.0052 - accuracy: 0.9984 - val_loss: 0.9746 - val_accuracy: 0.8862\n",
            "\n",
            "Epoch 00073: saving model to training_1/cp.ckpt\n",
            "INFO:tensorflow:Assets written to: training_1/cp.ckpt/assets\n"
          ],
          "name": "stdout"
        },
        {
          "output_type": "stream",
          "text": [
            "INFO:tensorflow:Assets written to: training_1/cp.ckpt/assets\n"
          ],
          "name": "stderr"
        },
        {
          "output_type": "stream",
          "text": [
            "Epoch 74/300\n",
            "625/625 [==============================] - 5s 8ms/step - loss: 0.0050 - accuracy: 0.9984 - val_loss: 0.8631 - val_accuracy: 0.8762\n",
            "\n",
            "Epoch 00074: saving model to training_1/cp.ckpt\n",
            "INFO:tensorflow:Assets written to: training_1/cp.ckpt/assets\n"
          ],
          "name": "stdout"
        },
        {
          "output_type": "stream",
          "text": [
            "INFO:tensorflow:Assets written to: training_1/cp.ckpt/assets\n"
          ],
          "name": "stderr"
        },
        {
          "output_type": "stream",
          "text": [
            "Epoch 75/300\n",
            "625/625 [==============================] - 5s 8ms/step - loss: 0.0059 - accuracy: 0.9975 - val_loss: 0.7979 - val_accuracy: 0.8842\n",
            "\n",
            "Epoch 00075: saving model to training_1/cp.ckpt\n",
            "INFO:tensorflow:Assets written to: training_1/cp.ckpt/assets\n"
          ],
          "name": "stdout"
        },
        {
          "output_type": "stream",
          "text": [
            "INFO:tensorflow:Assets written to: training_1/cp.ckpt/assets\n"
          ],
          "name": "stderr"
        },
        {
          "output_type": "stream",
          "text": [
            "Epoch 76/300\n",
            "625/625 [==============================] - 5s 8ms/step - loss: 0.0018 - accuracy: 0.9994 - val_loss: 0.9754 - val_accuracy: 0.8898\n",
            "\n",
            "Epoch 00076: saving model to training_1/cp.ckpt\n",
            "INFO:tensorflow:Assets written to: training_1/cp.ckpt/assets\n"
          ],
          "name": "stdout"
        },
        {
          "output_type": "stream",
          "text": [
            "INFO:tensorflow:Assets written to: training_1/cp.ckpt/assets\n"
          ],
          "name": "stderr"
        },
        {
          "output_type": "stream",
          "text": [
            "Epoch 77/300\n",
            "625/625 [==============================] - 5s 8ms/step - loss: 0.0039 - accuracy: 0.9987 - val_loss: 0.8589 - val_accuracy: 0.8826\n",
            "\n",
            "Epoch 00077: saving model to training_1/cp.ckpt\n",
            "INFO:tensorflow:Assets written to: training_1/cp.ckpt/assets\n"
          ],
          "name": "stdout"
        },
        {
          "output_type": "stream",
          "text": [
            "INFO:tensorflow:Assets written to: training_1/cp.ckpt/assets\n"
          ],
          "name": "stderr"
        },
        {
          "output_type": "stream",
          "text": [
            "Epoch 78/300\n",
            "625/625 [==============================] - 5s 8ms/step - loss: 0.0032 - accuracy: 0.9990 - val_loss: 0.7814 - val_accuracy: 0.8872\n",
            "\n",
            "Epoch 00078: saving model to training_1/cp.ckpt\n",
            "INFO:tensorflow:Assets written to: training_1/cp.ckpt/assets\n"
          ],
          "name": "stdout"
        },
        {
          "output_type": "stream",
          "text": [
            "INFO:tensorflow:Assets written to: training_1/cp.ckpt/assets\n"
          ],
          "name": "stderr"
        },
        {
          "output_type": "stream",
          "text": [
            "Epoch 79/300\n",
            "625/625 [==============================] - 5s 8ms/step - loss: 0.0021 - accuracy: 0.9993 - val_loss: 0.8354 - val_accuracy: 0.8862\n",
            "\n",
            "Epoch 00079: saving model to training_1/cp.ckpt\n",
            "INFO:tensorflow:Assets written to: training_1/cp.ckpt/assets\n"
          ],
          "name": "stdout"
        },
        {
          "output_type": "stream",
          "text": [
            "INFO:tensorflow:Assets written to: training_1/cp.ckpt/assets\n"
          ],
          "name": "stderr"
        },
        {
          "output_type": "stream",
          "text": [
            "Epoch 80/300\n",
            "625/625 [==============================] - 5s 8ms/step - loss: 0.0056 - accuracy: 0.9977 - val_loss: 0.8960 - val_accuracy: 0.8872\n",
            "\n",
            "Epoch 00080: saving model to training_1/cp.ckpt\n",
            "INFO:tensorflow:Assets written to: training_1/cp.ckpt/assets\n"
          ],
          "name": "stdout"
        },
        {
          "output_type": "stream",
          "text": [
            "INFO:tensorflow:Assets written to: training_1/cp.ckpt/assets\n"
          ],
          "name": "stderr"
        },
        {
          "output_type": "stream",
          "text": [
            "Epoch 81/300\n",
            "625/625 [==============================] - 5s 8ms/step - loss: 0.0045 - accuracy: 0.9986 - val_loss: 0.8959 - val_accuracy: 0.8930\n",
            "\n",
            "Epoch 00081: saving model to training_1/cp.ckpt\n",
            "INFO:tensorflow:Assets written to: training_1/cp.ckpt/assets\n"
          ],
          "name": "stdout"
        },
        {
          "output_type": "stream",
          "text": [
            "INFO:tensorflow:Assets written to: training_1/cp.ckpt/assets\n"
          ],
          "name": "stderr"
        },
        {
          "output_type": "stream",
          "text": [
            "Epoch 82/300\n",
            "625/625 [==============================] - 5s 8ms/step - loss: 0.0033 - accuracy: 0.9991 - val_loss: 0.8920 - val_accuracy: 0.8864\n",
            "\n",
            "Epoch 00082: saving model to training_1/cp.ckpt\n",
            "INFO:tensorflow:Assets written to: training_1/cp.ckpt/assets\n"
          ],
          "name": "stdout"
        },
        {
          "output_type": "stream",
          "text": [
            "INFO:tensorflow:Assets written to: training_1/cp.ckpt/assets\n"
          ],
          "name": "stderr"
        },
        {
          "output_type": "stream",
          "text": [
            "Epoch 83/300\n",
            "625/625 [==============================] - 5s 8ms/step - loss: 0.0048 - accuracy: 0.9986 - val_loss: 0.9717 - val_accuracy: 0.8898\n",
            "\n",
            "Epoch 00083: saving model to training_1/cp.ckpt\n",
            "INFO:tensorflow:Assets written to: training_1/cp.ckpt/assets\n"
          ],
          "name": "stdout"
        },
        {
          "output_type": "stream",
          "text": [
            "INFO:tensorflow:Assets written to: training_1/cp.ckpt/assets\n"
          ],
          "name": "stderr"
        },
        {
          "output_type": "stream",
          "text": [
            "Epoch 84/300\n",
            "625/625 [==============================] - 5s 8ms/step - loss: 0.0038 - accuracy: 0.9991 - val_loss: 0.9263 - val_accuracy: 0.8848\n",
            "\n",
            "Epoch 00084: saving model to training_1/cp.ckpt\n",
            "INFO:tensorflow:Assets written to: training_1/cp.ckpt/assets\n"
          ],
          "name": "stdout"
        },
        {
          "output_type": "stream",
          "text": [
            "INFO:tensorflow:Assets written to: training_1/cp.ckpt/assets\n"
          ],
          "name": "stderr"
        },
        {
          "output_type": "stream",
          "text": [
            "Epoch 85/300\n",
            "625/625 [==============================] - 5s 8ms/step - loss: 0.0046 - accuracy: 0.9984 - val_loss: 0.9258 - val_accuracy: 0.8800\n",
            "\n",
            "Epoch 00085: saving model to training_1/cp.ckpt\n",
            "INFO:tensorflow:Assets written to: training_1/cp.ckpt/assets\n"
          ],
          "name": "stdout"
        },
        {
          "output_type": "stream",
          "text": [
            "INFO:tensorflow:Assets written to: training_1/cp.ckpt/assets\n"
          ],
          "name": "stderr"
        },
        {
          "output_type": "stream",
          "text": [
            "Epoch 86/300\n",
            "625/625 [==============================] - 5s 8ms/step - loss: 0.0040 - accuracy: 0.9990 - val_loss: 0.8266 - val_accuracy: 0.8870\n",
            "\n",
            "Epoch 00086: saving model to training_1/cp.ckpt\n",
            "INFO:tensorflow:Assets written to: training_1/cp.ckpt/assets\n"
          ],
          "name": "stdout"
        },
        {
          "output_type": "stream",
          "text": [
            "INFO:tensorflow:Assets written to: training_1/cp.ckpt/assets\n"
          ],
          "name": "stderr"
        },
        {
          "output_type": "stream",
          "text": [
            "Epoch 87/300\n",
            "625/625 [==============================] - 5s 8ms/step - loss: 0.0025 - accuracy: 0.9993 - val_loss: 0.9658 - val_accuracy: 0.8788\n",
            "\n",
            "Epoch 00087: saving model to training_1/cp.ckpt\n",
            "INFO:tensorflow:Assets written to: training_1/cp.ckpt/assets\n"
          ],
          "name": "stdout"
        },
        {
          "output_type": "stream",
          "text": [
            "INFO:tensorflow:Assets written to: training_1/cp.ckpt/assets\n"
          ],
          "name": "stderr"
        },
        {
          "output_type": "stream",
          "text": [
            "Epoch 88/300\n",
            "625/625 [==============================] - 5s 8ms/step - loss: 0.0031 - accuracy: 0.9988 - val_loss: 1.1761 - val_accuracy: 0.8854\n",
            "\n",
            "Epoch 00088: saving model to training_1/cp.ckpt\n",
            "INFO:tensorflow:Assets written to: training_1/cp.ckpt/assets\n"
          ],
          "name": "stdout"
        },
        {
          "output_type": "stream",
          "text": [
            "INFO:tensorflow:Assets written to: training_1/cp.ckpt/assets\n"
          ],
          "name": "stderr"
        },
        {
          "output_type": "stream",
          "text": [
            "Epoch 89/300\n",
            "625/625 [==============================] - 5s 8ms/step - loss: 0.0061 - accuracy: 0.9979 - val_loss: 0.9785 - val_accuracy: 0.8812\n",
            "\n",
            "Epoch 00089: saving model to training_1/cp.ckpt\n",
            "INFO:tensorflow:Assets written to: training_1/cp.ckpt/assets\n"
          ],
          "name": "stdout"
        },
        {
          "output_type": "stream",
          "text": [
            "INFO:tensorflow:Assets written to: training_1/cp.ckpt/assets\n"
          ],
          "name": "stderr"
        },
        {
          "output_type": "stream",
          "text": [
            "Epoch 90/300\n",
            "625/625 [==============================] - 5s 8ms/step - loss: 0.0028 - accuracy: 0.9991 - val_loss: 1.0015 - val_accuracy: 0.8838\n",
            "\n",
            "Epoch 00090: saving model to training_1/cp.ckpt\n",
            "INFO:tensorflow:Assets written to: training_1/cp.ckpt/assets\n"
          ],
          "name": "stdout"
        },
        {
          "output_type": "stream",
          "text": [
            "INFO:tensorflow:Assets written to: training_1/cp.ckpt/assets\n"
          ],
          "name": "stderr"
        },
        {
          "output_type": "stream",
          "text": [
            "Epoch 91/300\n",
            "625/625 [==============================] - 5s 8ms/step - loss: 0.0048 - accuracy: 0.9988 - val_loss: 0.9060 - val_accuracy: 0.8854\n",
            "\n",
            "Epoch 00091: saving model to training_1/cp.ckpt\n",
            "INFO:tensorflow:Assets written to: training_1/cp.ckpt/assets\n"
          ],
          "name": "stdout"
        },
        {
          "output_type": "stream",
          "text": [
            "INFO:tensorflow:Assets written to: training_1/cp.ckpt/assets\n"
          ],
          "name": "stderr"
        },
        {
          "output_type": "stream",
          "text": [
            "Epoch 92/300\n",
            "625/625 [==============================] - 5s 8ms/step - loss: 0.0031 - accuracy: 0.9987 - val_loss: 0.9469 - val_accuracy: 0.8860\n",
            "\n",
            "Epoch 00092: saving model to training_1/cp.ckpt\n",
            "INFO:tensorflow:Assets written to: training_1/cp.ckpt/assets\n"
          ],
          "name": "stdout"
        },
        {
          "output_type": "stream",
          "text": [
            "INFO:tensorflow:Assets written to: training_1/cp.ckpt/assets\n"
          ],
          "name": "stderr"
        },
        {
          "output_type": "stream",
          "text": [
            "Epoch 93/300\n",
            "625/625 [==============================] - 5s 8ms/step - loss: 0.0038 - accuracy: 0.9987 - val_loss: 1.1072 - val_accuracy: 0.8858\n",
            "\n",
            "Epoch 00093: saving model to training_1/cp.ckpt\n",
            "INFO:tensorflow:Assets written to: training_1/cp.ckpt/assets\n"
          ],
          "name": "stdout"
        },
        {
          "output_type": "stream",
          "text": [
            "INFO:tensorflow:Assets written to: training_1/cp.ckpt/assets\n"
          ],
          "name": "stderr"
        },
        {
          "output_type": "stream",
          "text": [
            "Epoch 94/300\n",
            "625/625 [==============================] - 5s 8ms/step - loss: 0.0023 - accuracy: 0.9991 - val_loss: 1.0660 - val_accuracy: 0.8888\n",
            "\n",
            "Epoch 00094: saving model to training_1/cp.ckpt\n",
            "INFO:tensorflow:Assets written to: training_1/cp.ckpt/assets\n"
          ],
          "name": "stdout"
        },
        {
          "output_type": "stream",
          "text": [
            "INFO:tensorflow:Assets written to: training_1/cp.ckpt/assets\n"
          ],
          "name": "stderr"
        },
        {
          "output_type": "stream",
          "text": [
            "Epoch 95/300\n",
            "625/625 [==============================] - 5s 8ms/step - loss: 0.0033 - accuracy: 0.9988 - val_loss: 0.9323 - val_accuracy: 0.8828\n",
            "\n",
            "Epoch 00095: saving model to training_1/cp.ckpt\n",
            "INFO:tensorflow:Assets written to: training_1/cp.ckpt/assets\n"
          ],
          "name": "stdout"
        },
        {
          "output_type": "stream",
          "text": [
            "INFO:tensorflow:Assets written to: training_1/cp.ckpt/assets\n"
          ],
          "name": "stderr"
        },
        {
          "output_type": "stream",
          "text": [
            "Epoch 96/300\n",
            "625/625 [==============================] - 5s 8ms/step - loss: 0.0036 - accuracy: 0.9985 - val_loss: 1.0621 - val_accuracy: 0.8792\n",
            "\n",
            "Epoch 00096: saving model to training_1/cp.ckpt\n",
            "INFO:tensorflow:Assets written to: training_1/cp.ckpt/assets\n"
          ],
          "name": "stdout"
        },
        {
          "output_type": "stream",
          "text": [
            "INFO:tensorflow:Assets written to: training_1/cp.ckpt/assets\n"
          ],
          "name": "stderr"
        },
        {
          "output_type": "stream",
          "text": [
            "Epoch 97/300\n",
            "625/625 [==============================] - 5s 8ms/step - loss: 0.0046 - accuracy: 0.9987 - val_loss: 0.8814 - val_accuracy: 0.8910\n",
            "\n",
            "Epoch 00097: saving model to training_1/cp.ckpt\n",
            "INFO:tensorflow:Assets written to: training_1/cp.ckpt/assets\n"
          ],
          "name": "stdout"
        },
        {
          "output_type": "stream",
          "text": [
            "INFO:tensorflow:Assets written to: training_1/cp.ckpt/assets\n"
          ],
          "name": "stderr"
        },
        {
          "output_type": "stream",
          "text": [
            "Epoch 98/300\n",
            "625/625 [==============================] - 5s 8ms/step - loss: 0.0029 - accuracy: 0.9991 - val_loss: 1.0007 - val_accuracy: 0.8874\n",
            "\n",
            "Epoch 00098: saving model to training_1/cp.ckpt\n",
            "INFO:tensorflow:Assets written to: training_1/cp.ckpt/assets\n"
          ],
          "name": "stdout"
        },
        {
          "output_type": "stream",
          "text": [
            "INFO:tensorflow:Assets written to: training_1/cp.ckpt/assets\n"
          ],
          "name": "stderr"
        },
        {
          "output_type": "stream",
          "text": [
            "Epoch 99/300\n",
            "625/625 [==============================] - 5s 8ms/step - loss: 0.0032 - accuracy: 0.9988 - val_loss: 1.0209 - val_accuracy: 0.8850\n",
            "\n",
            "Epoch 00099: saving model to training_1/cp.ckpt\n",
            "INFO:tensorflow:Assets written to: training_1/cp.ckpt/assets\n"
          ],
          "name": "stdout"
        },
        {
          "output_type": "stream",
          "text": [
            "INFO:tensorflow:Assets written to: training_1/cp.ckpt/assets\n"
          ],
          "name": "stderr"
        },
        {
          "output_type": "stream",
          "text": [
            "Epoch 100/300\n",
            "625/625 [==============================] - 5s 8ms/step - loss: 0.0034 - accuracy: 0.9989 - val_loss: 0.9996 - val_accuracy: 0.8834\n",
            "\n",
            "Epoch 00100: saving model to training_1/cp.ckpt\n",
            "INFO:tensorflow:Assets written to: training_1/cp.ckpt/assets\n"
          ],
          "name": "stdout"
        },
        {
          "output_type": "stream",
          "text": [
            "INFO:tensorflow:Assets written to: training_1/cp.ckpt/assets\n"
          ],
          "name": "stderr"
        },
        {
          "output_type": "stream",
          "text": [
            "Epoch 101/300\n",
            "625/625 [==============================] - 5s 8ms/step - loss: 0.0018 - accuracy: 0.9995 - val_loss: 1.0555 - val_accuracy: 0.8836\n",
            "\n",
            "Epoch 00101: saving model to training_1/cp.ckpt\n",
            "INFO:tensorflow:Assets written to: training_1/cp.ckpt/assets\n"
          ],
          "name": "stdout"
        },
        {
          "output_type": "stream",
          "text": [
            "INFO:tensorflow:Assets written to: training_1/cp.ckpt/assets\n"
          ],
          "name": "stderr"
        },
        {
          "output_type": "stream",
          "text": [
            "Epoch 102/300\n",
            "625/625 [==============================] - 5s 8ms/step - loss: 0.0036 - accuracy: 0.9987 - val_loss: 0.9203 - val_accuracy: 0.8832\n",
            "\n",
            "Epoch 00102: saving model to training_1/cp.ckpt\n",
            "INFO:tensorflow:Assets written to: training_1/cp.ckpt/assets\n"
          ],
          "name": "stdout"
        },
        {
          "output_type": "stream",
          "text": [
            "INFO:tensorflow:Assets written to: training_1/cp.ckpt/assets\n"
          ],
          "name": "stderr"
        },
        {
          "output_type": "stream",
          "text": [
            "Epoch 103/300\n",
            "625/625 [==============================] - 5s 8ms/step - loss: 0.0033 - accuracy: 0.9985 - val_loss: 1.0093 - val_accuracy: 0.8802\n",
            "\n",
            "Epoch 00103: saving model to training_1/cp.ckpt\n",
            "INFO:tensorflow:Assets written to: training_1/cp.ckpt/assets\n"
          ],
          "name": "stdout"
        },
        {
          "output_type": "stream",
          "text": [
            "INFO:tensorflow:Assets written to: training_1/cp.ckpt/assets\n"
          ],
          "name": "stderr"
        },
        {
          "output_type": "stream",
          "text": [
            "Epoch 104/300\n",
            "625/625 [==============================] - 5s 8ms/step - loss: 0.0027 - accuracy: 0.9990 - val_loss: 0.9515 - val_accuracy: 0.8834\n",
            "\n",
            "Epoch 00104: saving model to training_1/cp.ckpt\n",
            "INFO:tensorflow:Assets written to: training_1/cp.ckpt/assets\n"
          ],
          "name": "stdout"
        },
        {
          "output_type": "stream",
          "text": [
            "INFO:tensorflow:Assets written to: training_1/cp.ckpt/assets\n"
          ],
          "name": "stderr"
        },
        {
          "output_type": "stream",
          "text": [
            "Epoch 105/300\n",
            "625/625 [==============================] - 5s 8ms/step - loss: 0.0028 - accuracy: 0.9992 - val_loss: 0.9942 - val_accuracy: 0.8870\n",
            "\n",
            "Epoch 00105: saving model to training_1/cp.ckpt\n",
            "INFO:tensorflow:Assets written to: training_1/cp.ckpt/assets\n"
          ],
          "name": "stdout"
        },
        {
          "output_type": "stream",
          "text": [
            "INFO:tensorflow:Assets written to: training_1/cp.ckpt/assets\n"
          ],
          "name": "stderr"
        },
        {
          "output_type": "stream",
          "text": [
            "Epoch 106/300\n",
            "625/625 [==============================] - 5s 8ms/step - loss: 0.0039 - accuracy: 0.9989 - val_loss: 0.9307 - val_accuracy: 0.8868\n",
            "\n",
            "Epoch 00106: saving model to training_1/cp.ckpt\n",
            "INFO:tensorflow:Assets written to: training_1/cp.ckpt/assets\n"
          ],
          "name": "stdout"
        },
        {
          "output_type": "stream",
          "text": [
            "INFO:tensorflow:Assets written to: training_1/cp.ckpt/assets\n"
          ],
          "name": "stderr"
        },
        {
          "output_type": "stream",
          "text": [
            "Epoch 107/300\n",
            "625/625 [==============================] - 5s 8ms/step - loss: 0.0032 - accuracy: 0.9988 - val_loss: 1.1322 - val_accuracy: 0.8888\n",
            "\n",
            "Epoch 00107: saving model to training_1/cp.ckpt\n",
            "INFO:tensorflow:Assets written to: training_1/cp.ckpt/assets\n"
          ],
          "name": "stdout"
        },
        {
          "output_type": "stream",
          "text": [
            "INFO:tensorflow:Assets written to: training_1/cp.ckpt/assets\n"
          ],
          "name": "stderr"
        },
        {
          "output_type": "stream",
          "text": [
            "Epoch 108/300\n",
            "625/625 [==============================] - 5s 8ms/step - loss: 0.0019 - accuracy: 0.9995 - val_loss: 1.1533 - val_accuracy: 0.8828\n",
            "\n",
            "Epoch 00108: saving model to training_1/cp.ckpt\n",
            "INFO:tensorflow:Assets written to: training_1/cp.ckpt/assets\n"
          ],
          "name": "stdout"
        },
        {
          "output_type": "stream",
          "text": [
            "INFO:tensorflow:Assets written to: training_1/cp.ckpt/assets\n"
          ],
          "name": "stderr"
        },
        {
          "output_type": "stream",
          "text": [
            "Epoch 109/300\n",
            "625/625 [==============================] - 5s 8ms/step - loss: 0.0029 - accuracy: 0.9989 - val_loss: 1.1550 - val_accuracy: 0.8854\n",
            "\n",
            "Epoch 00109: saving model to training_1/cp.ckpt\n",
            "INFO:tensorflow:Assets written to: training_1/cp.ckpt/assets\n"
          ],
          "name": "stdout"
        },
        {
          "output_type": "stream",
          "text": [
            "INFO:tensorflow:Assets written to: training_1/cp.ckpt/assets\n"
          ],
          "name": "stderr"
        },
        {
          "output_type": "stream",
          "text": [
            "Epoch 110/300\n",
            "625/625 [==============================] - 5s 8ms/step - loss: 0.0020 - accuracy: 0.9992 - val_loss: 1.2706 - val_accuracy: 0.8856\n",
            "\n",
            "Epoch 00110: saving model to training_1/cp.ckpt\n",
            "INFO:tensorflow:Assets written to: training_1/cp.ckpt/assets\n"
          ],
          "name": "stdout"
        },
        {
          "output_type": "stream",
          "text": [
            "INFO:tensorflow:Assets written to: training_1/cp.ckpt/assets\n"
          ],
          "name": "stderr"
        },
        {
          "output_type": "stream",
          "text": [
            "Epoch 111/300\n",
            "625/625 [==============================] - 5s 8ms/step - loss: 0.0028 - accuracy: 0.9988 - val_loss: 1.0973 - val_accuracy: 0.8886\n",
            "\n",
            "Epoch 00111: saving model to training_1/cp.ckpt\n",
            "INFO:tensorflow:Assets written to: training_1/cp.ckpt/assets\n"
          ],
          "name": "stdout"
        },
        {
          "output_type": "stream",
          "text": [
            "INFO:tensorflow:Assets written to: training_1/cp.ckpt/assets\n"
          ],
          "name": "stderr"
        },
        {
          "output_type": "stream",
          "text": [
            "Epoch 112/300\n",
            "625/625 [==============================] - 5s 8ms/step - loss: 0.0024 - accuracy: 0.9992 - val_loss: 1.3093 - val_accuracy: 0.8762\n",
            "\n",
            "Epoch 00112: saving model to training_1/cp.ckpt\n",
            "INFO:tensorflow:Assets written to: training_1/cp.ckpt/assets\n"
          ],
          "name": "stdout"
        },
        {
          "output_type": "stream",
          "text": [
            "INFO:tensorflow:Assets written to: training_1/cp.ckpt/assets\n"
          ],
          "name": "stderr"
        },
        {
          "output_type": "stream",
          "text": [
            "Epoch 113/300\n",
            "625/625 [==============================] - 5s 8ms/step - loss: 0.0036 - accuracy: 0.9987 - val_loss: 1.1026 - val_accuracy: 0.8860\n",
            "\n",
            "Epoch 00113: saving model to training_1/cp.ckpt\n",
            "INFO:tensorflow:Assets written to: training_1/cp.ckpt/assets\n"
          ],
          "name": "stdout"
        },
        {
          "output_type": "stream",
          "text": [
            "INFO:tensorflow:Assets written to: training_1/cp.ckpt/assets\n"
          ],
          "name": "stderr"
        },
        {
          "output_type": "stream",
          "text": [
            "Epoch 114/300\n",
            "625/625 [==============================] - 5s 8ms/step - loss: 0.0022 - accuracy: 0.9990 - val_loss: 1.1457 - val_accuracy: 0.8858\n",
            "\n",
            "Epoch 00114: saving model to training_1/cp.ckpt\n",
            "INFO:tensorflow:Assets written to: training_1/cp.ckpt/assets\n"
          ],
          "name": "stdout"
        },
        {
          "output_type": "stream",
          "text": [
            "INFO:tensorflow:Assets written to: training_1/cp.ckpt/assets\n"
          ],
          "name": "stderr"
        },
        {
          "output_type": "stream",
          "text": [
            "Epoch 115/300\n",
            "625/625 [==============================] - 5s 8ms/step - loss: 0.0043 - accuracy: 0.9983 - val_loss: 0.8981 - val_accuracy: 0.8842\n",
            "\n",
            "Epoch 00115: saving model to training_1/cp.ckpt\n",
            "INFO:tensorflow:Assets written to: training_1/cp.ckpt/assets\n"
          ],
          "name": "stdout"
        },
        {
          "output_type": "stream",
          "text": [
            "INFO:tensorflow:Assets written to: training_1/cp.ckpt/assets\n"
          ],
          "name": "stderr"
        },
        {
          "output_type": "stream",
          "text": [
            "Epoch 116/300\n",
            "625/625 [==============================] - 5s 8ms/step - loss: 0.0017 - accuracy: 0.9993 - val_loss: 0.9784 - val_accuracy: 0.8844\n",
            "\n",
            "Epoch 00116: saving model to training_1/cp.ckpt\n",
            "INFO:tensorflow:Assets written to: training_1/cp.ckpt/assets\n"
          ],
          "name": "stdout"
        },
        {
          "output_type": "stream",
          "text": [
            "INFO:tensorflow:Assets written to: training_1/cp.ckpt/assets\n"
          ],
          "name": "stderr"
        },
        {
          "output_type": "stream",
          "text": [
            "Epoch 117/300\n",
            "625/625 [==============================] - 5s 8ms/step - loss: 0.0020 - accuracy: 0.9996 - val_loss: 1.1519 - val_accuracy: 0.8850\n",
            "\n",
            "Epoch 00117: saving model to training_1/cp.ckpt\n",
            "INFO:tensorflow:Assets written to: training_1/cp.ckpt/assets\n"
          ],
          "name": "stdout"
        },
        {
          "output_type": "stream",
          "text": [
            "INFO:tensorflow:Assets written to: training_1/cp.ckpt/assets\n"
          ],
          "name": "stderr"
        },
        {
          "output_type": "stream",
          "text": [
            "Epoch 118/300\n",
            "625/625 [==============================] - 5s 8ms/step - loss: 0.0020 - accuracy: 0.9994 - val_loss: 1.1480 - val_accuracy: 0.8820\n",
            "\n",
            "Epoch 00118: saving model to training_1/cp.ckpt\n",
            "INFO:tensorflow:Assets written to: training_1/cp.ckpt/assets\n"
          ],
          "name": "stdout"
        },
        {
          "output_type": "stream",
          "text": [
            "INFO:tensorflow:Assets written to: training_1/cp.ckpt/assets\n"
          ],
          "name": "stderr"
        },
        {
          "output_type": "stream",
          "text": [
            "Epoch 119/300\n",
            "625/625 [==============================] - 5s 8ms/step - loss: 6.2450e-04 - accuracy: 0.9998 - val_loss: 1.2717 - val_accuracy: 0.8846\n",
            "\n",
            "Epoch 00119: saving model to training_1/cp.ckpt\n",
            "INFO:tensorflow:Assets written to: training_1/cp.ckpt/assets\n"
          ],
          "name": "stdout"
        },
        {
          "output_type": "stream",
          "text": [
            "INFO:tensorflow:Assets written to: training_1/cp.ckpt/assets\n"
          ],
          "name": "stderr"
        },
        {
          "output_type": "stream",
          "text": [
            "Epoch 120/300\n",
            "625/625 [==============================] - 5s 8ms/step - loss: 0.0091 - accuracy: 0.9973 - val_loss: 0.9325 - val_accuracy: 0.8822\n",
            "\n",
            "Epoch 00120: saving model to training_1/cp.ckpt\n",
            "INFO:tensorflow:Assets written to: training_1/cp.ckpt/assets\n"
          ],
          "name": "stdout"
        },
        {
          "output_type": "stream",
          "text": [
            "INFO:tensorflow:Assets written to: training_1/cp.ckpt/assets\n"
          ],
          "name": "stderr"
        },
        {
          "output_type": "stream",
          "text": [
            "Epoch 121/300\n",
            "625/625 [==============================] - 5s 8ms/step - loss: 0.0014 - accuracy: 0.9995 - val_loss: 1.0709 - val_accuracy: 0.8826\n",
            "\n",
            "Epoch 00121: saving model to training_1/cp.ckpt\n",
            "INFO:tensorflow:Assets written to: training_1/cp.ckpt/assets\n"
          ],
          "name": "stdout"
        },
        {
          "output_type": "stream",
          "text": [
            "INFO:tensorflow:Assets written to: training_1/cp.ckpt/assets\n"
          ],
          "name": "stderr"
        },
        {
          "output_type": "stream",
          "text": [
            "Epoch 122/300\n",
            "625/625 [==============================] - 5s 8ms/step - loss: 0.0020 - accuracy: 0.9994 - val_loss: 1.2444 - val_accuracy: 0.8808\n",
            "\n",
            "Epoch 00122: saving model to training_1/cp.ckpt\n",
            "INFO:tensorflow:Assets written to: training_1/cp.ckpt/assets\n"
          ],
          "name": "stdout"
        },
        {
          "output_type": "stream",
          "text": [
            "INFO:tensorflow:Assets written to: training_1/cp.ckpt/assets\n"
          ],
          "name": "stderr"
        },
        {
          "output_type": "stream",
          "text": [
            "Epoch 123/300\n",
            "625/625 [==============================] - 5s 8ms/step - loss: 0.0035 - accuracy: 0.9989 - val_loss: 1.2997 - val_accuracy: 0.8712\n",
            "\n",
            "Epoch 00123: saving model to training_1/cp.ckpt\n",
            "INFO:tensorflow:Assets written to: training_1/cp.ckpt/assets\n"
          ],
          "name": "stdout"
        },
        {
          "output_type": "stream",
          "text": [
            "INFO:tensorflow:Assets written to: training_1/cp.ckpt/assets\n"
          ],
          "name": "stderr"
        },
        {
          "output_type": "stream",
          "text": [
            "Epoch 124/300\n",
            "625/625 [==============================] - 5s 8ms/step - loss: 0.0040 - accuracy: 0.9989 - val_loss: 1.0832 - val_accuracy: 0.8814\n",
            "\n",
            "Epoch 00124: saving model to training_1/cp.ckpt\n",
            "INFO:tensorflow:Assets written to: training_1/cp.ckpt/assets\n"
          ],
          "name": "stdout"
        },
        {
          "output_type": "stream",
          "text": [
            "INFO:tensorflow:Assets written to: training_1/cp.ckpt/assets\n"
          ],
          "name": "stderr"
        },
        {
          "output_type": "stream",
          "text": [
            "Epoch 125/300\n",
            "625/625 [==============================] - 5s 8ms/step - loss: 0.0021 - accuracy: 0.9994 - val_loss: 1.1912 - val_accuracy: 0.8830\n",
            "\n",
            "Epoch 00125: saving model to training_1/cp.ckpt\n",
            "INFO:tensorflow:Assets written to: training_1/cp.ckpt/assets\n"
          ],
          "name": "stdout"
        },
        {
          "output_type": "stream",
          "text": [
            "INFO:tensorflow:Assets written to: training_1/cp.ckpt/assets\n"
          ],
          "name": "stderr"
        },
        {
          "output_type": "stream",
          "text": [
            "Epoch 126/300\n",
            "625/625 [==============================] - 5s 8ms/step - loss: 0.0045 - accuracy: 0.9992 - val_loss: 1.2266 - val_accuracy: 0.8808\n",
            "\n",
            "Epoch 00126: saving model to training_1/cp.ckpt\n",
            "INFO:tensorflow:Assets written to: training_1/cp.ckpt/assets\n"
          ],
          "name": "stdout"
        },
        {
          "output_type": "stream",
          "text": [
            "INFO:tensorflow:Assets written to: training_1/cp.ckpt/assets\n"
          ],
          "name": "stderr"
        },
        {
          "output_type": "stream",
          "text": [
            "Epoch 127/300\n",
            "625/625 [==============================] - 5s 8ms/step - loss: 0.0045 - accuracy: 0.9983 - val_loss: 1.1018 - val_accuracy: 0.8812\n",
            "\n",
            "Epoch 00127: saving model to training_1/cp.ckpt\n",
            "INFO:tensorflow:Assets written to: training_1/cp.ckpt/assets\n"
          ],
          "name": "stdout"
        },
        {
          "output_type": "stream",
          "text": [
            "INFO:tensorflow:Assets written to: training_1/cp.ckpt/assets\n"
          ],
          "name": "stderr"
        },
        {
          "output_type": "stream",
          "text": [
            "Epoch 128/300\n",
            "625/625 [==============================] - 5s 8ms/step - loss: 0.0018 - accuracy: 0.9995 - val_loss: 1.1004 - val_accuracy: 0.8804\n",
            "\n",
            "Epoch 00128: saving model to training_1/cp.ckpt\n",
            "INFO:tensorflow:Assets written to: training_1/cp.ckpt/assets\n"
          ],
          "name": "stdout"
        },
        {
          "output_type": "stream",
          "text": [
            "INFO:tensorflow:Assets written to: training_1/cp.ckpt/assets\n"
          ],
          "name": "stderr"
        },
        {
          "output_type": "stream",
          "text": [
            "Epoch 129/300\n",
            "625/625 [==============================] - 5s 8ms/step - loss: 9.8277e-04 - accuracy: 0.9997 - val_loss: 1.0531 - val_accuracy: 0.8794\n",
            "\n",
            "Epoch 00129: saving model to training_1/cp.ckpt\n",
            "INFO:tensorflow:Assets written to: training_1/cp.ckpt/assets\n"
          ],
          "name": "stdout"
        },
        {
          "output_type": "stream",
          "text": [
            "INFO:tensorflow:Assets written to: training_1/cp.ckpt/assets\n"
          ],
          "name": "stderr"
        },
        {
          "output_type": "stream",
          "text": [
            "Epoch 130/300\n",
            "625/625 [==============================] - 5s 8ms/step - loss: 0.0024 - accuracy: 0.9992 - val_loss: 1.0013 - val_accuracy: 0.8834\n",
            "\n",
            "Epoch 00130: saving model to training_1/cp.ckpt\n",
            "INFO:tensorflow:Assets written to: training_1/cp.ckpt/assets\n"
          ],
          "name": "stdout"
        },
        {
          "output_type": "stream",
          "text": [
            "INFO:tensorflow:Assets written to: training_1/cp.ckpt/assets\n"
          ],
          "name": "stderr"
        },
        {
          "output_type": "stream",
          "text": [
            "Epoch 131/300\n",
            "625/625 [==============================] - 5s 8ms/step - loss: 0.0034 - accuracy: 0.9989 - val_loss: 1.0819 - val_accuracy: 0.8826\n",
            "\n",
            "Epoch 00131: saving model to training_1/cp.ckpt\n",
            "INFO:tensorflow:Assets written to: training_1/cp.ckpt/assets\n"
          ],
          "name": "stdout"
        },
        {
          "output_type": "stream",
          "text": [
            "INFO:tensorflow:Assets written to: training_1/cp.ckpt/assets\n"
          ],
          "name": "stderr"
        },
        {
          "output_type": "stream",
          "text": [
            "Epoch 132/300\n",
            "625/625 [==============================] - 5s 8ms/step - loss: 0.0012 - accuracy: 0.9995 - val_loss: 1.3601 - val_accuracy: 0.8742\n",
            "\n",
            "Epoch 00132: saving model to training_1/cp.ckpt\n",
            "INFO:tensorflow:Assets written to: training_1/cp.ckpt/assets\n"
          ],
          "name": "stdout"
        },
        {
          "output_type": "stream",
          "text": [
            "INFO:tensorflow:Assets written to: training_1/cp.ckpt/assets\n"
          ],
          "name": "stderr"
        },
        {
          "output_type": "stream",
          "text": [
            "Epoch 133/300\n",
            "625/625 [==============================] - 5s 8ms/step - loss: 0.0044 - accuracy: 0.9988 - val_loss: 1.2117 - val_accuracy: 0.8842\n",
            "\n",
            "Epoch 00133: saving model to training_1/cp.ckpt\n",
            "INFO:tensorflow:Assets written to: training_1/cp.ckpt/assets\n"
          ],
          "name": "stdout"
        },
        {
          "output_type": "stream",
          "text": [
            "INFO:tensorflow:Assets written to: training_1/cp.ckpt/assets\n"
          ],
          "name": "stderr"
        },
        {
          "output_type": "stream",
          "text": [
            "Epoch 134/300\n",
            "625/625 [==============================] - 5s 8ms/step - loss: 0.0033 - accuracy: 0.9991 - val_loss: 1.3223 - val_accuracy: 0.8718\n",
            "\n",
            "Epoch 00134: saving model to training_1/cp.ckpt\n",
            "INFO:tensorflow:Assets written to: training_1/cp.ckpt/assets\n"
          ],
          "name": "stdout"
        },
        {
          "output_type": "stream",
          "text": [
            "INFO:tensorflow:Assets written to: training_1/cp.ckpt/assets\n"
          ],
          "name": "stderr"
        },
        {
          "output_type": "stream",
          "text": [
            "Epoch 135/300\n",
            "625/625 [==============================] - 5s 8ms/step - loss: 0.0021 - accuracy: 0.9993 - val_loss: 1.0157 - val_accuracy: 0.8828\n",
            "\n",
            "Epoch 00135: saving model to training_1/cp.ckpt\n",
            "INFO:tensorflow:Assets written to: training_1/cp.ckpt/assets\n"
          ],
          "name": "stdout"
        },
        {
          "output_type": "stream",
          "text": [
            "INFO:tensorflow:Assets written to: training_1/cp.ckpt/assets\n"
          ],
          "name": "stderr"
        },
        {
          "output_type": "stream",
          "text": [
            "Epoch 136/300\n",
            "625/625 [==============================] - 5s 8ms/step - loss: 6.0022e-04 - accuracy: 0.9999 - val_loss: 1.2651 - val_accuracy: 0.8772\n",
            "\n",
            "Epoch 00136: saving model to training_1/cp.ckpt\n",
            "INFO:tensorflow:Assets written to: training_1/cp.ckpt/assets\n"
          ],
          "name": "stdout"
        },
        {
          "output_type": "stream",
          "text": [
            "INFO:tensorflow:Assets written to: training_1/cp.ckpt/assets\n"
          ],
          "name": "stderr"
        },
        {
          "output_type": "stream",
          "text": [
            "Epoch 137/300\n",
            "625/625 [==============================] - 5s 8ms/step - loss: 0.0015 - accuracy: 0.9993 - val_loss: 1.2150 - val_accuracy: 0.8740\n",
            "\n",
            "Epoch 00137: saving model to training_1/cp.ckpt\n",
            "INFO:tensorflow:Assets written to: training_1/cp.ckpt/assets\n"
          ],
          "name": "stdout"
        },
        {
          "output_type": "stream",
          "text": [
            "INFO:tensorflow:Assets written to: training_1/cp.ckpt/assets\n"
          ],
          "name": "stderr"
        },
        {
          "output_type": "stream",
          "text": [
            "Epoch 138/300\n",
            "625/625 [==============================] - 5s 8ms/step - loss: 0.0025 - accuracy: 0.9991 - val_loss: 1.1161 - val_accuracy: 0.8828\n",
            "\n",
            "Epoch 00138: saving model to training_1/cp.ckpt\n",
            "INFO:tensorflow:Assets written to: training_1/cp.ckpt/assets\n"
          ],
          "name": "stdout"
        },
        {
          "output_type": "stream",
          "text": [
            "INFO:tensorflow:Assets written to: training_1/cp.ckpt/assets\n"
          ],
          "name": "stderr"
        },
        {
          "output_type": "stream",
          "text": [
            "Epoch 139/300\n",
            "625/625 [==============================] - 5s 8ms/step - loss: 0.0012 - accuracy: 0.9996 - val_loss: 1.2666 - val_accuracy: 0.8828\n",
            "\n",
            "Epoch 00139: saving model to training_1/cp.ckpt\n",
            "INFO:tensorflow:Assets written to: training_1/cp.ckpt/assets\n"
          ],
          "name": "stdout"
        },
        {
          "output_type": "stream",
          "text": [
            "INFO:tensorflow:Assets written to: training_1/cp.ckpt/assets\n"
          ],
          "name": "stderr"
        },
        {
          "output_type": "stream",
          "text": [
            "Epoch 140/300\n",
            "625/625 [==============================] - 5s 8ms/step - loss: 0.0034 - accuracy: 0.9989 - val_loss: 1.1897 - val_accuracy: 0.8796\n",
            "\n",
            "Epoch 00140: saving model to training_1/cp.ckpt\n",
            "INFO:tensorflow:Assets written to: training_1/cp.ckpt/assets\n"
          ],
          "name": "stdout"
        },
        {
          "output_type": "stream",
          "text": [
            "INFO:tensorflow:Assets written to: training_1/cp.ckpt/assets\n"
          ],
          "name": "stderr"
        },
        {
          "output_type": "stream",
          "text": [
            "Epoch 141/300\n",
            "625/625 [==============================] - 5s 8ms/step - loss: 0.0012 - accuracy: 0.9996 - val_loss: 1.4377 - val_accuracy: 0.8816\n",
            "\n",
            "Epoch 00141: saving model to training_1/cp.ckpt\n",
            "INFO:tensorflow:Assets written to: training_1/cp.ckpt/assets\n"
          ],
          "name": "stdout"
        },
        {
          "output_type": "stream",
          "text": [
            "INFO:tensorflow:Assets written to: training_1/cp.ckpt/assets\n"
          ],
          "name": "stderr"
        },
        {
          "output_type": "stream",
          "text": [
            "Epoch 142/300\n",
            "625/625 [==============================] - 5s 8ms/step - loss: 0.0011 - accuracy: 0.9995 - val_loss: 1.2572 - val_accuracy: 0.8786\n",
            "\n",
            "Epoch 00142: saving model to training_1/cp.ckpt\n",
            "INFO:tensorflow:Assets written to: training_1/cp.ckpt/assets\n"
          ],
          "name": "stdout"
        },
        {
          "output_type": "stream",
          "text": [
            "INFO:tensorflow:Assets written to: training_1/cp.ckpt/assets\n"
          ],
          "name": "stderr"
        },
        {
          "output_type": "stream",
          "text": [
            "Epoch 143/300\n",
            "625/625 [==============================] - 5s 8ms/step - loss: 0.0021 - accuracy: 0.9992 - val_loss: 1.3037 - val_accuracy: 0.8694\n",
            "\n",
            "Epoch 00143: saving model to training_1/cp.ckpt\n",
            "INFO:tensorflow:Assets written to: training_1/cp.ckpt/assets\n"
          ],
          "name": "stdout"
        },
        {
          "output_type": "stream",
          "text": [
            "INFO:tensorflow:Assets written to: training_1/cp.ckpt/assets\n"
          ],
          "name": "stderr"
        },
        {
          "output_type": "stream",
          "text": [
            "Epoch 144/300\n",
            "625/625 [==============================] - 5s 8ms/step - loss: 0.0022 - accuracy: 0.9995 - val_loss: 1.3676 - val_accuracy: 0.8796\n",
            "\n",
            "Epoch 00144: saving model to training_1/cp.ckpt\n",
            "INFO:tensorflow:Assets written to: training_1/cp.ckpt/assets\n"
          ],
          "name": "stdout"
        },
        {
          "output_type": "stream",
          "text": [
            "INFO:tensorflow:Assets written to: training_1/cp.ckpt/assets\n"
          ],
          "name": "stderr"
        },
        {
          "output_type": "stream",
          "text": [
            "Epoch 145/300\n",
            "625/625 [==============================] - 5s 8ms/step - loss: 0.0059 - accuracy: 0.9980 - val_loss: 1.0648 - val_accuracy: 0.8766\n",
            "\n",
            "Epoch 00145: saving model to training_1/cp.ckpt\n",
            "INFO:tensorflow:Assets written to: training_1/cp.ckpt/assets\n"
          ],
          "name": "stdout"
        },
        {
          "output_type": "stream",
          "text": [
            "INFO:tensorflow:Assets written to: training_1/cp.ckpt/assets\n"
          ],
          "name": "stderr"
        },
        {
          "output_type": "stream",
          "text": [
            "Epoch 146/300\n",
            "625/625 [==============================] - 5s 8ms/step - loss: 9.7585e-04 - accuracy: 0.9997 - val_loss: 1.0075 - val_accuracy: 0.8780\n",
            "\n",
            "Epoch 00146: saving model to training_1/cp.ckpt\n",
            "INFO:tensorflow:Assets written to: training_1/cp.ckpt/assets\n"
          ],
          "name": "stdout"
        },
        {
          "output_type": "stream",
          "text": [
            "INFO:tensorflow:Assets written to: training_1/cp.ckpt/assets\n"
          ],
          "name": "stderr"
        },
        {
          "output_type": "stream",
          "text": [
            "Epoch 147/300\n",
            "625/625 [==============================] - 5s 8ms/step - loss: 0.0013 - accuracy: 0.9994 - val_loss: 1.1745 - val_accuracy: 0.8784\n",
            "\n",
            "Epoch 00147: saving model to training_1/cp.ckpt\n",
            "INFO:tensorflow:Assets written to: training_1/cp.ckpt/assets\n"
          ],
          "name": "stdout"
        },
        {
          "output_type": "stream",
          "text": [
            "INFO:tensorflow:Assets written to: training_1/cp.ckpt/assets\n"
          ],
          "name": "stderr"
        },
        {
          "output_type": "stream",
          "text": [
            "Epoch 148/300\n",
            "625/625 [==============================] - 5s 8ms/step - loss: 0.0038 - accuracy: 0.9989 - val_loss: 1.2769 - val_accuracy: 0.8768\n",
            "\n",
            "Epoch 00148: saving model to training_1/cp.ckpt\n",
            "INFO:tensorflow:Assets written to: training_1/cp.ckpt/assets\n"
          ],
          "name": "stdout"
        },
        {
          "output_type": "stream",
          "text": [
            "INFO:tensorflow:Assets written to: training_1/cp.ckpt/assets\n"
          ],
          "name": "stderr"
        },
        {
          "output_type": "stream",
          "text": [
            "Epoch 149/300\n",
            "625/625 [==============================] - 5s 8ms/step - loss: 0.0024 - accuracy: 0.9994 - val_loss: 1.2878 - val_accuracy: 0.8788\n",
            "\n",
            "Epoch 00149: saving model to training_1/cp.ckpt\n",
            "INFO:tensorflow:Assets written to: training_1/cp.ckpt/assets\n"
          ],
          "name": "stdout"
        },
        {
          "output_type": "stream",
          "text": [
            "INFO:tensorflow:Assets written to: training_1/cp.ckpt/assets\n"
          ],
          "name": "stderr"
        },
        {
          "output_type": "stream",
          "text": [
            "Epoch 150/300\n",
            "625/625 [==============================] - 5s 8ms/step - loss: 0.0011 - accuracy: 0.9995 - val_loss: 1.4128 - val_accuracy: 0.8774\n",
            "\n",
            "Epoch 00150: saving model to training_1/cp.ckpt\n",
            "INFO:tensorflow:Assets written to: training_1/cp.ckpt/assets\n"
          ],
          "name": "stdout"
        },
        {
          "output_type": "stream",
          "text": [
            "INFO:tensorflow:Assets written to: training_1/cp.ckpt/assets\n"
          ],
          "name": "stderr"
        },
        {
          "output_type": "stream",
          "text": [
            "Epoch 151/300\n",
            "625/625 [==============================] - 5s 8ms/step - loss: 0.0011 - accuracy: 0.9997 - val_loss: 1.4538 - val_accuracy: 0.8800\n",
            "\n",
            "Epoch 00151: saving model to training_1/cp.ckpt\n",
            "INFO:tensorflow:Assets written to: training_1/cp.ckpt/assets\n"
          ],
          "name": "stdout"
        },
        {
          "output_type": "stream",
          "text": [
            "INFO:tensorflow:Assets written to: training_1/cp.ckpt/assets\n"
          ],
          "name": "stderr"
        },
        {
          "output_type": "stream",
          "text": [
            "Epoch 152/300\n",
            "625/625 [==============================] - 5s 8ms/step - loss: 0.0016 - accuracy: 0.9995 - val_loss: 1.2903 - val_accuracy: 0.8810\n",
            "\n",
            "Epoch 00152: saving model to training_1/cp.ckpt\n",
            "INFO:tensorflow:Assets written to: training_1/cp.ckpt/assets\n"
          ],
          "name": "stdout"
        },
        {
          "output_type": "stream",
          "text": [
            "INFO:tensorflow:Assets written to: training_1/cp.ckpt/assets\n"
          ],
          "name": "stderr"
        },
        {
          "output_type": "stream",
          "text": [
            "Epoch 153/300\n",
            "625/625 [==============================] - 5s 8ms/step - loss: 0.0037 - accuracy: 0.9989 - val_loss: 1.3296 - val_accuracy: 0.8678\n",
            "\n",
            "Epoch 00153: saving model to training_1/cp.ckpt\n",
            "INFO:tensorflow:Assets written to: training_1/cp.ckpt/assets\n"
          ],
          "name": "stdout"
        },
        {
          "output_type": "stream",
          "text": [
            "INFO:tensorflow:Assets written to: training_1/cp.ckpt/assets\n"
          ],
          "name": "stderr"
        },
        {
          "output_type": "stream",
          "text": [
            "Epoch 154/300\n",
            "625/625 [==============================] - 5s 8ms/step - loss: 0.0014 - accuracy: 0.9992 - val_loss: 1.4466 - val_accuracy: 0.8778\n",
            "\n",
            "Epoch 00154: saving model to training_1/cp.ckpt\n",
            "INFO:tensorflow:Assets written to: training_1/cp.ckpt/assets\n"
          ],
          "name": "stdout"
        },
        {
          "output_type": "stream",
          "text": [
            "INFO:tensorflow:Assets written to: training_1/cp.ckpt/assets\n"
          ],
          "name": "stderr"
        },
        {
          "output_type": "stream",
          "text": [
            "Epoch 155/300\n",
            "625/625 [==============================] - 5s 8ms/step - loss: 0.0013 - accuracy: 0.9996 - val_loss: 1.2721 - val_accuracy: 0.8792\n",
            "\n",
            "Epoch 00155: saving model to training_1/cp.ckpt\n",
            "INFO:tensorflow:Assets written to: training_1/cp.ckpt/assets\n"
          ],
          "name": "stdout"
        },
        {
          "output_type": "stream",
          "text": [
            "INFO:tensorflow:Assets written to: training_1/cp.ckpt/assets\n"
          ],
          "name": "stderr"
        },
        {
          "output_type": "stream",
          "text": [
            "Epoch 156/300\n",
            "625/625 [==============================] - 5s 8ms/step - loss: 0.0011 - accuracy: 0.9996 - val_loss: 1.2825 - val_accuracy: 0.8798\n",
            "\n",
            "Epoch 00156: saving model to training_1/cp.ckpt\n",
            "INFO:tensorflow:Assets written to: training_1/cp.ckpt/assets\n"
          ],
          "name": "stdout"
        },
        {
          "output_type": "stream",
          "text": [
            "INFO:tensorflow:Assets written to: training_1/cp.ckpt/assets\n"
          ],
          "name": "stderr"
        },
        {
          "output_type": "stream",
          "text": [
            "Epoch 157/300\n",
            "625/625 [==============================] - 5s 8ms/step - loss: 0.0036 - accuracy: 0.9984 - val_loss: 1.2816 - val_accuracy: 0.8744\n",
            "\n",
            "Epoch 00157: saving model to training_1/cp.ckpt\n",
            "INFO:tensorflow:Assets written to: training_1/cp.ckpt/assets\n"
          ],
          "name": "stdout"
        },
        {
          "output_type": "stream",
          "text": [
            "INFO:tensorflow:Assets written to: training_1/cp.ckpt/assets\n"
          ],
          "name": "stderr"
        },
        {
          "output_type": "stream",
          "text": [
            "Epoch 158/300\n",
            "625/625 [==============================] - 5s 8ms/step - loss: 0.0016 - accuracy: 0.9995 - val_loss: 1.3445 - val_accuracy: 0.8786\n",
            "\n",
            "Epoch 00158: saving model to training_1/cp.ckpt\n",
            "INFO:tensorflow:Assets written to: training_1/cp.ckpt/assets\n"
          ],
          "name": "stdout"
        },
        {
          "output_type": "stream",
          "text": [
            "INFO:tensorflow:Assets written to: training_1/cp.ckpt/assets\n"
          ],
          "name": "stderr"
        },
        {
          "output_type": "stream",
          "text": [
            "Epoch 159/300\n",
            "625/625 [==============================] - 5s 8ms/step - loss: 0.0039 - accuracy: 0.9989 - val_loss: 1.2424 - val_accuracy: 0.8782\n",
            "\n",
            "Epoch 00159: saving model to training_1/cp.ckpt\n",
            "INFO:tensorflow:Assets written to: training_1/cp.ckpt/assets\n"
          ],
          "name": "stdout"
        },
        {
          "output_type": "stream",
          "text": [
            "INFO:tensorflow:Assets written to: training_1/cp.ckpt/assets\n"
          ],
          "name": "stderr"
        },
        {
          "output_type": "stream",
          "text": [
            "Epoch 160/300\n",
            "625/625 [==============================] - 5s 8ms/step - loss: 0.0016 - accuracy: 0.9993 - val_loss: 1.2158 - val_accuracy: 0.8768\n",
            "\n",
            "Epoch 00160: saving model to training_1/cp.ckpt\n",
            "INFO:tensorflow:Assets written to: training_1/cp.ckpt/assets\n"
          ],
          "name": "stdout"
        },
        {
          "output_type": "stream",
          "text": [
            "INFO:tensorflow:Assets written to: training_1/cp.ckpt/assets\n"
          ],
          "name": "stderr"
        },
        {
          "output_type": "stream",
          "text": [
            "Epoch 161/300\n",
            "625/625 [==============================] - 5s 8ms/step - loss: 0.0020 - accuracy: 0.9994 - val_loss: 1.3347 - val_accuracy: 0.8754\n",
            "\n",
            "Epoch 00161: saving model to training_1/cp.ckpt\n",
            "INFO:tensorflow:Assets written to: training_1/cp.ckpt/assets\n"
          ],
          "name": "stdout"
        },
        {
          "output_type": "stream",
          "text": [
            "INFO:tensorflow:Assets written to: training_1/cp.ckpt/assets\n"
          ],
          "name": "stderr"
        },
        {
          "output_type": "stream",
          "text": [
            "Epoch 162/300\n",
            "625/625 [==============================] - 5s 8ms/step - loss: 9.3705e-04 - accuracy: 0.9995 - val_loss: 1.2974 - val_accuracy: 0.8778\n",
            "\n",
            "Epoch 00162: saving model to training_1/cp.ckpt\n",
            "INFO:tensorflow:Assets written to: training_1/cp.ckpt/assets\n"
          ],
          "name": "stdout"
        },
        {
          "output_type": "stream",
          "text": [
            "INFO:tensorflow:Assets written to: training_1/cp.ckpt/assets\n"
          ],
          "name": "stderr"
        },
        {
          "output_type": "stream",
          "text": [
            "Epoch 163/300\n",
            "625/625 [==============================] - 5s 8ms/step - loss: 0.0025 - accuracy: 0.9990 - val_loss: 1.2478 - val_accuracy: 0.8772\n",
            "\n",
            "Epoch 00163: saving model to training_1/cp.ckpt\n",
            "INFO:tensorflow:Assets written to: training_1/cp.ckpt/assets\n"
          ],
          "name": "stdout"
        },
        {
          "output_type": "stream",
          "text": [
            "INFO:tensorflow:Assets written to: training_1/cp.ckpt/assets\n"
          ],
          "name": "stderr"
        },
        {
          "output_type": "stream",
          "text": [
            "Epoch 164/300\n",
            "625/625 [==============================] - 5s 8ms/step - loss: 0.0030 - accuracy: 0.9991 - val_loss: 1.2403 - val_accuracy: 0.8778\n",
            "\n",
            "Epoch 00164: saving model to training_1/cp.ckpt\n",
            "INFO:tensorflow:Assets written to: training_1/cp.ckpt/assets\n"
          ],
          "name": "stdout"
        },
        {
          "output_type": "stream",
          "text": [
            "INFO:tensorflow:Assets written to: training_1/cp.ckpt/assets\n"
          ],
          "name": "stderr"
        },
        {
          "output_type": "stream",
          "text": [
            "Epoch 165/300\n",
            "625/625 [==============================] - 5s 8ms/step - loss: 0.0018 - accuracy: 0.9995 - val_loss: 1.2538 - val_accuracy: 0.8796\n",
            "\n",
            "Epoch 00165: saving model to training_1/cp.ckpt\n",
            "INFO:tensorflow:Assets written to: training_1/cp.ckpt/assets\n"
          ],
          "name": "stdout"
        },
        {
          "output_type": "stream",
          "text": [
            "INFO:tensorflow:Assets written to: training_1/cp.ckpt/assets\n"
          ],
          "name": "stderr"
        },
        {
          "output_type": "stream",
          "text": [
            "Epoch 166/300\n",
            "625/625 [==============================] - 5s 8ms/step - loss: 0.0015 - accuracy: 0.9993 - val_loss: 1.1860 - val_accuracy: 0.8802\n",
            "\n",
            "Epoch 00166: saving model to training_1/cp.ckpt\n",
            "INFO:tensorflow:Assets written to: training_1/cp.ckpt/assets\n"
          ],
          "name": "stdout"
        },
        {
          "output_type": "stream",
          "text": [
            "INFO:tensorflow:Assets written to: training_1/cp.ckpt/assets\n"
          ],
          "name": "stderr"
        },
        {
          "output_type": "stream",
          "text": [
            "Epoch 167/300\n",
            "625/625 [==============================] - 5s 8ms/step - loss: 1.8653e-04 - accuracy: 1.0000 - val_loss: 1.3813 - val_accuracy: 0.8802\n",
            "\n",
            "Epoch 00167: saving model to training_1/cp.ckpt\n",
            "INFO:tensorflow:Assets written to: training_1/cp.ckpt/assets\n"
          ],
          "name": "stdout"
        },
        {
          "output_type": "stream",
          "text": [
            "INFO:tensorflow:Assets written to: training_1/cp.ckpt/assets\n"
          ],
          "name": "stderr"
        },
        {
          "output_type": "stream",
          "text": [
            "Epoch 168/300\n",
            "625/625 [==============================] - 5s 8ms/step - loss: 0.0050 - accuracy: 0.9986 - val_loss: 1.3370 - val_accuracy: 0.8822\n",
            "\n",
            "Epoch 00168: saving model to training_1/cp.ckpt\n",
            "INFO:tensorflow:Assets written to: training_1/cp.ckpt/assets\n"
          ],
          "name": "stdout"
        },
        {
          "output_type": "stream",
          "text": [
            "INFO:tensorflow:Assets written to: training_1/cp.ckpt/assets\n"
          ],
          "name": "stderr"
        },
        {
          "output_type": "stream",
          "text": [
            "Epoch 169/300\n",
            "625/625 [==============================] - 5s 8ms/step - loss: 0.0014 - accuracy: 0.9996 - val_loss: 1.2406 - val_accuracy: 0.8804\n",
            "\n",
            "Epoch 00169: saving model to training_1/cp.ckpt\n",
            "INFO:tensorflow:Assets written to: training_1/cp.ckpt/assets\n"
          ],
          "name": "stdout"
        },
        {
          "output_type": "stream",
          "text": [
            "INFO:tensorflow:Assets written to: training_1/cp.ckpt/assets\n"
          ],
          "name": "stderr"
        },
        {
          "output_type": "stream",
          "text": [
            "Epoch 170/300\n",
            "625/625 [==============================] - 5s 8ms/step - loss: 0.0015 - accuracy: 0.9994 - val_loss: 1.3843 - val_accuracy: 0.8778\n",
            "\n",
            "Epoch 00170: saving model to training_1/cp.ckpt\n",
            "INFO:tensorflow:Assets written to: training_1/cp.ckpt/assets\n"
          ],
          "name": "stdout"
        },
        {
          "output_type": "stream",
          "text": [
            "INFO:tensorflow:Assets written to: training_1/cp.ckpt/assets\n"
          ],
          "name": "stderr"
        },
        {
          "output_type": "stream",
          "text": [
            "Epoch 171/300\n",
            "625/625 [==============================] - 5s 8ms/step - loss: 0.0030 - accuracy: 0.9988 - val_loss: 1.2908 - val_accuracy: 0.8806\n",
            "\n",
            "Epoch 00171: saving model to training_1/cp.ckpt\n",
            "INFO:tensorflow:Assets written to: training_1/cp.ckpt/assets\n"
          ],
          "name": "stdout"
        },
        {
          "output_type": "stream",
          "text": [
            "INFO:tensorflow:Assets written to: training_1/cp.ckpt/assets\n"
          ],
          "name": "stderr"
        },
        {
          "output_type": "stream",
          "text": [
            "Epoch 172/300\n",
            "625/625 [==============================] - 5s 8ms/step - loss: 0.0023 - accuracy: 0.9989 - val_loss: 1.3660 - val_accuracy: 0.8808\n",
            "\n",
            "Epoch 00172: saving model to training_1/cp.ckpt\n",
            "INFO:tensorflow:Assets written to: training_1/cp.ckpt/assets\n"
          ],
          "name": "stdout"
        },
        {
          "output_type": "stream",
          "text": [
            "INFO:tensorflow:Assets written to: training_1/cp.ckpt/assets\n"
          ],
          "name": "stderr"
        },
        {
          "output_type": "stream",
          "text": [
            "Epoch 173/300\n",
            "625/625 [==============================] - 5s 8ms/step - loss: 0.0030 - accuracy: 0.9995 - val_loss: 1.2339 - val_accuracy: 0.8836\n",
            "\n",
            "Epoch 00173: saving model to training_1/cp.ckpt\n",
            "INFO:tensorflow:Assets written to: training_1/cp.ckpt/assets\n"
          ],
          "name": "stdout"
        },
        {
          "output_type": "stream",
          "text": [
            "INFO:tensorflow:Assets written to: training_1/cp.ckpt/assets\n"
          ],
          "name": "stderr"
        },
        {
          "output_type": "stream",
          "text": [
            "Epoch 174/300\n",
            "625/625 [==============================] - 5s 8ms/step - loss: 7.6150e-04 - accuracy: 0.9997 - val_loss: 1.4987 - val_accuracy: 0.8830\n",
            "\n",
            "Epoch 00174: saving model to training_1/cp.ckpt\n",
            "INFO:tensorflow:Assets written to: training_1/cp.ckpt/assets\n"
          ],
          "name": "stdout"
        },
        {
          "output_type": "stream",
          "text": [
            "INFO:tensorflow:Assets written to: training_1/cp.ckpt/assets\n"
          ],
          "name": "stderr"
        },
        {
          "output_type": "stream",
          "text": [
            "Epoch 175/300\n",
            "625/625 [==============================] - 5s 8ms/step - loss: 0.0023 - accuracy: 0.9989 - val_loss: 1.4886 - val_accuracy: 0.8790\n",
            "\n",
            "Epoch 00175: saving model to training_1/cp.ckpt\n",
            "INFO:tensorflow:Assets written to: training_1/cp.ckpt/assets\n"
          ],
          "name": "stdout"
        },
        {
          "output_type": "stream",
          "text": [
            "INFO:tensorflow:Assets written to: training_1/cp.ckpt/assets\n"
          ],
          "name": "stderr"
        },
        {
          "output_type": "stream",
          "text": [
            "Epoch 176/300\n",
            "625/625 [==============================] - 5s 8ms/step - loss: 0.0050 - accuracy: 0.9986 - val_loss: 1.3045 - val_accuracy: 0.8836\n",
            "\n",
            "Epoch 00176: saving model to training_1/cp.ckpt\n",
            "INFO:tensorflow:Assets written to: training_1/cp.ckpt/assets\n"
          ],
          "name": "stdout"
        },
        {
          "output_type": "stream",
          "text": [
            "INFO:tensorflow:Assets written to: training_1/cp.ckpt/assets\n"
          ],
          "name": "stderr"
        },
        {
          "output_type": "stream",
          "text": [
            "Epoch 177/300\n",
            "625/625 [==============================] - 5s 8ms/step - loss: 0.0017 - accuracy: 0.9996 - val_loss: 1.1539 - val_accuracy: 0.8824\n",
            "\n",
            "Epoch 00177: saving model to training_1/cp.ckpt\n",
            "INFO:tensorflow:Assets written to: training_1/cp.ckpt/assets\n"
          ],
          "name": "stdout"
        },
        {
          "output_type": "stream",
          "text": [
            "INFO:tensorflow:Assets written to: training_1/cp.ckpt/assets\n"
          ],
          "name": "stderr"
        },
        {
          "output_type": "stream",
          "text": [
            "Epoch 178/300\n",
            "625/625 [==============================] - 5s 8ms/step - loss: 0.0010 - accuracy: 0.9997 - val_loss: 1.2920 - val_accuracy: 0.8820\n",
            "\n",
            "Epoch 00178: saving model to training_1/cp.ckpt\n",
            "INFO:tensorflow:Assets written to: training_1/cp.ckpt/assets\n"
          ],
          "name": "stdout"
        },
        {
          "output_type": "stream",
          "text": [
            "INFO:tensorflow:Assets written to: training_1/cp.ckpt/assets\n"
          ],
          "name": "stderr"
        },
        {
          "output_type": "stream",
          "text": [
            "Epoch 179/300\n",
            "625/625 [==============================] - 5s 8ms/step - loss: 0.0020 - accuracy: 0.9993 - val_loss: 1.3538 - val_accuracy: 0.8794\n",
            "\n",
            "Epoch 00179: saving model to training_1/cp.ckpt\n",
            "INFO:tensorflow:Assets written to: training_1/cp.ckpt/assets\n"
          ],
          "name": "stdout"
        },
        {
          "output_type": "stream",
          "text": [
            "INFO:tensorflow:Assets written to: training_1/cp.ckpt/assets\n"
          ],
          "name": "stderr"
        },
        {
          "output_type": "stream",
          "text": [
            "Epoch 180/300\n",
            "625/625 [==============================] - 5s 8ms/step - loss: 8.0599e-04 - accuracy: 0.9996 - val_loss: 1.4688 - val_accuracy: 0.8796\n",
            "\n",
            "Epoch 00180: saving model to training_1/cp.ckpt\n",
            "INFO:tensorflow:Assets written to: training_1/cp.ckpt/assets\n"
          ],
          "name": "stdout"
        },
        {
          "output_type": "stream",
          "text": [
            "INFO:tensorflow:Assets written to: training_1/cp.ckpt/assets\n"
          ],
          "name": "stderr"
        },
        {
          "output_type": "stream",
          "text": [
            "Epoch 181/300\n",
            "625/625 [==============================] - 5s 8ms/step - loss: 0.0016 - accuracy: 0.9995 - val_loss: 1.5244 - val_accuracy: 0.8744\n",
            "\n",
            "Epoch 00181: saving model to training_1/cp.ckpt\n",
            "INFO:tensorflow:Assets written to: training_1/cp.ckpt/assets\n"
          ],
          "name": "stdout"
        },
        {
          "output_type": "stream",
          "text": [
            "INFO:tensorflow:Assets written to: training_1/cp.ckpt/assets\n"
          ],
          "name": "stderr"
        },
        {
          "output_type": "stream",
          "text": [
            "Epoch 182/300\n",
            "625/625 [==============================] - 5s 8ms/step - loss: 0.0016 - accuracy: 0.9995 - val_loss: 1.5010 - val_accuracy: 0.8822\n",
            "\n",
            "Epoch 00182: saving model to training_1/cp.ckpt\n",
            "INFO:tensorflow:Assets written to: training_1/cp.ckpt/assets\n"
          ],
          "name": "stdout"
        },
        {
          "output_type": "stream",
          "text": [
            "INFO:tensorflow:Assets written to: training_1/cp.ckpt/assets\n"
          ],
          "name": "stderr"
        },
        {
          "output_type": "stream",
          "text": [
            "Epoch 183/300\n",
            "625/625 [==============================] - 5s 8ms/step - loss: 0.0033 - accuracy: 0.9992 - val_loss: 1.5514 - val_accuracy: 0.8786\n",
            "\n",
            "Epoch 00183: saving model to training_1/cp.ckpt\n",
            "INFO:tensorflow:Assets written to: training_1/cp.ckpt/assets\n"
          ],
          "name": "stdout"
        },
        {
          "output_type": "stream",
          "text": [
            "INFO:tensorflow:Assets written to: training_1/cp.ckpt/assets\n"
          ],
          "name": "stderr"
        },
        {
          "output_type": "stream",
          "text": [
            "Epoch 184/300\n",
            "625/625 [==============================] - 5s 8ms/step - loss: 0.0024 - accuracy: 0.9992 - val_loss: 1.5932 - val_accuracy: 0.8850\n",
            "\n",
            "Epoch 00184: saving model to training_1/cp.ckpt\n",
            "INFO:tensorflow:Assets written to: training_1/cp.ckpt/assets\n"
          ],
          "name": "stdout"
        },
        {
          "output_type": "stream",
          "text": [
            "INFO:tensorflow:Assets written to: training_1/cp.ckpt/assets\n"
          ],
          "name": "stderr"
        },
        {
          "output_type": "stream",
          "text": [
            "Epoch 185/300\n",
            "625/625 [==============================] - 5s 8ms/step - loss: 0.0030 - accuracy: 0.9991 - val_loss: 1.2237 - val_accuracy: 0.8804\n",
            "\n",
            "Epoch 00185: saving model to training_1/cp.ckpt\n",
            "INFO:tensorflow:Assets written to: training_1/cp.ckpt/assets\n"
          ],
          "name": "stdout"
        },
        {
          "output_type": "stream",
          "text": [
            "INFO:tensorflow:Assets written to: training_1/cp.ckpt/assets\n"
          ],
          "name": "stderr"
        },
        {
          "output_type": "stream",
          "text": [
            "Epoch 186/300\n",
            "625/625 [==============================] - 5s 8ms/step - loss: 0.0024 - accuracy: 0.9994 - val_loss: 1.4041 - val_accuracy: 0.8838\n",
            "\n",
            "Epoch 00186: saving model to training_1/cp.ckpt\n",
            "INFO:tensorflow:Assets written to: training_1/cp.ckpt/assets\n"
          ],
          "name": "stdout"
        },
        {
          "output_type": "stream",
          "text": [
            "INFO:tensorflow:Assets written to: training_1/cp.ckpt/assets\n"
          ],
          "name": "stderr"
        },
        {
          "output_type": "stream",
          "text": [
            "Epoch 187/300\n",
            "625/625 [==============================] - 5s 8ms/step - loss: 0.0012 - accuracy: 0.9995 - val_loss: 1.3543 - val_accuracy: 0.8808\n",
            "\n",
            "Epoch 00187: saving model to training_1/cp.ckpt\n",
            "INFO:tensorflow:Assets written to: training_1/cp.ckpt/assets\n"
          ],
          "name": "stdout"
        },
        {
          "output_type": "stream",
          "text": [
            "INFO:tensorflow:Assets written to: training_1/cp.ckpt/assets\n"
          ],
          "name": "stderr"
        },
        {
          "output_type": "stream",
          "text": [
            "Epoch 188/300\n",
            "625/625 [==============================] - 5s 8ms/step - loss: 0.0014 - accuracy: 0.9994 - val_loss: 1.1567 - val_accuracy: 0.8818\n",
            "\n",
            "Epoch 00188: saving model to training_1/cp.ckpt\n",
            "INFO:tensorflow:Assets written to: training_1/cp.ckpt/assets\n"
          ],
          "name": "stdout"
        },
        {
          "output_type": "stream",
          "text": [
            "INFO:tensorflow:Assets written to: training_1/cp.ckpt/assets\n"
          ],
          "name": "stderr"
        },
        {
          "output_type": "stream",
          "text": [
            "Epoch 189/300\n",
            "625/625 [==============================] - 5s 8ms/step - loss: 0.0022 - accuracy: 0.9994 - val_loss: 1.2345 - val_accuracy: 0.8866\n",
            "\n",
            "Epoch 00189: saving model to training_1/cp.ckpt\n",
            "INFO:tensorflow:Assets written to: training_1/cp.ckpt/assets\n"
          ],
          "name": "stdout"
        },
        {
          "output_type": "stream",
          "text": [
            "INFO:tensorflow:Assets written to: training_1/cp.ckpt/assets\n"
          ],
          "name": "stderr"
        },
        {
          "output_type": "stream",
          "text": [
            "Epoch 190/300\n",
            "625/625 [==============================] - 5s 8ms/step - loss: 0.0024 - accuracy: 0.9994 - val_loss: 1.0317 - val_accuracy: 0.8840\n",
            "\n",
            "Epoch 00190: saving model to training_1/cp.ckpt\n",
            "INFO:tensorflow:Assets written to: training_1/cp.ckpt/assets\n"
          ],
          "name": "stdout"
        },
        {
          "output_type": "stream",
          "text": [
            "INFO:tensorflow:Assets written to: training_1/cp.ckpt/assets\n"
          ],
          "name": "stderr"
        },
        {
          "output_type": "stream",
          "text": [
            "Epoch 191/300\n",
            "625/625 [==============================] - 5s 8ms/step - loss: 0.0013 - accuracy: 0.9997 - val_loss: 1.2450 - val_accuracy: 0.8826\n",
            "\n",
            "Epoch 00191: saving model to training_1/cp.ckpt\n",
            "INFO:tensorflow:Assets written to: training_1/cp.ckpt/assets\n"
          ],
          "name": "stdout"
        },
        {
          "output_type": "stream",
          "text": [
            "INFO:tensorflow:Assets written to: training_1/cp.ckpt/assets\n"
          ],
          "name": "stderr"
        },
        {
          "output_type": "stream",
          "text": [
            "Epoch 192/300\n",
            "625/625 [==============================] - 5s 8ms/step - loss: 8.6051e-04 - accuracy: 0.9998 - val_loss: 1.4794 - val_accuracy: 0.8782\n",
            "\n",
            "Epoch 00192: saving model to training_1/cp.ckpt\n",
            "INFO:tensorflow:Assets written to: training_1/cp.ckpt/assets\n"
          ],
          "name": "stdout"
        },
        {
          "output_type": "stream",
          "text": [
            "INFO:tensorflow:Assets written to: training_1/cp.ckpt/assets\n"
          ],
          "name": "stderr"
        },
        {
          "output_type": "stream",
          "text": [
            "Epoch 193/300\n",
            "625/625 [==============================] - 5s 8ms/step - loss: 0.0028 - accuracy: 0.9994 - val_loss: 1.3527 - val_accuracy: 0.8848\n",
            "\n",
            "Epoch 00193: saving model to training_1/cp.ckpt\n",
            "INFO:tensorflow:Assets written to: training_1/cp.ckpt/assets\n"
          ],
          "name": "stdout"
        },
        {
          "output_type": "stream",
          "text": [
            "INFO:tensorflow:Assets written to: training_1/cp.ckpt/assets\n"
          ],
          "name": "stderr"
        },
        {
          "output_type": "stream",
          "text": [
            "Epoch 194/300\n",
            "625/625 [==============================] - 5s 8ms/step - loss: 0.0026 - accuracy: 0.9991 - val_loss: 1.2477 - val_accuracy: 0.8774\n",
            "\n",
            "Epoch 00194: saving model to training_1/cp.ckpt\n",
            "INFO:tensorflow:Assets written to: training_1/cp.ckpt/assets\n"
          ],
          "name": "stdout"
        },
        {
          "output_type": "stream",
          "text": [
            "INFO:tensorflow:Assets written to: training_1/cp.ckpt/assets\n"
          ],
          "name": "stderr"
        },
        {
          "output_type": "stream",
          "text": [
            "Epoch 195/300\n",
            "625/625 [==============================] - 5s 8ms/step - loss: 0.0036 - accuracy: 0.9991 - val_loss: 0.8902 - val_accuracy: 0.8868\n",
            "\n",
            "Epoch 00195: saving model to training_1/cp.ckpt\n",
            "INFO:tensorflow:Assets written to: training_1/cp.ckpt/assets\n"
          ],
          "name": "stdout"
        },
        {
          "output_type": "stream",
          "text": [
            "INFO:tensorflow:Assets written to: training_1/cp.ckpt/assets\n"
          ],
          "name": "stderr"
        },
        {
          "output_type": "stream",
          "text": [
            "Epoch 196/300\n",
            "625/625 [==============================] - 5s 8ms/step - loss: 0.0012 - accuracy: 0.9996 - val_loss: 1.3867 - val_accuracy: 0.8756\n",
            "\n",
            "Epoch 00196: saving model to training_1/cp.ckpt\n",
            "INFO:tensorflow:Assets written to: training_1/cp.ckpt/assets\n"
          ],
          "name": "stdout"
        },
        {
          "output_type": "stream",
          "text": [
            "INFO:tensorflow:Assets written to: training_1/cp.ckpt/assets\n"
          ],
          "name": "stderr"
        },
        {
          "output_type": "stream",
          "text": [
            "Epoch 197/300\n",
            "625/625 [==============================] - 5s 8ms/step - loss: 0.0012 - accuracy: 0.9995 - val_loss: 1.4101 - val_accuracy: 0.8776\n",
            "\n",
            "Epoch 00197: saving model to training_1/cp.ckpt\n",
            "INFO:tensorflow:Assets written to: training_1/cp.ckpt/assets\n"
          ],
          "name": "stdout"
        },
        {
          "output_type": "stream",
          "text": [
            "INFO:tensorflow:Assets written to: training_1/cp.ckpt/assets\n"
          ],
          "name": "stderr"
        },
        {
          "output_type": "stream",
          "text": [
            "Epoch 198/300\n",
            "625/625 [==============================] - 5s 8ms/step - loss: 0.0017 - accuracy: 0.9994 - val_loss: 1.4243 - val_accuracy: 0.8834\n",
            "\n",
            "Epoch 00198: saving model to training_1/cp.ckpt\n",
            "INFO:tensorflow:Assets written to: training_1/cp.ckpt/assets\n"
          ],
          "name": "stdout"
        },
        {
          "output_type": "stream",
          "text": [
            "INFO:tensorflow:Assets written to: training_1/cp.ckpt/assets\n"
          ],
          "name": "stderr"
        },
        {
          "output_type": "stream",
          "text": [
            "Epoch 199/300\n",
            "625/625 [==============================] - 5s 8ms/step - loss: 0.0011 - accuracy: 0.9996 - val_loss: 1.2687 - val_accuracy: 0.8838\n",
            "\n",
            "Epoch 00199: saving model to training_1/cp.ckpt\n",
            "INFO:tensorflow:Assets written to: training_1/cp.ckpt/assets\n"
          ],
          "name": "stdout"
        },
        {
          "output_type": "stream",
          "text": [
            "INFO:tensorflow:Assets written to: training_1/cp.ckpt/assets\n"
          ],
          "name": "stderr"
        },
        {
          "output_type": "stream",
          "text": [
            "Epoch 200/300\n",
            "625/625 [==============================] - 5s 8ms/step - loss: 0.0016 - accuracy: 0.9994 - val_loss: 1.1516 - val_accuracy: 0.8844\n",
            "\n",
            "Epoch 00200: saving model to training_1/cp.ckpt\n",
            "INFO:tensorflow:Assets written to: training_1/cp.ckpt/assets\n"
          ],
          "name": "stdout"
        },
        {
          "output_type": "stream",
          "text": [
            "INFO:tensorflow:Assets written to: training_1/cp.ckpt/assets\n"
          ],
          "name": "stderr"
        },
        {
          "output_type": "stream",
          "text": [
            "Epoch 201/300\n",
            "625/625 [==============================] - 5s 8ms/step - loss: 7.5357e-04 - accuracy: 0.9998 - val_loss: 1.3466 - val_accuracy: 0.8778\n",
            "\n",
            "Epoch 00201: saving model to training_1/cp.ckpt\n",
            "INFO:tensorflow:Assets written to: training_1/cp.ckpt/assets\n"
          ],
          "name": "stdout"
        },
        {
          "output_type": "stream",
          "text": [
            "INFO:tensorflow:Assets written to: training_1/cp.ckpt/assets\n"
          ],
          "name": "stderr"
        },
        {
          "output_type": "stream",
          "text": [
            "Epoch 202/300\n",
            "625/625 [==============================] - 5s 8ms/step - loss: 6.9879e-04 - accuracy: 0.9998 - val_loss: 1.5895 - val_accuracy: 0.8828\n",
            "\n",
            "Epoch 00202: saving model to training_1/cp.ckpt\n",
            "INFO:tensorflow:Assets written to: training_1/cp.ckpt/assets\n"
          ],
          "name": "stdout"
        },
        {
          "output_type": "stream",
          "text": [
            "INFO:tensorflow:Assets written to: training_1/cp.ckpt/assets\n"
          ],
          "name": "stderr"
        },
        {
          "output_type": "stream",
          "text": [
            "Epoch 203/300\n",
            "625/625 [==============================] - 5s 8ms/step - loss: 0.0029 - accuracy: 0.9990 - val_loss: 1.2877 - val_accuracy: 0.8754\n",
            "\n",
            "Epoch 00203: saving model to training_1/cp.ckpt\n",
            "INFO:tensorflow:Assets written to: training_1/cp.ckpt/assets\n"
          ],
          "name": "stdout"
        },
        {
          "output_type": "stream",
          "text": [
            "INFO:tensorflow:Assets written to: training_1/cp.ckpt/assets\n"
          ],
          "name": "stderr"
        },
        {
          "output_type": "stream",
          "text": [
            "Epoch 204/300\n",
            "625/625 [==============================] - 5s 8ms/step - loss: 0.0015 - accuracy: 0.9995 - val_loss: 1.2671 - val_accuracy: 0.8822\n",
            "\n",
            "Epoch 00204: saving model to training_1/cp.ckpt\n",
            "INFO:tensorflow:Assets written to: training_1/cp.ckpt/assets\n"
          ],
          "name": "stdout"
        },
        {
          "output_type": "stream",
          "text": [
            "INFO:tensorflow:Assets written to: training_1/cp.ckpt/assets\n"
          ],
          "name": "stderr"
        },
        {
          "output_type": "stream",
          "text": [
            "Epoch 205/300\n",
            "625/625 [==============================] - 5s 8ms/step - loss: 0.0023 - accuracy: 0.9990 - val_loss: 1.2457 - val_accuracy: 0.8832\n",
            "\n",
            "Epoch 00205: saving model to training_1/cp.ckpt\n",
            "INFO:tensorflow:Assets written to: training_1/cp.ckpt/assets\n"
          ],
          "name": "stdout"
        },
        {
          "output_type": "stream",
          "text": [
            "INFO:tensorflow:Assets written to: training_1/cp.ckpt/assets\n"
          ],
          "name": "stderr"
        },
        {
          "output_type": "stream",
          "text": [
            "Epoch 206/300\n",
            "625/625 [==============================] - 5s 8ms/step - loss: 4.6524e-04 - accuracy: 0.9998 - val_loss: 1.5440 - val_accuracy: 0.8830\n",
            "\n",
            "Epoch 00206: saving model to training_1/cp.ckpt\n",
            "INFO:tensorflow:Assets written to: training_1/cp.ckpt/assets\n"
          ],
          "name": "stdout"
        },
        {
          "output_type": "stream",
          "text": [
            "INFO:tensorflow:Assets written to: training_1/cp.ckpt/assets\n"
          ],
          "name": "stderr"
        },
        {
          "output_type": "stream",
          "text": [
            "Epoch 207/300\n",
            "625/625 [==============================] - 5s 8ms/step - loss: 6.1983e-04 - accuracy: 0.9998 - val_loss: 1.3464 - val_accuracy: 0.8852\n",
            "\n",
            "Epoch 00207: saving model to training_1/cp.ckpt\n",
            "INFO:tensorflow:Assets written to: training_1/cp.ckpt/assets\n"
          ],
          "name": "stdout"
        },
        {
          "output_type": "stream",
          "text": [
            "INFO:tensorflow:Assets written to: training_1/cp.ckpt/assets\n"
          ],
          "name": "stderr"
        },
        {
          "output_type": "stream",
          "text": [
            "Epoch 208/300\n",
            "625/625 [==============================] - 5s 8ms/step - loss: 0.0021 - accuracy: 0.9993 - val_loss: 1.2178 - val_accuracy: 0.8846\n",
            "\n",
            "Epoch 00208: saving model to training_1/cp.ckpt\n",
            "INFO:tensorflow:Assets written to: training_1/cp.ckpt/assets\n"
          ],
          "name": "stdout"
        },
        {
          "output_type": "stream",
          "text": [
            "INFO:tensorflow:Assets written to: training_1/cp.ckpt/assets\n"
          ],
          "name": "stderr"
        },
        {
          "output_type": "stream",
          "text": [
            "Epoch 209/300\n",
            "625/625 [==============================] - 5s 8ms/step - loss: 0.0013 - accuracy: 0.9995 - val_loss: 1.4480 - val_accuracy: 0.8816\n",
            "\n",
            "Epoch 00209: saving model to training_1/cp.ckpt\n",
            "INFO:tensorflow:Assets written to: training_1/cp.ckpt/assets\n"
          ],
          "name": "stdout"
        },
        {
          "output_type": "stream",
          "text": [
            "INFO:tensorflow:Assets written to: training_1/cp.ckpt/assets\n"
          ],
          "name": "stderr"
        },
        {
          "output_type": "stream",
          "text": [
            "Epoch 210/300\n",
            "625/625 [==============================] - 5s 8ms/step - loss: 0.0017 - accuracy: 0.9994 - val_loss: 1.5471 - val_accuracy: 0.8824\n",
            "\n",
            "Epoch 00210: saving model to training_1/cp.ckpt\n",
            "INFO:tensorflow:Assets written to: training_1/cp.ckpt/assets\n"
          ],
          "name": "stdout"
        },
        {
          "output_type": "stream",
          "text": [
            "INFO:tensorflow:Assets written to: training_1/cp.ckpt/assets\n"
          ],
          "name": "stderr"
        },
        {
          "output_type": "stream",
          "text": [
            "Epoch 211/300\n",
            "625/625 [==============================] - 5s 8ms/step - loss: 0.0014 - accuracy: 0.9996 - val_loss: 1.4945 - val_accuracy: 0.8830\n",
            "\n",
            "Epoch 00211: saving model to training_1/cp.ckpt\n",
            "INFO:tensorflow:Assets written to: training_1/cp.ckpt/assets\n"
          ],
          "name": "stdout"
        },
        {
          "output_type": "stream",
          "text": [
            "INFO:tensorflow:Assets written to: training_1/cp.ckpt/assets\n"
          ],
          "name": "stderr"
        },
        {
          "output_type": "stream",
          "text": [
            "Epoch 212/300\n",
            "625/625 [==============================] - 5s 8ms/step - loss: 0.0014 - accuracy: 0.9997 - val_loss: 1.2687 - val_accuracy: 0.8802\n",
            "\n",
            "Epoch 00212: saving model to training_1/cp.ckpt\n",
            "INFO:tensorflow:Assets written to: training_1/cp.ckpt/assets\n"
          ],
          "name": "stdout"
        },
        {
          "output_type": "stream",
          "text": [
            "INFO:tensorflow:Assets written to: training_1/cp.ckpt/assets\n"
          ],
          "name": "stderr"
        },
        {
          "output_type": "stream",
          "text": [
            "Epoch 213/300\n",
            "625/625 [==============================] - 5s 8ms/step - loss: 0.0029 - accuracy: 0.9994 - val_loss: 1.2582 - val_accuracy: 0.8796\n",
            "\n",
            "Epoch 00213: saving model to training_1/cp.ckpt\n",
            "INFO:tensorflow:Assets written to: training_1/cp.ckpt/assets\n"
          ],
          "name": "stdout"
        },
        {
          "output_type": "stream",
          "text": [
            "INFO:tensorflow:Assets written to: training_1/cp.ckpt/assets\n"
          ],
          "name": "stderr"
        },
        {
          "output_type": "stream",
          "text": [
            "Epoch 214/300\n",
            "625/625 [==============================] - 5s 8ms/step - loss: 0.0025 - accuracy: 0.9995 - val_loss: 1.1899 - val_accuracy: 0.8814\n",
            "\n",
            "Epoch 00214: saving model to training_1/cp.ckpt\n",
            "INFO:tensorflow:Assets written to: training_1/cp.ckpt/assets\n"
          ],
          "name": "stdout"
        },
        {
          "output_type": "stream",
          "text": [
            "INFO:tensorflow:Assets written to: training_1/cp.ckpt/assets\n"
          ],
          "name": "stderr"
        },
        {
          "output_type": "stream",
          "text": [
            "Epoch 215/300\n",
            "625/625 [==============================] - 5s 8ms/step - loss: 0.0025 - accuracy: 0.9993 - val_loss: 1.3831 - val_accuracy: 0.8816\n",
            "\n",
            "Epoch 00215: saving model to training_1/cp.ckpt\n",
            "INFO:tensorflow:Assets written to: training_1/cp.ckpt/assets\n"
          ],
          "name": "stdout"
        },
        {
          "output_type": "stream",
          "text": [
            "INFO:tensorflow:Assets written to: training_1/cp.ckpt/assets\n"
          ],
          "name": "stderr"
        },
        {
          "output_type": "stream",
          "text": [
            "Epoch 216/300\n",
            "625/625 [==============================] - 5s 8ms/step - loss: 0.0019 - accuracy: 0.9991 - val_loss: 1.3448 - val_accuracy: 0.8738\n",
            "\n",
            "Epoch 00216: saving model to training_1/cp.ckpt\n",
            "INFO:tensorflow:Assets written to: training_1/cp.ckpt/assets\n"
          ],
          "name": "stdout"
        },
        {
          "output_type": "stream",
          "text": [
            "INFO:tensorflow:Assets written to: training_1/cp.ckpt/assets\n"
          ],
          "name": "stderr"
        },
        {
          "output_type": "stream",
          "text": [
            "Epoch 217/300\n",
            "625/625 [==============================] - 5s 8ms/step - loss: 0.0025 - accuracy: 0.9993 - val_loss: 1.4763 - val_accuracy: 0.8798\n",
            "\n",
            "Epoch 00217: saving model to training_1/cp.ckpt\n",
            "INFO:tensorflow:Assets written to: training_1/cp.ckpt/assets\n"
          ],
          "name": "stdout"
        },
        {
          "output_type": "stream",
          "text": [
            "INFO:tensorflow:Assets written to: training_1/cp.ckpt/assets\n"
          ],
          "name": "stderr"
        },
        {
          "output_type": "stream",
          "text": [
            "Epoch 218/300\n",
            "625/625 [==============================] - 5s 8ms/step - loss: 0.0018 - accuracy: 0.9996 - val_loss: 1.4107 - val_accuracy: 0.8758\n",
            "\n",
            "Epoch 00218: saving model to training_1/cp.ckpt\n",
            "INFO:tensorflow:Assets written to: training_1/cp.ckpt/assets\n"
          ],
          "name": "stdout"
        },
        {
          "output_type": "stream",
          "text": [
            "INFO:tensorflow:Assets written to: training_1/cp.ckpt/assets\n"
          ],
          "name": "stderr"
        },
        {
          "output_type": "stream",
          "text": [
            "Epoch 219/300\n",
            "625/625 [==============================] - 5s 8ms/step - loss: 0.0010 - accuracy: 0.9996 - val_loss: 1.2571 - val_accuracy: 0.8802\n",
            "\n",
            "Epoch 00219: saving model to training_1/cp.ckpt\n",
            "INFO:tensorflow:Assets written to: training_1/cp.ckpt/assets\n"
          ],
          "name": "stdout"
        },
        {
          "output_type": "stream",
          "text": [
            "INFO:tensorflow:Assets written to: training_1/cp.ckpt/assets\n"
          ],
          "name": "stderr"
        },
        {
          "output_type": "stream",
          "text": [
            "Epoch 220/300\n",
            "625/625 [==============================] - 5s 8ms/step - loss: 3.1427e-04 - accuracy: 0.9999 - val_loss: 1.5384 - val_accuracy: 0.8810\n",
            "\n",
            "Epoch 00220: saving model to training_1/cp.ckpt\n",
            "INFO:tensorflow:Assets written to: training_1/cp.ckpt/assets\n"
          ],
          "name": "stdout"
        },
        {
          "output_type": "stream",
          "text": [
            "INFO:tensorflow:Assets written to: training_1/cp.ckpt/assets\n"
          ],
          "name": "stderr"
        },
        {
          "output_type": "stream",
          "text": [
            "Epoch 221/300\n",
            "625/625 [==============================] - 5s 8ms/step - loss: 0.0033 - accuracy: 0.9992 - val_loss: 1.5367 - val_accuracy: 0.8782\n",
            "\n",
            "Epoch 00221: saving model to training_1/cp.ckpt\n",
            "INFO:tensorflow:Assets written to: training_1/cp.ckpt/assets\n"
          ],
          "name": "stdout"
        },
        {
          "output_type": "stream",
          "text": [
            "INFO:tensorflow:Assets written to: training_1/cp.ckpt/assets\n"
          ],
          "name": "stderr"
        },
        {
          "output_type": "stream",
          "text": [
            "Epoch 222/300\n",
            "625/625 [==============================] - 5s 8ms/step - loss: 0.0018 - accuracy: 0.9991 - val_loss: 1.6176 - val_accuracy: 0.8778\n",
            "\n",
            "Epoch 00222: saving model to training_1/cp.ckpt\n",
            "INFO:tensorflow:Assets written to: training_1/cp.ckpt/assets\n"
          ],
          "name": "stdout"
        },
        {
          "output_type": "stream",
          "text": [
            "INFO:tensorflow:Assets written to: training_1/cp.ckpt/assets\n"
          ],
          "name": "stderr"
        },
        {
          "output_type": "stream",
          "text": [
            "Epoch 223/300\n",
            "625/625 [==============================] - 5s 8ms/step - loss: 0.0019 - accuracy: 0.9995 - val_loss: 1.4488 - val_accuracy: 0.8800\n",
            "\n",
            "Epoch 00223: saving model to training_1/cp.ckpt\n",
            "INFO:tensorflow:Assets written to: training_1/cp.ckpt/assets\n"
          ],
          "name": "stdout"
        },
        {
          "output_type": "stream",
          "text": [
            "INFO:tensorflow:Assets written to: training_1/cp.ckpt/assets\n"
          ],
          "name": "stderr"
        },
        {
          "output_type": "stream",
          "text": [
            "Epoch 224/300\n",
            "625/625 [==============================] - 5s 8ms/step - loss: 9.8413e-04 - accuracy: 0.9997 - val_loss: 1.5780 - val_accuracy: 0.8798\n",
            "\n",
            "Epoch 00224: saving model to training_1/cp.ckpt\n",
            "INFO:tensorflow:Assets written to: training_1/cp.ckpt/assets\n"
          ],
          "name": "stdout"
        },
        {
          "output_type": "stream",
          "text": [
            "INFO:tensorflow:Assets written to: training_1/cp.ckpt/assets\n"
          ],
          "name": "stderr"
        },
        {
          "output_type": "stream",
          "text": [
            "Epoch 225/300\n",
            "625/625 [==============================] - 5s 8ms/step - loss: 0.0018 - accuracy: 0.9992 - val_loss: 1.6305 - val_accuracy: 0.8758\n",
            "\n",
            "Epoch 00225: saving model to training_1/cp.ckpt\n",
            "INFO:tensorflow:Assets written to: training_1/cp.ckpt/assets\n"
          ],
          "name": "stdout"
        },
        {
          "output_type": "stream",
          "text": [
            "INFO:tensorflow:Assets written to: training_1/cp.ckpt/assets\n"
          ],
          "name": "stderr"
        },
        {
          "output_type": "stream",
          "text": [
            "Epoch 226/300\n",
            "625/625 [==============================] - 5s 8ms/step - loss: 0.0038 - accuracy: 0.9989 - val_loss: 1.4995 - val_accuracy: 0.8768\n",
            "\n",
            "Epoch 00226: saving model to training_1/cp.ckpt\n",
            "INFO:tensorflow:Assets written to: training_1/cp.ckpt/assets\n"
          ],
          "name": "stdout"
        },
        {
          "output_type": "stream",
          "text": [
            "INFO:tensorflow:Assets written to: training_1/cp.ckpt/assets\n"
          ],
          "name": "stderr"
        },
        {
          "output_type": "stream",
          "text": [
            "Epoch 227/300\n",
            "625/625 [==============================] - 5s 8ms/step - loss: 7.0099e-04 - accuracy: 0.9998 - val_loss: 1.4229 - val_accuracy: 0.8800\n",
            "\n",
            "Epoch 00227: saving model to training_1/cp.ckpt\n",
            "INFO:tensorflow:Assets written to: training_1/cp.ckpt/assets\n"
          ],
          "name": "stdout"
        },
        {
          "output_type": "stream",
          "text": [
            "INFO:tensorflow:Assets written to: training_1/cp.ckpt/assets\n"
          ],
          "name": "stderr"
        },
        {
          "output_type": "stream",
          "text": [
            "Epoch 228/300\n",
            "625/625 [==============================] - 5s 8ms/step - loss: 0.0016 - accuracy: 0.9995 - val_loss: 1.5603 - val_accuracy: 0.8792\n",
            "\n",
            "Epoch 00228: saving model to training_1/cp.ckpt\n",
            "INFO:tensorflow:Assets written to: training_1/cp.ckpt/assets\n"
          ],
          "name": "stdout"
        },
        {
          "output_type": "stream",
          "text": [
            "INFO:tensorflow:Assets written to: training_1/cp.ckpt/assets\n"
          ],
          "name": "stderr"
        },
        {
          "output_type": "stream",
          "text": [
            "Epoch 229/300\n",
            "625/625 [==============================] - 5s 8ms/step - loss: 0.0020 - accuracy: 0.9996 - val_loss: 1.2929 - val_accuracy: 0.8804\n",
            "\n",
            "Epoch 00229: saving model to training_1/cp.ckpt\n",
            "INFO:tensorflow:Assets written to: training_1/cp.ckpt/assets\n"
          ],
          "name": "stdout"
        },
        {
          "output_type": "stream",
          "text": [
            "INFO:tensorflow:Assets written to: training_1/cp.ckpt/assets\n"
          ],
          "name": "stderr"
        },
        {
          "output_type": "stream",
          "text": [
            "Epoch 230/300\n",
            "625/625 [==============================] - 5s 8ms/step - loss: 0.0016 - accuracy: 0.9995 - val_loss: 1.5294 - val_accuracy: 0.8816\n",
            "\n",
            "Epoch 00230: saving model to training_1/cp.ckpt\n",
            "INFO:tensorflow:Assets written to: training_1/cp.ckpt/assets\n"
          ],
          "name": "stdout"
        },
        {
          "output_type": "stream",
          "text": [
            "INFO:tensorflow:Assets written to: training_1/cp.ckpt/assets\n"
          ],
          "name": "stderr"
        },
        {
          "output_type": "stream",
          "text": [
            "Epoch 231/300\n",
            "625/625 [==============================] - 5s 8ms/step - loss: 0.0025 - accuracy: 0.9992 - val_loss: 1.6489 - val_accuracy: 0.8808\n",
            "\n",
            "Epoch 00231: saving model to training_1/cp.ckpt\n",
            "INFO:tensorflow:Assets written to: training_1/cp.ckpt/assets\n"
          ],
          "name": "stdout"
        },
        {
          "output_type": "stream",
          "text": [
            "INFO:tensorflow:Assets written to: training_1/cp.ckpt/assets\n"
          ],
          "name": "stderr"
        },
        {
          "output_type": "stream",
          "text": [
            "Epoch 232/300\n",
            "625/625 [==============================] - 5s 8ms/step - loss: 0.0013 - accuracy: 0.9996 - val_loss: 1.6147 - val_accuracy: 0.8812\n",
            "\n",
            "Epoch 00232: saving model to training_1/cp.ckpt\n",
            "INFO:tensorflow:Assets written to: training_1/cp.ckpt/assets\n"
          ],
          "name": "stdout"
        },
        {
          "output_type": "stream",
          "text": [
            "INFO:tensorflow:Assets written to: training_1/cp.ckpt/assets\n"
          ],
          "name": "stderr"
        },
        {
          "output_type": "stream",
          "text": [
            "Epoch 233/300\n",
            "625/625 [==============================] - 5s 8ms/step - loss: 8.1078e-04 - accuracy: 0.9997 - val_loss: 1.8262 - val_accuracy: 0.8780\n",
            "\n",
            "Epoch 00233: saving model to training_1/cp.ckpt\n",
            "INFO:tensorflow:Assets written to: training_1/cp.ckpt/assets\n"
          ],
          "name": "stdout"
        },
        {
          "output_type": "stream",
          "text": [
            "INFO:tensorflow:Assets written to: training_1/cp.ckpt/assets\n"
          ],
          "name": "stderr"
        },
        {
          "output_type": "stream",
          "text": [
            "Epoch 234/300\n",
            "625/625 [==============================] - 5s 8ms/step - loss: 0.0051 - accuracy: 0.9991 - val_loss: 1.4440 - val_accuracy: 0.8742\n",
            "\n",
            "Epoch 00234: saving model to training_1/cp.ckpt\n",
            "INFO:tensorflow:Assets written to: training_1/cp.ckpt/assets\n"
          ],
          "name": "stdout"
        },
        {
          "output_type": "stream",
          "text": [
            "INFO:tensorflow:Assets written to: training_1/cp.ckpt/assets\n"
          ],
          "name": "stderr"
        },
        {
          "output_type": "stream",
          "text": [
            "Epoch 235/300\n",
            "625/625 [==============================] - 5s 8ms/step - loss: 8.7846e-04 - accuracy: 0.9997 - val_loss: 1.6411 - val_accuracy: 0.8756\n",
            "\n",
            "Epoch 00235: saving model to training_1/cp.ckpt\n",
            "INFO:tensorflow:Assets written to: training_1/cp.ckpt/assets\n"
          ],
          "name": "stdout"
        },
        {
          "output_type": "stream",
          "text": [
            "INFO:tensorflow:Assets written to: training_1/cp.ckpt/assets\n"
          ],
          "name": "stderr"
        },
        {
          "output_type": "stream",
          "text": [
            "Epoch 236/300\n",
            "625/625 [==============================] - 5s 8ms/step - loss: 6.4457e-04 - accuracy: 0.9999 - val_loss: 1.7925 - val_accuracy: 0.8708\n",
            "\n",
            "Epoch 00236: saving model to training_1/cp.ckpt\n",
            "INFO:tensorflow:Assets written to: training_1/cp.ckpt/assets\n"
          ],
          "name": "stdout"
        },
        {
          "output_type": "stream",
          "text": [
            "INFO:tensorflow:Assets written to: training_1/cp.ckpt/assets\n"
          ],
          "name": "stderr"
        },
        {
          "output_type": "stream",
          "text": [
            "Epoch 237/300\n",
            "625/625 [==============================] - 5s 8ms/step - loss: 0.0013 - accuracy: 0.9996 - val_loss: 1.6464 - val_accuracy: 0.8806\n",
            "\n",
            "Epoch 00237: saving model to training_1/cp.ckpt\n",
            "INFO:tensorflow:Assets written to: training_1/cp.ckpt/assets\n"
          ],
          "name": "stdout"
        },
        {
          "output_type": "stream",
          "text": [
            "INFO:tensorflow:Assets written to: training_1/cp.ckpt/assets\n"
          ],
          "name": "stderr"
        },
        {
          "output_type": "stream",
          "text": [
            "Epoch 238/300\n",
            "625/625 [==============================] - 5s 8ms/step - loss: 8.9841e-04 - accuracy: 0.9998 - val_loss: 1.4310 - val_accuracy: 0.8788\n",
            "\n",
            "Epoch 00238: saving model to training_1/cp.ckpt\n",
            "INFO:tensorflow:Assets written to: training_1/cp.ckpt/assets\n"
          ],
          "name": "stdout"
        },
        {
          "output_type": "stream",
          "text": [
            "INFO:tensorflow:Assets written to: training_1/cp.ckpt/assets\n"
          ],
          "name": "stderr"
        },
        {
          "output_type": "stream",
          "text": [
            "Epoch 239/300\n",
            "625/625 [==============================] - 5s 8ms/step - loss: 0.0016 - accuracy: 0.9995 - val_loss: 1.5774 - val_accuracy: 0.8798\n",
            "\n",
            "Epoch 00239: saving model to training_1/cp.ckpt\n",
            "INFO:tensorflow:Assets written to: training_1/cp.ckpt/assets\n"
          ],
          "name": "stdout"
        },
        {
          "output_type": "stream",
          "text": [
            "INFO:tensorflow:Assets written to: training_1/cp.ckpt/assets\n"
          ],
          "name": "stderr"
        },
        {
          "output_type": "stream",
          "text": [
            "Epoch 240/300\n",
            "625/625 [==============================] - 5s 8ms/step - loss: 0.0027 - accuracy: 0.9992 - val_loss: 1.5893 - val_accuracy: 0.8796\n",
            "\n",
            "Epoch 00240: saving model to training_1/cp.ckpt\n",
            "INFO:tensorflow:Assets written to: training_1/cp.ckpt/assets\n"
          ],
          "name": "stdout"
        },
        {
          "output_type": "stream",
          "text": [
            "INFO:tensorflow:Assets written to: training_1/cp.ckpt/assets\n"
          ],
          "name": "stderr"
        },
        {
          "output_type": "stream",
          "text": [
            "Epoch 241/300\n",
            "625/625 [==============================] - 5s 8ms/step - loss: 0.0030 - accuracy: 0.9993 - val_loss: 1.2414 - val_accuracy: 0.8796\n",
            "\n",
            "Epoch 00241: saving model to training_1/cp.ckpt\n",
            "INFO:tensorflow:Assets written to: training_1/cp.ckpt/assets\n"
          ],
          "name": "stdout"
        },
        {
          "output_type": "stream",
          "text": [
            "INFO:tensorflow:Assets written to: training_1/cp.ckpt/assets\n"
          ],
          "name": "stderr"
        },
        {
          "output_type": "stream",
          "text": [
            "Epoch 242/300\n",
            "625/625 [==============================] - 5s 8ms/step - loss: 6.3889e-04 - accuracy: 0.9997 - val_loss: 1.7835 - val_accuracy: 0.8800\n",
            "\n",
            "Epoch 00242: saving model to training_1/cp.ckpt\n",
            "INFO:tensorflow:Assets written to: training_1/cp.ckpt/assets\n"
          ],
          "name": "stdout"
        },
        {
          "output_type": "stream",
          "text": [
            "INFO:tensorflow:Assets written to: training_1/cp.ckpt/assets\n"
          ],
          "name": "stderr"
        },
        {
          "output_type": "stream",
          "text": [
            "Epoch 243/300\n",
            "625/625 [==============================] - 5s 8ms/step - loss: 0.0041 - accuracy: 0.9990 - val_loss: 1.4037 - val_accuracy: 0.8806\n",
            "\n",
            "Epoch 00243: saving model to training_1/cp.ckpt\n",
            "INFO:tensorflow:Assets written to: training_1/cp.ckpt/assets\n"
          ],
          "name": "stdout"
        },
        {
          "output_type": "stream",
          "text": [
            "INFO:tensorflow:Assets written to: training_1/cp.ckpt/assets\n"
          ],
          "name": "stderr"
        },
        {
          "output_type": "stream",
          "text": [
            "Epoch 244/300\n",
            "625/625 [==============================] - 5s 8ms/step - loss: 0.0019 - accuracy: 0.9994 - val_loss: 1.4641 - val_accuracy: 0.8762\n",
            "\n",
            "Epoch 00244: saving model to training_1/cp.ckpt\n",
            "INFO:tensorflow:Assets written to: training_1/cp.ckpt/assets\n"
          ],
          "name": "stdout"
        },
        {
          "output_type": "stream",
          "text": [
            "INFO:tensorflow:Assets written to: training_1/cp.ckpt/assets\n"
          ],
          "name": "stderr"
        },
        {
          "output_type": "stream",
          "text": [
            "Epoch 245/300\n",
            "625/625 [==============================] - 5s 8ms/step - loss: 3.8417e-04 - accuracy: 0.9998 - val_loss: 1.4485 - val_accuracy: 0.8812\n",
            "\n",
            "Epoch 00245: saving model to training_1/cp.ckpt\n",
            "INFO:tensorflow:Assets written to: training_1/cp.ckpt/assets\n"
          ],
          "name": "stdout"
        },
        {
          "output_type": "stream",
          "text": [
            "INFO:tensorflow:Assets written to: training_1/cp.ckpt/assets\n"
          ],
          "name": "stderr"
        },
        {
          "output_type": "stream",
          "text": [
            "Epoch 246/300\n",
            "625/625 [==============================] - 5s 8ms/step - loss: 9.8037e-04 - accuracy: 0.9998 - val_loss: 1.3528 - val_accuracy: 0.8810\n",
            "\n",
            "Epoch 00246: saving model to training_1/cp.ckpt\n",
            "INFO:tensorflow:Assets written to: training_1/cp.ckpt/assets\n"
          ],
          "name": "stdout"
        },
        {
          "output_type": "stream",
          "text": [
            "INFO:tensorflow:Assets written to: training_1/cp.ckpt/assets\n"
          ],
          "name": "stderr"
        },
        {
          "output_type": "stream",
          "text": [
            "Epoch 247/300\n",
            "625/625 [==============================] - 5s 8ms/step - loss: 9.8801e-04 - accuracy: 0.9995 - val_loss: 1.5603 - val_accuracy: 0.8790\n",
            "\n",
            "Epoch 00247: saving model to training_1/cp.ckpt\n",
            "INFO:tensorflow:Assets written to: training_1/cp.ckpt/assets\n"
          ],
          "name": "stdout"
        },
        {
          "output_type": "stream",
          "text": [
            "INFO:tensorflow:Assets written to: training_1/cp.ckpt/assets\n"
          ],
          "name": "stderr"
        },
        {
          "output_type": "stream",
          "text": [
            "Epoch 248/300\n",
            "625/625 [==============================] - 5s 8ms/step - loss: 0.0027 - accuracy: 0.9988 - val_loss: 1.6070 - val_accuracy: 0.8784\n",
            "\n",
            "Epoch 00248: saving model to training_1/cp.ckpt\n",
            "INFO:tensorflow:Assets written to: training_1/cp.ckpt/assets\n"
          ],
          "name": "stdout"
        },
        {
          "output_type": "stream",
          "text": [
            "INFO:tensorflow:Assets written to: training_1/cp.ckpt/assets\n"
          ],
          "name": "stderr"
        },
        {
          "output_type": "stream",
          "text": [
            "Epoch 249/300\n",
            "625/625 [==============================] - 5s 8ms/step - loss: 8.5002e-04 - accuracy: 0.9996 - val_loss: 1.9612 - val_accuracy: 0.8790\n",
            "\n",
            "Epoch 00249: saving model to training_1/cp.ckpt\n",
            "INFO:tensorflow:Assets written to: training_1/cp.ckpt/assets\n"
          ],
          "name": "stdout"
        },
        {
          "output_type": "stream",
          "text": [
            "INFO:tensorflow:Assets written to: training_1/cp.ckpt/assets\n"
          ],
          "name": "stderr"
        },
        {
          "output_type": "stream",
          "text": [
            "Epoch 250/300\n",
            "625/625 [==============================] - 5s 8ms/step - loss: 0.0031 - accuracy: 0.9993 - val_loss: 1.7185 - val_accuracy: 0.8792\n",
            "\n",
            "Epoch 00250: saving model to training_1/cp.ckpt\n",
            "INFO:tensorflow:Assets written to: training_1/cp.ckpt/assets\n"
          ],
          "name": "stdout"
        },
        {
          "output_type": "stream",
          "text": [
            "INFO:tensorflow:Assets written to: training_1/cp.ckpt/assets\n"
          ],
          "name": "stderr"
        },
        {
          "output_type": "stream",
          "text": [
            "Epoch 251/300\n",
            "625/625 [==============================] - 5s 8ms/step - loss: 0.0018 - accuracy: 0.9993 - val_loss: 1.7560 - val_accuracy: 0.8782\n",
            "\n",
            "Epoch 00251: saving model to training_1/cp.ckpt\n",
            "INFO:tensorflow:Assets written to: training_1/cp.ckpt/assets\n"
          ],
          "name": "stdout"
        },
        {
          "output_type": "stream",
          "text": [
            "INFO:tensorflow:Assets written to: training_1/cp.ckpt/assets\n"
          ],
          "name": "stderr"
        },
        {
          "output_type": "stream",
          "text": [
            "Epoch 252/300\n",
            "625/625 [==============================] - 5s 8ms/step - loss: 0.0019 - accuracy: 0.9995 - val_loss: 1.5010 - val_accuracy: 0.8784\n",
            "\n",
            "Epoch 00252: saving model to training_1/cp.ckpt\n",
            "INFO:tensorflow:Assets written to: training_1/cp.ckpt/assets\n"
          ],
          "name": "stdout"
        },
        {
          "output_type": "stream",
          "text": [
            "INFO:tensorflow:Assets written to: training_1/cp.ckpt/assets\n"
          ],
          "name": "stderr"
        },
        {
          "output_type": "stream",
          "text": [
            "Epoch 253/300\n",
            "625/625 [==============================] - 5s 8ms/step - loss: 4.5216e-04 - accuracy: 0.9999 - val_loss: 1.4783 - val_accuracy: 0.8744\n",
            "\n",
            "Epoch 00253: saving model to training_1/cp.ckpt\n",
            "INFO:tensorflow:Assets written to: training_1/cp.ckpt/assets\n"
          ],
          "name": "stdout"
        },
        {
          "output_type": "stream",
          "text": [
            "INFO:tensorflow:Assets written to: training_1/cp.ckpt/assets\n"
          ],
          "name": "stderr"
        },
        {
          "output_type": "stream",
          "text": [
            "Epoch 254/300\n",
            "625/625 [==============================] - 5s 8ms/step - loss: 9.2809e-04 - accuracy: 0.9998 - val_loss: 1.7701 - val_accuracy: 0.8802\n",
            "\n",
            "Epoch 00254: saving model to training_1/cp.ckpt\n",
            "INFO:tensorflow:Assets written to: training_1/cp.ckpt/assets\n"
          ],
          "name": "stdout"
        },
        {
          "output_type": "stream",
          "text": [
            "INFO:tensorflow:Assets written to: training_1/cp.ckpt/assets\n"
          ],
          "name": "stderr"
        },
        {
          "output_type": "stream",
          "text": [
            "Epoch 255/300\n",
            "625/625 [==============================] - 5s 8ms/step - loss: 0.0022 - accuracy: 0.9995 - val_loss: 1.9107 - val_accuracy: 0.8812\n",
            "\n",
            "Epoch 00255: saving model to training_1/cp.ckpt\n",
            "INFO:tensorflow:Assets written to: training_1/cp.ckpt/assets\n"
          ],
          "name": "stdout"
        },
        {
          "output_type": "stream",
          "text": [
            "INFO:tensorflow:Assets written to: training_1/cp.ckpt/assets\n"
          ],
          "name": "stderr"
        },
        {
          "output_type": "stream",
          "text": [
            "Epoch 256/300\n",
            "625/625 [==============================] - 5s 8ms/step - loss: 0.0015 - accuracy: 0.9997 - val_loss: 1.6434 - val_accuracy: 0.8826\n",
            "\n",
            "Epoch 00256: saving model to training_1/cp.ckpt\n",
            "INFO:tensorflow:Assets written to: training_1/cp.ckpt/assets\n"
          ],
          "name": "stdout"
        },
        {
          "output_type": "stream",
          "text": [
            "INFO:tensorflow:Assets written to: training_1/cp.ckpt/assets\n"
          ],
          "name": "stderr"
        },
        {
          "output_type": "stream",
          "text": [
            "Epoch 257/300\n",
            "625/625 [==============================] - 5s 8ms/step - loss: 7.2066e-04 - accuracy: 0.9996 - val_loss: 1.8458 - val_accuracy: 0.8802\n",
            "\n",
            "Epoch 00257: saving model to training_1/cp.ckpt\n",
            "INFO:tensorflow:Assets written to: training_1/cp.ckpt/assets\n"
          ],
          "name": "stdout"
        },
        {
          "output_type": "stream",
          "text": [
            "INFO:tensorflow:Assets written to: training_1/cp.ckpt/assets\n"
          ],
          "name": "stderr"
        },
        {
          "output_type": "stream",
          "text": [
            "Epoch 258/300\n",
            "625/625 [==============================] - 5s 8ms/step - loss: 0.0050 - accuracy: 0.9985 - val_loss: 1.5954 - val_accuracy: 0.8840\n",
            "\n",
            "Epoch 00258: saving model to training_1/cp.ckpt\n",
            "INFO:tensorflow:Assets written to: training_1/cp.ckpt/assets\n"
          ],
          "name": "stdout"
        },
        {
          "output_type": "stream",
          "text": [
            "INFO:tensorflow:Assets written to: training_1/cp.ckpt/assets\n"
          ],
          "name": "stderr"
        },
        {
          "output_type": "stream",
          "text": [
            "Epoch 259/300\n",
            "625/625 [==============================] - 5s 8ms/step - loss: 0.0011 - accuracy: 0.9998 - val_loss: 1.4843 - val_accuracy: 0.8816\n",
            "\n",
            "Epoch 00259: saving model to training_1/cp.ckpt\n",
            "INFO:tensorflow:Assets written to: training_1/cp.ckpt/assets\n"
          ],
          "name": "stdout"
        },
        {
          "output_type": "stream",
          "text": [
            "INFO:tensorflow:Assets written to: training_1/cp.ckpt/assets\n"
          ],
          "name": "stderr"
        },
        {
          "output_type": "stream",
          "text": [
            "Epoch 260/300\n",
            "625/625 [==============================] - 5s 8ms/step - loss: 8.3291e-04 - accuracy: 0.9996 - val_loss: 1.7482 - val_accuracy: 0.8794\n",
            "\n",
            "Epoch 00260: saving model to training_1/cp.ckpt\n",
            "INFO:tensorflow:Assets written to: training_1/cp.ckpt/assets\n"
          ],
          "name": "stdout"
        },
        {
          "output_type": "stream",
          "text": [
            "INFO:tensorflow:Assets written to: training_1/cp.ckpt/assets\n"
          ],
          "name": "stderr"
        },
        {
          "output_type": "stream",
          "text": [
            "Epoch 261/300\n",
            "625/625 [==============================] - 5s 8ms/step - loss: 0.0031 - accuracy: 0.9991 - val_loss: 1.3981 - val_accuracy: 0.8830\n",
            "\n",
            "Epoch 00261: saving model to training_1/cp.ckpt\n",
            "INFO:tensorflow:Assets written to: training_1/cp.ckpt/assets\n"
          ],
          "name": "stdout"
        },
        {
          "output_type": "stream",
          "text": [
            "INFO:tensorflow:Assets written to: training_1/cp.ckpt/assets\n"
          ],
          "name": "stderr"
        },
        {
          "output_type": "stream",
          "text": [
            "Epoch 262/300\n",
            "625/625 [==============================] - 5s 8ms/step - loss: 7.2826e-04 - accuracy: 0.9999 - val_loss: 1.4569 - val_accuracy: 0.8846\n",
            "\n",
            "Epoch 00262: saving model to training_1/cp.ckpt\n",
            "INFO:tensorflow:Assets written to: training_1/cp.ckpt/assets\n"
          ],
          "name": "stdout"
        },
        {
          "output_type": "stream",
          "text": [
            "INFO:tensorflow:Assets written to: training_1/cp.ckpt/assets\n"
          ],
          "name": "stderr"
        },
        {
          "output_type": "stream",
          "text": [
            "Epoch 263/300\n",
            "625/625 [==============================] - 5s 8ms/step - loss: 0.0022 - accuracy: 0.9995 - val_loss: 1.5616 - val_accuracy: 0.8850\n",
            "\n",
            "Epoch 00263: saving model to training_1/cp.ckpt\n",
            "INFO:tensorflow:Assets written to: training_1/cp.ckpt/assets\n"
          ],
          "name": "stdout"
        },
        {
          "output_type": "stream",
          "text": [
            "INFO:tensorflow:Assets written to: training_1/cp.ckpt/assets\n"
          ],
          "name": "stderr"
        },
        {
          "output_type": "stream",
          "text": [
            "Epoch 264/300\n",
            "625/625 [==============================] - 5s 8ms/step - loss: 0.0010 - accuracy: 0.9998 - val_loss: 1.6552 - val_accuracy: 0.8782\n",
            "\n",
            "Epoch 00264: saving model to training_1/cp.ckpt\n",
            "INFO:tensorflow:Assets written to: training_1/cp.ckpt/assets\n"
          ],
          "name": "stdout"
        },
        {
          "output_type": "stream",
          "text": [
            "INFO:tensorflow:Assets written to: training_1/cp.ckpt/assets\n"
          ],
          "name": "stderr"
        },
        {
          "output_type": "stream",
          "text": [
            "Epoch 265/300\n",
            "625/625 [==============================] - 5s 8ms/step - loss: 8.5743e-04 - accuracy: 0.9997 - val_loss: 1.4559 - val_accuracy: 0.8830\n",
            "\n",
            "Epoch 00265: saving model to training_1/cp.ckpt\n",
            "INFO:tensorflow:Assets written to: training_1/cp.ckpt/assets\n"
          ],
          "name": "stdout"
        },
        {
          "output_type": "stream",
          "text": [
            "INFO:tensorflow:Assets written to: training_1/cp.ckpt/assets\n"
          ],
          "name": "stderr"
        },
        {
          "output_type": "stream",
          "text": [
            "Epoch 266/300\n",
            "625/625 [==============================] - 5s 8ms/step - loss: 0.0025 - accuracy: 0.9990 - val_loss: 1.9767 - val_accuracy: 0.8730\n",
            "\n",
            "Epoch 00266: saving model to training_1/cp.ckpt\n",
            "INFO:tensorflow:Assets written to: training_1/cp.ckpt/assets\n"
          ],
          "name": "stdout"
        },
        {
          "output_type": "stream",
          "text": [
            "INFO:tensorflow:Assets written to: training_1/cp.ckpt/assets\n"
          ],
          "name": "stderr"
        },
        {
          "output_type": "stream",
          "text": [
            "Epoch 267/300\n",
            "625/625 [==============================] - 5s 8ms/step - loss: 0.0026 - accuracy: 0.9995 - val_loss: 1.7496 - val_accuracy: 0.8816\n",
            "\n",
            "Epoch 00267: saving model to training_1/cp.ckpt\n",
            "INFO:tensorflow:Assets written to: training_1/cp.ckpt/assets\n"
          ],
          "name": "stdout"
        },
        {
          "output_type": "stream",
          "text": [
            "INFO:tensorflow:Assets written to: training_1/cp.ckpt/assets\n"
          ],
          "name": "stderr"
        },
        {
          "output_type": "stream",
          "text": [
            "Epoch 268/300\n",
            "625/625 [==============================] - 5s 8ms/step - loss: 0.0015 - accuracy: 0.9996 - val_loss: 1.5813 - val_accuracy: 0.8784\n",
            "\n",
            "Epoch 00268: saving model to training_1/cp.ckpt\n",
            "INFO:tensorflow:Assets written to: training_1/cp.ckpt/assets\n"
          ],
          "name": "stdout"
        },
        {
          "output_type": "stream",
          "text": [
            "INFO:tensorflow:Assets written to: training_1/cp.ckpt/assets\n"
          ],
          "name": "stderr"
        },
        {
          "output_type": "stream",
          "text": [
            "Epoch 269/300\n",
            "625/625 [==============================] - 5s 8ms/step - loss: 6.4759e-04 - accuracy: 0.9997 - val_loss: 1.6809 - val_accuracy: 0.8828\n",
            "\n",
            "Epoch 00269: saving model to training_1/cp.ckpt\n",
            "INFO:tensorflow:Assets written to: training_1/cp.ckpt/assets\n"
          ],
          "name": "stdout"
        },
        {
          "output_type": "stream",
          "text": [
            "INFO:tensorflow:Assets written to: training_1/cp.ckpt/assets\n"
          ],
          "name": "stderr"
        },
        {
          "output_type": "stream",
          "text": [
            "Epoch 270/300\n",
            "625/625 [==============================] - 5s 8ms/step - loss: 8.9338e-04 - accuracy: 0.9997 - val_loss: 1.5208 - val_accuracy: 0.8818\n",
            "\n",
            "Epoch 00270: saving model to training_1/cp.ckpt\n",
            "INFO:tensorflow:Assets written to: training_1/cp.ckpt/assets\n"
          ],
          "name": "stdout"
        },
        {
          "output_type": "stream",
          "text": [
            "INFO:tensorflow:Assets written to: training_1/cp.ckpt/assets\n"
          ],
          "name": "stderr"
        },
        {
          "output_type": "stream",
          "text": [
            "Epoch 271/300\n",
            "625/625 [==============================] - 5s 8ms/step - loss: 9.8567e-04 - accuracy: 0.9995 - val_loss: 1.4030 - val_accuracy: 0.8836\n",
            "\n",
            "Epoch 00271: saving model to training_1/cp.ckpt\n",
            "INFO:tensorflow:Assets written to: training_1/cp.ckpt/assets\n"
          ],
          "name": "stdout"
        },
        {
          "output_type": "stream",
          "text": [
            "INFO:tensorflow:Assets written to: training_1/cp.ckpt/assets\n"
          ],
          "name": "stderr"
        },
        {
          "output_type": "stream",
          "text": [
            "Epoch 272/300\n",
            "625/625 [==============================] - 5s 8ms/step - loss: 0.0027 - accuracy: 0.9992 - val_loss: 1.3118 - val_accuracy: 0.8838\n",
            "\n",
            "Epoch 00272: saving model to training_1/cp.ckpt\n",
            "INFO:tensorflow:Assets written to: training_1/cp.ckpt/assets\n"
          ],
          "name": "stdout"
        },
        {
          "output_type": "stream",
          "text": [
            "INFO:tensorflow:Assets written to: training_1/cp.ckpt/assets\n"
          ],
          "name": "stderr"
        },
        {
          "output_type": "stream",
          "text": [
            "Epoch 273/300\n",
            "625/625 [==============================] - 5s 8ms/step - loss: 0.0026 - accuracy: 0.9989 - val_loss: 1.3184 - val_accuracy: 0.8840\n",
            "\n",
            "Epoch 00273: saving model to training_1/cp.ckpt\n",
            "INFO:tensorflow:Assets written to: training_1/cp.ckpt/assets\n"
          ],
          "name": "stdout"
        },
        {
          "output_type": "stream",
          "text": [
            "INFO:tensorflow:Assets written to: training_1/cp.ckpt/assets\n"
          ],
          "name": "stderr"
        },
        {
          "output_type": "stream",
          "text": [
            "Epoch 274/300\n",
            "625/625 [==============================] - 5s 8ms/step - loss: 0.0013 - accuracy: 0.9996 - val_loss: 1.5276 - val_accuracy: 0.8828\n",
            "\n",
            "Epoch 00274: saving model to training_1/cp.ckpt\n",
            "INFO:tensorflow:Assets written to: training_1/cp.ckpt/assets\n"
          ],
          "name": "stdout"
        },
        {
          "output_type": "stream",
          "text": [
            "INFO:tensorflow:Assets written to: training_1/cp.ckpt/assets\n"
          ],
          "name": "stderr"
        },
        {
          "output_type": "stream",
          "text": [
            "Epoch 275/300\n",
            "625/625 [==============================] - 5s 8ms/step - loss: 7.5669e-04 - accuracy: 0.9998 - val_loss: 1.5084 - val_accuracy: 0.8830\n",
            "\n",
            "Epoch 00275: saving model to training_1/cp.ckpt\n",
            "INFO:tensorflow:Assets written to: training_1/cp.ckpt/assets\n"
          ],
          "name": "stdout"
        },
        {
          "output_type": "stream",
          "text": [
            "INFO:tensorflow:Assets written to: training_1/cp.ckpt/assets\n"
          ],
          "name": "stderr"
        },
        {
          "output_type": "stream",
          "text": [
            "Epoch 276/300\n",
            "625/625 [==============================] - 5s 8ms/step - loss: 7.4190e-04 - accuracy: 0.9997 - val_loss: 1.6645 - val_accuracy: 0.8842\n",
            "\n",
            "Epoch 00276: saving model to training_1/cp.ckpt\n",
            "INFO:tensorflow:Assets written to: training_1/cp.ckpt/assets\n"
          ],
          "name": "stdout"
        },
        {
          "output_type": "stream",
          "text": [
            "INFO:tensorflow:Assets written to: training_1/cp.ckpt/assets\n"
          ],
          "name": "stderr"
        },
        {
          "output_type": "stream",
          "text": [
            "Epoch 277/300\n",
            "625/625 [==============================] - 5s 8ms/step - loss: 0.0012 - accuracy: 0.9995 - val_loss: 1.5050 - val_accuracy: 0.8842\n",
            "\n",
            "Epoch 00277: saving model to training_1/cp.ckpt\n",
            "INFO:tensorflow:Assets written to: training_1/cp.ckpt/assets\n"
          ],
          "name": "stdout"
        },
        {
          "output_type": "stream",
          "text": [
            "INFO:tensorflow:Assets written to: training_1/cp.ckpt/assets\n"
          ],
          "name": "stderr"
        },
        {
          "output_type": "stream",
          "text": [
            "Epoch 278/300\n",
            "625/625 [==============================] - 5s 8ms/step - loss: 2.7053e-04 - accuracy: 1.0000 - val_loss: 1.6655 - val_accuracy: 0.8826\n",
            "\n",
            "Epoch 00278: saving model to training_1/cp.ckpt\n",
            "INFO:tensorflow:Assets written to: training_1/cp.ckpt/assets\n"
          ],
          "name": "stdout"
        },
        {
          "output_type": "stream",
          "text": [
            "INFO:tensorflow:Assets written to: training_1/cp.ckpt/assets\n"
          ],
          "name": "stderr"
        },
        {
          "output_type": "stream",
          "text": [
            "Epoch 279/300\n",
            "625/625 [==============================] - 5s 8ms/step - loss: 0.0018 - accuracy: 0.9994 - val_loss: 1.5283 - val_accuracy: 0.8802\n",
            "\n",
            "Epoch 00279: saving model to training_1/cp.ckpt\n",
            "INFO:tensorflow:Assets written to: training_1/cp.ckpt/assets\n"
          ],
          "name": "stdout"
        },
        {
          "output_type": "stream",
          "text": [
            "INFO:tensorflow:Assets written to: training_1/cp.ckpt/assets\n"
          ],
          "name": "stderr"
        },
        {
          "output_type": "stream",
          "text": [
            "Epoch 280/300\n",
            "625/625 [==============================] - 5s 8ms/step - loss: 8.6370e-04 - accuracy: 0.9999 - val_loss: 1.5643 - val_accuracy: 0.8804\n",
            "\n",
            "Epoch 00280: saving model to training_1/cp.ckpt\n",
            "INFO:tensorflow:Assets written to: training_1/cp.ckpt/assets\n"
          ],
          "name": "stdout"
        },
        {
          "output_type": "stream",
          "text": [
            "INFO:tensorflow:Assets written to: training_1/cp.ckpt/assets\n"
          ],
          "name": "stderr"
        },
        {
          "output_type": "stream",
          "text": [
            "Epoch 281/300\n",
            "625/625 [==============================] - 5s 8ms/step - loss: 1.9511e-04 - accuracy: 0.9999 - val_loss: 1.7607 - val_accuracy: 0.8824\n",
            "\n",
            "Epoch 00281: saving model to training_1/cp.ckpt\n",
            "INFO:tensorflow:Assets written to: training_1/cp.ckpt/assets\n"
          ],
          "name": "stdout"
        },
        {
          "output_type": "stream",
          "text": [
            "INFO:tensorflow:Assets written to: training_1/cp.ckpt/assets\n"
          ],
          "name": "stderr"
        },
        {
          "output_type": "stream",
          "text": [
            "Epoch 282/300\n",
            "625/625 [==============================] - 5s 8ms/step - loss: 0.0014 - accuracy: 0.9997 - val_loss: 1.6761 - val_accuracy: 0.8798\n",
            "\n",
            "Epoch 00282: saving model to training_1/cp.ckpt\n",
            "INFO:tensorflow:Assets written to: training_1/cp.ckpt/assets\n"
          ],
          "name": "stdout"
        },
        {
          "output_type": "stream",
          "text": [
            "INFO:tensorflow:Assets written to: training_1/cp.ckpt/assets\n"
          ],
          "name": "stderr"
        },
        {
          "output_type": "stream",
          "text": [
            "Epoch 283/300\n",
            "625/625 [==============================] - 5s 8ms/step - loss: 0.0021 - accuracy: 0.9993 - val_loss: 1.2833 - val_accuracy: 0.8820\n",
            "\n",
            "Epoch 00283: saving model to training_1/cp.ckpt\n",
            "INFO:tensorflow:Assets written to: training_1/cp.ckpt/assets\n"
          ],
          "name": "stdout"
        },
        {
          "output_type": "stream",
          "text": [
            "INFO:tensorflow:Assets written to: training_1/cp.ckpt/assets\n"
          ],
          "name": "stderr"
        },
        {
          "output_type": "stream",
          "text": [
            "Epoch 284/300\n",
            "625/625 [==============================] - 5s 8ms/step - loss: 8.2129e-04 - accuracy: 0.9997 - val_loss: 1.4774 - val_accuracy: 0.8818\n",
            "\n",
            "Epoch 00284: saving model to training_1/cp.ckpt\n",
            "INFO:tensorflow:Assets written to: training_1/cp.ckpt/assets\n"
          ],
          "name": "stdout"
        },
        {
          "output_type": "stream",
          "text": [
            "INFO:tensorflow:Assets written to: training_1/cp.ckpt/assets\n"
          ],
          "name": "stderr"
        },
        {
          "output_type": "stream",
          "text": [
            "Epoch 285/300\n",
            "625/625 [==============================] - 5s 8ms/step - loss: 0.0014 - accuracy: 0.9996 - val_loss: 1.4723 - val_accuracy: 0.8872\n",
            "\n",
            "Epoch 00285: saving model to training_1/cp.ckpt\n",
            "INFO:tensorflow:Assets written to: training_1/cp.ckpt/assets\n"
          ],
          "name": "stdout"
        },
        {
          "output_type": "stream",
          "text": [
            "INFO:tensorflow:Assets written to: training_1/cp.ckpt/assets\n"
          ],
          "name": "stderr"
        },
        {
          "output_type": "stream",
          "text": [
            "Epoch 286/300\n",
            "625/625 [==============================] - 5s 8ms/step - loss: 2.6102e-04 - accuracy: 0.9999 - val_loss: 1.6310 - val_accuracy: 0.8854\n",
            "\n",
            "Epoch 00286: saving model to training_1/cp.ckpt\n",
            "INFO:tensorflow:Assets written to: training_1/cp.ckpt/assets\n"
          ],
          "name": "stdout"
        },
        {
          "output_type": "stream",
          "text": [
            "INFO:tensorflow:Assets written to: training_1/cp.ckpt/assets\n"
          ],
          "name": "stderr"
        },
        {
          "output_type": "stream",
          "text": [
            "Epoch 287/300\n",
            "625/625 [==============================] - 5s 8ms/step - loss: 3.1264e-05 - accuracy: 1.0000 - val_loss: 1.9491 - val_accuracy: 0.8838\n",
            "\n",
            "Epoch 00287: saving model to training_1/cp.ckpt\n",
            "INFO:tensorflow:Assets written to: training_1/cp.ckpt/assets\n"
          ],
          "name": "stdout"
        },
        {
          "output_type": "stream",
          "text": [
            "INFO:tensorflow:Assets written to: training_1/cp.ckpt/assets\n"
          ],
          "name": "stderr"
        },
        {
          "output_type": "stream",
          "text": [
            "Epoch 288/300\n",
            "625/625 [==============================] - 5s 8ms/step - loss: 0.0025 - accuracy: 0.9995 - val_loss: 1.6475 - val_accuracy: 0.8850\n",
            "\n",
            "Epoch 00288: saving model to training_1/cp.ckpt\n",
            "INFO:tensorflow:Assets written to: training_1/cp.ckpt/assets\n"
          ],
          "name": "stdout"
        },
        {
          "output_type": "stream",
          "text": [
            "INFO:tensorflow:Assets written to: training_1/cp.ckpt/assets\n"
          ],
          "name": "stderr"
        },
        {
          "output_type": "stream",
          "text": [
            "Epoch 289/300\n",
            "625/625 [==============================] - 5s 8ms/step - loss: 0.0025 - accuracy: 0.9995 - val_loss: 1.6728 - val_accuracy: 0.8832\n",
            "\n",
            "Epoch 00289: saving model to training_1/cp.ckpt\n",
            "INFO:tensorflow:Assets written to: training_1/cp.ckpt/assets\n"
          ],
          "name": "stdout"
        },
        {
          "output_type": "stream",
          "text": [
            "INFO:tensorflow:Assets written to: training_1/cp.ckpt/assets\n"
          ],
          "name": "stderr"
        },
        {
          "output_type": "stream",
          "text": [
            "Epoch 290/300\n",
            "625/625 [==============================] - 5s 8ms/step - loss: 3.1145e-04 - accuracy: 1.0000 - val_loss: 1.4692 - val_accuracy: 0.8828\n",
            "\n",
            "Epoch 00290: saving model to training_1/cp.ckpt\n",
            "INFO:tensorflow:Assets written to: training_1/cp.ckpt/assets\n"
          ],
          "name": "stdout"
        },
        {
          "output_type": "stream",
          "text": [
            "INFO:tensorflow:Assets written to: training_1/cp.ckpt/assets\n"
          ],
          "name": "stderr"
        },
        {
          "output_type": "stream",
          "text": [
            "Epoch 291/300\n",
            "625/625 [==============================] - 5s 8ms/step - loss: 0.0019 - accuracy: 0.9997 - val_loss: 1.9564 - val_accuracy: 0.8838\n",
            "\n",
            "Epoch 00291: saving model to training_1/cp.ckpt\n",
            "INFO:tensorflow:Assets written to: training_1/cp.ckpt/assets\n"
          ],
          "name": "stdout"
        },
        {
          "output_type": "stream",
          "text": [
            "INFO:tensorflow:Assets written to: training_1/cp.ckpt/assets\n"
          ],
          "name": "stderr"
        },
        {
          "output_type": "stream",
          "text": [
            "Epoch 292/300\n",
            "625/625 [==============================] - 5s 8ms/step - loss: 5.5277e-04 - accuracy: 0.9998 - val_loss: 1.7861 - val_accuracy: 0.8834\n",
            "\n",
            "Epoch 00292: saving model to training_1/cp.ckpt\n",
            "INFO:tensorflow:Assets written to: training_1/cp.ckpt/assets\n"
          ],
          "name": "stdout"
        },
        {
          "output_type": "stream",
          "text": [
            "INFO:tensorflow:Assets written to: training_1/cp.ckpt/assets\n"
          ],
          "name": "stderr"
        },
        {
          "output_type": "stream",
          "text": [
            "Epoch 293/300\n",
            "625/625 [==============================] - 5s 8ms/step - loss: 0.0034 - accuracy: 0.9991 - val_loss: 1.7790 - val_accuracy: 0.8800\n",
            "\n",
            "Epoch 00293: saving model to training_1/cp.ckpt\n",
            "INFO:tensorflow:Assets written to: training_1/cp.ckpt/assets\n"
          ],
          "name": "stdout"
        },
        {
          "output_type": "stream",
          "text": [
            "INFO:tensorflow:Assets written to: training_1/cp.ckpt/assets\n"
          ],
          "name": "stderr"
        },
        {
          "output_type": "stream",
          "text": [
            "Epoch 294/300\n",
            "625/625 [==============================] - 5s 8ms/step - loss: 0.0013 - accuracy: 0.9997 - val_loss: 1.9839 - val_accuracy: 0.8816\n",
            "\n",
            "Epoch 00294: saving model to training_1/cp.ckpt\n",
            "INFO:tensorflow:Assets written to: training_1/cp.ckpt/assets\n"
          ],
          "name": "stdout"
        },
        {
          "output_type": "stream",
          "text": [
            "INFO:tensorflow:Assets written to: training_1/cp.ckpt/assets\n"
          ],
          "name": "stderr"
        },
        {
          "output_type": "stream",
          "text": [
            "Epoch 295/300\n",
            "625/625 [==============================] - 5s 8ms/step - loss: 0.0024 - accuracy: 0.9995 - val_loss: 2.0549 - val_accuracy: 0.8746\n",
            "\n",
            "Epoch 00295: saving model to training_1/cp.ckpt\n",
            "INFO:tensorflow:Assets written to: training_1/cp.ckpt/assets\n"
          ],
          "name": "stdout"
        },
        {
          "output_type": "stream",
          "text": [
            "INFO:tensorflow:Assets written to: training_1/cp.ckpt/assets\n"
          ],
          "name": "stderr"
        },
        {
          "output_type": "stream",
          "text": [
            "Epoch 296/300\n",
            "625/625 [==============================] - 5s 8ms/step - loss: 2.3746e-04 - accuracy: 0.9999 - val_loss: 1.8539 - val_accuracy: 0.8810\n",
            "\n",
            "Epoch 00296: saving model to training_1/cp.ckpt\n",
            "INFO:tensorflow:Assets written to: training_1/cp.ckpt/assets\n"
          ],
          "name": "stdout"
        },
        {
          "output_type": "stream",
          "text": [
            "INFO:tensorflow:Assets written to: training_1/cp.ckpt/assets\n"
          ],
          "name": "stderr"
        },
        {
          "output_type": "stream",
          "text": [
            "Epoch 297/300\n",
            "625/625 [==============================] - 5s 8ms/step - loss: 0.0032 - accuracy: 0.9989 - val_loss: 1.7457 - val_accuracy: 0.8808\n",
            "\n",
            "Epoch 00297: saving model to training_1/cp.ckpt\n",
            "INFO:tensorflow:Assets written to: training_1/cp.ckpt/assets\n"
          ],
          "name": "stdout"
        },
        {
          "output_type": "stream",
          "text": [
            "INFO:tensorflow:Assets written to: training_1/cp.ckpt/assets\n"
          ],
          "name": "stderr"
        },
        {
          "output_type": "stream",
          "text": [
            "Epoch 298/300\n",
            "625/625 [==============================] - 5s 8ms/step - loss: 9.0608e-04 - accuracy: 0.9997 - val_loss: 1.5861 - val_accuracy: 0.8794\n",
            "\n",
            "Epoch 00298: saving model to training_1/cp.ckpt\n",
            "INFO:tensorflow:Assets written to: training_1/cp.ckpt/assets\n"
          ],
          "name": "stdout"
        },
        {
          "output_type": "stream",
          "text": [
            "INFO:tensorflow:Assets written to: training_1/cp.ckpt/assets\n"
          ],
          "name": "stderr"
        },
        {
          "output_type": "stream",
          "text": [
            "Epoch 299/300\n",
            "625/625 [==============================] - 5s 8ms/step - loss: 9.2640e-04 - accuracy: 0.9997 - val_loss: 1.7150 - val_accuracy: 0.8814\n",
            "\n",
            "Epoch 00299: saving model to training_1/cp.ckpt\n",
            "INFO:tensorflow:Assets written to: training_1/cp.ckpt/assets\n"
          ],
          "name": "stdout"
        },
        {
          "output_type": "stream",
          "text": [
            "INFO:tensorflow:Assets written to: training_1/cp.ckpt/assets\n"
          ],
          "name": "stderr"
        },
        {
          "output_type": "stream",
          "text": [
            "Epoch 300/300\n",
            "625/625 [==============================] - 5s 8ms/step - loss: 7.3069e-04 - accuracy: 0.9998 - val_loss: 1.7170 - val_accuracy: 0.8834\n",
            "\n",
            "Epoch 00300: saving model to training_1/cp.ckpt\n",
            "INFO:tensorflow:Assets written to: training_1/cp.ckpt/assets\n"
          ],
          "name": "stdout"
        },
        {
          "output_type": "stream",
          "text": [
            "INFO:tensorflow:Assets written to: training_1/cp.ckpt/assets\n"
          ],
          "name": "stderr"
        },
        {
          "output_type": "execute_result",
          "data": {
            "text/plain": [
              "<tensorflow.python.keras.callbacks.History at 0x7f52994769d0>"
            ]
          },
          "metadata": {
            "tags": []
          },
          "execution_count": 34
        }
      ]
    },
    {
      "cell_type": "code",
      "metadata": {
        "colab": {
          "base_uri": "https://localhost:8080/"
        },
        "id": "ovkcEng8Nwmk",
        "outputId": "33abc043-6e81-41ea-a4ad-447759d91eba"
      },
      "source": [
        "from tensorflow.keras.models import load_model\n",
        "model = load_model(checkpoint_path)\n",
        "scores = model.evaluate(x_test, y_test, verbose=1)\n",
        "print(f'Score: {model.metrics_names[0]} of {scores[0]}; {model.metrics_names[1]} of {scores[1]*100}%')"
      ],
      "execution_count": null,
      "outputs": [
        {
          "output_type": "stream",
          "text": [
            "782/782 [==============================] - 2s 3ms/step - loss: 1.7759 - accuracy: 0.8741\n",
            "Score: loss of 1.7758753299713135; accuracy of 87.40800023078918%\n"
          ],
          "name": "stdout"
        }
      ]
    },
    {
      "cell_type": "code",
      "metadata": {
        "colab": {
          "base_uri": "https://localhost:8080/"
        },
        "id": "4OJMsdF7Nwmk",
        "outputId": "12af329b-884a-435d-d8a0-6bb7d7e7c879"
      },
      "source": [
        "#조기 종료를 적용한 모델\n",
        "from tensorflow.keras.callbacks import EarlyStopping, ModelCheckpoint\n",
        "keras_callbacks   = [\n",
        "      EarlyStopping(monitor='val_loss', patience=30, mode='min', min_delta=0.0001),\n",
        "      ModelCheckpoint(checkpoint_path, monitor='val_loss', save_best_only=True, mode='min')\n",
        "]\n",
        "model.fit(x_train, y_train,\n",
        "          batch_size=batch_size,\n",
        "          epochs=epochs,\n",
        "          validation_split=0.2, \n",
        "          callbacks=keras_callbacks)\n"
      ],
      "execution_count": null,
      "outputs": [
        {
          "output_type": "stream",
          "text": [
            "Epoch 1/300\n",
            "625/625 [==============================] - 5s 8ms/step - loss: 0.0024 - accuracy: 0.9995 - val_loss: 2.5686 - val_accuracy: 0.8796\n",
            "INFO:tensorflow:Assets written to: training_1/cp.ckpt/assets\n"
          ],
          "name": "stdout"
        },
        {
          "output_type": "stream",
          "text": [
            "INFO:tensorflow:Assets written to: training_1/cp.ckpt/assets\n"
          ],
          "name": "stderr"
        },
        {
          "output_type": "stream",
          "text": [
            "Epoch 2/300\n",
            "625/625 [==============================] - 5s 8ms/step - loss: 0.0013 - accuracy: 0.9996 - val_loss: 2.5020 - val_accuracy: 0.8828\n",
            "INFO:tensorflow:Assets written to: training_1/cp.ckpt/assets\n"
          ],
          "name": "stdout"
        },
        {
          "output_type": "stream",
          "text": [
            "INFO:tensorflow:Assets written to: training_1/cp.ckpt/assets\n"
          ],
          "name": "stderr"
        },
        {
          "output_type": "stream",
          "text": [
            "Epoch 3/300\n",
            "625/625 [==============================] - 5s 8ms/step - loss: 1.1129e-04 - accuracy: 0.9999 - val_loss: 2.5276 - val_accuracy: 0.8830\n",
            "Epoch 4/300\n",
            "625/625 [==============================] - 5s 8ms/step - loss: 0.0040 - accuracy: 0.9992 - val_loss: 2.2850 - val_accuracy: 0.8814\n",
            "INFO:tensorflow:Assets written to: training_1/cp.ckpt/assets\n"
          ],
          "name": "stdout"
        },
        {
          "output_type": "stream",
          "text": [
            "INFO:tensorflow:Assets written to: training_1/cp.ckpt/assets\n"
          ],
          "name": "stderr"
        },
        {
          "output_type": "stream",
          "text": [
            "Epoch 5/300\n",
            "625/625 [==============================] - 5s 8ms/step - loss: 0.0014 - accuracy: 0.9996 - val_loss: 2.6906 - val_accuracy: 0.8786\n",
            "Epoch 6/300\n",
            "625/625 [==============================] - 5s 8ms/step - loss: 0.0036 - accuracy: 0.9994 - val_loss: 2.3367 - val_accuracy: 0.8756\n",
            "Epoch 7/300\n",
            "625/625 [==============================] - 5s 8ms/step - loss: 8.8097e-04 - accuracy: 0.9998 - val_loss: 2.3466 - val_accuracy: 0.8804\n",
            "Epoch 8/300\n",
            "625/625 [==============================] - 5s 8ms/step - loss: 0.0027 - accuracy: 0.9995 - val_loss: 1.7425 - val_accuracy: 0.8788\n",
            "INFO:tensorflow:Assets written to: training_1/cp.ckpt/assets\n"
          ],
          "name": "stdout"
        },
        {
          "output_type": "stream",
          "text": [
            "INFO:tensorflow:Assets written to: training_1/cp.ckpt/assets\n"
          ],
          "name": "stderr"
        },
        {
          "output_type": "stream",
          "text": [
            "Epoch 9/300\n",
            "625/625 [==============================] - 5s 8ms/step - loss: 0.0019 - accuracy: 0.9994 - val_loss: 1.7627 - val_accuracy: 0.8844\n",
            "Epoch 10/300\n",
            "625/625 [==============================] - 5s 8ms/step - loss: 0.0011 - accuracy: 0.9999 - val_loss: 1.7908 - val_accuracy: 0.8850\n",
            "Epoch 11/300\n",
            "625/625 [==============================] - 5s 8ms/step - loss: 0.0024 - accuracy: 0.9995 - val_loss: 1.7627 - val_accuracy: 0.8824\n",
            "Epoch 12/300\n",
            "625/625 [==============================] - 5s 8ms/step - loss: 0.0035 - accuracy: 0.9990 - val_loss: 2.1485 - val_accuracy: 0.8780\n",
            "Epoch 13/300\n",
            "625/625 [==============================] - 5s 8ms/step - loss: 0.0014 - accuracy: 0.9995 - val_loss: 2.2926 - val_accuracy: 0.8842\n",
            "Epoch 14/300\n",
            "625/625 [==============================] - 5s 8ms/step - loss: 0.0011 - accuracy: 0.9997 - val_loss: 2.1570 - val_accuracy: 0.8836\n",
            "Epoch 15/300\n",
            "625/625 [==============================] - 5s 8ms/step - loss: 0.0033 - accuracy: 0.9988 - val_loss: 1.4910 - val_accuracy: 0.8844\n",
            "INFO:tensorflow:Assets written to: training_1/cp.ckpt/assets\n"
          ],
          "name": "stdout"
        },
        {
          "output_type": "stream",
          "text": [
            "INFO:tensorflow:Assets written to: training_1/cp.ckpt/assets\n"
          ],
          "name": "stderr"
        },
        {
          "output_type": "stream",
          "text": [
            "Epoch 16/300\n",
            "625/625 [==============================] - 5s 8ms/step - loss: 0.0011 - accuracy: 0.9997 - val_loss: 1.8035 - val_accuracy: 0.8836\n",
            "Epoch 17/300\n",
            "625/625 [==============================] - 5s 8ms/step - loss: 0.0015 - accuracy: 0.9996 - val_loss: 1.8579 - val_accuracy: 0.8782\n",
            "Epoch 18/300\n",
            "625/625 [==============================] - 5s 8ms/step - loss: 0.0015 - accuracy: 0.9995 - val_loss: 2.0498 - val_accuracy: 0.8644\n",
            "Epoch 19/300\n",
            "625/625 [==============================] - 5s 8ms/step - loss: 0.0017 - accuracy: 0.9994 - val_loss: 1.7758 - val_accuracy: 0.8796\n",
            "Epoch 20/300\n",
            "625/625 [==============================] - 5s 8ms/step - loss: 0.0016 - accuracy: 0.9995 - val_loss: 1.6727 - val_accuracy: 0.8816\n",
            "Epoch 21/300\n",
            "625/625 [==============================] - 5s 8ms/step - loss: 0.0022 - accuracy: 0.9994 - val_loss: 1.6196 - val_accuracy: 0.8822\n",
            "Epoch 22/300\n",
            "625/625 [==============================] - 5s 8ms/step - loss: 0.0016 - accuracy: 0.9995 - val_loss: 1.7666 - val_accuracy: 0.8814\n",
            "Epoch 23/300\n",
            "625/625 [==============================] - 5s 8ms/step - loss: 0.0016 - accuracy: 0.9997 - val_loss: 1.8590 - val_accuracy: 0.8838\n",
            "Epoch 24/300\n",
            "625/625 [==============================] - 5s 8ms/step - loss: 0.0024 - accuracy: 0.9994 - val_loss: 1.5493 - val_accuracy: 0.8852\n",
            "Epoch 25/300\n",
            "625/625 [==============================] - 5s 8ms/step - loss: 6.5673e-04 - accuracy: 0.9998 - val_loss: 1.6623 - val_accuracy: 0.8834\n",
            "Epoch 26/300\n",
            "625/625 [==============================] - 5s 8ms/step - loss: 0.0013 - accuracy: 0.9995 - val_loss: 2.3887 - val_accuracy: 0.8736\n",
            "Epoch 27/300\n",
            "625/625 [==============================] - 5s 8ms/step - loss: 0.0021 - accuracy: 0.9997 - val_loss: 2.0399 - val_accuracy: 0.8848\n",
            "Epoch 28/300\n",
            "625/625 [==============================] - 5s 8ms/step - loss: 6.8682e-04 - accuracy: 0.9997 - val_loss: 2.0521 - val_accuracy: 0.8800\n",
            "Epoch 29/300\n",
            "625/625 [==============================] - 5s 8ms/step - loss: 0.0032 - accuracy: 0.9992 - val_loss: 1.9395 - val_accuracy: 0.8818\n",
            "Epoch 30/300\n",
            "625/625 [==============================] - 5s 8ms/step - loss: 0.0014 - accuracy: 0.9997 - val_loss: 1.8619 - val_accuracy: 0.8816\n",
            "Epoch 31/300\n",
            "625/625 [==============================] - 5s 8ms/step - loss: 0.0016 - accuracy: 0.9995 - val_loss: 1.3314 - val_accuracy: 0.8818\n",
            "INFO:tensorflow:Assets written to: training_1/cp.ckpt/assets\n"
          ],
          "name": "stdout"
        },
        {
          "output_type": "stream",
          "text": [
            "INFO:tensorflow:Assets written to: training_1/cp.ckpt/assets\n"
          ],
          "name": "stderr"
        },
        {
          "output_type": "stream",
          "text": [
            "Epoch 32/300\n",
            "625/625 [==============================] - 5s 8ms/step - loss: 0.0015 - accuracy: 0.9994 - val_loss: 1.7337 - val_accuracy: 0.8818\n",
            "Epoch 33/300\n",
            "625/625 [==============================] - 5s 8ms/step - loss: 0.0013 - accuracy: 0.9998 - val_loss: 1.5023 - val_accuracy: 0.8824\n",
            "Epoch 34/300\n",
            "625/625 [==============================] - 5s 8ms/step - loss: 0.0014 - accuracy: 0.9995 - val_loss: 1.7500 - val_accuracy: 0.8840\n",
            "Epoch 35/300\n",
            "625/625 [==============================] - 5s 8ms/step - loss: 0.0022 - accuracy: 0.9992 - val_loss: 2.2028 - val_accuracy: 0.8742\n",
            "Epoch 36/300\n",
            "625/625 [==============================] - 5s 8ms/step - loss: 0.0025 - accuracy: 0.9994 - val_loss: 1.9223 - val_accuracy: 0.8840\n",
            "Epoch 37/300\n",
            "625/625 [==============================] - 5s 8ms/step - loss: 0.0010 - accuracy: 0.9997 - val_loss: 1.8787 - val_accuracy: 0.8836\n",
            "Epoch 38/300\n",
            "625/625 [==============================] - 5s 8ms/step - loss: 8.7570e-04 - accuracy: 0.9997 - val_loss: 2.0311 - val_accuracy: 0.8818\n",
            "Epoch 39/300\n",
            "625/625 [==============================] - 5s 8ms/step - loss: 0.0014 - accuracy: 0.9995 - val_loss: 1.9466 - val_accuracy: 0.8824\n",
            "Epoch 40/300\n",
            "625/625 [==============================] - 5s 8ms/step - loss: 0.0025 - accuracy: 0.9995 - val_loss: 2.1906 - val_accuracy: 0.8828\n",
            "Epoch 41/300\n",
            "625/625 [==============================] - 5s 8ms/step - loss: 0.0017 - accuracy: 0.9998 - val_loss: 2.2024 - val_accuracy: 0.8840\n",
            "Epoch 42/300\n",
            "625/625 [==============================] - 5s 8ms/step - loss: 0.0026 - accuracy: 0.9995 - val_loss: 2.0719 - val_accuracy: 0.8840\n",
            "Epoch 43/300\n",
            "625/625 [==============================] - 5s 8ms/step - loss: 0.0010 - accuracy: 0.9998 - val_loss: 1.9974 - val_accuracy: 0.8828\n",
            "Epoch 44/300\n",
            "625/625 [==============================] - 5s 8ms/step - loss: 4.5821e-04 - accuracy: 0.9998 - val_loss: 2.1651 - val_accuracy: 0.8858\n",
            "Epoch 45/300\n",
            "625/625 [==============================] - 5s 8ms/step - loss: 0.0016 - accuracy: 0.9997 - val_loss: 1.7622 - val_accuracy: 0.8856\n",
            "Epoch 46/300\n",
            "625/625 [==============================] - 5s 8ms/step - loss: 0.0017 - accuracy: 0.9997 - val_loss: 2.0151 - val_accuracy: 0.8860\n",
            "Epoch 47/300\n",
            "625/625 [==============================] - 5s 8ms/step - loss: 0.0032 - accuracy: 0.9995 - val_loss: 1.6952 - val_accuracy: 0.8834\n",
            "Epoch 48/300\n",
            "625/625 [==============================] - 5s 8ms/step - loss: 5.3869e-04 - accuracy: 0.9998 - val_loss: 1.8493 - val_accuracy: 0.8848\n",
            "Epoch 49/300\n",
            "625/625 [==============================] - 5s 8ms/step - loss: 0.0016 - accuracy: 0.9995 - val_loss: 1.9240 - val_accuracy: 0.8800\n",
            "Epoch 50/300\n",
            "625/625 [==============================] - 5s 8ms/step - loss: 7.6861e-04 - accuracy: 0.9998 - val_loss: 2.4607 - val_accuracy: 0.8834\n",
            "Epoch 51/300\n",
            "625/625 [==============================] - 5s 8ms/step - loss: 0.0034 - accuracy: 0.9991 - val_loss: 2.1028 - val_accuracy: 0.8734\n",
            "Epoch 52/300\n",
            "625/625 [==============================] - 5s 8ms/step - loss: 8.4414e-04 - accuracy: 0.9996 - val_loss: 1.8176 - val_accuracy: 0.8848\n",
            "Epoch 53/300\n",
            "625/625 [==============================] - 5s 8ms/step - loss: 0.0012 - accuracy: 0.9997 - val_loss: 1.7631 - val_accuracy: 0.8832\n",
            "Epoch 54/300\n",
            "625/625 [==============================] - 5s 8ms/step - loss: 9.6053e-04 - accuracy: 0.9995 - val_loss: 1.9869 - val_accuracy: 0.8834\n",
            "Epoch 55/300\n",
            "625/625 [==============================] - 5s 8ms/step - loss: 7.1404e-04 - accuracy: 0.9998 - val_loss: 1.9735 - val_accuracy: 0.8828\n",
            "Epoch 56/300\n",
            "625/625 [==============================] - 5s 8ms/step - loss: 1.0020e-04 - accuracy: 0.9999 - val_loss: 2.0224 - val_accuracy: 0.8838\n",
            "Epoch 57/300\n",
            "625/625 [==============================] - 5s 8ms/step - loss: 1.9202e-04 - accuracy: 0.9998 - val_loss: 2.5732 - val_accuracy: 0.8828\n",
            "Epoch 58/300\n",
            "625/625 [==============================] - 5s 8ms/step - loss: 0.0044 - accuracy: 0.9988 - val_loss: 2.6396 - val_accuracy: 0.8812\n",
            "Epoch 59/300\n",
            "625/625 [==============================] - 5s 8ms/step - loss: 0.0023 - accuracy: 0.9995 - val_loss: 2.4141 - val_accuracy: 0.8816\n",
            "Epoch 60/300\n",
            "625/625 [==============================] - 5s 8ms/step - loss: 0.0019 - accuracy: 0.9995 - val_loss: 2.2430 - val_accuracy: 0.8826\n",
            "Epoch 61/300\n",
            "625/625 [==============================] - 5s 8ms/step - loss: 6.8723e-04 - accuracy: 0.9997 - val_loss: 2.4231 - val_accuracy: 0.8814\n"
          ],
          "name": "stdout"
        },
        {
          "output_type": "execute_result",
          "data": {
            "text/plain": [
              "<tensorflow.python.keras.callbacks.History at 0x7f529aaad490>"
            ]
          },
          "metadata": {
            "tags": []
          },
          "execution_count": 36
        }
      ]
    },
    {
      "cell_type": "code",
      "metadata": {
        "colab": {
          "base_uri": "https://localhost:8080/"
        },
        "id": "tUmLOEzeNwml",
        "outputId": "5e38b90a-c51b-402f-a483-04b9990837dd"
      },
      "source": [
        "model = load_model(checkpoint_path)\n",
        "scores = model.evaluate(x_test, y_test, verbose=1)\n",
        "print(f'Score: {model.metrics_names[0]} of {scores[0]}; {model.metrics_names[1]} of {scores[1]*100}%')"
      ],
      "execution_count": null,
      "outputs": [
        {
          "output_type": "stream",
          "text": [
            "782/782 [==============================] - 2s 3ms/step - loss: 1.4252 - accuracy: 0.8746\n",
            "Score: loss of 1.425233244895935; accuracy of 87.46399879455566%\n"
          ],
          "name": "stdout"
        }
      ]
    },
    {
      "cell_type": "code",
      "metadata": {
        "id": "ggNW85boNwml"
      },
      "source": [
        ""
      ],
      "execution_count": null,
      "outputs": []
    }
  ]
}